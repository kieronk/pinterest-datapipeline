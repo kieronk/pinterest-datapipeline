{
 "cells": [
  {
   "cell_type": "markdown",
   "metadata": {
    "application/vnd.databricks.v1+cell": {
     "cellMetadata": {},
     "inputWidgets": {},
     "nuid": "1a697060-1b1d-4a49-80dc-0053fcb94367",
     "showTitle": false,
     "tableResultSettingsMap": {},
     "title": ""
    }
   },
   "source": [
    "#Note: this is all synthetic data "
   ]
  },
  {
   "cell_type": "markdown",
   "metadata": {
    "application/vnd.databricks.v1+cell": {
     "cellMetadata": {
      "byteLimit": 2048000,
      "rowLimit": 10000
     },
     "inputWidgets": {},
     "nuid": "69c90dc7-de6f-43ea-9346-c17bd5c544ea",
     "showTitle": false,
     "tableResultSettingsMap": {},
     "title": ""
    }
   },
   "source": [
    "Importing files "
   ]
  },
  {
   "cell_type": "code",
   "execution_count": 0,
   "metadata": {
    "application/vnd.databricks.v1+cell": {
     "cellMetadata": {
      "byteLimit": 2048000,
      "rowLimit": 10000
     },
     "inputWidgets": {},
     "nuid": "6456ab36-f192-4b98-83a0-b0fb07f9e998",
     "showTitle": false,
     "tableResultSettingsMap": {},
     "title": ""
    }
   },
   "outputs": [],
   "source": [
    "from pyspark.sql import SparkSession\n",
    "from pyspark.sql.window import Window\n",
    "from pyspark.sql.functions import col, when, array, concat, col, lit, regexp_replace, count, desc, rank, year, count, expr, percentile_approx\n",
    "from functools import reduce"
   ]
  },
  {
   "cell_type": "markdown",
   "metadata": {
    "application/vnd.databricks.v1+cell": {
     "cellMetadata": {
      "byteLimit": 2048000,
      "rowLimit": 10000
     },
     "inputWidgets": {},
     "nuid": "07d75f95-205b-4e0d-a2ef-37df6ae03097",
     "showTitle": false,
     "tableResultSettingsMap": {},
     "title": ""
    }
   },
   "source": [
    "Cleaning .pin data"
   ]
  },
  {
   "cell_type": "code",
   "execution_count": 0,
   "metadata": {
    "application/vnd.databricks.v1+cell": {
     "cellMetadata": {
      "byteLimit": 2048000,
      "rowLimit": 10000
     },
     "inputWidgets": {},
     "nuid": "24618e87-7aa6-4b7d-8d69-37cd4a79649f",
     "showTitle": false,
     "tableResultSettingsMap": {},
     "title": ""
    }
   },
   "outputs": [],
   "source": [
    "\n",
    "file_location = \"s3a://user-0ebb0073c95b-bucket/topics/0ebb0073c95b.pin/partition=0/*.json\" \n",
    "file_type = \"json\"\n",
    "# Ask Spark to infer the schema\n",
    "infer_schema = \"true\"\n",
    "# Read in JSONs from mounted S3 bucket\n",
    "df_pin = spark.read.format(\"json\") \\\n",
    ".option(\"inferSchema\", infer_schema) \\\n",
    ".load(file_location)\n"
   ]
  },
  {
   "cell_type": "code",
   "execution_count": 0,
   "metadata": {
    "application/vnd.databricks.v1+cell": {
     "cellMetadata": {
      "byteLimit": 2048000,
      "rowLimit": 10000
     },
     "inputWidgets": {},
     "nuid": "edd9fa84-83ff-4130-a8a4-881b122e6a3a",
     "showTitle": false,
     "tableResultSettingsMap": {},
     "title": ""
    }
   },
   "outputs": [
    {
     "output_type": "display_data",
     "data": {
      "text/html": [
       "<style scoped>\n",
       "  .table-result-container {\n",
       "    max-height: 300px;\n",
       "    overflow: auto;\n",
       "  }\n",
       "  table, th, td {\n",
       "    border: 1px solid black;\n",
       "    border-collapse: collapse;\n",
       "  }\n",
       "  th, td {\n",
       "    padding: 5px;\n",
       "  }\n",
       "  th {\n",
       "    text-align: left;\n",
       "  }\n",
       "</style><div class='table-result-container'><table class='table-result'><thead style='background-color: white'><tr><th>category</th><th>description</th><th>downloaded</th><th>follower_count</th><th>image_src</th><th>index</th><th>is_image_or_video</th><th>poster_name</th><th>save_location</th><th>tag_list</th><th>title</th><th>unique_id</th></tr></thead><tbody><tr><td>mens-fashion</td><td>スポーツミックススタイルやアスレジャースタイルの台頭によって、すっかりおなじみとなった「ジョガーパンツ」。スニーカーと相性抜群なアイテムであり、フーディを合わせたカジュアルなスタイルからジャケットを羽織ったドレスライクなスタイルまで幅広くフィットする。今回はそんな「ジョガーパンツ」にフォーカスして注目の着こなし&アイテムを紹介！</td><td>1</td><td>122k</td><td>https://i.pinimg.com/originals/5d/31/e4/5d31e49fada653798f7c8f4c47f65d14.jpg</td><td>7491</td><td>image</td><td>OTOKOMAE/男前研究所</td><td>Local save in /data/mens-fashion</td><td>Streetwear,Mens Casual Hats,Fashion Week Hommes,Herren Style,Moda Blog,Look Man,La Mode Masculine,Outfits With Converse,Black Converse</td><td>ジョガーパンツでメンズコーデの足元を軽快にこなす！ | メンズファッションメディア OTOKOMAE</td><td>0bfd8ee2-8bc8-4d43-8a43-3f9e5f9678bf</td></tr><tr><td>vehicles</td><td>!Закрыто! Хотите эстетику или кое-какие элементы для фанфиков? Если это так, то вам, определённо, стоит заглянуть сюда. 𝐅𝐚𝐧𝐜𝐢 𝐅 𝐨𝐫 𝐱𝐱𝐬𝐚𝐣𝐧𝐱</td><td>1</td><td>422</td><td>https://i.pinimg.com/originals/ed/45/25/ed452567d0affd9329d33cc6fb14b5d6.jpg</td><td>11100</td><td>image</td><td>Tia</td><td>Local save in /data/vehicles</td><td>Cool Sports Cars,Sport Cars,Cool Cars,Top Luxury Cars,Lamborghini Cars,Lamborghini Urus Interior,Lux Cars,Street Racing Cars,Pretty Cars</td><td>𝒜𝑒𝓈𝓉𝒽𝑒𝓉𝒾𝒸 / 𝒻𝑜𝓇 𝒻𝒶𝓃𝒻𝒾𝒸𝓈</td><td>c5474c35-4711-416b-b627-764d51498916</td></tr><tr><td>tattoos</td><td>Elmira Kruger shared a photo on Instagram: “Больше всего жалко девчонок, которые экономят и разукрашивают свои красивые тела ляпистыми не…” • See 1,214 photos and videos on thei… </td><td>1</td><td>848</td><td>https://i.pinimg.com/originals/9e/4e/a8/9e4ea85a446f779c6d0a1fdc785e9d4b.jpg</td><td>8822</td><td>image</td><td>Alicia Keller</td><td>Local save in /data/tattoos</td><td>Arm Sleeve Tattoos For Women,Chicano Tattoos Sleeve,Full Sleeve Tattoos,Body Art Tattoos,Girl Tattoos,Arabic Tattoos,Badass Sleeve Tattoos,Portrait Tattoo Sleeve,Tattoos Pics</td><td>Elmira Kruger on Instagram: “Больше всего жалко девчонок, которые экономят и разукрашивают свои красивые тела ляпистыми не стильными рисунками☹️ Я в женском рукаве…”</td><td>db80a4e4-293a-45cf-b60c-a67ba9053246</td></tr><tr><td>home-decor</td><td>Вместе с Русланом Кирничанским рассказываем, как выжать максимум из маленькой площади и продумать системы хранения так, чтобы ими было удобно пользоваться. Свежие идеи дизайна и… </td><td>1</td><td>35k</td><td>https://i.pinimg.com/originals/0b/5c/0f/0b5c0fdd3ea40beff4a91ddcdaf98852.jpg</td><td>5996</td><td>image</td><td>INMYROOM.RU</td><td>Local save in /data/home-decor</td><td>Scandinavian Interior Design,Home Interior Design,Scandinavian Style,Swedish Decor,Swedish Style,Interior Door,Interior Modern,Minimalist Interior,Scandi Chic</td><td>Где найти и как организовать дополнительные места для хранения? — INMYROOM</td><td>4081ef06-637d-4cfb-9195-5e06b56fbd8c</td></tr><tr><td>event-planning</td><td>Το όνομα που επέλεξε η μαμά Ανδριανή για τη γλυκιά Τιτίκα δεν είναι καθόλου τυχαίο. Και φυσικά δεν άφησε τίποτα στην τύχη ούτε την ημέρα της βάπτισης. Ανέθεσε την οργάνωση στην… </td><td>1</td><td>4</td><td>https://i.pinimg.com/originals/db/aa/d2/dbaad28fa85012a4ea6958540d98a8e5.jpg</td><td>4387</td><td>image</td><td>Manosbojana Katsareas</td><td>Local save in /data/event-planning</td><td>Diy Flowers,Flower Diy,Baptism Decorations,Christening,Event Planning,Wedding Planner,Baptism Ideas,Birthday,Party</td><td>Βάπτιση: H παραμυθένια βάπτιση της Τιτίκας με θέμα το μονόκερο από την e.m. for you</td><td>ae5e7377-f1bd-4ac5-94de-bee317f51a43</td></tr><tr><td>home-decor</td><td>Так повелось в последнее время, что по субботам мы делимся фотографиями какой-нибудь милой скандинавской дачи (надеюсь никто не против такой нашей ✌PUFIK. Beautiful Interiors. O… </td><td>1</td><td>136k</td><td>https://i.pinimg.com/originals/25/82/6b/25826bbe3789faa1c1c70d78ad93a33c.jpg</td><td>5953</td><td>image</td><td>PUFIK Interiors & Inspirations</td><td>Local save in /data/home-decor</td><td>Cottage Living Rooms,Cottage Interiors,Home Living Room,Cottage Style Living Room,Cottage House,Cozy Living,Cottage Style Decor,Country Decor,Country Cottage Decorating</td><td>〚 Vintage summer cottage filled with love and charm in Sweden 〛◾ Photos ◾ Ideas ◾ Design</td><td>0c15cec8-5e8d-42e7-a2ad-9bd1267e0679</td></tr><tr><td>diy-and-crafts</td><td>Make this adorable (and easy) DIY doll crib from an old cardboard box, your little one will love to rock their dolls to sleep in this fun upcycled project!</td><td>1</td><td>66k</td><td>https://i.pinimg.com/originals/62/ee/0d/62ee0d79f92248b2d5819b8bfdd94551.jpg</td><td>3020</td><td>image</td><td>Cassie May - Little Red Window Crafts, DIY, crafts, tutorials and knitting patterns! Cassie May - Little Red Window Crafts, DIY, crafts, tutorials and knitting patterns! Edit settings Cassie May - Little Red Window Crafts, DIY, crafts, tutorials and knitting patterns!</td><td>Local save in /data/diy-and-crafts</td><td>Easy Sewing Projects,Sewing Projects For Beginners,Sewing Hacks,Diy Dolls Crib,Doll Beds,Diy Baby Headbands,Diy Cardboard,Minky Fabric,Sewing Basics</td><td>Cardboard DIY Doll Crib</td><td>186a847a-6778-48c0-888c-4578550ce7c7</td></tr><tr><td>tattoos</td><td>Image uploaded by 🦢🥀𝓘𝓼𝓸 𝑹𝒐𝒔𝒊𝒆🌸🦋. Find images and videos about flowers, tattoo and colors on We Heart It - the app to get lost in what you love.</td><td>1</td><td>15M</td><td>https://i.pinimg.com/originals/47/a0/34/47a034a356959e22d8ad367a5e6d62d1.jpg</td><td>8586</td><td>image</td><td>We Heart It</td><td>Local save in /data/tattoos</td><td>Mens Body Tattoos,Body Art Tattoos,Tatoos,Collar Bone Tattoos,Pretty Tattoos,Beautiful Tattoos,Awesome Tattoos,Mini Tattoos,Small Tattoos</td><td>Pretty ♥ discovered by 🦢🥀𝓘𝓼𝓸 𝑹𝒐𝒔𝒊𝒆🌸🦋 on We Heart It</td><td>c338b1c8-7c6a-4a1a-8fba-cdb5a423c0ca</td></tr><tr><td>home-decor</td><td>Традиционные шведские коттеджи, обычно с красным фасадом — это настоящее воплощением идеального зимнего уюта. Они обычно оформлены очень просто и ✌PUFIK. Beautiful Interiors. On… </td><td>1</td><td>136k</td><td>https://i.pinimg.com/originals/32/eb/72/32eb72e4fd8654c115a64528bd1f34b4.png</td><td>6717</td><td>image</td><td>PUFIK Interiors & Inspirations</td><td>Local save in /data/home-decor</td><td>Scandinavian Cottage,Swedish Cottage,Swedish Home Decor,Swedish Farmhouse,Swedish Style,Swedish Kitchen,Kitchen Black,Swedish House,Cozy Cottage</td><td>〚 Уютные шведские коттеджи от Carina Olander 〛 ◾ Фото ◾ Идеи ◾ Дизайн</td><td>bc5ab9ee-505e-44f6-92ba-677fe4fdf3e3</td></tr><tr><td>event-planning</td><td>Wow your guests! Our backdrops are a great option for providing a personalized, stylish and fun addition to your party .It will be the focal point in any event! They are great a… </td><td>1</td><td>1k</td><td>https://i.pinimg.com/originals/15/1f/93/151f93d662dc158ca2c9bbfed198f556.jpg</td><td>4608</td><td>image</td><td>Iconica Design | Personalized Event Decor, Stationery & Gifts</td><td>Local save in /data/event-planning</td><td>Christmas Party Backdrop,Holiday Banner,Birthday Backdrop,Circus First Birthday,First Birthday Banners,Dinasour Birthday,Birthday Bash,Banner Backdrop,Photo Booth Backdrop</td><td>Virtual Baby Shower Little Man Baby Shower Banner, Mustache Baby Shower Backdrop, Oh Boy, Any Color,  Printed Or Printable File BBS0035 - 10x8 ft / Top Pole Pocket</td><td>d234e56f-5b18-4ef3-905b-44103f7719d9</td></tr></tbody></table></div>"
      ]
     },
     "metadata": {
      "application/vnd.databricks.v1+output": {
       "addedWidgets": {},
       "aggData": [],
       "aggError": "",
       "aggOverflow": false,
       "aggSchema": [],
       "aggSeriesLimitReached": false,
       "aggType": "",
       "arguments": {},
       "columnCustomDisplayInfos": {},
       "data": [
        [
         "mens-fashion",
         "スポーツミックススタイルやアスレジャースタイルの台頭によって、すっかりおなじみとなった「ジョガーパンツ」。スニーカーと相性抜群なアイテムであり、フーディを合わせたカジュアルなスタイルからジャケットを羽織ったドレスライクなスタイルまで幅広くフィットする。今回はそんな「ジョガーパンツ」にフォーカスして注目の着こなし&アイテムを紹介！",
         1,
         "122k",
         "https://i.pinimg.com/originals/5d/31/e4/5d31e49fada653798f7c8f4c47f65d14.jpg",
         7491,
         "image",
         "OTOKOMAE/男前研究所",
         "Local save in /data/mens-fashion",
         "Streetwear,Mens Casual Hats,Fashion Week Hommes,Herren Style,Moda Blog,Look Man,La Mode Masculine,Outfits With Converse,Black Converse",
         "ジョガーパンツでメンズコーデの足元を軽快にこなす！ | メンズファッションメディア OTOKOMAE",
         "0bfd8ee2-8bc8-4d43-8a43-3f9e5f9678bf"
        ],
        [
         "vehicles",
         "!Закрыто! Хотите эстетику или кое-какие элементы для фанфиков? Если это так, то вам, определённо, стоит заглянуть сюда. 𝐅𝐚𝐧𝐜𝐢 𝐅 𝐨𝐫 𝐱𝐱𝐬𝐚𝐣𝐧𝐱",
         1,
         "422",
         "https://i.pinimg.com/originals/ed/45/25/ed452567d0affd9329d33cc6fb14b5d6.jpg",
         11100,
         "image",
         "Tia",
         "Local save in /data/vehicles",
         "Cool Sports Cars,Sport Cars,Cool Cars,Top Luxury Cars,Lamborghini Cars,Lamborghini Urus Interior,Lux Cars,Street Racing Cars,Pretty Cars",
         "𝒜𝑒𝓈𝓉𝒽𝑒𝓉𝒾𝒸 / 𝒻𝑜𝓇 𝒻𝒶𝓃𝒻𝒾𝒸𝓈",
         "c5474c35-4711-416b-b627-764d51498916"
        ],
        [
         "tattoos",
         "Elmira Kruger shared a photo on Instagram: “Больше всего жалко девчонок, которые экономят и разукрашивают свои красивые тела ляпистыми не…” • See 1,214 photos and videos on thei… ",
         1,
         "848",
         "https://i.pinimg.com/originals/9e/4e/a8/9e4ea85a446f779c6d0a1fdc785e9d4b.jpg",
         8822,
         "image",
         "Alicia Keller",
         "Local save in /data/tattoos",
         "Arm Sleeve Tattoos For Women,Chicano Tattoos Sleeve,Full Sleeve Tattoos,Body Art Tattoos,Girl Tattoos,Arabic Tattoos,Badass Sleeve Tattoos,Portrait Tattoo Sleeve,Tattoos Pics",
         "Elmira Kruger on Instagram: “Больше всего жалко девчонок, которые экономят и разукрашивают свои красивые тела ляпистыми не стильными рисунками☹️ Я в женском рукаве…”",
         "db80a4e4-293a-45cf-b60c-a67ba9053246"
        ],
        [
         "home-decor",
         "Вместе с Русланом Кирничанским рассказываем, как выжать максимум из маленькой площади и продумать системы хранения так, чтобы ими было удобно пользоваться. Свежие идеи дизайна и… ",
         1,
         "35k",
         "https://i.pinimg.com/originals/0b/5c/0f/0b5c0fdd3ea40beff4a91ddcdaf98852.jpg",
         5996,
         "image",
         "INMYROOM.RU",
         "Local save in /data/home-decor",
         "Scandinavian Interior Design,Home Interior Design,Scandinavian Style,Swedish Decor,Swedish Style,Interior Door,Interior Modern,Minimalist Interior,Scandi Chic",
         "Где найти и как организовать дополнительные места для хранения? — INMYROOM",
         "4081ef06-637d-4cfb-9195-5e06b56fbd8c"
        ],
        [
         "event-planning",
         "Το όνομα που επέλεξε η μαμά Ανδριανή για τη γλυκιά Τιτίκα δεν είναι καθόλου τυχαίο. Και φυσικά δεν άφησε τίποτα στην τύχη ούτε την ημέρα της βάπτισης. Ανέθεσε την οργάνωση στην… ",
         1,
         "4",
         "https://i.pinimg.com/originals/db/aa/d2/dbaad28fa85012a4ea6958540d98a8e5.jpg",
         4387,
         "image",
         "Manosbojana Katsareas",
         "Local save in /data/event-planning",
         "Diy Flowers,Flower Diy,Baptism Decorations,Christening,Event Planning,Wedding Planner,Baptism Ideas,Birthday,Party",
         "Βάπτιση: H παραμυθένια βάπτιση της Τιτίκας με θέμα το μονόκερο από την e.m. for you",
         "ae5e7377-f1bd-4ac5-94de-bee317f51a43"
        ],
        [
         "home-decor",
         "Так повелось в последнее время, что по субботам мы делимся фотографиями какой-нибудь милой скандинавской дачи (надеюсь никто не против такой нашей ✌PUFIK. Beautiful Interiors. O… ",
         1,
         "136k",
         "https://i.pinimg.com/originals/25/82/6b/25826bbe3789faa1c1c70d78ad93a33c.jpg",
         5953,
         "image",
         "PUFIK Interiors & Inspirations",
         "Local save in /data/home-decor",
         "Cottage Living Rooms,Cottage Interiors,Home Living Room,Cottage Style Living Room,Cottage House,Cozy Living,Cottage Style Decor,Country Decor,Country Cottage Decorating",
         "〚 Vintage summer cottage filled with love and charm in Sweden 〛◾ Photos ◾ Ideas ◾ Design",
         "0c15cec8-5e8d-42e7-a2ad-9bd1267e0679"
        ],
        [
         "diy-and-crafts",
         "Make this adorable (and easy) DIY doll crib from an old cardboard box, your little one will love to rock their dolls to sleep in this fun upcycled project!",
         1,
         "66k",
         "https://i.pinimg.com/originals/62/ee/0d/62ee0d79f92248b2d5819b8bfdd94551.jpg",
         3020,
         "image",
         "Cassie May - Little Red Window Crafts, DIY, crafts, tutorials and knitting patterns! Cassie May - Little Red Window Crafts, DIY, crafts, tutorials and knitting patterns! Edit settings Cassie May - Little Red Window Crafts, DIY, crafts, tutorials and knitting patterns!",
         "Local save in /data/diy-and-crafts",
         "Easy Sewing Projects,Sewing Projects For Beginners,Sewing Hacks,Diy Dolls Crib,Doll Beds,Diy Baby Headbands,Diy Cardboard,Minky Fabric,Sewing Basics",
         "Cardboard DIY Doll Crib",
         "186a847a-6778-48c0-888c-4578550ce7c7"
        ],
        [
         "tattoos",
         "Image uploaded by 🦢🥀𝓘𝓼𝓸 𝑹𝒐𝒔𝒊𝒆🌸🦋. Find images and videos about flowers, tattoo and colors on We Heart It - the app to get lost in what you love.",
         1,
         "15M",
         "https://i.pinimg.com/originals/47/a0/34/47a034a356959e22d8ad367a5e6d62d1.jpg",
         8586,
         "image",
         "We Heart It",
         "Local save in /data/tattoos",
         "Mens Body Tattoos,Body Art Tattoos,Tatoos,Collar Bone Tattoos,Pretty Tattoos,Beautiful Tattoos,Awesome Tattoos,Mini Tattoos,Small Tattoos",
         "Pretty ♥ discovered by 🦢🥀𝓘𝓼𝓸 𝑹𝒐𝒔𝒊𝒆🌸🦋 on We Heart It",
         "c338b1c8-7c6a-4a1a-8fba-cdb5a423c0ca"
        ],
        [
         "home-decor",
         "Традиционные шведские коттеджи, обычно с красным фасадом — это настоящее воплощением идеального зимнего уюта. Они обычно оформлены очень просто и ✌PUFIK. Beautiful Interiors. On… ",
         1,
         "136k",
         "https://i.pinimg.com/originals/32/eb/72/32eb72e4fd8654c115a64528bd1f34b4.png",
         6717,
         "image",
         "PUFIK Interiors & Inspirations",
         "Local save in /data/home-decor",
         "Scandinavian Cottage,Swedish Cottage,Swedish Home Decor,Swedish Farmhouse,Swedish Style,Swedish Kitchen,Kitchen Black,Swedish House,Cozy Cottage",
         "〚 Уютные шведские коттеджи от Carina Olander 〛 ◾ Фото ◾ Идеи ◾ Дизайн",
         "bc5ab9ee-505e-44f6-92ba-677fe4fdf3e3"
        ],
        [
         "event-planning",
         "Wow your guests! Our backdrops are a great option for providing a personalized, stylish and fun addition to your party .It will be the focal point in any event! They are great a… ",
         1,
         "1k",
         "https://i.pinimg.com/originals/15/1f/93/151f93d662dc158ca2c9bbfed198f556.jpg",
         4608,
         "image",
         "Iconica Design | Personalized Event Decor, Stationery & Gifts",
         "Local save in /data/event-planning",
         "Christmas Party Backdrop,Holiday Banner,Birthday Backdrop,Circus First Birthday,First Birthday Banners,Dinasour Birthday,Birthday Bash,Banner Backdrop,Photo Booth Backdrop",
         "Virtual Baby Shower Little Man Baby Shower Banner, Mustache Baby Shower Backdrop, Oh Boy, Any Color,  Printed Or Printable File BBS0035 - 10x8 ft / Top Pole Pocket",
         "d234e56f-5b18-4ef3-905b-44103f7719d9"
        ]
       ],
       "datasetInfos": [],
       "dbfsResultPath": null,
       "isJsonSchema": true,
       "metadata": {},
       "overflow": false,
       "plotOptions": {
        "customPlotOptions": {},
        "displayType": "table",
        "pivotAggregation": null,
        "pivotColumns": null,
        "xColumns": null,
        "yColumns": null
       },
       "removedWidgets": [],
       "schema": [
        {
         "metadata": "{}",
         "name": "category",
         "type": "\"string\""
        },
        {
         "metadata": "{}",
         "name": "description",
         "type": "\"string\""
        },
        {
         "metadata": "{}",
         "name": "downloaded",
         "type": "\"long\""
        },
        {
         "metadata": "{}",
         "name": "follower_count",
         "type": "\"string\""
        },
        {
         "metadata": "{}",
         "name": "image_src",
         "type": "\"string\""
        },
        {
         "metadata": "{}",
         "name": "index",
         "type": "\"long\""
        },
        {
         "metadata": "{}",
         "name": "is_image_or_video",
         "type": "\"string\""
        },
        {
         "metadata": "{}",
         "name": "poster_name",
         "type": "\"string\""
        },
        {
         "metadata": "{}",
         "name": "save_location",
         "type": "\"string\""
        },
        {
         "metadata": "{}",
         "name": "tag_list",
         "type": "\"string\""
        },
        {
         "metadata": "{}",
         "name": "title",
         "type": "\"string\""
        },
        {
         "metadata": "{}",
         "name": "unique_id",
         "type": "\"string\""
        }
       ],
       "type": "table"
      }
     },
     "output_type": "display_data"
    }
   ],
   "source": [
    "# Display Spark dataframe to check its content\n",
    "display(df_pin.limit(10)) \n",
    "\n"
   ]
  },
  {
   "cell_type": "code",
   "execution_count": 0,
   "metadata": {
    "application/vnd.databricks.v1+cell": {
     "cellMetadata": {
      "byteLimit": 2048000,
      "rowLimit": 10000
     },
     "inputWidgets": {},
     "nuid": "87e94373-1c7b-4906-854d-ebe4683c291a",
     "showTitle": false,
     "tableResultSettingsMap": {},
     "title": ""
    }
   },
   "outputs": [],
   "source": [
    "#df_pin = df_pin_all.sample(fraction=0.01)  # Use 1% of the data, or adjust as needed\n"
   ]
  },
  {
   "cell_type": "code",
   "execution_count": 0,
   "metadata": {
    "application/vnd.databricks.v1+cell": {
     "cellMetadata": {
      "byteLimit": 2048000,
      "rowLimit": 10000
     },
     "inputWidgets": {},
     "nuid": "419d2553-e509-4250-bc24-6698ca665c1e",
     "showTitle": false,
     "tableResultSettingsMap": {},
     "title": ""
    }
   },
   "outputs": [
    {
     "output_type": "execute_result",
     "data": {
      "text/plain": [
       "11154"
      ]
     },
     "execution_count": 21,
     "metadata": {},
     "output_type": "execute_result"
    }
   ],
   "source": [
    "df_pin.cache()  # Cache the dataframe\n",
    "df_pin.count()  # Trigger the caching with a command \n"
   ]
  },
  {
   "cell_type": "code",
   "execution_count": 0,
   "metadata": {
    "application/vnd.databricks.v1+cell": {
     "cellMetadata": {
      "byteLimit": 2048000,
      "rowLimit": 10000
     },
     "inputWidgets": {},
     "nuid": "b16c34c4-3aff-405c-9aaf-1deab4464d28",
     "showTitle": false,
     "tableResultSettingsMap": {},
     "title": ""
    }
   },
   "outputs": [
    {
     "output_type": "display_data",
     "data": {
      "text/html": [
       "<style scoped>\n",
       "  .table-result-container {\n",
       "    max-height: 300px;\n",
       "    overflow: auto;\n",
       "  }\n",
       "  table, th, td {\n",
       "    border: 1px solid black;\n",
       "    border-collapse: collapse;\n",
       "  }\n",
       "  th, td {\n",
       "    padding: 5px;\n",
       "  }\n",
       "  th {\n",
       "    text-align: left;\n",
       "  }\n",
       "</style><div class='table-result-container'><table class='table-result'><thead style='background-color: white'><tr><th>_1</th><th>_2</th></tr></thead><tbody><tr><td>category</td><td>string</td></tr><tr><td>description</td><td>string</td></tr><tr><td>downloaded</td><td>bigint</td></tr><tr><td>follower_count</td><td>string</td></tr><tr><td>image_src</td><td>string</td></tr><tr><td>index</td><td>bigint</td></tr><tr><td>is_image_or_video</td><td>string</td></tr><tr><td>poster_name</td><td>string</td></tr><tr><td>save_location</td><td>string</td></tr><tr><td>tag_list</td><td>string</td></tr><tr><td>title</td><td>string</td></tr><tr><td>unique_id</td><td>string</td></tr></tbody></table></div>"
      ]
     },
     "metadata": {
      "application/vnd.databricks.v1+output": {
       "addedWidgets": {},
       "aggData": [],
       "aggError": "",
       "aggOverflow": false,
       "aggSchema": [],
       "aggSeriesLimitReached": false,
       "aggType": "",
       "arguments": {},
       "columnCustomDisplayInfos": {},
       "data": [
        [
         "category",
         "string"
        ],
        [
         "description",
         "string"
        ],
        [
         "downloaded",
         "bigint"
        ],
        [
         "follower_count",
         "string"
        ],
        [
         "image_src",
         "string"
        ],
        [
         "index",
         "bigint"
        ],
        [
         "is_image_or_video",
         "string"
        ],
        [
         "poster_name",
         "string"
        ],
        [
         "save_location",
         "string"
        ],
        [
         "tag_list",
         "string"
        ],
        [
         "title",
         "string"
        ],
        [
         "unique_id",
         "string"
        ]
       ],
       "datasetInfos": [],
       "dbfsResultPath": null,
       "isJsonSchema": true,
       "metadata": {},
       "overflow": false,
       "plotOptions": {
        "customPlotOptions": {},
        "displayType": "table",
        "pivotAggregation": null,
        "pivotColumns": null,
        "xColumns": null,
        "yColumns": null
       },
       "removedWidgets": [],
       "schema": [
        {
         "metadata": "{}",
         "name": "_1",
         "type": "\"string\""
        },
        {
         "metadata": "{}",
         "name": "_2",
         "type": "\"string\""
        }
       ],
       "type": "table"
      }
     },
     "output_type": "display_data"
    }
   ],
   "source": [
    "# Get datatypes \n",
    "display(df_pin.dtypes) \n"
   ]
  },
  {
   "cell_type": "code",
   "execution_count": 0,
   "metadata": {
    "application/vnd.databricks.v1+cell": {
     "cellMetadata": {
      "byteLimit": 2048000,
      "rowLimit": 10000
     },
     "inputWidgets": {},
     "nuid": "ea57aec4-13fc-4f1e-be89-db88f89d4460",
     "showTitle": false,
     "tableResultSettingsMap": {},
     "title": ""
    }
   },
   "outputs": [
    {
     "output_type": "display_data",
     "data": {
      "text/html": [
       "<style scoped>\n",
       "  .table-result-container {\n",
       "    max-height: 300px;\n",
       "    overflow: auto;\n",
       "  }\n",
       "  table, th, td {\n",
       "    border: 1px solid black;\n",
       "    border-collapse: collapse;\n",
       "  }\n",
       "  th, td {\n",
       "    padding: 5px;\n",
       "  }\n",
       "  th {\n",
       "    text-align: left;\n",
       "  }\n",
       "</style><div class='table-result-container'><table class='table-result'><thead style='background-color: white'><tr><th>category</th><th>description</th><th>downloaded</th><th>follower_count</th><th>image_src</th><th>index</th><th>is_image_or_video</th><th>poster_name</th><th>save_location</th><th>tag_list</th><th>title</th><th>unique_id</th></tr></thead><tbody><tr><td>event-planning</td><td>Many Event Planners start out working from home. This can be a great model for setting up an event planning business as it keeps overheads down in those critical early stages of… </td><td>0</td><td>9k</td><td>null</td><td>4760</td><td>null</td><td>EventMB</td><td>Local save in /data/event-planning</td><td>Wedding Reception Planning,Wedding Event Planner,Wedding Events,Budget Wedding,Wedding Ideas,Tent Wedding,Weddings,Event Planning Tips,Event Planning Business</td><td>How to Start an Event Planning Business from Home (2020 Edition)</td><td>49cab875-8a35-4dc2-9811-82b1440e5aa8</td></tr><tr><td>event-planning</td><td>Elegant rose and hydrangeas mirror box are great to have for a centerpiece or any type of elegant event that you may have.Materials Square styrofoam block 7....</td><td>0</td><td>717</td><td>null</td><td>4467</td><td>null</td><td>Aleksandra Kitajewska</td><td>Local save in /data/event-planning</td><td>Birthday Centerpieces,Diy Centerpieces,Diy Wedding Decorations,Centerpiece Wedding,Centerpieces With Mirrors,Wedding Ideas,Glam Mirror,Mirror Box,Mirror Centerpiece</td><td>DIY| BLING GLAM MIRROR CENTERPIECE / WEDDINGS COLLECTION 2017</td><td>44ae2976-49c6-4cbe-83b9-ecc8ab3f0b24</td></tr><tr><td>event-planning</td><td>A golf themed party can be perfect for a myriad of events like showers, engagements, retirement, rehearsal dinners and even a high school golf team banquet. That's were my first… </td><td>0</td><td>536</td><td>null</td><td>4770</td><td>null</td><td>Paula Samples</td><td>Local save in /data/event-planning</td><td>Golf Table Decorations,Banquet Centerpieces,Retirement Party Decorations,Retirement Parties,Golf Party Favors,Golf Wedding,Golf Theme,Party Themes,Party Ideas</td><td>How to Make a Centerpiece for a Golf Themed Party</td><td>bcf7899a-0862-4a3d-807e-dfc6b650f36d</td></tr><tr><td>event-planning</td><td>Pricing your event planning service is an important thing to figure out as an event planner. This video discusses the 5 main ways you can charge:1. Hourly ra...</td><td>0</td><td>224</td><td>null</td><td>4521</td><td>null</td><td>Ka Welch</td><td>Local save in /data/event-planning</td><td>Event Planning Tips,Event Planning Business,Party Planning,Wedding Planning,Wedding Ideas,Budget Wedding,Becoming An Event Planner,Business Pictures,Personal Finance</td><td>How to Charge for Your Event Planning Services</td><td>953f5cfa-0886-4652-bd1c-5977198acb59</td></tr><tr><td>event-planning</td><td>How to START an event planning business in 2020, I'm sharing 5 tips to help you get started. Whether you're a wedding planner or corporate events planner loo...</td><td>0</td><td>3</td><td>null</td><td>4727</td><td>null</td><td>KaY 864-735-4058</td><td>Local save in /data/event-planning</td><td>Event Planning Tips,Event Planning Business,Party Planning,Corporate Event Planner,Corporate Events,Event Planners,Tent Wedding,Wedding Events,Weddings</td><td>5 TIPS FOR STARTING AN EVENT PLANNING BUSINESS IN 2020</td><td>6d43e998-468f-4098-8f5b-5556e1e02476</td></tr><tr><td>event-planning</td><td>Building your event planning portfolio is an important thing to do so you can get more clients in the future. This video discusses the 8 main ways you can bu...</td><td>0</td><td>258</td><td>null</td><td>4540</td><td>null</td><td>Ajahna Blaze</td><td>Local save in /data/event-planning</td><td>Event Planning Business,Event Management,How To Plan,Budget,Building,Party Planning,Wedding Planning,Aisle Decorations,Church Events</td><td>How to Build Your Event Planning Portfolio</td><td>244fad8e-006d-4760-a023-20bfc4a047b2</td></tr><tr><td>art</td><td>Since my childhood I always loved bubbles and water drops. For some reason, I find beauty in them. So as</td><td>0</td><td>96k</td><td>null</td><td>360</td><td>null</td><td>Acrylic Pouring</td><td>Local save in /data/art</td><td>Acrylic Pouring Techniques,Acrylic Pouring Art,Acrylic Art,Painting Techniques,Acrylic Paintings,Tree Paintings,Easy Paintings,Acrylic Nails,Water Droplets</td><td>How to Add 3D Water Droplets in Your Acrylic Pour</td><td>5cd07006-0284-4860-9c64-03908c39f43b</td></tr><tr><td>finance</td><td>No description available Story format</td><td>0</td><td>57k</td><td>Image src error.</td><td>5658</td><td>multi-video(story page format)</td><td>GenTwenty | Personal Growth, Self-Care, and Money</td><td>Local save in /data/finance</td><td>Ways To Save Money,Money Tips,Money Saving Tips,Money Hacks,Saving Ideas,Budgeting Finances,Budgeting Tips,Planning Budget,Money Saving Challenge</td><td></td><td>742e2019-6a68-44ad-a143-1b90e1fa4afa</td></tr><tr><td>finance</td><td>No description available Story format</td><td>0</td><td>98k</td><td>Image src error.</td><td>5718</td><td>multi-video(story page format)</td><td>GloryInvestingShow</td><td>Local save in /data/finance</td><td>Buzzfeed Food Videos,Financial Quotes,Life Lesson Quotes,Self Improvement Tips,Business Motivation,Finance Tips,How To Get Money,Money Management,Money Tips</td><td></td><td>f943cf60-a307-4c67-9681-6d0916160b77</td></tr></tbody></table></div>"
      ]
     },
     "metadata": {
      "application/vnd.databricks.v1+output": {
       "addedWidgets": {},
       "aggData": [],
       "aggError": "",
       "aggOverflow": false,
       "aggSchema": [],
       "aggSeriesLimitReached": false,
       "aggType": "",
       "arguments": {},
       "columnCustomDisplayInfos": {},
       "data": [
        [
         "event-planning",
         "Many Event Planners start out working from home. This can be a great model for setting up an event planning business as it keeps overheads down in those critical early stages of… ",
         0,
         "9k",
         null,
         4760,
         null,
         "EventMB",
         "Local save in /data/event-planning",
         "Wedding Reception Planning,Wedding Event Planner,Wedding Events,Budget Wedding,Wedding Ideas,Tent Wedding,Weddings,Event Planning Tips,Event Planning Business",
         "How to Start an Event Planning Business from Home (2020 Edition)",
         "49cab875-8a35-4dc2-9811-82b1440e5aa8"
        ],
        [
         "event-planning",
         "Elegant rose and hydrangeas mirror box are great to have for a centerpiece or any type of elegant event that you may have.Materials Square styrofoam block 7....",
         0,
         "717",
         null,
         4467,
         null,
         "Aleksandra Kitajewska",
         "Local save in /data/event-planning",
         "Birthday Centerpieces,Diy Centerpieces,Diy Wedding Decorations,Centerpiece Wedding,Centerpieces With Mirrors,Wedding Ideas,Glam Mirror,Mirror Box,Mirror Centerpiece",
         "DIY| BLING GLAM MIRROR CENTERPIECE / WEDDINGS COLLECTION 2017",
         "44ae2976-49c6-4cbe-83b9-ecc8ab3f0b24"
        ],
        [
         "event-planning",
         "A golf themed party can be perfect for a myriad of events like showers, engagements, retirement, rehearsal dinners and even a high school golf team banquet. That's were my first… ",
         0,
         "536",
         null,
         4770,
         null,
         "Paula Samples",
         "Local save in /data/event-planning",
         "Golf Table Decorations,Banquet Centerpieces,Retirement Party Decorations,Retirement Parties,Golf Party Favors,Golf Wedding,Golf Theme,Party Themes,Party Ideas",
         "How to Make a Centerpiece for a Golf Themed Party",
         "bcf7899a-0862-4a3d-807e-dfc6b650f36d"
        ],
        [
         "event-planning",
         "Pricing your event planning service is an important thing to figure out as an event planner. This video discusses the 5 main ways you can charge:1. Hourly ra...",
         0,
         "224",
         null,
         4521,
         null,
         "Ka Welch",
         "Local save in /data/event-planning",
         "Event Planning Tips,Event Planning Business,Party Planning,Wedding Planning,Wedding Ideas,Budget Wedding,Becoming An Event Planner,Business Pictures,Personal Finance",
         "How to Charge for Your Event Planning Services",
         "953f5cfa-0886-4652-bd1c-5977198acb59"
        ],
        [
         "event-planning",
         "How to START an event planning business in 2020, I'm sharing 5 tips to help you get started. Whether you're a wedding planner or corporate events planner loo...",
         0,
         "3",
         null,
         4727,
         null,
         "KaY 864-735-4058",
         "Local save in /data/event-planning",
         "Event Planning Tips,Event Planning Business,Party Planning,Corporate Event Planner,Corporate Events,Event Planners,Tent Wedding,Wedding Events,Weddings",
         "5 TIPS FOR STARTING AN EVENT PLANNING BUSINESS IN 2020",
         "6d43e998-468f-4098-8f5b-5556e1e02476"
        ],
        [
         "event-planning",
         "Building your event planning portfolio is an important thing to do so you can get more clients in the future. This video discusses the 8 main ways you can bu...",
         0,
         "258",
         null,
         4540,
         null,
         "Ajahna Blaze",
         "Local save in /data/event-planning",
         "Event Planning Business,Event Management,How To Plan,Budget,Building,Party Planning,Wedding Planning,Aisle Decorations,Church Events",
         "How to Build Your Event Planning Portfolio",
         "244fad8e-006d-4760-a023-20bfc4a047b2"
        ],
        [
         "art",
         "Since my childhood I always loved bubbles and water drops. For some reason, I find beauty in them. So as",
         0,
         "96k",
         null,
         360,
         null,
         "Acrylic Pouring",
         "Local save in /data/art",
         "Acrylic Pouring Techniques,Acrylic Pouring Art,Acrylic Art,Painting Techniques,Acrylic Paintings,Tree Paintings,Easy Paintings,Acrylic Nails,Water Droplets",
         "How to Add 3D Water Droplets in Your Acrylic Pour",
         "5cd07006-0284-4860-9c64-03908c39f43b"
        ],
        [
         "finance",
         "No description available Story format",
         0,
         "57k",
         "Image src error.",
         5658,
         "multi-video(story page format)",
         "GenTwenty | Personal Growth, Self-Care, and Money",
         "Local save in /data/finance",
         "Ways To Save Money,Money Tips,Money Saving Tips,Money Hacks,Saving Ideas,Budgeting Finances,Budgeting Tips,Planning Budget,Money Saving Challenge",
         "",
         "742e2019-6a68-44ad-a143-1b90e1fa4afa"
        ],
        [
         "finance",
         "No description available Story format",
         0,
         "98k",
         "Image src error.",
         5718,
         "multi-video(story page format)",
         "GloryInvestingShow",
         "Local save in /data/finance",
         "Buzzfeed Food Videos,Financial Quotes,Life Lesson Quotes,Self Improvement Tips,Business Motivation,Finance Tips,How To Get Money,Money Management,Money Tips",
         "",
         "f943cf60-a307-4c67-9681-6d0916160b77"
        ]
       ],
       "datasetInfos": [],
       "dbfsResultPath": null,
       "isJsonSchema": true,
       "metadata": {},
       "overflow": false,
       "plotOptions": {
        "customPlotOptions": {},
        "displayType": "table",
        "pivotAggregation": null,
        "pivotColumns": null,
        "xColumns": null,
        "yColumns": null
       },
       "removedWidgets": [],
       "schema": [
        {
         "metadata": "{}",
         "name": "category",
         "type": "\"string\""
        },
        {
         "metadata": "{}",
         "name": "description",
         "type": "\"string\""
        },
        {
         "metadata": "{}",
         "name": "downloaded",
         "type": "\"long\""
        },
        {
         "metadata": "{}",
         "name": "follower_count",
         "type": "\"string\""
        },
        {
         "metadata": "{}",
         "name": "image_src",
         "type": "\"string\""
        },
        {
         "metadata": "{}",
         "name": "index",
         "type": "\"long\""
        },
        {
         "metadata": "{}",
         "name": "is_image_or_video",
         "type": "\"string\""
        },
        {
         "metadata": "{}",
         "name": "poster_name",
         "type": "\"string\""
        },
        {
         "metadata": "{}",
         "name": "save_location",
         "type": "\"string\""
        },
        {
         "metadata": "{}",
         "name": "tag_list",
         "type": "\"string\""
        },
        {
         "metadata": "{}",
         "name": "title",
         "type": "\"string\""
        },
        {
         "metadata": "{}",
         "name": "unique_id",
         "type": "\"string\""
        }
       ],
       "type": "table"
      }
     },
     "output_type": "display_data"
    }
   ],
   "source": [
    "# Filter rows with null values in any of the columns\n",
    "rows_with_nulls = df_pin.filter(\n",
    "    reduce(lambda x, y: x | y, (col(c).isNull() | (col(c) == '') for c in df_pin.columns))\n",
    ")\n",
    "#rows_with_nulls.show()\n",
    "display(rows_with_nulls)\n"
   ]
  },
  {
   "cell_type": "code",
   "execution_count": 0,
   "metadata": {
    "application/vnd.databricks.v1+cell": {
     "cellMetadata": {
      "byteLimit": 2048000,
      "rowLimit": 10000
     },
     "inputWidgets": {},
     "nuid": "d3cfdf65-8e2b-4f7b-8bdc-5b0f844fe1f2",
     "showTitle": false,
     "tableResultSettingsMap": {},
     "title": ""
    }
   },
   "outputs": [],
   "source": [
    "# Replacing empty and null values\n",
    "df_pin = df_pin.fillna(\"None\")    \n",
    "df_pin = df_pin.replace(\"\", \"None\") \n",
    "\n"
   ]
  },
  {
   "cell_type": "code",
   "execution_count": 0,
   "metadata": {
    "application/vnd.databricks.v1+cell": {
     "cellMetadata": {
      "byteLimit": 2048000,
      "rowLimit": 10000
     },
     "inputWidgets": {},
     "nuid": "8a9a0a32-eff7-40f0-8d7f-e504d7287eff",
     "showTitle": false,
     "tableResultSettingsMap": {},
     "title": ""
    }
   },
   "outputs": [
    {
     "output_type": "display_data",
     "data": {
      "text/html": [
       "<style scoped>\n",
       "  .table-result-container {\n",
       "    max-height: 300px;\n",
       "    overflow: auto;\n",
       "  }\n",
       "  table, th, td {\n",
       "    border: 1px solid black;\n",
       "    border-collapse: collapse;\n",
       "  }\n",
       "  th, td {\n",
       "    padding: 5px;\n",
       "  }\n",
       "  th {\n",
       "    text-align: left;\n",
       "  }\n",
       "</style><div class='table-result-container'><table class='table-result'><thead style='background-color: white'><tr><th>category</th><th>description</th><th>downloaded</th><th>follower_count</th><th>image_src</th><th>index</th><th>is_image_or_video</th><th>poster_name</th><th>save_location</th><th>tag_list</th><th>title</th><th>unique_id</th></tr></thead><tbody><tr><td>event-planning</td><td>Many Event Planners start out working from home. This can be a great model for setting up an event planning business as it keeps overheads down in those critical early stages of… </td><td>0</td><td>9k</td><td>null</td><td>4760</td><td>null</td><td>EventMB</td><td>Local save in /data/event-planning</td><td>Wedding Reception Planning,Wedding Event Planner,Wedding Events,Budget Wedding,Wedding Ideas,Tent Wedding,Weddings,Event Planning Tips,Event Planning Business</td><td>How to Start an Event Planning Business from Home (2020 Edition)</td><td>49cab875-8a35-4dc2-9811-82b1440e5aa8</td></tr><tr><td>event-planning</td><td>Elegant rose and hydrangeas mirror box are great to have for a centerpiece or any type of elegant event that you may have.Materials Square styrofoam block 7....</td><td>0</td><td>717</td><td>null</td><td>4467</td><td>null</td><td>Aleksandra Kitajewska</td><td>Local save in /data/event-planning</td><td>Birthday Centerpieces,Diy Centerpieces,Diy Wedding Decorations,Centerpiece Wedding,Centerpieces With Mirrors,Wedding Ideas,Glam Mirror,Mirror Box,Mirror Centerpiece</td><td>DIY| BLING GLAM MIRROR CENTERPIECE / WEDDINGS COLLECTION 2017</td><td>44ae2976-49c6-4cbe-83b9-ecc8ab3f0b24</td></tr><tr><td>event-planning</td><td>A golf themed party can be perfect for a myriad of events like showers, engagements, retirement, rehearsal dinners and even a high school golf team banquet. That's were my first… </td><td>0</td><td>536</td><td>null</td><td>4770</td><td>null</td><td>Paula Samples</td><td>Local save in /data/event-planning</td><td>Golf Table Decorations,Banquet Centerpieces,Retirement Party Decorations,Retirement Parties,Golf Party Favors,Golf Wedding,Golf Theme,Party Themes,Party Ideas</td><td>How to Make a Centerpiece for a Golf Themed Party</td><td>bcf7899a-0862-4a3d-807e-dfc6b650f36d</td></tr><tr><td>event-planning</td><td>Pricing your event planning service is an important thing to figure out as an event planner. This video discusses the 5 main ways you can charge:1. Hourly ra...</td><td>0</td><td>224</td><td>null</td><td>4521</td><td>null</td><td>Ka Welch</td><td>Local save in /data/event-planning</td><td>Event Planning Tips,Event Planning Business,Party Planning,Wedding Planning,Wedding Ideas,Budget Wedding,Becoming An Event Planner,Business Pictures,Personal Finance</td><td>How to Charge for Your Event Planning Services</td><td>953f5cfa-0886-4652-bd1c-5977198acb59</td></tr><tr><td>event-planning</td><td>How to START an event planning business in 2020, I'm sharing 5 tips to help you get started. Whether you're a wedding planner or corporate events planner loo...</td><td>0</td><td>3</td><td>null</td><td>4727</td><td>null</td><td>KaY 864-735-4058</td><td>Local save in /data/event-planning</td><td>Event Planning Tips,Event Planning Business,Party Planning,Corporate Event Planner,Corporate Events,Event Planners,Tent Wedding,Wedding Events,Weddings</td><td>5 TIPS FOR STARTING AN EVENT PLANNING BUSINESS IN 2020</td><td>6d43e998-468f-4098-8f5b-5556e1e02476</td></tr><tr><td>event-planning</td><td>Building your event planning portfolio is an important thing to do so you can get more clients in the future. This video discusses the 8 main ways you can bu...</td><td>0</td><td>258</td><td>null</td><td>4540</td><td>null</td><td>Ajahna Blaze</td><td>Local save in /data/event-planning</td><td>Event Planning Business,Event Management,How To Plan,Budget,Building,Party Planning,Wedding Planning,Aisle Decorations,Church Events</td><td>How to Build Your Event Planning Portfolio</td><td>244fad8e-006d-4760-a023-20bfc4a047b2</td></tr><tr><td>art</td><td>Since my childhood I always loved bubbles and water drops. For some reason, I find beauty in them. So as</td><td>0</td><td>96k</td><td>null</td><td>360</td><td>null</td><td>Acrylic Pouring</td><td>Local save in /data/art</td><td>Acrylic Pouring Techniques,Acrylic Pouring Art,Acrylic Art,Painting Techniques,Acrylic Paintings,Tree Paintings,Easy Paintings,Acrylic Nails,Water Droplets</td><td>How to Add 3D Water Droplets in Your Acrylic Pour</td><td>5cd07006-0284-4860-9c64-03908c39f43b</td></tr><tr><td>finance</td><td>No description available Story format</td><td>0</td><td>57k</td><td>Image src error.</td><td>5658</td><td>multi-video(story page format)</td><td>GenTwenty | Personal Growth, Self-Care, and Money</td><td>Local save in /data/finance</td><td>Ways To Save Money,Money Tips,Money Saving Tips,Money Hacks,Saving Ideas,Budgeting Finances,Budgeting Tips,Planning Budget,Money Saving Challenge</td><td></td><td>742e2019-6a68-44ad-a143-1b90e1fa4afa</td></tr><tr><td>finance</td><td>No description available Story format</td><td>0</td><td>98k</td><td>Image src error.</td><td>5718</td><td>multi-video(story page format)</td><td>GloryInvestingShow</td><td>Local save in /data/finance</td><td>Buzzfeed Food Videos,Financial Quotes,Life Lesson Quotes,Self Improvement Tips,Business Motivation,Finance Tips,How To Get Money,Money Management,Money Tips</td><td></td><td>f943cf60-a307-4c67-9681-6d0916160b77</td></tr></tbody></table></div>"
      ]
     },
     "metadata": {
      "application/vnd.databricks.v1+output": {
       "addedWidgets": {},
       "aggData": [],
       "aggError": "",
       "aggOverflow": false,
       "aggSchema": [],
       "aggSeriesLimitReached": false,
       "aggType": "",
       "arguments": {},
       "columnCustomDisplayInfos": {},
       "data": [
        [
         "event-planning",
         "Many Event Planners start out working from home. This can be a great model for setting up an event planning business as it keeps overheads down in those critical early stages of… ",
         0,
         "9k",
         null,
         4760,
         null,
         "EventMB",
         "Local save in /data/event-planning",
         "Wedding Reception Planning,Wedding Event Planner,Wedding Events,Budget Wedding,Wedding Ideas,Tent Wedding,Weddings,Event Planning Tips,Event Planning Business",
         "How to Start an Event Planning Business from Home (2020 Edition)",
         "49cab875-8a35-4dc2-9811-82b1440e5aa8"
        ],
        [
         "event-planning",
         "Elegant rose and hydrangeas mirror box are great to have for a centerpiece or any type of elegant event that you may have.Materials Square styrofoam block 7....",
         0,
         "717",
         null,
         4467,
         null,
         "Aleksandra Kitajewska",
         "Local save in /data/event-planning",
         "Birthday Centerpieces,Diy Centerpieces,Diy Wedding Decorations,Centerpiece Wedding,Centerpieces With Mirrors,Wedding Ideas,Glam Mirror,Mirror Box,Mirror Centerpiece",
         "DIY| BLING GLAM MIRROR CENTERPIECE / WEDDINGS COLLECTION 2017",
         "44ae2976-49c6-4cbe-83b9-ecc8ab3f0b24"
        ],
        [
         "event-planning",
         "A golf themed party can be perfect for a myriad of events like showers, engagements, retirement, rehearsal dinners and even a high school golf team banquet. That's were my first… ",
         0,
         "536",
         null,
         4770,
         null,
         "Paula Samples",
         "Local save in /data/event-planning",
         "Golf Table Decorations,Banquet Centerpieces,Retirement Party Decorations,Retirement Parties,Golf Party Favors,Golf Wedding,Golf Theme,Party Themes,Party Ideas",
         "How to Make a Centerpiece for a Golf Themed Party",
         "bcf7899a-0862-4a3d-807e-dfc6b650f36d"
        ],
        [
         "event-planning",
         "Pricing your event planning service is an important thing to figure out as an event planner. This video discusses the 5 main ways you can charge:1. Hourly ra...",
         0,
         "224",
         null,
         4521,
         null,
         "Ka Welch",
         "Local save in /data/event-planning",
         "Event Planning Tips,Event Planning Business,Party Planning,Wedding Planning,Wedding Ideas,Budget Wedding,Becoming An Event Planner,Business Pictures,Personal Finance",
         "How to Charge for Your Event Planning Services",
         "953f5cfa-0886-4652-bd1c-5977198acb59"
        ],
        [
         "event-planning",
         "How to START an event planning business in 2020, I'm sharing 5 tips to help you get started. Whether you're a wedding planner or corporate events planner loo...",
         0,
         "3",
         null,
         4727,
         null,
         "KaY 864-735-4058",
         "Local save in /data/event-planning",
         "Event Planning Tips,Event Planning Business,Party Planning,Corporate Event Planner,Corporate Events,Event Planners,Tent Wedding,Wedding Events,Weddings",
         "5 TIPS FOR STARTING AN EVENT PLANNING BUSINESS IN 2020",
         "6d43e998-468f-4098-8f5b-5556e1e02476"
        ],
        [
         "event-planning",
         "Building your event planning portfolio is an important thing to do so you can get more clients in the future. This video discusses the 8 main ways you can bu...",
         0,
         "258",
         null,
         4540,
         null,
         "Ajahna Blaze",
         "Local save in /data/event-planning",
         "Event Planning Business,Event Management,How To Plan,Budget,Building,Party Planning,Wedding Planning,Aisle Decorations,Church Events",
         "How to Build Your Event Planning Portfolio",
         "244fad8e-006d-4760-a023-20bfc4a047b2"
        ],
        [
         "art",
         "Since my childhood I always loved bubbles and water drops. For some reason, I find beauty in them. So as",
         0,
         "96k",
         null,
         360,
         null,
         "Acrylic Pouring",
         "Local save in /data/art",
         "Acrylic Pouring Techniques,Acrylic Pouring Art,Acrylic Art,Painting Techniques,Acrylic Paintings,Tree Paintings,Easy Paintings,Acrylic Nails,Water Droplets",
         "How to Add 3D Water Droplets in Your Acrylic Pour",
         "5cd07006-0284-4860-9c64-03908c39f43b"
        ],
        [
         "finance",
         "No description available Story format",
         0,
         "57k",
         "Image src error.",
         5658,
         "multi-video(story page format)",
         "GenTwenty | Personal Growth, Self-Care, and Money",
         "Local save in /data/finance",
         "Ways To Save Money,Money Tips,Money Saving Tips,Money Hacks,Saving Ideas,Budgeting Finances,Budgeting Tips,Planning Budget,Money Saving Challenge",
         "",
         "742e2019-6a68-44ad-a143-1b90e1fa4afa"
        ],
        [
         "finance",
         "No description available Story format",
         0,
         "98k",
         "Image src error.",
         5718,
         "multi-video(story page format)",
         "GloryInvestingShow",
         "Local save in /data/finance",
         "Buzzfeed Food Videos,Financial Quotes,Life Lesson Quotes,Self Improvement Tips,Business Motivation,Finance Tips,How To Get Money,Money Management,Money Tips",
         "",
         "f943cf60-a307-4c67-9681-6d0916160b77"
        ]
       ],
       "datasetInfos": [],
       "dbfsResultPath": null,
       "isJsonSchema": true,
       "metadata": {},
       "overflow": false,
       "plotOptions": {
        "customPlotOptions": {},
        "displayType": "table",
        "pivotAggregation": null,
        "pivotColumns": null,
        "xColumns": null,
        "yColumns": null
       },
       "removedWidgets": [],
       "schema": [
        {
         "metadata": "{}",
         "name": "category",
         "type": "\"string\""
        },
        {
         "metadata": "{}",
         "name": "description",
         "type": "\"string\""
        },
        {
         "metadata": "{}",
         "name": "downloaded",
         "type": "\"long\""
        },
        {
         "metadata": "{}",
         "name": "follower_count",
         "type": "\"string\""
        },
        {
         "metadata": "{}",
         "name": "image_src",
         "type": "\"string\""
        },
        {
         "metadata": "{}",
         "name": "index",
         "type": "\"long\""
        },
        {
         "metadata": "{}",
         "name": "is_image_or_video",
         "type": "\"string\""
        },
        {
         "metadata": "{}",
         "name": "poster_name",
         "type": "\"string\""
        },
        {
         "metadata": "{}",
         "name": "save_location",
         "type": "\"string\""
        },
        {
         "metadata": "{}",
         "name": "tag_list",
         "type": "\"string\""
        },
        {
         "metadata": "{}",
         "name": "title",
         "type": "\"string\""
        },
        {
         "metadata": "{}",
         "name": "unique_id",
         "type": "\"string\""
        }
       ],
       "type": "table"
      }
     },
     "output_type": "display_data"
    }
   ],
   "source": [
    "display(rows_with_nulls)"
   ]
  },
  {
   "cell_type": "code",
   "execution_count": 0,
   "metadata": {
    "application/vnd.databricks.v1+cell": {
     "cellMetadata": {
      "byteLimit": 2048000,
      "rowLimit": 10000
     },
     "inputWidgets": {},
     "nuid": "7bd8c537-1a78-4605-a430-9a022eeb02e2",
     "showTitle": false,
     "tableResultSettingsMap": {},
     "title": ""
    }
   },
   "outputs": [
    {
     "output_type": "display_data",
     "data": {
      "text/html": [
       "<style scoped>\n",
       "  .table-result-container {\n",
       "    max-height: 300px;\n",
       "    overflow: auto;\n",
       "  }\n",
       "  table, th, td {\n",
       "    border: 1px solid black;\n",
       "    border-collapse: collapse;\n",
       "  }\n",
       "  th, td {\n",
       "    padding: 5px;\n",
       "  }\n",
       "  th {\n",
       "    text-align: left;\n",
       "  }\n",
       "</style><div class='table-result-container'><table class='table-result'><thead style='background-color: white'><tr><th>follower_count</th></tr></thead><tbody><tr><td>122k</td></tr><tr><td>422</td></tr><tr><td>848</td></tr><tr><td>35k</td></tr><tr><td>4</td></tr><tr><td>136k</td></tr><tr><td>66k</td></tr><tr><td>15M</td></tr><tr><td>136k</td></tr><tr><td>1k</td></tr></tbody></table></div>"
      ]
     },
     "metadata": {
      "application/vnd.databricks.v1+output": {
       "addedWidgets": {},
       "aggData": [],
       "aggError": "",
       "aggOverflow": false,
       "aggSchema": [],
       "aggSeriesLimitReached": false,
       "aggType": "",
       "arguments": {},
       "columnCustomDisplayInfos": {},
       "data": [
        [
         "122k"
        ],
        [
         "422"
        ],
        [
         "848"
        ],
        [
         "35k"
        ],
        [
         "4"
        ],
        [
         "136k"
        ],
        [
         "66k"
        ],
        [
         "15M"
        ],
        [
         "136k"
        ],
        [
         "1k"
        ]
       ],
       "datasetInfos": [],
       "dbfsResultPath": null,
       "isJsonSchema": true,
       "metadata": {},
       "overflow": false,
       "plotOptions": {
        "customPlotOptions": {},
        "displayType": "table",
        "pivotAggregation": null,
        "pivotColumns": null,
        "xColumns": null,
        "yColumns": null
       },
       "removedWidgets": [],
       "schema": [
        {
         "metadata": "{}",
         "name": "follower_count",
         "type": "\"string\""
        }
       ],
       "type": "table"
      }
     },
     "output_type": "display_data"
    }
   ],
   "source": [
    "display(df_pin.select(\"follower_count\").limit(10))\n"
   ]
  },
  {
   "cell_type": "code",
   "execution_count": 0,
   "metadata": {
    "application/vnd.databricks.v1+cell": {
     "cellMetadata": {
      "byteLimit": 2048000,
      "rowLimit": 10000
     },
     "inputWidgets": {},
     "nuid": "94eb164d-f1ab-4a7e-a193-f10dd82cbb2d",
     "showTitle": false,
     "tableResultSettingsMap": {},
     "title": ""
    }
   },
   "outputs": [],
   "source": [
    "# Removing the text from follower count and turning it into an int\n",
    "# Use regexp_replace to remove letters\n",
    "df_pin = df_pin.withColumn(\"follower_count\", regexp_replace(\"follower_count\", \"[^0-9]\", \"\"))\n"
   ]
  },
  {
   "cell_type": "code",
   "execution_count": 0,
   "metadata": {
    "application/vnd.databricks.v1+cell": {
     "cellMetadata": {
      "byteLimit": 2048000,
      "rowLimit": 10000
     },
     "inputWidgets": {},
     "nuid": "ab640817-1cda-451c-b51b-958c9b86547e",
     "showTitle": false,
     "tableResultSettingsMap": {},
     "title": ""
    }
   },
   "outputs": [
    {
     "output_type": "display_data",
     "data": {
      "text/html": [
       "<style scoped>\n",
       "  .table-result-container {\n",
       "    max-height: 300px;\n",
       "    overflow: auto;\n",
       "  }\n",
       "  table, th, td {\n",
       "    border: 1px solid black;\n",
       "    border-collapse: collapse;\n",
       "  }\n",
       "  th, td {\n",
       "    padding: 5px;\n",
       "  }\n",
       "  th {\n",
       "    text-align: left;\n",
       "  }\n",
       "</style><div class='table-result-container'><table class='table-result'><thead style='background-color: white'><tr><th>follower_count</th></tr></thead><tbody><tr><td>122</td></tr><tr><td>422</td></tr><tr><td>848</td></tr><tr><td>35</td></tr><tr><td>4</td></tr><tr><td>136</td></tr><tr><td>66</td></tr><tr><td>15</td></tr><tr><td>136</td></tr><tr><td>1</td></tr></tbody></table></div>"
      ]
     },
     "metadata": {
      "application/vnd.databricks.v1+output": {
       "addedWidgets": {},
       "aggData": [],
       "aggError": "",
       "aggOverflow": false,
       "aggSchema": [],
       "aggSeriesLimitReached": false,
       "aggType": "",
       "arguments": {},
       "columnCustomDisplayInfos": {},
       "data": [
        [
         "122"
        ],
        [
         "422"
        ],
        [
         "848"
        ],
        [
         "35"
        ],
        [
         "4"
        ],
        [
         "136"
        ],
        [
         "66"
        ],
        [
         "15"
        ],
        [
         "136"
        ],
        [
         "1"
        ]
       ],
       "datasetInfos": [],
       "dbfsResultPath": null,
       "isJsonSchema": true,
       "metadata": {},
       "overflow": false,
       "plotOptions": {
        "customPlotOptions": {},
        "displayType": "table",
        "pivotAggregation": null,
        "pivotColumns": null,
        "xColumns": null,
        "yColumns": null
       },
       "removedWidgets": [],
       "schema": [
        {
         "metadata": "{}",
         "name": "follower_count",
         "type": "\"string\""
        }
       ],
       "type": "table"
      }
     },
     "output_type": "display_data"
    }
   ],
   "source": [
    "display(df_pin.select(\"follower_count\").limit(10))\n"
   ]
  },
  {
   "cell_type": "code",
   "execution_count": 0,
   "metadata": {
    "application/vnd.databricks.v1+cell": {
     "cellMetadata": {
      "byteLimit": 2048000,
      "rowLimit": 10000
     },
     "inputWidgets": {},
     "nuid": "c4182cf7-7bbf-4a53-8bcb-1450bccedd0a",
     "showTitle": false,
     "tableResultSettingsMap": {},
     "title": ""
    }
   },
   "outputs": [],
   "source": [
    "# Cast the column to integer type\n",
    "df_pin = df_pin.withColumn(\"follower_count\", col(\"follower_count\").cast(\"int\"))\n",
    "\n"
   ]
  },
  {
   "cell_type": "code",
   "execution_count": 0,
   "metadata": {
    "application/vnd.databricks.v1+cell": {
     "cellMetadata": {
      "byteLimit": 2048000,
      "rowLimit": 10000
     },
     "inputWidgets": {},
     "nuid": "af8b36b2-f76f-466d-ac17-e3b42fc04512",
     "showTitle": false,
     "tableResultSettingsMap": {},
     "title": ""
    }
   },
   "outputs": [
    {
     "output_type": "display_data",
     "data": {
      "text/html": [
       "<style scoped>\n",
       "  .table-result-container {\n",
       "    max-height: 300px;\n",
       "    overflow: auto;\n",
       "  }\n",
       "  table, th, td {\n",
       "    border: 1px solid black;\n",
       "    border-collapse: collapse;\n",
       "  }\n",
       "  th, td {\n",
       "    padding: 5px;\n",
       "  }\n",
       "  th {\n",
       "    text-align: left;\n",
       "  }\n",
       "</style><div class='table-result-container'><table class='table-result'><thead style='background-color: white'><tr><th>_1</th><th>_2</th></tr></thead><tbody><tr><td>category</td><td>string</td></tr><tr><td>description</td><td>string</td></tr><tr><td>downloaded</td><td>bigint</td></tr><tr><td>follower_count</td><td>int</td></tr><tr><td>image_src</td><td>string</td></tr><tr><td>index</td><td>bigint</td></tr><tr><td>is_image_or_video</td><td>string</td></tr><tr><td>poster_name</td><td>string</td></tr><tr><td>save_location</td><td>string</td></tr><tr><td>tag_list</td><td>string</td></tr><tr><td>title</td><td>string</td></tr><tr><td>unique_id</td><td>string</td></tr></tbody></table></div>"
      ]
     },
     "metadata": {
      "application/vnd.databricks.v1+output": {
       "addedWidgets": {},
       "aggData": [],
       "aggError": "",
       "aggOverflow": false,
       "aggSchema": [],
       "aggSeriesLimitReached": false,
       "aggType": "",
       "arguments": {},
       "columnCustomDisplayInfos": {},
       "data": [
        [
         "category",
         "string"
        ],
        [
         "description",
         "string"
        ],
        [
         "downloaded",
         "bigint"
        ],
        [
         "follower_count",
         "int"
        ],
        [
         "image_src",
         "string"
        ],
        [
         "index",
         "bigint"
        ],
        [
         "is_image_or_video",
         "string"
        ],
        [
         "poster_name",
         "string"
        ],
        [
         "save_location",
         "string"
        ],
        [
         "tag_list",
         "string"
        ],
        [
         "title",
         "string"
        ],
        [
         "unique_id",
         "string"
        ]
       ],
       "datasetInfos": [],
       "dbfsResultPath": null,
       "isJsonSchema": true,
       "metadata": {},
       "overflow": false,
       "plotOptions": {
        "customPlotOptions": {},
        "displayType": "table",
        "pivotAggregation": null,
        "pivotColumns": null,
        "xColumns": null,
        "yColumns": null
       },
       "removedWidgets": [],
       "schema": [
        {
         "metadata": "{}",
         "name": "_1",
         "type": "\"string\""
        },
        {
         "metadata": "{}",
         "name": "_2",
         "type": "\"string\""
        }
       ],
       "type": "table"
      }
     },
     "output_type": "display_data"
    }
   ],
   "source": [
    "display(df_pin.dtypes) "
   ]
  },
  {
   "cell_type": "code",
   "execution_count": 0,
   "metadata": {
    "application/vnd.databricks.v1+cell": {
     "cellMetadata": {
      "byteLimit": 2048000,
      "rowLimit": 10000
     },
     "inputWidgets": {},
     "nuid": "5059a227-954a-47e8-b5d1-ee0bf476e7ad",
     "showTitle": false,
     "tableResultSettingsMap": {},
     "title": ""
    }
   },
   "outputs": [],
   "source": [
    "# Clean the data in the save_location column to include only the save location path\n",
    "df_pin = df_pin.withColumn(\"save_location\", regexp_replace(\"save_location\", \"Local save in \", \"\"))                          "
   ]
  },
  {
   "cell_type": "code",
   "execution_count": 0,
   "metadata": {
    "application/vnd.databricks.v1+cell": {
     "cellMetadata": {
      "byteLimit": 2048000,
      "rowLimit": 10000
     },
     "inputWidgets": {},
     "nuid": "553b3619-473a-4b05-83a9-af381304ade2",
     "showTitle": false,
     "tableResultSettingsMap": {},
     "title": ""
    }
   },
   "outputs": [],
   "source": [
    "#display(df_pin.select(\"save_location\").limit(10))"
   ]
  },
  {
   "cell_type": "code",
   "execution_count": 0,
   "metadata": {
    "application/vnd.databricks.v1+cell": {
     "cellMetadata": {
      "byteLimit": 2048000,
      "rowLimit": 10000
     },
     "inputWidgets": {},
     "nuid": "2bb43de6-dc77-4783-9fdf-bcddbc65c833",
     "showTitle": false,
     "tableResultSettingsMap": {},
     "title": ""
    }
   },
   "outputs": [],
   "source": [
    "#rename index column to ind\n",
    "df_pin = df_pin.withColumnRenamed(\"index\", \"ind\")\n"
   ]
  },
  {
   "cell_type": "code",
   "execution_count": 0,
   "metadata": {
    "application/vnd.databricks.v1+cell": {
     "cellMetadata": {
      "byteLimit": 2048000,
      "rowLimit": 10000
     },
     "inputWidgets": {},
     "nuid": "929486b7-a2cb-42d0-8c13-b3d468b7a735",
     "showTitle": false,
     "tableResultSettingsMap": {},
     "title": ""
    }
   },
   "outputs": [
    {
     "output_type": "display_data",
     "data": {
      "text/html": [
       "<style scoped>\n",
       "  .table-result-container {\n",
       "    max-height: 300px;\n",
       "    overflow: auto;\n",
       "  }\n",
       "  table, th, td {\n",
       "    border: 1px solid black;\n",
       "    border-collapse: collapse;\n",
       "  }\n",
       "  th, td {\n",
       "    padding: 5px;\n",
       "  }\n",
       "  th {\n",
       "    text-align: left;\n",
       "  }\n",
       "</style><div class='table-result-container'><table class='table-result'><thead style='background-color: white'><tr><th>_1</th><th>_2</th></tr></thead><tbody><tr><td>category</td><td>string</td></tr><tr><td>description</td><td>string</td></tr><tr><td>downloaded</td><td>bigint</td></tr><tr><td>follower_count</td><td>int</td></tr><tr><td>image_src</td><td>string</td></tr><tr><td>ind</td><td>bigint</td></tr><tr><td>is_image_or_video</td><td>string</td></tr><tr><td>poster_name</td><td>string</td></tr><tr><td>save_location</td><td>string</td></tr><tr><td>tag_list</td><td>string</td></tr><tr><td>title</td><td>string</td></tr><tr><td>unique_id</td><td>string</td></tr></tbody></table></div>"
      ]
     },
     "metadata": {
      "application/vnd.databricks.v1+output": {
       "addedWidgets": {},
       "aggData": [],
       "aggError": "",
       "aggOverflow": false,
       "aggSchema": [],
       "aggSeriesLimitReached": false,
       "aggType": "",
       "arguments": {},
       "columnCustomDisplayInfos": {},
       "data": [
        [
         "category",
         "string"
        ],
        [
         "description",
         "string"
        ],
        [
         "downloaded",
         "bigint"
        ],
        [
         "follower_count",
         "int"
        ],
        [
         "image_src",
         "string"
        ],
        [
         "ind",
         "bigint"
        ],
        [
         "is_image_or_video",
         "string"
        ],
        [
         "poster_name",
         "string"
        ],
        [
         "save_location",
         "string"
        ],
        [
         "tag_list",
         "string"
        ],
        [
         "title",
         "string"
        ],
        [
         "unique_id",
         "string"
        ]
       ],
       "datasetInfos": [],
       "dbfsResultPath": null,
       "isJsonSchema": true,
       "metadata": {},
       "overflow": false,
       "plotOptions": {
        "customPlotOptions": {},
        "displayType": "table",
        "pivotAggregation": null,
        "pivotColumns": null,
        "xColumns": null,
        "yColumns": null
       },
       "removedWidgets": [],
       "schema": [
        {
         "metadata": "{}",
         "name": "_1",
         "type": "\"string\""
        },
        {
         "metadata": "{}",
         "name": "_2",
         "type": "\"string\""
        }
       ],
       "type": "table"
      }
     },
     "output_type": "display_data"
    }
   ],
   "source": [
    "display(df_pin.dtypes) "
   ]
  },
  {
   "cell_type": "code",
   "execution_count": 0,
   "metadata": {
    "application/vnd.databricks.v1+cell": {
     "cellMetadata": {
      "byteLimit": 2048000,
      "rowLimit": 10000
     },
     "inputWidgets": {},
     "nuid": "03a0e29c-5d95-479a-bee1-b542bf0e65d0",
     "showTitle": false,
     "tableResultSettingsMap": {},
     "title": ""
    }
   },
   "outputs": [],
   "source": [
    "#reorder columns \n",
    "df_pin = df_pin.select(\"ind\", \"unique_id\", \"title\", \"description\", \"follower_count\", \"poster_name\", \"tag_list\", \"is_image_or_video\", \"image_src\", \"save_location\", \"category\")\n"
   ]
  },
  {
   "cell_type": "code",
   "execution_count": 0,
   "metadata": {
    "application/vnd.databricks.v1+cell": {
     "cellMetadata": {
      "byteLimit": 2048000,
      "rowLimit": 10000
     },
     "inputWidgets": {},
     "nuid": "9fc38b59-1406-4e18-b921-329d5f76966b",
     "showTitle": false,
     "tableResultSettingsMap": {},
     "title": ""
    }
   },
   "outputs": [
    {
     "output_type": "display_data",
     "data": {
      "text/html": [
       "<style scoped>\n",
       "  .table-result-container {\n",
       "    max-height: 300px;\n",
       "    overflow: auto;\n",
       "  }\n",
       "  table, th, td {\n",
       "    border: 1px solid black;\n",
       "    border-collapse: collapse;\n",
       "  }\n",
       "  th, td {\n",
       "    padding: 5px;\n",
       "  }\n",
       "  th {\n",
       "    text-align: left;\n",
       "  }\n",
       "</style><div class='table-result-container'><table class='table-result'><thead style='background-color: white'><tr><th>_1</th><th>_2</th></tr></thead><tbody><tr><td>ind</td><td>bigint</td></tr><tr><td>unique_id</td><td>string</td></tr><tr><td>title</td><td>string</td></tr><tr><td>description</td><td>string</td></tr><tr><td>follower_count</td><td>int</td></tr><tr><td>poster_name</td><td>string</td></tr><tr><td>tag_list</td><td>string</td></tr><tr><td>is_image_or_video</td><td>string</td></tr><tr><td>image_src</td><td>string</td></tr><tr><td>save_location</td><td>string</td></tr><tr><td>category</td><td>string</td></tr></tbody></table></div>"
      ]
     },
     "metadata": {
      "application/vnd.databricks.v1+output": {
       "addedWidgets": {},
       "aggData": [],
       "aggError": "",
       "aggOverflow": false,
       "aggSchema": [],
       "aggSeriesLimitReached": false,
       "aggType": "",
       "arguments": {},
       "columnCustomDisplayInfos": {},
       "data": [
        [
         "ind",
         "bigint"
        ],
        [
         "unique_id",
         "string"
        ],
        [
         "title",
         "string"
        ],
        [
         "description",
         "string"
        ],
        [
         "follower_count",
         "int"
        ],
        [
         "poster_name",
         "string"
        ],
        [
         "tag_list",
         "string"
        ],
        [
         "is_image_or_video",
         "string"
        ],
        [
         "image_src",
         "string"
        ],
        [
         "save_location",
         "string"
        ],
        [
         "category",
         "string"
        ]
       ],
       "datasetInfos": [],
       "dbfsResultPath": null,
       "isJsonSchema": true,
       "metadata": {},
       "overflow": false,
       "plotOptions": {
        "customPlotOptions": {},
        "displayType": "table",
        "pivotAggregation": null,
        "pivotColumns": null,
        "xColumns": null,
        "yColumns": null
       },
       "removedWidgets": [],
       "schema": [
        {
         "metadata": "{}",
         "name": "_1",
         "type": "\"string\""
        },
        {
         "metadata": "{}",
         "name": "_2",
         "type": "\"string\""
        }
       ],
       "type": "table"
      }
     },
     "output_type": "display_data"
    }
   ],
   "source": [
    "display(df_pin.dtypes)"
   ]
  },
  {
   "cell_type": "markdown",
   "metadata": {
    "application/vnd.databricks.v1+cell": {
     "cellMetadata": {
      "byteLimit": 2048000,
      "rowLimit": 10000
     },
     "inputWidgets": {},
     "nuid": "76925c6a-a8e4-440c-a2cd-d84260ad43ef",
     "showTitle": false,
     "tableResultSettingsMap": {},
     "title": ""
    }
   },
   "source": [
    ".geo data"
   ]
  },
  {
   "cell_type": "code",
   "execution_count": 0,
   "metadata": {
    "application/vnd.databricks.v1+cell": {
     "cellMetadata": {
      "byteLimit": 2048000,
      "rowLimit": 10000
     },
     "inputWidgets": {},
     "nuid": "c26b1f8e-48ca-48d3-91c0-c017d64c11ae",
     "showTitle": false,
     "tableResultSettingsMap": {},
     "title": ""
    }
   },
   "outputs": [
    {
     "output_type": "display_data",
     "data": {
      "text/html": [
       "<style scoped>\n",
       "  .table-result-container {\n",
       "    max-height: 300px;\n",
       "    overflow: auto;\n",
       "  }\n",
       "  table, th, td {\n",
       "    border: 1px solid black;\n",
       "    border-collapse: collapse;\n",
       "  }\n",
       "  th, td {\n",
       "    padding: 5px;\n",
       "  }\n",
       "  th {\n",
       "    text-align: left;\n",
       "  }\n",
       "</style><div class='table-result-container'><table class='table-result'><thead style='background-color: white'><tr><th>country</th><th>ind</th><th>latitude</th><th>longitude</th><th>timestamp</th></tr></thead><tbody><tr><td>British Indian Ocean Territory (Chagos Archipelago)</td><td>10048</td><td>-42.0773</td><td>-163.698</td><td>2022-08-18 06:19:36</td></tr><tr><td>British Indian Ocean Territory (Chagos Archipelago)</td><td>10802</td><td>-84.3021</td><td>-115.646</td><td>2021-11-28 05:16:33</td></tr><tr><td>British Indian Ocean Territory (Chagos Archipelago)</td><td>2311</td><td>-84.2896</td><td>-98.8517</td><td>2021-12-12 12:37:22</td></tr><tr><td>British Indian Ocean Territory (Chagos Archipelago)</td><td>3871</td><td>-85.4776</td><td>-130.258</td><td>2021-02-09 06:15:33</td></tr><tr><td>British Indian Ocean Territory (Chagos Archipelago)</td><td>3889</td><td>-85.4776</td><td>-130.258</td><td>2019-09-12 00:19:17</td></tr><tr><td>British Indian Ocean Territory (Chagos Archipelago)</td><td>4059</td><td>-85.4776</td><td>-130.258</td><td>2022-05-09 08:09:29</td></tr><tr><td>British Indian Ocean Territory (Chagos Archipelago)</td><td>4103</td><td>-85.4776</td><td>-130.258</td><td>2022-06-16 15:41:10</td></tr><tr><td>British Indian Ocean Territory (Chagos Archipelago)</td><td>6237</td><td>-84.2896</td><td>-98.8517</td><td>2018-11-18 10:16:22</td></tr><tr><td>British Indian Ocean Territory (Chagos Archipelago)</td><td>6731</td><td>-86.5675</td><td>-149.565</td><td>2021-06-08 19:10:49</td></tr><tr><td>British Indian Ocean Territory (Chagos Archipelago)</td><td>6775</td><td>-86.5675</td><td>-149.565</td><td>2018-09-04 11:15:05</td></tr></tbody></table></div>"
      ]
     },
     "metadata": {
      "application/vnd.databricks.v1+output": {
       "addedWidgets": {},
       "aggData": [],
       "aggError": "",
       "aggOverflow": false,
       "aggSchema": [],
       "aggSeriesLimitReached": false,
       "aggType": "",
       "arguments": {},
       "columnCustomDisplayInfos": {},
       "data": [
        [
         "British Indian Ocean Territory (Chagos Archipelago)",
         10048,
         -42.0773,
         -163.698,
         "2022-08-18 06:19:36"
        ],
        [
         "British Indian Ocean Territory (Chagos Archipelago)",
         10802,
         -84.3021,
         -115.646,
         "2021-11-28 05:16:33"
        ],
        [
         "British Indian Ocean Territory (Chagos Archipelago)",
         2311,
         -84.2896,
         -98.8517,
         "2021-12-12 12:37:22"
        ],
        [
         "British Indian Ocean Territory (Chagos Archipelago)",
         3871,
         -85.4776,
         -130.258,
         "2021-02-09 06:15:33"
        ],
        [
         "British Indian Ocean Territory (Chagos Archipelago)",
         3889,
         -85.4776,
         -130.258,
         "2019-09-12 00:19:17"
        ],
        [
         "British Indian Ocean Territory (Chagos Archipelago)",
         4059,
         -85.4776,
         -130.258,
         "2022-05-09 08:09:29"
        ],
        [
         "British Indian Ocean Territory (Chagos Archipelago)",
         4103,
         -85.4776,
         -130.258,
         "2022-06-16 15:41:10"
        ],
        [
         "British Indian Ocean Territory (Chagos Archipelago)",
         6237,
         -84.2896,
         -98.8517,
         "2018-11-18 10:16:22"
        ],
        [
         "British Indian Ocean Territory (Chagos Archipelago)",
         6731,
         -86.5675,
         -149.565,
         "2021-06-08 19:10:49"
        ],
        [
         "British Indian Ocean Territory (Chagos Archipelago)",
         6775,
         -86.5675,
         -149.565,
         "2018-09-04 11:15:05"
        ]
       ],
       "datasetInfos": [],
       "dbfsResultPath": null,
       "isJsonSchema": true,
       "metadata": {},
       "overflow": false,
       "plotOptions": {
        "customPlotOptions": {},
        "displayType": "table",
        "pivotAggregation": null,
        "pivotColumns": null,
        "xColumns": null,
        "yColumns": null
       },
       "removedWidgets": [],
       "schema": [
        {
         "metadata": "{}",
         "name": "country",
         "type": "\"string\""
        },
        {
         "metadata": "{}",
         "name": "ind",
         "type": "\"long\""
        },
        {
         "metadata": "{}",
         "name": "latitude",
         "type": "\"double\""
        },
        {
         "metadata": "{}",
         "name": "longitude",
         "type": "\"double\""
        },
        {
         "metadata": "{}",
         "name": "timestamp",
         "type": "\"string\""
        }
       ],
       "type": "table"
      }
     },
     "output_type": "display_data"
    }
   ],
   "source": [
    "file_location = \"s3a://user-0ebb0073c95b-bucket/topics/0ebb0073c95b.geo/partition=0/*.json\" \n",
    "file_type = \"json\"\n",
    "# Ask Spark to infer the schema\n",
    "infer_schema = \"true\"\n",
    "# Read in JSONs from mounted S3 bucket\n",
    "df_geo = spark.read.format(\"json\") \\\n",
    ".option(\"inferSchema\", infer_schema) \\\n",
    ".load(file_location)\n",
    "# Display Spark dataframe to check its content\n",
    "display(df_geo.limit(10))"
   ]
  },
  {
   "cell_type": "code",
   "execution_count": 0,
   "metadata": {
    "application/vnd.databricks.v1+cell": {
     "cellMetadata": {
      "byteLimit": 2048000,
      "rowLimit": 10000
     },
     "inputWidgets": {},
     "nuid": "c9d7e4d9-09ca-4ecc-9a6f-57ce35c2aed7",
     "showTitle": false,
     "tableResultSettingsMap": {},
     "title": ""
    }
   },
   "outputs": [
    {
     "output_type": "display_data",
     "data": {
      "text/html": [
       "<style scoped>\n",
       "  .table-result-container {\n",
       "    max-height: 300px;\n",
       "    overflow: auto;\n",
       "  }\n",
       "  table, th, td {\n",
       "    border: 1px solid black;\n",
       "    border-collapse: collapse;\n",
       "  }\n",
       "  th, td {\n",
       "    padding: 5px;\n",
       "  }\n",
       "  th {\n",
       "    text-align: left;\n",
       "  }\n",
       "</style><div class='table-result-container'><table class='table-result'><thead style='background-color: white'><tr><th>country</th><th>ind</th><th>latitude</th><th>longitude</th><th>timestamp</th></tr></thead><tbody><tr><td>British Indian Ocean Territory (Chagos Archipelago)</td><td>10048</td><td>-42.0773</td><td>-163.698</td><td>2022-08-18 06:19:36</td></tr><tr><td>British Indian Ocean Territory (Chagos Archipelago)</td><td>10802</td><td>-84.3021</td><td>-115.646</td><td>2021-11-28 05:16:33</td></tr><tr><td>British Indian Ocean Territory (Chagos Archipelago)</td><td>2311</td><td>-84.2896</td><td>-98.8517</td><td>2021-12-12 12:37:22</td></tr><tr><td>British Indian Ocean Territory (Chagos Archipelago)</td><td>3871</td><td>-85.4776</td><td>-130.258</td><td>2021-02-09 06:15:33</td></tr><tr><td>British Indian Ocean Territory (Chagos Archipelago)</td><td>3889</td><td>-85.4776</td><td>-130.258</td><td>2019-09-12 00:19:17</td></tr><tr><td>British Indian Ocean Territory (Chagos Archipelago)</td><td>4059</td><td>-85.4776</td><td>-130.258</td><td>2022-05-09 08:09:29</td></tr><tr><td>British Indian Ocean Territory (Chagos Archipelago)</td><td>4103</td><td>-85.4776</td><td>-130.258</td><td>2022-06-16 15:41:10</td></tr><tr><td>British Indian Ocean Territory (Chagos Archipelago)</td><td>6237</td><td>-84.2896</td><td>-98.8517</td><td>2018-11-18 10:16:22</td></tr><tr><td>British Indian Ocean Territory (Chagos Archipelago)</td><td>6731</td><td>-86.5675</td><td>-149.565</td><td>2021-06-08 19:10:49</td></tr><tr><td>British Indian Ocean Territory (Chagos Archipelago)</td><td>6775</td><td>-86.5675</td><td>-149.565</td><td>2018-09-04 11:15:05</td></tr></tbody></table></div>"
      ]
     },
     "metadata": {
      "application/vnd.databricks.v1+output": {
       "addedWidgets": {},
       "aggData": [],
       "aggError": "",
       "aggOverflow": false,
       "aggSchema": [],
       "aggSeriesLimitReached": false,
       "aggType": "",
       "arguments": {},
       "columnCustomDisplayInfos": {},
       "data": [
        [
         "British Indian Ocean Territory (Chagos Archipelago)",
         10048,
         -42.0773,
         -163.698,
         "2022-08-18 06:19:36"
        ],
        [
         "British Indian Ocean Territory (Chagos Archipelago)",
         10802,
         -84.3021,
         -115.646,
         "2021-11-28 05:16:33"
        ],
        [
         "British Indian Ocean Territory (Chagos Archipelago)",
         2311,
         -84.2896,
         -98.8517,
         "2021-12-12 12:37:22"
        ],
        [
         "British Indian Ocean Territory (Chagos Archipelago)",
         3871,
         -85.4776,
         -130.258,
         "2021-02-09 06:15:33"
        ],
        [
         "British Indian Ocean Territory (Chagos Archipelago)",
         3889,
         -85.4776,
         -130.258,
         "2019-09-12 00:19:17"
        ],
        [
         "British Indian Ocean Territory (Chagos Archipelago)",
         4059,
         -85.4776,
         -130.258,
         "2022-05-09 08:09:29"
        ],
        [
         "British Indian Ocean Territory (Chagos Archipelago)",
         4103,
         -85.4776,
         -130.258,
         "2022-06-16 15:41:10"
        ],
        [
         "British Indian Ocean Territory (Chagos Archipelago)",
         6237,
         -84.2896,
         -98.8517,
         "2018-11-18 10:16:22"
        ],
        [
         "British Indian Ocean Territory (Chagos Archipelago)",
         6731,
         -86.5675,
         -149.565,
         "2021-06-08 19:10:49"
        ],
        [
         "British Indian Ocean Territory (Chagos Archipelago)",
         6775,
         -86.5675,
         -149.565,
         "2018-09-04 11:15:05"
        ]
       ],
       "datasetInfos": [],
       "dbfsResultPath": null,
       "isJsonSchema": true,
       "metadata": {},
       "overflow": false,
       "plotOptions": {
        "customPlotOptions": {},
        "displayType": "table",
        "pivotAggregation": null,
        "pivotColumns": null,
        "xColumns": null,
        "yColumns": null
       },
       "removedWidgets": [],
       "schema": [
        {
         "metadata": "{}",
         "name": "country",
         "type": "\"string\""
        },
        {
         "metadata": "{}",
         "name": "ind",
         "type": "\"long\""
        },
        {
         "metadata": "{}",
         "name": "latitude",
         "type": "\"double\""
        },
        {
         "metadata": "{}",
         "name": "longitude",
         "type": "\"double\""
        },
        {
         "metadata": "{}",
         "name": "timestamp",
         "type": "\"string\""
        }
       ],
       "type": "table"
      }
     },
     "output_type": "display_data"
    }
   ],
   "source": [
    "#df_geo = df_geo_all.sample(fraction=0.01)  # Use 1% of the data, or adjust as needed\n",
    "df_geo.cache() # Cache the df \n",
    "df_geo.count()  # Trigger the caching\n",
    "display(df_geo.limit(10))\n",
    "\n"
   ]
  },
  {
   "cell_type": "code",
   "execution_count": 0,
   "metadata": {
    "application/vnd.databricks.v1+cell": {
     "cellMetadata": {
      "byteLimit": 2048000,
      "rowLimit": 10000
     },
     "inputWidgets": {},
     "nuid": "a4a86451-0542-438f-b95e-2c8029a9c6d2",
     "showTitle": false,
     "tableResultSettingsMap": {},
     "title": ""
    }
   },
   "outputs": [
    {
     "output_type": "display_data",
     "data": {
      "text/html": [
       "<style scoped>\n",
       "  .table-result-container {\n",
       "    max-height: 300px;\n",
       "    overflow: auto;\n",
       "  }\n",
       "  table, th, td {\n",
       "    border: 1px solid black;\n",
       "    border-collapse: collapse;\n",
       "  }\n",
       "  th, td {\n",
       "    padding: 5px;\n",
       "  }\n",
       "  th {\n",
       "    text-align: left;\n",
       "  }\n",
       "</style><div class='table-result-container'><table class='table-result'><thead style='background-color: white'><tr><th>_1</th><th>_2</th></tr></thead><tbody><tr><td>country</td><td>string</td></tr><tr><td>ind</td><td>bigint</td></tr><tr><td>latitude</td><td>double</td></tr><tr><td>longitude</td><td>double</td></tr><tr><td>timestamp</td><td>string</td></tr></tbody></table></div>"
      ]
     },
     "metadata": {
      "application/vnd.databricks.v1+output": {
       "addedWidgets": {},
       "aggData": [],
       "aggError": "",
       "aggOverflow": false,
       "aggSchema": [],
       "aggSeriesLimitReached": false,
       "aggType": "",
       "arguments": {},
       "columnCustomDisplayInfos": {},
       "data": [
        [
         "country",
         "string"
        ],
        [
         "ind",
         "bigint"
        ],
        [
         "latitude",
         "double"
        ],
        [
         "longitude",
         "double"
        ],
        [
         "timestamp",
         "string"
        ]
       ],
       "datasetInfos": [],
       "dbfsResultPath": null,
       "isJsonSchema": true,
       "metadata": {},
       "overflow": false,
       "plotOptions": {
        "customPlotOptions": {},
        "displayType": "table",
        "pivotAggregation": null,
        "pivotColumns": null,
        "xColumns": null,
        "yColumns": null
       },
       "removedWidgets": [],
       "schema": [
        {
         "metadata": "{}",
         "name": "_1",
         "type": "\"string\""
        },
        {
         "metadata": "{}",
         "name": "_2",
         "type": "\"string\""
        }
       ],
       "type": "table"
      }
     },
     "output_type": "display_data"
    }
   ],
   "source": [
    "display(df_geo.dtypes)"
   ]
  },
  {
   "cell_type": "code",
   "execution_count": 0,
   "metadata": {
    "application/vnd.databricks.v1+cell": {
     "cellMetadata": {
      "byteLimit": 2048000,
      "rowLimit": 10000
     },
     "inputWidgets": {},
     "nuid": "8ceddce1-28ce-49f5-8d80-3a0e2e3b4984",
     "showTitle": false,
     "tableResultSettingsMap": {},
     "title": ""
    }
   },
   "outputs": [],
   "source": [
    "# Create a new column 'coordinates' by combining the latitude and longitude columns \n",
    "df_geo = df_geo.withColumn(\"coordinates\", array(col(\"latitude\"), col(\"longitude\")))"
   ]
  },
  {
   "cell_type": "code",
   "execution_count": 0,
   "metadata": {
    "application/vnd.databricks.v1+cell": {
     "cellMetadata": {
      "byteLimit": 2048000,
      "rowLimit": 10000
     },
     "inputWidgets": {},
     "nuid": "de8415ac-e80e-43b4-8d33-3b6a4747632e",
     "showTitle": false,
     "tableResultSettingsMap": {},
     "title": ""
    }
   },
   "outputs": [
    {
     "output_type": "display_data",
     "data": {
      "text/html": [
       "<style scoped>\n",
       "  .table-result-container {\n",
       "    max-height: 300px;\n",
       "    overflow: auto;\n",
       "  }\n",
       "  table, th, td {\n",
       "    border: 1px solid black;\n",
       "    border-collapse: collapse;\n",
       "  }\n",
       "  th, td {\n",
       "    padding: 5px;\n",
       "  }\n",
       "  th {\n",
       "    text-align: left;\n",
       "  }\n",
       "</style><div class='table-result-container'><table class='table-result'><thead style='background-color: white'><tr><th>_1</th><th>_2</th></tr></thead><tbody><tr><td>country</td><td>string</td></tr><tr><td>ind</td><td>bigint</td></tr><tr><td>latitude</td><td>double</td></tr><tr><td>longitude</td><td>double</td></tr><tr><td>timestamp</td><td>string</td></tr><tr><td>coordinates</td><td>array<double></td></tr></tbody></table></div>"
      ]
     },
     "metadata": {
      "application/vnd.databricks.v1+output": {
       "addedWidgets": {},
       "aggData": [],
       "aggError": "",
       "aggOverflow": false,
       "aggSchema": [],
       "aggSeriesLimitReached": false,
       "aggType": "",
       "arguments": {},
       "columnCustomDisplayInfos": {},
       "data": [
        [
         "country",
         "string"
        ],
        [
         "ind",
         "bigint"
        ],
        [
         "latitude",
         "double"
        ],
        [
         "longitude",
         "double"
        ],
        [
         "timestamp",
         "string"
        ],
        [
         "coordinates",
         "array<double>"
        ]
       ],
       "datasetInfos": [],
       "dbfsResultPath": null,
       "isJsonSchema": true,
       "metadata": {},
       "overflow": false,
       "plotOptions": {
        "customPlotOptions": {},
        "displayType": "table",
        "pivotAggregation": null,
        "pivotColumns": null,
        "xColumns": null,
        "yColumns": null
       },
       "removedWidgets": [],
       "schema": [
        {
         "metadata": "{}",
         "name": "_1",
         "type": "\"string\""
        },
        {
         "metadata": "{}",
         "name": "_2",
         "type": "\"string\""
        }
       ],
       "type": "table"
      }
     },
     "output_type": "display_data"
    }
   ],
   "source": [
    "display(df_geo.dtypes) "
   ]
  },
  {
   "cell_type": "code",
   "execution_count": 0,
   "metadata": {
    "application/vnd.databricks.v1+cell": {
     "cellMetadata": {
      "byteLimit": 2048000,
      "rowLimit": 10000
     },
     "inputWidgets": {},
     "nuid": "aa0be11c-e5c7-4857-b28e-9b0dd2ff7ed2",
     "showTitle": false,
     "tableResultSettingsMap": {},
     "title": ""
    }
   },
   "outputs": [
    {
     "output_type": "display_data",
     "data": {
      "text/html": [
       "<style scoped>\n",
       "  .table-result-container {\n",
       "    max-height: 300px;\n",
       "    overflow: auto;\n",
       "  }\n",
       "  table, th, td {\n",
       "    border: 1px solid black;\n",
       "    border-collapse: collapse;\n",
       "  }\n",
       "  th, td {\n",
       "    padding: 5px;\n",
       "  }\n",
       "  th {\n",
       "    text-align: left;\n",
       "  }\n",
       "</style><div class='table-result-container'><table class='table-result'><thead style='background-color: white'><tr><th>country</th><th>ind</th><th>latitude</th><th>longitude</th><th>timestamp</th><th>coordinates</th></tr></thead><tbody><tr><td>British Indian Ocean Territory (Chagos Archipelago)</td><td>10048</td><td>-42.0773</td><td>-163.698</td><td>2022-08-18 06:19:36</td><td>List(-42.0773, -163.698)</td></tr><tr><td>British Indian Ocean Territory (Chagos Archipelago)</td><td>10802</td><td>-84.3021</td><td>-115.646</td><td>2021-11-28 05:16:33</td><td>List(-84.3021, -115.646)</td></tr><tr><td>British Indian Ocean Territory (Chagos Archipelago)</td><td>2311</td><td>-84.2896</td><td>-98.8517</td><td>2021-12-12 12:37:22</td><td>List(-84.2896, -98.8517)</td></tr><tr><td>British Indian Ocean Territory (Chagos Archipelago)</td><td>3871</td><td>-85.4776</td><td>-130.258</td><td>2021-02-09 06:15:33</td><td>List(-85.4776, -130.258)</td></tr><tr><td>British Indian Ocean Territory (Chagos Archipelago)</td><td>3889</td><td>-85.4776</td><td>-130.258</td><td>2019-09-12 00:19:17</td><td>List(-85.4776, -130.258)</td></tr><tr><td>British Indian Ocean Territory (Chagos Archipelago)</td><td>4059</td><td>-85.4776</td><td>-130.258</td><td>2022-05-09 08:09:29</td><td>List(-85.4776, -130.258)</td></tr><tr><td>British Indian Ocean Territory (Chagos Archipelago)</td><td>4103</td><td>-85.4776</td><td>-130.258</td><td>2022-06-16 15:41:10</td><td>List(-85.4776, -130.258)</td></tr><tr><td>British Indian Ocean Territory (Chagos Archipelago)</td><td>6237</td><td>-84.2896</td><td>-98.8517</td><td>2018-11-18 10:16:22</td><td>List(-84.2896, -98.8517)</td></tr><tr><td>British Indian Ocean Territory (Chagos Archipelago)</td><td>6731</td><td>-86.5675</td><td>-149.565</td><td>2021-06-08 19:10:49</td><td>List(-86.5675, -149.565)</td></tr><tr><td>British Indian Ocean Territory (Chagos Archipelago)</td><td>6775</td><td>-86.5675</td><td>-149.565</td><td>2018-09-04 11:15:05</td><td>List(-86.5675, -149.565)</td></tr></tbody></table></div>"
      ]
     },
     "metadata": {
      "application/vnd.databricks.v1+output": {
       "addedWidgets": {},
       "aggData": [],
       "aggError": "",
       "aggOverflow": false,
       "aggSchema": [],
       "aggSeriesLimitReached": false,
       "aggType": "",
       "arguments": {},
       "columnCustomDisplayInfos": {},
       "data": [
        [
         "British Indian Ocean Territory (Chagos Archipelago)",
         10048,
         -42.0773,
         -163.698,
         "2022-08-18 06:19:36",
         [
          -42.0773,
          -163.698
         ]
        ],
        [
         "British Indian Ocean Territory (Chagos Archipelago)",
         10802,
         -84.3021,
         -115.646,
         "2021-11-28 05:16:33",
         [
          -84.3021,
          -115.646
         ]
        ],
        [
         "British Indian Ocean Territory (Chagos Archipelago)",
         2311,
         -84.2896,
         -98.8517,
         "2021-12-12 12:37:22",
         [
          -84.2896,
          -98.8517
         ]
        ],
        [
         "British Indian Ocean Territory (Chagos Archipelago)",
         3871,
         -85.4776,
         -130.258,
         "2021-02-09 06:15:33",
         [
          -85.4776,
          -130.258
         ]
        ],
        [
         "British Indian Ocean Territory (Chagos Archipelago)",
         3889,
         -85.4776,
         -130.258,
         "2019-09-12 00:19:17",
         [
          -85.4776,
          -130.258
         ]
        ],
        [
         "British Indian Ocean Territory (Chagos Archipelago)",
         4059,
         -85.4776,
         -130.258,
         "2022-05-09 08:09:29",
         [
          -85.4776,
          -130.258
         ]
        ],
        [
         "British Indian Ocean Territory (Chagos Archipelago)",
         4103,
         -85.4776,
         -130.258,
         "2022-06-16 15:41:10",
         [
          -85.4776,
          -130.258
         ]
        ],
        [
         "British Indian Ocean Territory (Chagos Archipelago)",
         6237,
         -84.2896,
         -98.8517,
         "2018-11-18 10:16:22",
         [
          -84.2896,
          -98.8517
         ]
        ],
        [
         "British Indian Ocean Territory (Chagos Archipelago)",
         6731,
         -86.5675,
         -149.565,
         "2021-06-08 19:10:49",
         [
          -86.5675,
          -149.565
         ]
        ],
        [
         "British Indian Ocean Territory (Chagos Archipelago)",
         6775,
         -86.5675,
         -149.565,
         "2018-09-04 11:15:05",
         [
          -86.5675,
          -149.565
         ]
        ]
       ],
       "datasetInfos": [],
       "dbfsResultPath": null,
       "isJsonSchema": true,
       "metadata": {},
       "overflow": false,
       "plotOptions": {
        "customPlotOptions": {},
        "displayType": "table",
        "pivotAggregation": null,
        "pivotColumns": null,
        "xColumns": null,
        "yColumns": null
       },
       "removedWidgets": [],
       "schema": [
        {
         "metadata": "{}",
         "name": "country",
         "type": "\"string\""
        },
        {
         "metadata": "{}",
         "name": "ind",
         "type": "\"long\""
        },
        {
         "metadata": "{}",
         "name": "latitude",
         "type": "\"double\""
        },
        {
         "metadata": "{}",
         "name": "longitude",
         "type": "\"double\""
        },
        {
         "metadata": "{}",
         "name": "timestamp",
         "type": "\"string\""
        },
        {
         "metadata": "{}",
         "name": "coordinates",
         "type": "{\"type\":\"array\",\"elementType\":\"double\",\"containsNull\":true}"
        }
       ],
       "type": "table"
      }
     },
     "output_type": "display_data"
    }
   ],
   "source": [
    "display(df_geo.limit(10))"
   ]
  },
  {
   "cell_type": "code",
   "execution_count": 0,
   "metadata": {
    "application/vnd.databricks.v1+cell": {
     "cellMetadata": {
      "byteLimit": 2048000,
      "rowLimit": 10000
     },
     "inputWidgets": {},
     "nuid": "c55b790d-4d9c-4c5c-a9d3-335cff78941c",
     "showTitle": false,
     "tableResultSettingsMap": {},
     "title": ""
    }
   },
   "outputs": [],
   "source": [
    "# Drop the latitude and longitude column as they're no longer needed \n",
    "df_geo = df_geo.drop(\"latitude\", \"longitude\")"
   ]
  },
  {
   "cell_type": "code",
   "execution_count": 0,
   "metadata": {
    "application/vnd.databricks.v1+cell": {
     "cellMetadata": {
      "byteLimit": 2048000,
      "rowLimit": 10000
     },
     "inputWidgets": {},
     "nuid": "e53ef03c-0f09-43e1-a194-3ded44ba9c17",
     "showTitle": false,
     "tableResultSettingsMap": {},
     "title": ""
    }
   },
   "outputs": [
    {
     "output_type": "display_data",
     "data": {
      "text/html": [
       "<style scoped>\n",
       "  .table-result-container {\n",
       "    max-height: 300px;\n",
       "    overflow: auto;\n",
       "  }\n",
       "  table, th, td {\n",
       "    border: 1px solid black;\n",
       "    border-collapse: collapse;\n",
       "  }\n",
       "  th, td {\n",
       "    padding: 5px;\n",
       "  }\n",
       "  th {\n",
       "    text-align: left;\n",
       "  }\n",
       "</style><div class='table-result-container'><table class='table-result'><thead style='background-color: white'><tr><th>country</th><th>ind</th><th>timestamp</th><th>coordinates</th></tr></thead><tbody><tr><td>British Indian Ocean Territory (Chagos Archipelago)</td><td>10048</td><td>2022-08-18 06:19:36</td><td>List(-42.0773, -163.698)</td></tr><tr><td>British Indian Ocean Territory (Chagos Archipelago)</td><td>10802</td><td>2021-11-28 05:16:33</td><td>List(-84.3021, -115.646)</td></tr><tr><td>British Indian Ocean Territory (Chagos Archipelago)</td><td>2311</td><td>2021-12-12 12:37:22</td><td>List(-84.2896, -98.8517)</td></tr><tr><td>British Indian Ocean Territory (Chagos Archipelago)</td><td>3871</td><td>2021-02-09 06:15:33</td><td>List(-85.4776, -130.258)</td></tr><tr><td>British Indian Ocean Territory (Chagos Archipelago)</td><td>3889</td><td>2019-09-12 00:19:17</td><td>List(-85.4776, -130.258)</td></tr><tr><td>British Indian Ocean Territory (Chagos Archipelago)</td><td>4059</td><td>2022-05-09 08:09:29</td><td>List(-85.4776, -130.258)</td></tr><tr><td>British Indian Ocean Territory (Chagos Archipelago)</td><td>4103</td><td>2022-06-16 15:41:10</td><td>List(-85.4776, -130.258)</td></tr><tr><td>British Indian Ocean Territory (Chagos Archipelago)</td><td>6237</td><td>2018-11-18 10:16:22</td><td>List(-84.2896, -98.8517)</td></tr><tr><td>British Indian Ocean Territory (Chagos Archipelago)</td><td>6731</td><td>2021-06-08 19:10:49</td><td>List(-86.5675, -149.565)</td></tr><tr><td>British Indian Ocean Territory (Chagos Archipelago)</td><td>6775</td><td>2018-09-04 11:15:05</td><td>List(-86.5675, -149.565)</td></tr></tbody></table></div>"
      ]
     },
     "metadata": {
      "application/vnd.databricks.v1+output": {
       "addedWidgets": {},
       "aggData": [],
       "aggError": "",
       "aggOverflow": false,
       "aggSchema": [],
       "aggSeriesLimitReached": false,
       "aggType": "",
       "arguments": {},
       "columnCustomDisplayInfos": {},
       "data": [
        [
         "British Indian Ocean Territory (Chagos Archipelago)",
         10048,
         "2022-08-18 06:19:36",
         [
          -42.0773,
          -163.698
         ]
        ],
        [
         "British Indian Ocean Territory (Chagos Archipelago)",
         10802,
         "2021-11-28 05:16:33",
         [
          -84.3021,
          -115.646
         ]
        ],
        [
         "British Indian Ocean Territory (Chagos Archipelago)",
         2311,
         "2021-12-12 12:37:22",
         [
          -84.2896,
          -98.8517
         ]
        ],
        [
         "British Indian Ocean Territory (Chagos Archipelago)",
         3871,
         "2021-02-09 06:15:33",
         [
          -85.4776,
          -130.258
         ]
        ],
        [
         "British Indian Ocean Territory (Chagos Archipelago)",
         3889,
         "2019-09-12 00:19:17",
         [
          -85.4776,
          -130.258
         ]
        ],
        [
         "British Indian Ocean Territory (Chagos Archipelago)",
         4059,
         "2022-05-09 08:09:29",
         [
          -85.4776,
          -130.258
         ]
        ],
        [
         "British Indian Ocean Territory (Chagos Archipelago)",
         4103,
         "2022-06-16 15:41:10",
         [
          -85.4776,
          -130.258
         ]
        ],
        [
         "British Indian Ocean Territory (Chagos Archipelago)",
         6237,
         "2018-11-18 10:16:22",
         [
          -84.2896,
          -98.8517
         ]
        ],
        [
         "British Indian Ocean Territory (Chagos Archipelago)",
         6731,
         "2021-06-08 19:10:49",
         [
          -86.5675,
          -149.565
         ]
        ],
        [
         "British Indian Ocean Territory (Chagos Archipelago)",
         6775,
         "2018-09-04 11:15:05",
         [
          -86.5675,
          -149.565
         ]
        ]
       ],
       "datasetInfos": [],
       "dbfsResultPath": null,
       "isJsonSchema": true,
       "metadata": {},
       "overflow": false,
       "plotOptions": {
        "customPlotOptions": {},
        "displayType": "table",
        "pivotAggregation": null,
        "pivotColumns": null,
        "xColumns": null,
        "yColumns": null
       },
       "removedWidgets": [],
       "schema": [
        {
         "metadata": "{}",
         "name": "country",
         "type": "\"string\""
        },
        {
         "metadata": "{}",
         "name": "ind",
         "type": "\"long\""
        },
        {
         "metadata": "{}",
         "name": "timestamp",
         "type": "\"string\""
        },
        {
         "metadata": "{}",
         "name": "coordinates",
         "type": "{\"type\":\"array\",\"elementType\":\"double\",\"containsNull\":true}"
        }
       ],
       "type": "table"
      }
     },
     "output_type": "display_data"
    }
   ],
   "source": [
    "display(df_geo.limit(10))"
   ]
  },
  {
   "cell_type": "code",
   "execution_count": 0,
   "metadata": {
    "application/vnd.databricks.v1+cell": {
     "cellMetadata": {
      "byteLimit": 2048000,
      "rowLimit": 10000
     },
     "inputWidgets": {},
     "nuid": "a1a034e8-3490-4912-9acf-702acf3591da",
     "showTitle": false,
     "tableResultSettingsMap": {},
     "title": ""
    }
   },
   "outputs": [],
   "source": [
    "# Change 'timestamp' column to data type timestamp\n",
    "df_geo = df_geo.withColumn(\"timestamp\", col(\"timestamp\").cast(\"timestamp\"))\n"
   ]
  },
  {
   "cell_type": "code",
   "execution_count": 0,
   "metadata": {
    "application/vnd.databricks.v1+cell": {
     "cellMetadata": {
      "byteLimit": 2048000,
      "rowLimit": 10000
     },
     "inputWidgets": {},
     "nuid": "93b57b6d-5d9a-498b-8b48-c40e9ec053b7",
     "showTitle": false,
     "tableResultSettingsMap": {},
     "title": ""
    }
   },
   "outputs": [],
   "source": [
    "# Reorder the columns\n",
    "df_geo = df_geo.select(\"ind\", \"country\", \"coordinates\", \"timestamp\")\n"
   ]
  },
  {
   "cell_type": "code",
   "execution_count": 0,
   "metadata": {
    "application/vnd.databricks.v1+cell": {
     "cellMetadata": {
      "byteLimit": 2048000,
      "rowLimit": 10000
     },
     "inputWidgets": {},
     "nuid": "b54f7dc1-5ed9-4d61-b745-acc1a6a868f9",
     "showTitle": false,
     "tableResultSettingsMap": {},
     "title": ""
    }
   },
   "outputs": [
    {
     "output_type": "display_data",
     "data": {
      "text/html": [
       "<style scoped>\n",
       "  .table-result-container {\n",
       "    max-height: 300px;\n",
       "    overflow: auto;\n",
       "  }\n",
       "  table, th, td {\n",
       "    border: 1px solid black;\n",
       "    border-collapse: collapse;\n",
       "  }\n",
       "  th, td {\n",
       "    padding: 5px;\n",
       "  }\n",
       "  th {\n",
       "    text-align: left;\n",
       "  }\n",
       "</style><div class='table-result-container'><table class='table-result'><thead style='background-color: white'><tr><th>ind</th><th>country</th><th>coordinates</th><th>timestamp</th></tr></thead><tbody><tr><td>10048</td><td>British Indian Ocean Territory (Chagos Archipelago)</td><td>List(-42.0773, -163.698)</td><td>2022-08-18T06:19:36Z</td></tr><tr><td>10802</td><td>British Indian Ocean Territory (Chagos Archipelago)</td><td>List(-84.3021, -115.646)</td><td>2021-11-28T05:16:33Z</td></tr><tr><td>2311</td><td>British Indian Ocean Territory (Chagos Archipelago)</td><td>List(-84.2896, -98.8517)</td><td>2021-12-12T12:37:22Z</td></tr><tr><td>3871</td><td>British Indian Ocean Territory (Chagos Archipelago)</td><td>List(-85.4776, -130.258)</td><td>2021-02-09T06:15:33Z</td></tr><tr><td>3889</td><td>British Indian Ocean Territory (Chagos Archipelago)</td><td>List(-85.4776, -130.258)</td><td>2019-09-12T00:19:17Z</td></tr><tr><td>4059</td><td>British Indian Ocean Territory (Chagos Archipelago)</td><td>List(-85.4776, -130.258)</td><td>2022-05-09T08:09:29Z</td></tr><tr><td>4103</td><td>British Indian Ocean Territory (Chagos Archipelago)</td><td>List(-85.4776, -130.258)</td><td>2022-06-16T15:41:10Z</td></tr><tr><td>6237</td><td>British Indian Ocean Territory (Chagos Archipelago)</td><td>List(-84.2896, -98.8517)</td><td>2018-11-18T10:16:22Z</td></tr><tr><td>6731</td><td>British Indian Ocean Territory (Chagos Archipelago)</td><td>List(-86.5675, -149.565)</td><td>2021-06-08T19:10:49Z</td></tr><tr><td>6775</td><td>British Indian Ocean Territory (Chagos Archipelago)</td><td>List(-86.5675, -149.565)</td><td>2018-09-04T11:15:05Z</td></tr></tbody></table></div>"
      ]
     },
     "metadata": {
      "application/vnd.databricks.v1+output": {
       "addedWidgets": {},
       "aggData": [],
       "aggError": "",
       "aggOverflow": false,
       "aggSchema": [],
       "aggSeriesLimitReached": false,
       "aggType": "",
       "arguments": {},
       "columnCustomDisplayInfos": {},
       "data": [
        [
         10048,
         "British Indian Ocean Territory (Chagos Archipelago)",
         [
          -42.0773,
          -163.698
         ],
         "2022-08-18T06:19:36Z"
        ],
        [
         10802,
         "British Indian Ocean Territory (Chagos Archipelago)",
         [
          -84.3021,
          -115.646
         ],
         "2021-11-28T05:16:33Z"
        ],
        [
         2311,
         "British Indian Ocean Territory (Chagos Archipelago)",
         [
          -84.2896,
          -98.8517
         ],
         "2021-12-12T12:37:22Z"
        ],
        [
         3871,
         "British Indian Ocean Territory (Chagos Archipelago)",
         [
          -85.4776,
          -130.258
         ],
         "2021-02-09T06:15:33Z"
        ],
        [
         3889,
         "British Indian Ocean Territory (Chagos Archipelago)",
         [
          -85.4776,
          -130.258
         ],
         "2019-09-12T00:19:17Z"
        ],
        [
         4059,
         "British Indian Ocean Territory (Chagos Archipelago)",
         [
          -85.4776,
          -130.258
         ],
         "2022-05-09T08:09:29Z"
        ],
        [
         4103,
         "British Indian Ocean Territory (Chagos Archipelago)",
         [
          -85.4776,
          -130.258
         ],
         "2022-06-16T15:41:10Z"
        ],
        [
         6237,
         "British Indian Ocean Territory (Chagos Archipelago)",
         [
          -84.2896,
          -98.8517
         ],
         "2018-11-18T10:16:22Z"
        ],
        [
         6731,
         "British Indian Ocean Territory (Chagos Archipelago)",
         [
          -86.5675,
          -149.565
         ],
         "2021-06-08T19:10:49Z"
        ],
        [
         6775,
         "British Indian Ocean Territory (Chagos Archipelago)",
         [
          -86.5675,
          -149.565
         ],
         "2018-09-04T11:15:05Z"
        ]
       ],
       "datasetInfos": [],
       "dbfsResultPath": null,
       "isJsonSchema": true,
       "metadata": {},
       "overflow": false,
       "plotOptions": {
        "customPlotOptions": {},
        "displayType": "table",
        "pivotAggregation": null,
        "pivotColumns": null,
        "xColumns": null,
        "yColumns": null
       },
       "removedWidgets": [],
       "schema": [
        {
         "metadata": "{}",
         "name": "ind",
         "type": "\"long\""
        },
        {
         "metadata": "{}",
         "name": "country",
         "type": "\"string\""
        },
        {
         "metadata": "{}",
         "name": "coordinates",
         "type": "{\"type\":\"array\",\"elementType\":\"double\",\"containsNull\":true}"
        },
        {
         "metadata": "{}",
         "name": "timestamp",
         "type": "\"timestamp\""
        }
       ],
       "type": "table"
      }
     },
     "output_type": "display_data"
    }
   ],
   "source": [
    "display(df_geo.limit(10))"
   ]
  },
  {
   "cell_type": "markdown",
   "metadata": {
    "application/vnd.databricks.v1+cell": {
     "cellMetadata": {
      "byteLimit": 2048000,
      "rowLimit": 10000
     },
     "inputWidgets": {},
     "nuid": "9bc63702-b07b-46ec-b53b-b5f87e2e5452",
     "showTitle": false,
     "tableResultSettingsMap": {},
     "title": ""
    }
   },
   "source": [
    ".user data"
   ]
  },
  {
   "cell_type": "code",
   "execution_count": 0,
   "metadata": {
    "application/vnd.databricks.v1+cell": {
     "cellMetadata": {
      "byteLimit": 2048000,
      "rowLimit": 10000
     },
     "inputWidgets": {},
     "nuid": "5a908296-5139-473d-a018-72eae5bf2f71",
     "showTitle": false,
     "tableResultSettingsMap": {},
     "title": ""
    }
   },
   "outputs": [],
   "source": [
    "file_location = \"s3a://user-0ebb0073c95b-bucket/topics/0ebb0073c95b.user/partition=0/*.json\" \n",
    "file_type = \"json\"\n",
    "# Ask Spark to infer the schema\n",
    "infer_schema = \"true\"\n",
    "# Read in JSONs from mounted S3 bucket\n",
    "df_user = spark.read.format(\"json\") \\\n",
    ".option(\"inferSchema\", infer_schema) \\\n",
    ".load(file_location)\n",
    "# Display Spark dataframe to check its content\n",
    "#display(df_user.limit(10)) "
   ]
  },
  {
   "cell_type": "code",
   "execution_count": 0,
   "metadata": {
    "application/vnd.databricks.v1+cell": {
     "cellMetadata": {
      "byteLimit": 2048000,
      "rowLimit": 10000
     },
     "inputWidgets": {},
     "nuid": "8dd9cc3f-320a-4348-953e-f8f5dfd6131b",
     "showTitle": false,
     "tableResultSettingsMap": {},
     "title": ""
    }
   },
   "outputs": [
    {
     "output_type": "execute_result",
     "data": {
      "text/plain": [
       "11154"
      ]
     },
     "execution_count": 49,
     "metadata": {},
     "output_type": "execute_result"
    }
   ],
   "source": [
    "#df_user = df_user_all.sample(fraction=0.01)  # Use 1% of the data, or adjust as needed\n",
    "df_user.cache()  # Cache the dataframe \n",
    "df_user.count()  # Trigger the caching"
   ]
  },
  {
   "cell_type": "code",
   "execution_count": 0,
   "metadata": {
    "application/vnd.databricks.v1+cell": {
     "cellMetadata": {
      "byteLimit": 2048000,
      "rowLimit": 10000
     },
     "inputWidgets": {},
     "nuid": "d1aa4dc3-cfcb-40bd-91da-584519fd4232",
     "showTitle": false,
     "tableResultSettingsMap": {},
     "title": ""
    }
   },
   "outputs": [],
   "source": [
    "#Create a new column user_name that concatenates the information found in the first_name and last_name columns\n",
    "df_user = df_user.withColumn(\"user_name\", concat(col(\"first_name\"), lit(\" \"), col(\"last_name\"))) "
   ]
  },
  {
   "cell_type": "code",
   "execution_count": 0,
   "metadata": {
    "application/vnd.databricks.v1+cell": {
     "cellMetadata": {
      "byteLimit": 2048000,
      "rowLimit": 10000
     },
     "inputWidgets": {},
     "nuid": "2ae055aa-4190-4776-8273-67b5a64ef2b7",
     "showTitle": false,
     "tableResultSettingsMap": {},
     "title": ""
    }
   },
   "outputs": [
    {
     "output_type": "display_data",
     "data": {
      "text/html": [
       "<style scoped>\n",
       "  .table-result-container {\n",
       "    max-height: 300px;\n",
       "    overflow: auto;\n",
       "  }\n",
       "  table, th, td {\n",
       "    border: 1px solid black;\n",
       "    border-collapse: collapse;\n",
       "  }\n",
       "  th, td {\n",
       "    padding: 5px;\n",
       "  }\n",
       "  th {\n",
       "    text-align: left;\n",
       "  }\n",
       "</style><div class='table-result-container'><table class='table-result'><thead style='background-color: white'><tr><th>age</th><th>date_joined</th><th>first_name</th><th>ind</th><th>last_name</th><th>user_name</th></tr></thead><tbody><tr><td>33</td><td>2016-08-12 07:57:25</td><td>Christopher</td><td>3860</td><td>Richardson</td><td>Christopher Richardson</td></tr><tr><td>28</td><td>2015-11-24 22:47:19</td><td>Christopher</td><td>6427</td><td>Montgomery</td><td>Christopher Montgomery</td></tr><tr><td>28</td><td>2015-11-24 22:47:19</td><td>Christopher</td><td>6486</td><td>Montgomery</td><td>Christopher Montgomery</td></tr><tr><td>58</td><td>2017-10-04 22:00:53</td><td>Christopher</td><td>1409</td><td>Gutierrez</td><td>Christopher Gutierrez</td></tr><tr><td>38</td><td>2015-11-12 11:07:24</td><td>Christopher</td><td>2778</td><td>Hernandez</td><td>Christopher Hernandez</td></tr><tr><td>38</td><td>2015-11-12 11:07:24</td><td>Christopher</td><td>2814</td><td>Hernandez</td><td>Christopher Hernandez</td></tr><tr><td>38</td><td>2015-11-12 11:07:24</td><td>Christopher</td><td>3151</td><td>Hernandez</td><td>Christopher Hernandez</td></tr><tr><td>25</td><td>2016-11-24 18:36:05</td><td>Christopher</td><td>3587</td><td>Rodriguez</td><td>Christopher Rodriguez</td></tr><tr><td>42</td><td>2017-02-18 00:31:22</td><td>Christopher</td><td>6353</td><td>Hernandez</td><td>Christopher Hernandez</td></tr><tr><td>37</td><td>2016-04-26 03:54:30</td><td>Elizabeth</td><td>6847</td><td>Fitzpatrick</td><td>Elizabeth Fitzpatrick</td></tr></tbody></table></div>"
      ]
     },
     "metadata": {
      "application/vnd.databricks.v1+output": {
       "addedWidgets": {},
       "aggData": [],
       "aggError": "",
       "aggOverflow": false,
       "aggSchema": [],
       "aggSeriesLimitReached": false,
       "aggType": "",
       "arguments": {},
       "columnCustomDisplayInfos": {},
       "data": [
        [
         33,
         "2016-08-12 07:57:25",
         "Christopher",
         3860,
         "Richardson",
         "Christopher Richardson"
        ],
        [
         28,
         "2015-11-24 22:47:19",
         "Christopher",
         6427,
         "Montgomery",
         "Christopher Montgomery"
        ],
        [
         28,
         "2015-11-24 22:47:19",
         "Christopher",
         6486,
         "Montgomery",
         "Christopher Montgomery"
        ],
        [
         58,
         "2017-10-04 22:00:53",
         "Christopher",
         1409,
         "Gutierrez",
         "Christopher Gutierrez"
        ],
        [
         38,
         "2015-11-12 11:07:24",
         "Christopher",
         2778,
         "Hernandez",
         "Christopher Hernandez"
        ],
        [
         38,
         "2015-11-12 11:07:24",
         "Christopher",
         2814,
         "Hernandez",
         "Christopher Hernandez"
        ],
        [
         38,
         "2015-11-12 11:07:24",
         "Christopher",
         3151,
         "Hernandez",
         "Christopher Hernandez"
        ],
        [
         25,
         "2016-11-24 18:36:05",
         "Christopher",
         3587,
         "Rodriguez",
         "Christopher Rodriguez"
        ],
        [
         42,
         "2017-02-18 00:31:22",
         "Christopher",
         6353,
         "Hernandez",
         "Christopher Hernandez"
        ],
        [
         37,
         "2016-04-26 03:54:30",
         "Elizabeth",
         6847,
         "Fitzpatrick",
         "Elizabeth Fitzpatrick"
        ]
       ],
       "datasetInfos": [],
       "dbfsResultPath": null,
       "isJsonSchema": true,
       "metadata": {},
       "overflow": false,
       "plotOptions": {
        "customPlotOptions": {},
        "displayType": "table",
        "pivotAggregation": null,
        "pivotColumns": null,
        "xColumns": null,
        "yColumns": null
       },
       "removedWidgets": [],
       "schema": [
        {
         "metadata": "{}",
         "name": "age",
         "type": "\"long\""
        },
        {
         "metadata": "{}",
         "name": "date_joined",
         "type": "\"string\""
        },
        {
         "metadata": "{}",
         "name": "first_name",
         "type": "\"string\""
        },
        {
         "metadata": "{}",
         "name": "ind",
         "type": "\"long\""
        },
        {
         "metadata": "{}",
         "name": "last_name",
         "type": "\"string\""
        },
        {
         "metadata": "{}",
         "name": "user_name",
         "type": "\"string\""
        }
       ],
       "type": "table"
      }
     },
     "output_type": "display_data"
    }
   ],
   "source": [
    "display(df_user.limit(10))"
   ]
  },
  {
   "cell_type": "code",
   "execution_count": 0,
   "metadata": {
    "application/vnd.databricks.v1+cell": {
     "cellMetadata": {
      "byteLimit": 2048000,
      "rowLimit": 10000
     },
     "inputWidgets": {},
     "nuid": "c3c65d22-6d6f-46d1-8876-606e2a2bc3ca",
     "showTitle": false,
     "tableResultSettingsMap": {},
     "title": ""
    }
   },
   "outputs": [],
   "source": [
    "# Drop first and last name columns as we don't need them \n",
    "df_user = df_user.drop(\"first_name\", \"last_name\")"
   ]
  },
  {
   "cell_type": "code",
   "execution_count": 0,
   "metadata": {
    "application/vnd.databricks.v1+cell": {
     "cellMetadata": {
      "byteLimit": 2048000,
      "rowLimit": 10000
     },
     "inputWidgets": {},
     "nuid": "273a4cc8-4d7c-4f80-b24f-561fca69f2a7",
     "showTitle": false,
     "tableResultSettingsMap": {},
     "title": ""
    }
   },
   "outputs": [
    {
     "output_type": "display_data",
     "data": {
      "text/html": [
       "<style scoped>\n",
       "  .table-result-container {\n",
       "    max-height: 300px;\n",
       "    overflow: auto;\n",
       "  }\n",
       "  table, th, td {\n",
       "    border: 1px solid black;\n",
       "    border-collapse: collapse;\n",
       "  }\n",
       "  th, td {\n",
       "    padding: 5px;\n",
       "  }\n",
       "  th {\n",
       "    text-align: left;\n",
       "  }\n",
       "</style><div class='table-result-container'><table class='table-result'><thead style='background-color: white'><tr><th>age</th><th>date_joined</th><th>ind</th><th>user_name</th></tr></thead><tbody><tr><td>33</td><td>2016-08-12 07:57:25</td><td>3860</td><td>Christopher Richardson</td></tr><tr><td>28</td><td>2015-11-24 22:47:19</td><td>6427</td><td>Christopher Montgomery</td></tr><tr><td>28</td><td>2015-11-24 22:47:19</td><td>6486</td><td>Christopher Montgomery</td></tr><tr><td>58</td><td>2017-10-04 22:00:53</td><td>1409</td><td>Christopher Gutierrez</td></tr><tr><td>38</td><td>2015-11-12 11:07:24</td><td>2778</td><td>Christopher Hernandez</td></tr><tr><td>38</td><td>2015-11-12 11:07:24</td><td>2814</td><td>Christopher Hernandez</td></tr><tr><td>38</td><td>2015-11-12 11:07:24</td><td>3151</td><td>Christopher Hernandez</td></tr><tr><td>25</td><td>2016-11-24 18:36:05</td><td>3587</td><td>Christopher Rodriguez</td></tr><tr><td>42</td><td>2017-02-18 00:31:22</td><td>6353</td><td>Christopher Hernandez</td></tr><tr><td>37</td><td>2016-04-26 03:54:30</td><td>6847</td><td>Elizabeth Fitzpatrick</td></tr></tbody></table></div>"
      ]
     },
     "metadata": {
      "application/vnd.databricks.v1+output": {
       "addedWidgets": {},
       "aggData": [],
       "aggError": "",
       "aggOverflow": false,
       "aggSchema": [],
       "aggSeriesLimitReached": false,
       "aggType": "",
       "arguments": {},
       "columnCustomDisplayInfos": {},
       "data": [
        [
         33,
         "2016-08-12 07:57:25",
         3860,
         "Christopher Richardson"
        ],
        [
         28,
         "2015-11-24 22:47:19",
         6427,
         "Christopher Montgomery"
        ],
        [
         28,
         "2015-11-24 22:47:19",
         6486,
         "Christopher Montgomery"
        ],
        [
         58,
         "2017-10-04 22:00:53",
         1409,
         "Christopher Gutierrez"
        ],
        [
         38,
         "2015-11-12 11:07:24",
         2778,
         "Christopher Hernandez"
        ],
        [
         38,
         "2015-11-12 11:07:24",
         2814,
         "Christopher Hernandez"
        ],
        [
         38,
         "2015-11-12 11:07:24",
         3151,
         "Christopher Hernandez"
        ],
        [
         25,
         "2016-11-24 18:36:05",
         3587,
         "Christopher Rodriguez"
        ],
        [
         42,
         "2017-02-18 00:31:22",
         6353,
         "Christopher Hernandez"
        ],
        [
         37,
         "2016-04-26 03:54:30",
         6847,
         "Elizabeth Fitzpatrick"
        ]
       ],
       "datasetInfos": [],
       "dbfsResultPath": null,
       "isJsonSchema": true,
       "metadata": {},
       "overflow": false,
       "plotOptions": {
        "customPlotOptions": {},
        "displayType": "table",
        "pivotAggregation": null,
        "pivotColumns": null,
        "xColumns": null,
        "yColumns": null
       },
       "removedWidgets": [],
       "schema": [
        {
         "metadata": "{}",
         "name": "age",
         "type": "\"long\""
        },
        {
         "metadata": "{}",
         "name": "date_joined",
         "type": "\"string\""
        },
        {
         "metadata": "{}",
         "name": "ind",
         "type": "\"long\""
        },
        {
         "metadata": "{}",
         "name": "user_name",
         "type": "\"string\""
        }
       ],
       "type": "table"
      }
     },
     "output_type": "display_data"
    }
   ],
   "source": [
    "display(df_user.limit(10))"
   ]
  },
  {
   "cell_type": "code",
   "execution_count": 0,
   "metadata": {
    "application/vnd.databricks.v1+cell": {
     "cellMetadata": {
      "byteLimit": 2048000,
      "rowLimit": 10000
     },
     "inputWidgets": {},
     "nuid": "88b5a821-3eca-4bb5-a3a9-606026caaa4c",
     "showTitle": false,
     "tableResultSettingsMap": {},
     "title": ""
    }
   },
   "outputs": [],
   "source": [
    "# Change column 'date_joined' column to timestamp data format \n",
    "df_user = df_user.withColumn(\"date_joined\", col(\"date_joined\").cast(\"timestamp\"))"
   ]
  },
  {
   "cell_type": "code",
   "execution_count": 0,
   "metadata": {
    "application/vnd.databricks.v1+cell": {
     "cellMetadata": {
      "byteLimit": 2048000,
      "rowLimit": 10000
     },
     "inputWidgets": {},
     "nuid": "b28a3825-0f02-4982-a268-5e88ded85748",
     "showTitle": false,
     "tableResultSettingsMap": {},
     "title": ""
    }
   },
   "outputs": [
    {
     "output_type": "display_data",
     "data": {
      "text/html": [
       "<style scoped>\n",
       "  .table-result-container {\n",
       "    max-height: 300px;\n",
       "    overflow: auto;\n",
       "  }\n",
       "  table, th, td {\n",
       "    border: 1px solid black;\n",
       "    border-collapse: collapse;\n",
       "  }\n",
       "  th, td {\n",
       "    padding: 5px;\n",
       "  }\n",
       "  th {\n",
       "    text-align: left;\n",
       "  }\n",
       "</style><div class='table-result-container'><table class='table-result'><thead style='background-color: white'><tr><th>age</th><th>date_joined</th><th>ind</th><th>user_name</th></tr></thead><tbody><tr><td>33</td><td>2016-08-12T07:57:25Z</td><td>3860</td><td>Christopher Richardson</td></tr><tr><td>28</td><td>2015-11-24T22:47:19Z</td><td>6427</td><td>Christopher Montgomery</td></tr><tr><td>28</td><td>2015-11-24T22:47:19Z</td><td>6486</td><td>Christopher Montgomery</td></tr><tr><td>58</td><td>2017-10-04T22:00:53Z</td><td>1409</td><td>Christopher Gutierrez</td></tr><tr><td>38</td><td>2015-11-12T11:07:24Z</td><td>2778</td><td>Christopher Hernandez</td></tr><tr><td>38</td><td>2015-11-12T11:07:24Z</td><td>2814</td><td>Christopher Hernandez</td></tr><tr><td>38</td><td>2015-11-12T11:07:24Z</td><td>3151</td><td>Christopher Hernandez</td></tr><tr><td>25</td><td>2016-11-24T18:36:05Z</td><td>3587</td><td>Christopher Rodriguez</td></tr><tr><td>42</td><td>2017-02-18T00:31:22Z</td><td>6353</td><td>Christopher Hernandez</td></tr><tr><td>37</td><td>2016-04-26T03:54:30Z</td><td>6847</td><td>Elizabeth Fitzpatrick</td></tr></tbody></table></div>"
      ]
     },
     "metadata": {
      "application/vnd.databricks.v1+output": {
       "addedWidgets": {},
       "aggData": [],
       "aggError": "",
       "aggOverflow": false,
       "aggSchema": [],
       "aggSeriesLimitReached": false,
       "aggType": "",
       "arguments": {},
       "columnCustomDisplayInfos": {},
       "data": [
        [
         33,
         "2016-08-12T07:57:25Z",
         3860,
         "Christopher Richardson"
        ],
        [
         28,
         "2015-11-24T22:47:19Z",
         6427,
         "Christopher Montgomery"
        ],
        [
         28,
         "2015-11-24T22:47:19Z",
         6486,
         "Christopher Montgomery"
        ],
        [
         58,
         "2017-10-04T22:00:53Z",
         1409,
         "Christopher Gutierrez"
        ],
        [
         38,
         "2015-11-12T11:07:24Z",
         2778,
         "Christopher Hernandez"
        ],
        [
         38,
         "2015-11-12T11:07:24Z",
         2814,
         "Christopher Hernandez"
        ],
        [
         38,
         "2015-11-12T11:07:24Z",
         3151,
         "Christopher Hernandez"
        ],
        [
         25,
         "2016-11-24T18:36:05Z",
         3587,
         "Christopher Rodriguez"
        ],
        [
         42,
         "2017-02-18T00:31:22Z",
         6353,
         "Christopher Hernandez"
        ],
        [
         37,
         "2016-04-26T03:54:30Z",
         6847,
         "Elizabeth Fitzpatrick"
        ]
       ],
       "datasetInfos": [],
       "dbfsResultPath": null,
       "isJsonSchema": true,
       "metadata": {},
       "overflow": false,
       "plotOptions": {
        "customPlotOptions": {},
        "displayType": "table",
        "pivotAggregation": null,
        "pivotColumns": null,
        "xColumns": null,
        "yColumns": null
       },
       "removedWidgets": [],
       "schema": [
        {
         "metadata": "{}",
         "name": "age",
         "type": "\"long\""
        },
        {
         "metadata": "{}",
         "name": "date_joined",
         "type": "\"timestamp\""
        },
        {
         "metadata": "{}",
         "name": "ind",
         "type": "\"long\""
        },
        {
         "metadata": "{}",
         "name": "user_name",
         "type": "\"string\""
        }
       ],
       "type": "table"
      }
     },
     "output_type": "display_data"
    }
   ],
   "source": [
    "display(df_user.limit(10))"
   ]
  },
  {
   "cell_type": "code",
   "execution_count": 0,
   "metadata": {
    "application/vnd.databricks.v1+cell": {
     "cellMetadata": {
      "byteLimit": 2048000,
      "rowLimit": 10000
     },
     "inputWidgets": {},
     "nuid": "4877fbc8-d75c-4133-a37b-be4cd19303b0",
     "showTitle": false,
     "tableResultSettingsMap": {},
     "title": ""
    }
   },
   "outputs": [],
   "source": [
    "# Rearrange the order of the columns \n",
    "df_user = df_user.select(\"ind\", \"user_name\", \"age\", \"date_joined\")"
   ]
  },
  {
   "cell_type": "code",
   "execution_count": 0,
   "metadata": {
    "application/vnd.databricks.v1+cell": {
     "cellMetadata": {
      "byteLimit": 2048000,
      "rowLimit": 10000
     },
     "inputWidgets": {},
     "nuid": "c071f36f-fd49-401e-867a-480182f7e106",
     "showTitle": false,
     "tableResultSettingsMap": {},
     "title": ""
    }
   },
   "outputs": [
    {
     "output_type": "display_data",
     "data": {
      "text/html": [
       "<style scoped>\n",
       "  .table-result-container {\n",
       "    max-height: 300px;\n",
       "    overflow: auto;\n",
       "  }\n",
       "  table, th, td {\n",
       "    border: 1px solid black;\n",
       "    border-collapse: collapse;\n",
       "  }\n",
       "  th, td {\n",
       "    padding: 5px;\n",
       "  }\n",
       "  th {\n",
       "    text-align: left;\n",
       "  }\n",
       "</style><div class='table-result-container'><table class='table-result'><thead style='background-color: white'><tr><th>ind</th><th>user_name</th><th>age</th><th>date_joined</th></tr></thead><tbody><tr><td>3860</td><td>Christopher Richardson</td><td>33</td><td>2016-08-12T07:57:25Z</td></tr><tr><td>6427</td><td>Christopher Montgomery</td><td>28</td><td>2015-11-24T22:47:19Z</td></tr><tr><td>6486</td><td>Christopher Montgomery</td><td>28</td><td>2015-11-24T22:47:19Z</td></tr><tr><td>1409</td><td>Christopher Gutierrez</td><td>58</td><td>2017-10-04T22:00:53Z</td></tr><tr><td>2778</td><td>Christopher Hernandez</td><td>38</td><td>2015-11-12T11:07:24Z</td></tr><tr><td>2814</td><td>Christopher Hernandez</td><td>38</td><td>2015-11-12T11:07:24Z</td></tr><tr><td>3151</td><td>Christopher Hernandez</td><td>38</td><td>2015-11-12T11:07:24Z</td></tr><tr><td>3587</td><td>Christopher Rodriguez</td><td>25</td><td>2016-11-24T18:36:05Z</td></tr><tr><td>6353</td><td>Christopher Hernandez</td><td>42</td><td>2017-02-18T00:31:22Z</td></tr><tr><td>6847</td><td>Elizabeth Fitzpatrick</td><td>37</td><td>2016-04-26T03:54:30Z</td></tr></tbody></table></div>"
      ]
     },
     "metadata": {
      "application/vnd.databricks.v1+output": {
       "addedWidgets": {},
       "aggData": [],
       "aggError": "",
       "aggOverflow": false,
       "aggSchema": [],
       "aggSeriesLimitReached": false,
       "aggType": "",
       "arguments": {},
       "columnCustomDisplayInfos": {},
       "data": [
        [
         3860,
         "Christopher Richardson",
         33,
         "2016-08-12T07:57:25Z"
        ],
        [
         6427,
         "Christopher Montgomery",
         28,
         "2015-11-24T22:47:19Z"
        ],
        [
         6486,
         "Christopher Montgomery",
         28,
         "2015-11-24T22:47:19Z"
        ],
        [
         1409,
         "Christopher Gutierrez",
         58,
         "2017-10-04T22:00:53Z"
        ],
        [
         2778,
         "Christopher Hernandez",
         38,
         "2015-11-12T11:07:24Z"
        ],
        [
         2814,
         "Christopher Hernandez",
         38,
         "2015-11-12T11:07:24Z"
        ],
        [
         3151,
         "Christopher Hernandez",
         38,
         "2015-11-12T11:07:24Z"
        ],
        [
         3587,
         "Christopher Rodriguez",
         25,
         "2016-11-24T18:36:05Z"
        ],
        [
         6353,
         "Christopher Hernandez",
         42,
         "2017-02-18T00:31:22Z"
        ],
        [
         6847,
         "Elizabeth Fitzpatrick",
         37,
         "2016-04-26T03:54:30Z"
        ]
       ],
       "datasetInfos": [],
       "dbfsResultPath": null,
       "isJsonSchema": true,
       "metadata": {},
       "overflow": false,
       "plotOptions": {
        "customPlotOptions": {},
        "displayType": "table",
        "pivotAggregation": null,
        "pivotColumns": null,
        "xColumns": null,
        "yColumns": null
       },
       "removedWidgets": [],
       "schema": [
        {
         "metadata": "{}",
         "name": "ind",
         "type": "\"long\""
        },
        {
         "metadata": "{}",
         "name": "user_name",
         "type": "\"string\""
        },
        {
         "metadata": "{}",
         "name": "age",
         "type": "\"long\""
        },
        {
         "metadata": "{}",
         "name": "date_joined",
         "type": "\"timestamp\""
        }
       ],
       "type": "table"
      }
     },
     "output_type": "display_data"
    }
   ],
   "source": [
    "display(df_user.limit(10))"
   ]
  },
  {
   "cell_type": "markdown",
   "metadata": {
    "application/vnd.databricks.v1+cell": {
     "cellMetadata": {
      "byteLimit": 2048000,
      "rowLimit": 10000
     },
     "inputWidgets": {},
     "nuid": "8bd88e5c-8c4f-4c3d-b113-235045a0d5a9",
     "showTitle": false,
     "tableResultSettingsMap": {},
     "title": ""
    }
   },
   "source": [
    "Combining the dataframes together to run the queries"
   ]
  },
  {
   "cell_type": "code",
   "execution_count": 0,
   "metadata": {
    "application/vnd.databricks.v1+cell": {
     "cellMetadata": {
      "byteLimit": 2048000,
      "rowLimit": 10000
     },
     "inputWidgets": {},
     "nuid": "8813c00f-ad5e-430a-840f-972c25a69c52",
     "showTitle": false,
     "tableResultSettingsMap": {},
     "title": ""
    }
   },
   "outputs": [],
   "source": [
    "#join the df together into a new dataframe to run the queries \n",
    "df_all = df_pin.join(df_geo, df_pin[\"ind\"] == df_geo[\"ind\"], \"inner\") \\\n",
    "                .join(df_user, df_pin[\"ind\"] == df_user[\"ind\"], \"inner\")"
   ]
  },
  {
   "cell_type": "code",
   "execution_count": 0,
   "metadata": {
    "application/vnd.databricks.v1+cell": {
     "cellMetadata": {
      "byteLimit": 2048000,
      "rowLimit": 10000
     },
     "inputWidgets": {},
     "nuid": "3b08558c-7653-478b-a624-618d4e285331",
     "showTitle": false,
     "tableResultSettingsMap": {},
     "title": ""
    }
   },
   "outputs": [
    {
     "output_type": "execute_result",
     "data": {
      "text/plain": [
       "11154"
      ]
     },
     "execution_count": 59,
     "metadata": {},
     "output_type": "execute_result"
    }
   ],
   "source": [
    "df_all.cache() # Cache the dataframe \n",
    "df_all.count()  # Trigger caching\n"
   ]
  },
  {
   "cell_type": "code",
   "execution_count": 0,
   "metadata": {
    "application/vnd.databricks.v1+cell": {
     "cellMetadata": {
      "byteLimit": 2048000,
      "rowLimit": 10000
     },
     "inputWidgets": {},
     "nuid": "e157777a-77d7-440d-8318-d53677b297eb",
     "showTitle": false,
     "tableResultSettingsMap": {},
     "title": ""
    }
   },
   "outputs": [
    {
     "output_type": "display_data",
     "data": {
      "text/html": [
       "<style scoped>\n",
       "  .table-result-container {\n",
       "    max-height: 300px;\n",
       "    overflow: auto;\n",
       "  }\n",
       "  table, th, td {\n",
       "    border: 1px solid black;\n",
       "    border-collapse: collapse;\n",
       "  }\n",
       "  th, td {\n",
       "    padding: 5px;\n",
       "  }\n",
       "  th {\n",
       "    text-align: left;\n",
       "  }\n",
       "</style><div class='table-result-container'><table class='table-result'><thead style='background-color: white'><tr><th>_1</th><th>_2</th></tr></thead><tbody><tr><td>ind</td><td>bigint</td></tr><tr><td>unique_id</td><td>string</td></tr><tr><td>title</td><td>string</td></tr><tr><td>description</td><td>string</td></tr><tr><td>follower_count</td><td>int</td></tr><tr><td>poster_name</td><td>string</td></tr><tr><td>tag_list</td><td>string</td></tr><tr><td>is_image_or_video</td><td>string</td></tr><tr><td>image_src</td><td>string</td></tr><tr><td>save_location</td><td>string</td></tr><tr><td>category</td><td>string</td></tr><tr><td>ind</td><td>bigint</td></tr><tr><td>country</td><td>string</td></tr><tr><td>coordinates</td><td>array<double></td></tr><tr><td>timestamp</td><td>timestamp</td></tr><tr><td>ind</td><td>bigint</td></tr><tr><td>user_name</td><td>string</td></tr><tr><td>age</td><td>bigint</td></tr><tr><td>date_joined</td><td>timestamp</td></tr></tbody></table></div>"
      ]
     },
     "metadata": {
      "application/vnd.databricks.v1+output": {
       "addedWidgets": {},
       "aggData": [],
       "aggError": "",
       "aggOverflow": false,
       "aggSchema": [],
       "aggSeriesLimitReached": false,
       "aggType": "",
       "arguments": {},
       "columnCustomDisplayInfos": {},
       "data": [
        [
         "ind",
         "bigint"
        ],
        [
         "unique_id",
         "string"
        ],
        [
         "title",
         "string"
        ],
        [
         "description",
         "string"
        ],
        [
         "follower_count",
         "int"
        ],
        [
         "poster_name",
         "string"
        ],
        [
         "tag_list",
         "string"
        ],
        [
         "is_image_or_video",
         "string"
        ],
        [
         "image_src",
         "string"
        ],
        [
         "save_location",
         "string"
        ],
        [
         "category",
         "string"
        ],
        [
         "ind",
         "bigint"
        ],
        [
         "country",
         "string"
        ],
        [
         "coordinates",
         "array<double>"
        ],
        [
         "timestamp",
         "timestamp"
        ],
        [
         "ind",
         "bigint"
        ],
        [
         "user_name",
         "string"
        ],
        [
         "age",
         "bigint"
        ],
        [
         "date_joined",
         "timestamp"
        ]
       ],
       "datasetInfos": [],
       "dbfsResultPath": null,
       "isJsonSchema": true,
       "metadata": {},
       "overflow": false,
       "plotOptions": {
        "customPlotOptions": {},
        "displayType": "table",
        "pivotAggregation": null,
        "pivotColumns": null,
        "xColumns": null,
        "yColumns": null
       },
       "removedWidgets": [],
       "schema": [
        {
         "metadata": "{}",
         "name": "_1",
         "type": "\"string\""
        },
        {
         "metadata": "{}",
         "name": "_2",
         "type": "\"string\""
        }
       ],
       "type": "table"
      }
     },
     "output_type": "display_data"
    }
   ],
   "source": [
    "display(df_all.dtypes)"
   ]
  },
  {
   "cell_type": "markdown",
   "metadata": {
    "application/vnd.databricks.v1+cell": {
     "cellMetadata": {
      "byteLimit": 2048000,
      "rowLimit": 10000
     },
     "inputWidgets": {},
     "nuid": "7905537c-c350-4f68-9c97-ad8dc105a939",
     "showTitle": false,
     "tableResultSettingsMap": {},
     "title": ""
    }
   },
   "source": [
    "Task 4: Find the most popular Pinterest category people post to based on their country.\n"
   ]
  },
  {
   "cell_type": "code",
   "execution_count": 0,
   "metadata": {
    "application/vnd.databricks.v1+cell": {
     "cellMetadata": {
      "byteLimit": 2048000,
      "rowLimit": 10000
     },
     "inputWidgets": {},
     "nuid": "4e35afda-2a18-4091-bc41-561ff65b0f84",
     "showTitle": false,
     "tableResultSettingsMap": {},
     "title": ""
    }
   },
   "outputs": [
    {
     "output_type": "display_data",
     "data": {
      "text/html": [
       "<style scoped>\n",
       "  .table-result-container {\n",
       "    max-height: 300px;\n",
       "    overflow: auto;\n",
       "  }\n",
       "  table, th, td {\n",
       "    border: 1px solid black;\n",
       "    border-collapse: collapse;\n",
       "  }\n",
       "  th, td {\n",
       "    padding: 5px;\n",
       "  }\n",
       "  th {\n",
       "    text-align: left;\n",
       "  }\n",
       "</style><div class='table-result-container'><table class='table-result'><thead style='background-color: white'><tr><th>country</th><th>category</th><th>category_count</th></tr></thead><tbody><tr><td>Equatorial Guinea</td><td>event-planning</td><td>1</td></tr><tr><td>Ethiopia</td><td>christmas</td><td>6</td></tr><tr><td>Madagascar</td><td>mens-fashion</td><td>7</td></tr><tr><td>Antarctica (the territory South of 60 deg S)</td><td>mens-fashion</td><td>10</td></tr><tr><td>Guam</td><td>art</td><td>1</td></tr><tr><td>Libyan Arab Jamahiriya</td><td>mens-fashion</td><td>4</td></tr><tr><td>Antigua and Barbuda</td><td>vehicles</td><td>6</td></tr><tr><td>Finland</td><td>event-planning</td><td>2</td></tr><tr><td>Aruba</td><td>christmas</td><td>56</td></tr><tr><td>Cameroon</td><td>event-planning</td><td>3</td></tr></tbody></table></div>"
      ]
     },
     "metadata": {
      "application/vnd.databricks.v1+output": {
       "addedWidgets": {},
       "aggData": [],
       "aggError": "",
       "aggOverflow": false,
       "aggSchema": [],
       "aggSeriesLimitReached": false,
       "aggType": "",
       "arguments": {},
       "columnCustomDisplayInfos": {},
       "data": [
        [
         "Equatorial Guinea",
         "event-planning",
         1
        ],
        [
         "Ethiopia",
         "christmas",
         6
        ],
        [
         "Madagascar",
         "mens-fashion",
         7
        ],
        [
         "Antarctica (the territory South of 60 deg S)",
         "mens-fashion",
         10
        ],
        [
         "Guam",
         "art",
         1
        ],
        [
         "Libyan Arab Jamahiriya",
         "mens-fashion",
         4
        ],
        [
         "Antigua and Barbuda",
         "vehicles",
         6
        ],
        [
         "Finland",
         "event-planning",
         2
        ],
        [
         "Aruba",
         "christmas",
         56
        ],
        [
         "Cameroon",
         "event-planning",
         3
        ]
       ],
       "datasetInfos": [],
       "dbfsResultPath": null,
       "isJsonSchema": true,
       "metadata": {},
       "overflow": false,
       "plotOptions": {
        "customPlotOptions": {},
        "displayType": "table",
        "pivotAggregation": null,
        "pivotColumns": null,
        "xColumns": null,
        "yColumns": null
       },
       "removedWidgets": [],
       "schema": [
        {
         "metadata": "{}",
         "name": "country",
         "type": "\"string\""
        },
        {
         "metadata": "{}",
         "name": "category",
         "type": "\"string\""
        },
        {
         "metadata": "{}",
         "name": "category_count",
         "type": "\"long\""
        }
       ],
       "type": "table"
      }
     },
     "output_type": "display_data"
    }
   ],
   "source": [
    "\n",
    "# Group by 'country' and 'category' and calculate the count for each combination\n",
    "df_category_count = df_all.groupBy(\"country\", \"category\").agg(count(\"*\").alias(\"category_count\"))\n",
    "display(df_category_count.limit(10))\n",
    "\n"
   ]
  },
  {
   "cell_type": "code",
   "execution_count": 0,
   "metadata": {
    "application/vnd.databricks.v1+cell": {
     "cellMetadata": {
      "byteLimit": 2048000,
      "rowLimit": 10000
     },
     "inputWidgets": {},
     "nuid": "3a1c1cdb-eda4-46d2-be8a-47c3b9d38381",
     "showTitle": false,
     "tableResultSettingsMap": {},
     "title": ""
    }
   },
   "outputs": [],
   "source": [
    "# Use a window function to find the most popular category per country\n",
    "window_spec = Window.partitionBy(\"country\").orderBy(desc(\"category_count\"))\n",
    "\n"
   ]
  },
  {
   "cell_type": "code",
   "execution_count": 0,
   "metadata": {
    "application/vnd.databricks.v1+cell": {
     "cellMetadata": {
      "byteLimit": 2048000,
      "rowLimit": 10000
     },
     "inputWidgets": {},
     "nuid": "022eff8b-5e71-4ff3-b199-d22c0f02aa76",
     "showTitle": false,
     "tableResultSettingsMap": {},
     "title": ""
    }
   },
   "outputs": [
    {
     "output_type": "display_data",
     "data": {
      "text/html": [
       "<style scoped>\n",
       "  .table-result-container {\n",
       "    max-height: 300px;\n",
       "    overflow: auto;\n",
       "  }\n",
       "  table, th, td {\n",
       "    border: 1px solid black;\n",
       "    border-collapse: collapse;\n",
       "  }\n",
       "  th, td {\n",
       "    padding: 5px;\n",
       "  }\n",
       "  th {\n",
       "    text-align: left;\n",
       "  }\n",
       "</style><div class='table-result-container'><table class='table-result'><thead style='background-color: white'><tr><th>country</th><th>category</th><th>category_count</th><th>rank</th></tr></thead><tbody><tr><td>Afghanistan</td><td>education</td><td>94</td><td>1</td></tr><tr><td>Afghanistan</td><td>finance</td><td>75</td><td>2</td></tr><tr><td>Afghanistan</td><td>diy-and-crafts</td><td>53</td><td>3</td></tr><tr><td>Afghanistan</td><td>quotes</td><td>53</td><td>3</td></tr><tr><td>Afghanistan</td><td>mens-fashion</td><td>36</td><td>5</td></tr><tr><td>Afghanistan</td><td>vehicles</td><td>32</td><td>6</td></tr><tr><td>Afghanistan</td><td>home-decor</td><td>27</td><td>7</td></tr><tr><td>Afghanistan</td><td>event-planning</td><td>15</td><td>8</td></tr><tr><td>Afghanistan</td><td>beauty</td><td>11</td><td>9</td></tr><tr><td>Afghanistan</td><td>christmas</td><td>10</td><td>10</td></tr></tbody></table></div>"
      ]
     },
     "metadata": {
      "application/vnd.databricks.v1+output": {
       "addedWidgets": {},
       "aggData": [],
       "aggError": "",
       "aggOverflow": false,
       "aggSchema": [],
       "aggSeriesLimitReached": false,
       "aggType": "",
       "arguments": {},
       "columnCustomDisplayInfos": {},
       "data": [
        [
         "Afghanistan",
         "education",
         94,
         1
        ],
        [
         "Afghanistan",
         "finance",
         75,
         2
        ],
        [
         "Afghanistan",
         "diy-and-crafts",
         53,
         3
        ],
        [
         "Afghanistan",
         "quotes",
         53,
         3
        ],
        [
         "Afghanistan",
         "mens-fashion",
         36,
         5
        ],
        [
         "Afghanistan",
         "vehicles",
         32,
         6
        ],
        [
         "Afghanistan",
         "home-decor",
         27,
         7
        ],
        [
         "Afghanistan",
         "event-planning",
         15,
         8
        ],
        [
         "Afghanistan",
         "beauty",
         11,
         9
        ],
        [
         "Afghanistan",
         "christmas",
         10,
         10
        ]
       ],
       "datasetInfos": [],
       "dbfsResultPath": null,
       "isJsonSchema": true,
       "metadata": {},
       "overflow": false,
       "plotOptions": {
        "customPlotOptions": {},
        "displayType": "table",
        "pivotAggregation": null,
        "pivotColumns": null,
        "xColumns": null,
        "yColumns": null
       },
       "removedWidgets": [],
       "schema": [
        {
         "metadata": "{}",
         "name": "country",
         "type": "\"string\""
        },
        {
         "metadata": "{}",
         "name": "category",
         "type": "\"string\""
        },
        {
         "metadata": "{}",
         "name": "category_count",
         "type": "\"long\""
        },
        {
         "metadata": "{}",
         "name": "rank",
         "type": "\"integer\""
        }
       ],
       "type": "table"
      }
     },
     "output_type": "display_data"
    }
   ],
   "source": [
    "# Add a rank column to determine the most popular category per country\n",
    "df_ranked = df_category_count.withColumn(\"rank\", rank().over(window_spec))\n",
    "display(df_ranked.limit(10))"
   ]
  },
  {
   "cell_type": "code",
   "execution_count": 0,
   "metadata": {
    "application/vnd.databricks.v1+cell": {
     "cellMetadata": {
      "byteLimit": 2048000,
      "rowLimit": 10000
     },
     "inputWidgets": {},
     "nuid": "72c0628e-7966-40e1-8d4a-0a95cbd44adc",
     "showTitle": false,
     "tableResultSettingsMap": {},
     "title": ""
    }
   },
   "outputs": [],
   "source": [
    "# Filter to get only the most popular category per country (rank == 1)\n",
    "df_most_popular = df_ranked.filter(col(\"rank\") == 1).select(\"country\", \"category\", \"category_count\")\n",
    "\n",
    "# Display the final result\n",
    "#display(df_most_popular.limit(10))"
   ]
  },
  {
   "cell_type": "markdown",
   "metadata": {
    "application/vnd.databricks.v1+cell": {
     "cellMetadata": {
      "byteLimit": 2048000,
      "rowLimit": 10000
     },
     "inputWidgets": {},
     "nuid": "96df591f-0977-4d45-81ce-5d94263c7627",
     "showTitle": false,
     "tableResultSettingsMap": {},
     "title": ""
    }
   },
   "source": [
    "Task 5: Find how many posts each category had between 2018 and 2022.\n"
   ]
  },
  {
   "cell_type": "code",
   "execution_count": 0,
   "metadata": {
    "application/vnd.databricks.v1+cell": {
     "cellMetadata": {
      "byteLimit": 2048000,
      "rowLimit": 10000
     },
     "inputWidgets": {},
     "nuid": "67e1f09e-d840-4865-bc0f-6589e601b8ad",
     "showTitle": false,
     "tableResultSettingsMap": {},
     "title": ""
    }
   },
   "outputs": [],
   "source": [
    "# Extract the year from the timestamp column and create a new column called 'post_year'\n",
    "df_with_years = df_all.withColumn(\"post_year\", year(col(\"timestamp\")))\n",
    "\n",
    "# Filter for posts made between 2018 and 2022\n",
    "df_filtered = df_with_years.filter((col(\"post_year\") >= 2018) & (col(\"post_year\") <= 2022))\n",
    "\n",
    "# Make a new dataframe with just post year and category - this shows all the categories posted for 2018-22\n",
    "df_yr_cat = df_filtered.select(\"post_year\", \"category\", )\n",
    "\n",
    "#display(df_yr_cat.limit(10))\n",
    "\n",
    "\n"
   ]
  },
  {
   "cell_type": "code",
   "execution_count": 0,
   "metadata": {
    "application/vnd.databricks.v1+cell": {
     "cellMetadata": {
      "byteLimit": 2048000,
      "rowLimit": 10000
     },
     "inputWidgets": {},
     "nuid": "cba82953-df36-48e1-9bf7-b0fb964f54c8",
     "showTitle": false,
     "tableResultSettingsMap": {},
     "title": ""
    }
   },
   "outputs": [],
   "source": [
    "# Make a new dataframe, grouped by post year and category, count how many categories there are per post year and put it into a new column 'category_count'\n",
    "df2_grouped = df_yr_cat.groupBy(\"post_year\", \"category\").agg(count(\"*\").alias(\"category_count\"))\n"
   ]
  },
  {
   "cell_type": "code",
   "execution_count": 0,
   "metadata": {
    "application/vnd.databricks.v1+cell": {
     "cellMetadata": {
      "byteLimit": 2048000,
      "rowLimit": 10000
     },
     "inputWidgets": {},
     "nuid": "6f0a595a-9aa2-46be-893e-346e81347d0d",
     "showTitle": false,
     "tableResultSettingsMap": {},
     "title": ""
    }
   },
   "outputs": [],
   "source": [
    "#display(df2_grouped.limit(10))"
   ]
  },
  {
   "cell_type": "code",
   "execution_count": 0,
   "metadata": {
    "application/vnd.databricks.v1+cell": {
     "cellMetadata": {
      "byteLimit": 2048000,
      "rowLimit": 10000
     },
     "inputWidgets": {},
     "nuid": "d36ef5bb-1ff8-4956-b516-8052abfc2330",
     "showTitle": false,
     "tableResultSettingsMap": {},
     "title": ""
    }
   },
   "outputs": [
    {
     "output_type": "display_data",
     "data": {
      "text/html": [
       "<style scoped>\n",
       "  .table-result-container {\n",
       "    max-height: 300px;\n",
       "    overflow: auto;\n",
       "  }\n",
       "  table, th, td {\n",
       "    border: 1px solid black;\n",
       "    border-collapse: collapse;\n",
       "  }\n",
       "  th, td {\n",
       "    padding: 5px;\n",
       "  }\n",
       "  th {\n",
       "    text-align: left;\n",
       "  }\n",
       "</style><div class='table-result-container'><table class='table-result'><thead style='background-color: white'><tr><th>post_year</th><th>category</th><th>category_count</th><th>rank</th></tr></thead><tbody><tr><td>2018</td><td>christmas</td><td>210</td><td>1</td></tr><tr><td>2018</td><td>tattoos</td><td>207</td><td>2</td></tr><tr><td>2018</td><td>travel</td><td>200</td><td>3</td></tr><tr><td>2018</td><td>home-decor</td><td>188</td><td>4</td></tr><tr><td>2018</td><td>quotes</td><td>182</td><td>5</td></tr><tr><td>2018</td><td>vehicles</td><td>178</td><td>6</td></tr><tr><td>2018</td><td>education</td><td>176</td><td>7</td></tr><tr><td>2018</td><td>art</td><td>176</td><td>7</td></tr><tr><td>2018</td><td>diy-and-crafts</td><td>168</td><td>9</td></tr><tr><td>2018</td><td>mens-fashion</td><td>167</td><td>10</td></tr></tbody></table></div>"
      ]
     },
     "metadata": {
      "application/vnd.databricks.v1+output": {
       "addedWidgets": {},
       "aggData": [],
       "aggError": "",
       "aggOverflow": false,
       "aggSchema": [],
       "aggSeriesLimitReached": false,
       "aggType": "",
       "arguments": {},
       "columnCustomDisplayInfos": {},
       "data": [
        [
         2018,
         "christmas",
         210,
         1
        ],
        [
         2018,
         "tattoos",
         207,
         2
        ],
        [
         2018,
         "travel",
         200,
         3
        ],
        [
         2018,
         "home-decor",
         188,
         4
        ],
        [
         2018,
         "quotes",
         182,
         5
        ],
        [
         2018,
         "vehicles",
         178,
         6
        ],
        [
         2018,
         "education",
         176,
         7
        ],
        [
         2018,
         "art",
         176,
         7
        ],
        [
         2018,
         "diy-and-crafts",
         168,
         9
        ],
        [
         2018,
         "mens-fashion",
         167,
         10
        ]
       ],
       "datasetInfos": [],
       "dbfsResultPath": null,
       "isJsonSchema": true,
       "metadata": {},
       "overflow": false,
       "plotOptions": {
        "customPlotOptions": {},
        "displayType": "table",
        "pivotAggregation": null,
        "pivotColumns": null,
        "xColumns": null,
        "yColumns": null
       },
       "removedWidgets": [],
       "schema": [
        {
         "metadata": "{}",
         "name": "post_year",
         "type": "\"integer\""
        },
        {
         "metadata": "{}",
         "name": "category",
         "type": "\"string\""
        },
        {
         "metadata": "{}",
         "name": "category_count",
         "type": "\"long\""
        },
        {
         "metadata": "{}",
         "name": "rank",
         "type": "\"integer\""
        }
       ],
       "type": "table"
      }
     },
     "output_type": "display_data"
    }
   ],
   "source": [
    "# Use a window function to find the most popular category per post year \n",
    "window_spec = Window.partitionBy(\"post_year\").orderBy(desc(\"category_count\"))\n",
    "\n",
    "# Make a rank column using the window function which orders the most popular categories per year\n",
    "df_4_ranked = df2_grouped.withColumn(\"rank\", rank().over(window_spec))\n",
    "\n",
    "display(df_4_ranked.limit(10))\n"
   ]
  },
  {
   "cell_type": "code",
   "execution_count": 0,
   "metadata": {
    "application/vnd.databricks.v1+cell": {
     "cellMetadata": {
      "byteLimit": 2048000,
      "rowLimit": 10000
     },
     "inputWidgets": {},
     "nuid": "9999302d-c3a3-44ae-832e-7b88707d7717",
     "showTitle": false,
     "tableResultSettingsMap": {},
     "title": ""
    }
   },
   "outputs": [
    {
     "output_type": "display_data",
     "data": {
      "text/html": [
       "<style scoped>\n",
       "  .table-result-container {\n",
       "    max-height: 300px;\n",
       "    overflow: auto;\n",
       "  }\n",
       "  table, th, td {\n",
       "    border: 1px solid black;\n",
       "    border-collapse: collapse;\n",
       "  }\n",
       "  th, td {\n",
       "    padding: 5px;\n",
       "  }\n",
       "  th {\n",
       "    text-align: left;\n",
       "  }\n",
       "</style><div class='table-result-container'><table class='table-result'><thead style='background-color: white'><tr><th>post_year</th><th>category</th><th>category_count</th></tr></thead><tbody><tr><td>2018</td><td>christmas</td><td>210</td></tr><tr><td>2019</td><td>christmas</td><td>205</td></tr><tr><td>2020</td><td>christmas</td><td>191</td></tr><tr><td>2021</td><td>education</td><td>200</td></tr><tr><td>2022</td><td>christmas</td><td>171</td></tr></tbody></table></div>"
      ]
     },
     "metadata": {
      "application/vnd.databricks.v1+output": {
       "addedWidgets": {},
       "aggData": [],
       "aggError": "",
       "aggOverflow": false,
       "aggSchema": [],
       "aggSeriesLimitReached": false,
       "aggType": "",
       "arguments": {},
       "columnCustomDisplayInfos": {},
       "data": [
        [
         2018,
         "christmas",
         210
        ],
        [
         2019,
         "christmas",
         205
        ],
        [
         2020,
         "christmas",
         191
        ],
        [
         2021,
         "education",
         200
        ],
        [
         2022,
         "christmas",
         171
        ]
       ],
       "datasetInfos": [],
       "dbfsResultPath": null,
       "isJsonSchema": true,
       "metadata": {},
       "overflow": false,
       "plotOptions": {
        "customPlotOptions": {},
        "displayType": "table",
        "pivotAggregation": null,
        "pivotColumns": null,
        "xColumns": null,
        "yColumns": null
       },
       "removedWidgets": [],
       "schema": [
        {
         "metadata": "{}",
         "name": "post_year",
         "type": "\"integer\""
        },
        {
         "metadata": "{}",
         "name": "category",
         "type": "\"string\""
        },
        {
         "metadata": "{}",
         "name": "category_count",
         "type": "\"long\""
        }
       ],
       "type": "table"
      }
     },
     "output_type": "display_data"
    }
   ],
   "source": [
    "\n",
    "# Filter to get only the most popular category per country (rank == 1)\n",
    "df_4_most_popular = df_4_ranked.filter(col(\"rank\") == 1).select(\"post_year\", \"category\", \"category_count\")\n",
    "display(df_4_most_popular) \n"
   ]
  },
  {
   "cell_type": "markdown",
   "metadata": {
    "application/vnd.databricks.v1+cell": {
     "cellMetadata": {
      "byteLimit": 2048000,
      "rowLimit": 10000
     },
     "inputWidgets": {},
     "nuid": "d5ba706d-df0e-441e-b049-5cbdd52a839a",
     "showTitle": false,
     "tableResultSettingsMap": {},
     "title": ""
    }
   },
   "source": [
    "Task 6: Find the user with the most followers in each country "
   ]
  },
  {
   "cell_type": "code",
   "execution_count": 0,
   "metadata": {
    "application/vnd.databricks.v1+cell": {
     "cellMetadata": {
      "byteLimit": 2048000,
      "rowLimit": 10000
     },
     "inputWidgets": {},
     "nuid": "652b52a9-f13e-48a5-86a6-e25476844efd",
     "showTitle": false,
     "tableResultSettingsMap": {},
     "title": ""
    }
   },
   "outputs": [],
   "source": [
    "# Step 1: For each country find the user with the most followers."
   ]
  },
  {
   "cell_type": "code",
   "execution_count": 0,
   "metadata": {
    "application/vnd.databricks.v1+cell": {
     "cellMetadata": {
      "byteLimit": 2048000,
      "rowLimit": 10000
     },
     "inputWidgets": {},
     "nuid": "f7925f75-ba60-41c4-bd17-09c5ad862453",
     "showTitle": false,
     "tableResultSettingsMap": {},
     "title": ""
    }
   },
   "outputs": [],
   "source": [
    "# Make a new on with poster_name, follower_count, country, user name \n",
    "df_6_col = df_all.select(\"poster_name\", \"follower_count\", \"country\", \"user_name\") "
   ]
  },
  {
   "cell_type": "code",
   "execution_count": 0,
   "metadata": {
    "application/vnd.databricks.v1+cell": {
     "cellMetadata": {
      "byteLimit": 2048000,
      "rowLimit": 10000
     },
     "inputWidgets": {},
     "nuid": "3793bf6e-feb0-4875-8085-0f562e0ef704",
     "showTitle": false,
     "tableResultSettingsMap": {},
     "title": ""
    }
   },
   "outputs": [],
   "source": [
    "# create a windown function to partition the data and create a view by country, with follower count in desc order \n",
    "window_spec_6 = Window.partitionBy(\"country\").orderBy(desc(\"follower_count\")) \n",
    "\n",
    "# make a new df, add a column rank, which is make by applying the window_spec_6\n",
    "df_6_ranked = df_6_col.withColumn(\"rank\", rank().over(window_spec_6)) \n",
    "#display(df_6_ranked.limit(50))\n",
    "\n"
   ]
  },
  {
   "cell_type": "code",
   "execution_count": 0,
   "metadata": {
    "application/vnd.databricks.v1+cell": {
     "cellMetadata": {
      "byteLimit": 2048000,
      "rowLimit": 10000
     },
     "inputWidgets": {},
     "nuid": "bff93047-d5fb-42b1-8ca7-02ef450c32ab",
     "showTitle": false,
     "tableResultSettingsMap": {},
     "title": ""
    }
   },
   "outputs": [],
   "source": [
    "\n",
    "df_6_filtered = df_6_ranked.filter(col(\"rank\") == 1).dropDuplicates([\"poster_name\", \"country\"]).select(\"poster_name\", \"follower_count\", \"country\", \"user_name\")\n",
    "#display(df_6_filtered.limit(50))"
   ]
  },
  {
   "cell_type": "code",
   "execution_count": 0,
   "metadata": {
    "application/vnd.databricks.v1+cell": {
     "cellMetadata": {
      "byteLimit": 2048000,
      "rowLimit": 10000
     },
     "inputWidgets": {},
     "nuid": "c91807dd-88a5-4a01-b3a8-6dadf405f73c",
     "showTitle": false,
     "tableResultSettingsMap": {},
     "title": ""
    }
   },
   "outputs": [],
   "source": [
    "# Step 2: Based on the above query, find the country with the user with most followers."
   ]
  },
  {
   "cell_type": "code",
   "execution_count": 0,
   "metadata": {
    "application/vnd.databricks.v1+cell": {
     "cellMetadata": {
      "byteLimit": 2048000,
      "rowLimit": 10000
     },
     "inputWidgets": {},
     "nuid": "56eae2cc-3e1b-4c1b-b083-aed9847821fc",
     "showTitle": false,
     "tableResultSettingsMap": {},
     "title": ""
    }
   },
   "outputs": [],
   "source": [
    "# Create an ordered df of the countries with the highest follower count \n",
    "df_6_ordered = df_6_filtered.orderBy(desc(\"follower_count\")).select(\"country\", \"follower_count\") \n",
    "#display(df_6_ordered.limit(10))"
   ]
  },
  {
   "cell_type": "markdown",
   "metadata": {
    "application/vnd.databricks.v1+cell": {
     "cellMetadata": {
      "byteLimit": 2048000,
      "rowLimit": 10000
     },
     "inputWidgets": {},
     "nuid": "3c1542ea-fd78-4b1e-9da5-ee7b3c2b5e64",
     "showTitle": false,
     "tableResultSettingsMap": {},
     "title": ""
    }
   },
   "source": [
    "Task 7: Find the most popular category for different age groups "
   ]
  },
  {
   "cell_type": "code",
   "execution_count": 0,
   "metadata": {
    "application/vnd.databricks.v1+cell": {
     "cellMetadata": {
      "byteLimit": 2048000,
      "rowLimit": 10000
     },
     "inputWidgets": {},
     "nuid": "0a2853e0-e8d0-4fc3-99d8-3cc5b102393a",
     "showTitle": false,
     "tableResultSettingsMap": {},
     "title": ""
    }
   },
   "outputs": [],
   "source": [
    "# Create a new DataFrame with an 'age_group' column based on the 'age' column\n",
    "df_7_col = df_all.select(\"category\", \"age\", \"unique_id\").withColumn(\n",
    "    \"age_group\", \n",
    "    when((col(\"age\") >= 18) & (col(\"age\") <= 24), \"18-24\")\n",
    "    .when((col(\"age\") >= 25) & (col(\"age\") <= 35), \"25-35\")\n",
    "    .when((col(\"age\") >= 36) & (col(\"age\") <= 50), \"36-50\")\n",
    "    .when(col(\"age\") > 50, \"+50\")\n",
    "    .otherwise(\"Unknown\")  # Handles cases where age might be missing or outside the expected range\n",
    ")\n"
   ]
  },
  {
   "cell_type": "code",
   "execution_count": 0,
   "metadata": {
    "application/vnd.databricks.v1+cell": {
     "cellMetadata": {
      "byteLimit": 2048000,
      "rowLimit": 10000
     },
     "inputWidgets": {},
     "nuid": "a0ff8c00-1720-4d4a-9348-1d745f09b576",
     "showTitle": false,
     "tableResultSettingsMap": {},
     "title": ""
    }
   },
   "outputs": [
    {
     "output_type": "display_data",
     "data": {
      "text/html": [
       "<style scoped>\n",
       "  .table-result-container {\n",
       "    max-height: 300px;\n",
       "    overflow: auto;\n",
       "  }\n",
       "  table, th, td {\n",
       "    border: 1px solid black;\n",
       "    border-collapse: collapse;\n",
       "  }\n",
       "  th, td {\n",
       "    padding: 5px;\n",
       "  }\n",
       "  th {\n",
       "    text-align: left;\n",
       "  }\n",
       "</style><div class='table-result-container'><table class='table-result'><thead style='background-color: white'><tr><th>category</th><th>age</th><th>unique_id</th><th>age_group</th></tr></thead><tbody><tr><td>mens-fashion</td><td>45</td><td>0bfd8ee2-8bc8-4d43-8a43-3f9e5f9678bf</td><td>36-50</td></tr><tr><td>vehicles</td><td>32</td><td>c5474c35-4711-416b-b627-764d51498916</td><td>25-35</td></tr><tr><td>tattoos</td><td>33</td><td>db80a4e4-293a-45cf-b60c-a67ba9053246</td><td>25-35</td></tr><tr><td>home-decor</td><td>24</td><td>4081ef06-637d-4cfb-9195-5e06b56fbd8c</td><td>18-24</td></tr><tr><td>event-planning</td><td>58</td><td>ae5e7377-f1bd-4ac5-94de-bee317f51a43</td><td>+50</td></tr><tr><td>home-decor</td><td>20</td><td>0c15cec8-5e8d-42e7-a2ad-9bd1267e0679</td><td>18-24</td></tr><tr><td>diy-and-crafts</td><td>22</td><td>186a847a-6778-48c0-888c-4578550ce7c7</td><td>18-24</td></tr><tr><td>tattoos</td><td>20</td><td>c338b1c8-7c6a-4a1a-8fba-cdb5a423c0ca</td><td>18-24</td></tr><tr><td>home-decor</td><td>20</td><td>bc5ab9ee-505e-44f6-92ba-677fe4fdf3e3</td><td>18-24</td></tr><tr><td>event-planning</td><td>27</td><td>d234e56f-5b18-4ef3-905b-44103f7719d9</td><td>25-35</td></tr><tr><td>event-planning</td><td>51</td><td>58101415-9273-4311-a5bd-0015a56579b4</td><td>+50</td></tr><tr><td>home-decor</td><td>47</td><td>d136f6bc-840d-44f8-bbad-115eb7e6c51e</td><td>36-50</td></tr><tr><td>event-planning</td><td>29</td><td>bb887e10-f9ed-4abe-8561-8df4f552cc1a</td><td>25-35</td></tr><tr><td>home-decor</td><td>20</td><td>d3039535-5767-426a-ba80-cbda6e0e008a</td><td>18-24</td></tr><tr><td>event-planning</td><td>27</td><td>5433cd53-1bdd-4e8f-a20f-b460d9542419</td><td>25-35</td></tr><tr><td>mens-fashion</td><td>50</td><td>e1bec95c-a489-4937-97db-e4fe5db9190e</td><td>36-50</td></tr><tr><td>christmas</td><td>34</td><td>f0ddb462-8582-4d4c-9f19-426f652e712f</td><td>25-35</td></tr><tr><td>event-planning</td><td>42</td><td>3d2ca512-9a37-4bb5-93bc-fca20aaafdce</td><td>36-50</td></tr><tr><td>vehicles</td><td>45</td><td>8e1c607c-8671-4d63-9bab-85cf29d088a7</td><td>36-50</td></tr><tr><td>mens-fashion</td><td>56</td><td>7d3a0f64-e8a6-4701-b04a-18d396bf4be6</td><td>+50</td></tr></tbody></table></div>"
      ]
     },
     "metadata": {
      "application/vnd.databricks.v1+output": {
       "addedWidgets": {},
       "aggData": [],
       "aggError": "",
       "aggOverflow": false,
       "aggSchema": [],
       "aggSeriesLimitReached": false,
       "aggType": "",
       "arguments": {},
       "columnCustomDisplayInfos": {},
       "data": [
        [
         "mens-fashion",
         45,
         "0bfd8ee2-8bc8-4d43-8a43-3f9e5f9678bf",
         "36-50"
        ],
        [
         "vehicles",
         32,
         "c5474c35-4711-416b-b627-764d51498916",
         "25-35"
        ],
        [
         "tattoos",
         33,
         "db80a4e4-293a-45cf-b60c-a67ba9053246",
         "25-35"
        ],
        [
         "home-decor",
         24,
         "4081ef06-637d-4cfb-9195-5e06b56fbd8c",
         "18-24"
        ],
        [
         "event-planning",
         58,
         "ae5e7377-f1bd-4ac5-94de-bee317f51a43",
         "+50"
        ],
        [
         "home-decor",
         20,
         "0c15cec8-5e8d-42e7-a2ad-9bd1267e0679",
         "18-24"
        ],
        [
         "diy-and-crafts",
         22,
         "186a847a-6778-48c0-888c-4578550ce7c7",
         "18-24"
        ],
        [
         "tattoos",
         20,
         "c338b1c8-7c6a-4a1a-8fba-cdb5a423c0ca",
         "18-24"
        ],
        [
         "home-decor",
         20,
         "bc5ab9ee-505e-44f6-92ba-677fe4fdf3e3",
         "18-24"
        ],
        [
         "event-planning",
         27,
         "d234e56f-5b18-4ef3-905b-44103f7719d9",
         "25-35"
        ],
        [
         "event-planning",
         51,
         "58101415-9273-4311-a5bd-0015a56579b4",
         "+50"
        ],
        [
         "home-decor",
         47,
         "d136f6bc-840d-44f8-bbad-115eb7e6c51e",
         "36-50"
        ],
        [
         "event-planning",
         29,
         "bb887e10-f9ed-4abe-8561-8df4f552cc1a",
         "25-35"
        ],
        [
         "home-decor",
         20,
         "d3039535-5767-426a-ba80-cbda6e0e008a",
         "18-24"
        ],
        [
         "event-planning",
         27,
         "5433cd53-1bdd-4e8f-a20f-b460d9542419",
         "25-35"
        ],
        [
         "mens-fashion",
         50,
         "e1bec95c-a489-4937-97db-e4fe5db9190e",
         "36-50"
        ],
        [
         "christmas",
         34,
         "f0ddb462-8582-4d4c-9f19-426f652e712f",
         "25-35"
        ],
        [
         "event-planning",
         42,
         "3d2ca512-9a37-4bb5-93bc-fca20aaafdce",
         "36-50"
        ],
        [
         "vehicles",
         45,
         "8e1c607c-8671-4d63-9bab-85cf29d088a7",
         "36-50"
        ],
        [
         "mens-fashion",
         56,
         "7d3a0f64-e8a6-4701-b04a-18d396bf4be6",
         "+50"
        ]
       ],
       "datasetInfos": [],
       "dbfsResultPath": null,
       "isJsonSchema": true,
       "metadata": {},
       "overflow": false,
       "plotOptions": {
        "customPlotOptions": {},
        "displayType": "table",
        "pivotAggregation": null,
        "pivotColumns": null,
        "xColumns": null,
        "yColumns": null
       },
       "removedWidgets": [],
       "schema": [
        {
         "metadata": "{}",
         "name": "category",
         "type": "\"string\""
        },
        {
         "metadata": "{}",
         "name": "age",
         "type": "\"long\""
        },
        {
         "metadata": "{}",
         "name": "unique_id",
         "type": "\"string\""
        },
        {
         "metadata": "{}",
         "name": "age_group",
         "type": "\"string\""
        }
       ],
       "type": "table"
      }
     },
     "output_type": "display_data"
    }
   ],
   "source": [
    "display(df_7_col.limit(20))"
   ]
  },
  {
   "cell_type": "code",
   "execution_count": 0,
   "metadata": {
    "application/vnd.databricks.v1+cell": {
     "cellMetadata": {
      "byteLimit": 2048000,
      "rowLimit": 10000
     },
     "inputWidgets": {},
     "nuid": "9c7cfab2-8b14-4056-a3bd-446ae8afeba5",
     "showTitle": false,
     "tableResultSettingsMap": {},
     "title": ""
    }
   },
   "outputs": [
    {
     "output_type": "display_data",
     "data": {
      "text/html": [
       "<style scoped>\n",
       "  .table-result-container {\n",
       "    max-height: 300px;\n",
       "    overflow: auto;\n",
       "  }\n",
       "  table, th, td {\n",
       "    border: 1px solid black;\n",
       "    border-collapse: collapse;\n",
       "  }\n",
       "  th, td {\n",
       "    padding: 5px;\n",
       "  }\n",
       "  th {\n",
       "    text-align: left;\n",
       "  }\n",
       "</style><div class='table-result-container'><table class='table-result'><thead style='background-color: white'><tr><th>age_group</th><th>category</th><th>category_count</th></tr></thead><tbody><tr><td>18-24</td><td>tattoos</td><td>615</td></tr><tr><td>25-35</td><td>event-planning</td><td>230</td></tr><tr><td>+50</td><td>mens-fashion</td><td>101</td></tr><tr><td>25-35</td><td>vehicles</td><td>251</td></tr><tr><td>18-24</td><td>diy-and-crafts</td><td>396</td></tr><tr><td>25-35</td><td>mens-fashion</td><td>209</td></tr><tr><td>36-50</td><td>christmas</td><td>188</td></tr><tr><td>36-50</td><td>event-planning</td><td>181</td></tr><tr><td>36-50</td><td>vehicles</td><td>215</td></tr><tr><td>18-24</td><td>christmas</td><td>411</td></tr></tbody></table></div>"
      ]
     },
     "metadata": {
      "application/vnd.databricks.v1+output": {
       "addedWidgets": {},
       "aggData": [],
       "aggError": "",
       "aggOverflow": false,
       "aggSchema": [],
       "aggSeriesLimitReached": false,
       "aggType": "",
       "arguments": {},
       "columnCustomDisplayInfos": {},
       "data": [
        [
         "18-24",
         "tattoos",
         615
        ],
        [
         "25-35",
         "event-planning",
         230
        ],
        [
         "+50",
         "mens-fashion",
         101
        ],
        [
         "25-35",
         "vehicles",
         251
        ],
        [
         "18-24",
         "diy-and-crafts",
         396
        ],
        [
         "25-35",
         "mens-fashion",
         209
        ],
        [
         "36-50",
         "christmas",
         188
        ],
        [
         "36-50",
         "event-planning",
         181
        ],
        [
         "36-50",
         "vehicles",
         215
        ],
        [
         "18-24",
         "christmas",
         411
        ]
       ],
       "datasetInfos": [],
       "dbfsResultPath": null,
       "isJsonSchema": true,
       "metadata": {},
       "overflow": false,
       "plotOptions": {
        "customPlotOptions": {},
        "displayType": "table",
        "pivotAggregation": null,
        "pivotColumns": null,
        "xColumns": null,
        "yColumns": null
       },
       "removedWidgets": [],
       "schema": [
        {
         "metadata": "{}",
         "name": "age_group",
         "type": "\"string\""
        },
        {
         "metadata": "{}",
         "name": "category",
         "type": "\"string\""
        },
        {
         "metadata": "{}",
         "name": "category_count",
         "type": "\"long\""
        }
       ],
       "type": "table"
      }
     },
     "output_type": "display_data"
    }
   ],
   "source": [
    "# add up the number of posts per category and group them together by age group. \n",
    "df_7_grouped = df_7_col.groupBy(\"age_group\", \"category\").agg(count(\"*\").alias(\"category_count\")) \n",
    "display(df_7_grouped.limit(10))\n"
   ]
  },
  {
   "cell_type": "code",
   "execution_count": 0,
   "metadata": {
    "application/vnd.databricks.v1+cell": {
     "cellMetadata": {
      "byteLimit": 2048000,
      "rowLimit": 10000
     },
     "inputWidgets": {},
     "nuid": "92638918-b802-4149-a03a-93e85a80310c",
     "showTitle": false,
     "tableResultSettingsMap": {},
     "title": ""
    }
   },
   "outputs": [],
   "source": [
    "# create a window function per age group to rank the categories per age group \n",
    "window_spec_7 = Window.partitionBy(\"age_group\").orderBy(desc(\"category_count\")) \n",
    "\n",
    "df_7_ranked = df_7_grouped.withColumn(\"rank\", rank().over(window_spec_7)) \n",
    "\n",
    "#display(df_7_ranked.limit(50))\n"
   ]
  },
  {
   "cell_type": "code",
   "execution_count": 0,
   "metadata": {
    "application/vnd.databricks.v1+cell": {
     "cellMetadata": {
      "byteLimit": 2048000,
      "rowLimit": 10000
     },
     "inputWidgets": {},
     "nuid": "b45be864-0034-4f70-b9ba-f6292c7ffb5f",
     "showTitle": false,
     "tableResultSettingsMap": {},
     "title": ""
    }
   },
   "outputs": [
    {
     "output_type": "display_data",
     "data": {
      "text/html": [
       "<style scoped>\n",
       "  .table-result-container {\n",
       "    max-height: 300px;\n",
       "    overflow: auto;\n",
       "  }\n",
       "  table, th, td {\n",
       "    border: 1px solid black;\n",
       "    border-collapse: collapse;\n",
       "  }\n",
       "  th, td {\n",
       "    padding: 5px;\n",
       "  }\n",
       "  th {\n",
       "    text-align: left;\n",
       "  }\n",
       "</style><div class='table-result-container'><table class='table-result'><thead style='background-color: white'><tr><th>age_group</th><th>category</th><th>category_count</th></tr></thead><tbody><tr><td>+50</td><td>vehicles</td><td>114</td></tr><tr><td>18-24</td><td>tattoos</td><td>615</td></tr><tr><td>25-35</td><td>christmas</td><td>321</td></tr><tr><td>36-50</td><td>vehicles</td><td>215</td></tr></tbody></table></div>"
      ]
     },
     "metadata": {
      "application/vnd.databricks.v1+output": {
       "addedWidgets": {},
       "aggData": [],
       "aggError": "",
       "aggOverflow": false,
       "aggSchema": [],
       "aggSeriesLimitReached": false,
       "aggType": "",
       "arguments": {},
       "columnCustomDisplayInfos": {},
       "data": [
        [
         "+50",
         "vehicles",
         114
        ],
        [
         "18-24",
         "tattoos",
         615
        ],
        [
         "25-35",
         "christmas",
         321
        ],
        [
         "36-50",
         "vehicles",
         215
        ]
       ],
       "datasetInfos": [],
       "dbfsResultPath": null,
       "isJsonSchema": true,
       "metadata": {},
       "overflow": false,
       "plotOptions": {
        "customPlotOptions": {},
        "displayType": "table",
        "pivotAggregation": null,
        "pivotColumns": null,
        "xColumns": null,
        "yColumns": null
       },
       "removedWidgets": [],
       "schema": [
        {
         "metadata": "{}",
         "name": "age_group",
         "type": "\"string\""
        },
        {
         "metadata": "{}",
         "name": "category",
         "type": "\"string\""
        },
        {
         "metadata": "{}",
         "name": "category_count",
         "type": "\"long\""
        }
       ],
       "type": "table"
      }
     },
     "output_type": "display_data"
    }
   ],
   "source": [
    "# filter the dataframe to only see the most popular category \n",
    "df_7_filtered = df_7_ranked.filter(col(\"rank\") == 1).select(\"age_group\", \"category\", \"category_count\") \n",
    "display(df_7_filtered.limit(10))"
   ]
  },
  {
   "cell_type": "markdown",
   "metadata": {
    "application/vnd.databricks.v1+cell": {
     "cellMetadata": {
      "byteLimit": 2048000,
      "rowLimit": 10000
     },
     "inputWidgets": {},
     "nuid": "fcb7e30f-41f1-4ffb-9bcb-e25cd2bf52c6",
     "showTitle": false,
     "tableResultSettingsMap": {},
     "title": ""
    }
   },
   "source": [
    "Task 8: Find the median follower count for different age groups \n"
   ]
  },
  {
   "cell_type": "code",
   "execution_count": 0,
   "metadata": {
    "application/vnd.databricks.v1+cell": {
     "cellMetadata": {
      "byteLimit": 2048000,
      "rowLimit": 10000
     },
     "inputWidgets": {},
     "nuid": "43764535-8aaf-4df6-b1bf-00484a85d8b6",
     "showTitle": false,
     "tableResultSettingsMap": {},
     "title": ""
    }
   },
   "outputs": [
    {
     "output_type": "display_data",
     "data": {
      "text/html": [
       "<style scoped>\n",
       "  .table-result-container {\n",
       "    max-height: 300px;\n",
       "    overflow: auto;\n",
       "  }\n",
       "  table, th, td {\n",
       "    border: 1px solid black;\n",
       "    border-collapse: collapse;\n",
       "  }\n",
       "  th, td {\n",
       "    padding: 5px;\n",
       "  }\n",
       "  th {\n",
       "    text-align: left;\n",
       "  }\n",
       "</style><div class='table-result-container'><table class='table-result'><thead style='background-color: white'><tr><th>age</th><th>follower_count</th><th>user_name</th><th>age_group</th></tr></thead><tbody><tr><td>20</td><td>942</td><td>Aaron Abbott</td><td>18-24</td></tr><tr><td>47</td><td>432</td><td>Aaron Adams</td><td>36-50</td></tr><tr><td>21</td><td>190</td><td>Aaron Alexander</td><td>18-24</td></tr><tr><td>21</td><td>5</td><td>Aaron Anderson</td><td>18-24</td></tr><tr><td>20</td><td>416</td><td>Aaron Bailey</td><td>18-24</td></tr><tr><td>20</td><td>328</td><td>Aaron Baldwin</td><td>18-24</td></tr><tr><td>21</td><td>20</td><td>Aaron Bartlett</td><td>18-24</td></tr><tr><td>28</td><td>4</td><td>Aaron Berry</td><td>25-35</td></tr><tr><td>20</td><td>23</td><td>Aaron Brown</td><td>18-24</td></tr><tr><td>23</td><td>30</td><td>Aaron Buchanan</td><td>18-24</td></tr></tbody></table></div>"
      ]
     },
     "metadata": {
      "application/vnd.databricks.v1+output": {
       "addedWidgets": {},
       "aggData": [],
       "aggError": "",
       "aggOverflow": false,
       "aggSchema": [],
       "aggSeriesLimitReached": false,
       "aggType": "",
       "arguments": {},
       "columnCustomDisplayInfos": {},
       "data": [
        [
         20,
         942,
         "Aaron Abbott",
         "18-24"
        ],
        [
         47,
         432,
         "Aaron Adams",
         "36-50"
        ],
        [
         21,
         190,
         "Aaron Alexander",
         "18-24"
        ],
        [
         21,
         5,
         "Aaron Anderson",
         "18-24"
        ],
        [
         20,
         416,
         "Aaron Bailey",
         "18-24"
        ],
        [
         20,
         328,
         "Aaron Baldwin",
         "18-24"
        ],
        [
         21,
         20,
         "Aaron Bartlett",
         "18-24"
        ],
        [
         28,
         4,
         "Aaron Berry",
         "25-35"
        ],
        [
         20,
         23,
         "Aaron Brown",
         "18-24"
        ],
        [
         23,
         30,
         "Aaron Buchanan",
         "18-24"
        ]
       ],
       "datasetInfos": [],
       "dbfsResultPath": null,
       "isJsonSchema": true,
       "metadata": {},
       "overflow": false,
       "plotOptions": {
        "customPlotOptions": {},
        "displayType": "table",
        "pivotAggregation": null,
        "pivotColumns": null,
        "xColumns": null,
        "yColumns": null
       },
       "removedWidgets": [],
       "schema": [
        {
         "metadata": "{}",
         "name": "age",
         "type": "\"long\""
        },
        {
         "metadata": "{}",
         "name": "follower_count",
         "type": "\"integer\""
        },
        {
         "metadata": "{}",
         "name": "user_name",
         "type": "\"string\""
        },
        {
         "metadata": "{}",
         "name": "age_group",
         "type": "\"string\""
        }
       ],
       "type": "table"
      }
     },
     "output_type": "display_data"
    }
   ],
   "source": [
    "# make a df with a new column with the age groups: select: age, follower_count\n",
    "df_8_age_groups = df_all.select(\"age\", \"follower_count\", \"user_name\").withColumn(\n",
    "    \"age_group\", \n",
    "    when((col(\"age\") >= 18) & (col(\"age\") <= 24), \"18-24\")\n",
    "    .when((col(\"age\") >= 25) & (col(\"age\") <= 35), \"25-35\")\n",
    "    .when((col(\"age\") >= 36) & (col(\"age\") <= 50), \"36-50\")\n",
    "    .when(col(\"age\") >= 51, \"50+\")\n",
    "    .otherwise(\"Unknown\") \n",
    ").dropDuplicates([\"user_name\"])\n",
    "\n",
    "display(df_8_age_groups.limit(10))\n"
   ]
  },
  {
   "cell_type": "code",
   "execution_count": 0,
   "metadata": {
    "application/vnd.databricks.v1+cell": {
     "cellMetadata": {
      "byteLimit": 2048000,
      "rowLimit": 10000
     },
     "inputWidgets": {},
     "nuid": "736f6247-b5a4-49ce-9553-1663cfbef8dc",
     "showTitle": false,
     "tableResultSettingsMap": {},
     "title": ""
    }
   },
   "outputs": [
    {
     "output_type": "display_data",
     "data": {
      "text/html": [
       "<style scoped>\n",
       "  .table-result-container {\n",
       "    max-height: 300px;\n",
       "    overflow: auto;\n",
       "  }\n",
       "  table, th, td {\n",
       "    border: 1px solid black;\n",
       "    border-collapse: collapse;\n",
       "  }\n",
       "  th, td {\n",
       "    padding: 5px;\n",
       "  }\n",
       "  th {\n",
       "    text-align: left;\n",
       "  }\n",
       "</style><div class='table-result-container'><table class='table-result'><thead style='background-color: white'><tr><th>age_group</th><th>median_follower_countr</th></tr></thead><tbody><tr><td>50+</td><td>28</td></tr><tr><td>36-50</td><td>27</td></tr><tr><td>18-24</td><td>37</td></tr><tr><td>25-35</td><td>31</td></tr></tbody></table></div>"
      ]
     },
     "metadata": {
      "application/vnd.databricks.v1+output": {
       "addedWidgets": {},
       "aggData": [],
       "aggError": "",
       "aggOverflow": false,
       "aggSchema": [],
       "aggSeriesLimitReached": false,
       "aggType": "",
       "arguments": {},
       "columnCustomDisplayInfos": {},
       "data": [
        [
         "50+",
         28
        ],
        [
         "36-50",
         27
        ],
        [
         "18-24",
         37
        ],
        [
         "25-35",
         31
        ]
       ],
       "datasetInfos": [],
       "dbfsResultPath": null,
       "isJsonSchema": true,
       "metadata": {},
       "overflow": false,
       "plotOptions": {
        "customPlotOptions": {},
        "displayType": "table",
        "pivotAggregation": null,
        "pivotColumns": null,
        "xColumns": null,
        "yColumns": null
       },
       "removedWidgets": [],
       "schema": [
        {
         "metadata": "{}",
         "name": "age_group",
         "type": "\"string\""
        },
        {
         "metadata": "{}",
         "name": "median_follower_countr",
         "type": "\"integer\""
        }
       ],
       "type": "table"
      }
     },
     "output_type": "display_data"
    }
   ],
   "source": [
    "# Aggregate these numbers together by age group and find the median \n",
    "df_8_agg = df_8_age_groups.groupBy(\"age_group\").agg(percentile_approx(\"follower_count\", 0.5).alias(\"median_follower_countr\"))   \n",
    "display(df_8_agg.limit(10))\n",
    "                       "
   ]
  },
  {
   "cell_type": "markdown",
   "metadata": {
    "application/vnd.databricks.v1+cell": {
     "cellMetadata": {
      "byteLimit": 2048000,
      "rowLimit": 10000
     },
     "inputWidgets": {},
     "nuid": "37c5ac31-a611-40c2-ac65-0dfc46394dfa",
     "showTitle": false,
     "tableResultSettingsMap": {},
     "title": ""
    }
   },
   "source": [
    "Task 9: Find out how many users joined each year "
   ]
  },
  {
   "cell_type": "code",
   "execution_count": 0,
   "metadata": {
    "application/vnd.databricks.v1+cell": {
     "cellMetadata": {
      "byteLimit": 2048000,
      "rowLimit": 10000
     },
     "inputWidgets": {},
     "nuid": "a8c87b49-016a-41d4-9c5d-d1ea19c7d3c7",
     "showTitle": false,
     "tableResultSettingsMap": {},
     "title": ""
    }
   },
   "outputs": [
    {
     "output_type": "display_data",
     "data": {
      "text/html": [
       "<style scoped>\n",
       "  .table-result-container {\n",
       "    max-height: 300px;\n",
       "    overflow: auto;\n",
       "  }\n",
       "  table, th, td {\n",
       "    border: 1px solid black;\n",
       "    border-collapse: collapse;\n",
       "  }\n",
       "  th, td {\n",
       "    padding: 5px;\n",
       "  }\n",
       "  th {\n",
       "    text-align: left;\n",
       "  }\n",
       "</style><div class='table-result-container'><table class='table-result'><thead style='background-color: white'><tr><th>user_name</th><th>date_joined</th><th>poster_name</th><th>year_joined</th></tr></thead><tbody><tr><td>Aaron Abbott</td><td>2015-10-23T16:08:41Z</td><td>YourTango</td><td>2015</td></tr><tr><td>Aaron Adams</td><td>2017-05-20T13:39:34Z</td><td>kathleen d</td><td>2017</td></tr><tr><td>Aaron Alexander</td><td>2015-10-25T07:36:08Z</td><td>Our Mindful Life</td><td>2015</td></tr><tr><td>Aaron Anderson</td><td>2015-10-24T05:35:27Z</td><td>The Minds Journal</td><td>2015</td></tr><tr><td>Aaron Bailey</td><td>2015-11-02T04:40:42Z</td><td>Yanko Design - Form Beyond Function</td><td>2015</td></tr><tr><td>Aaron Baldwin</td><td>2016-03-02T01:37:55Z</td><td>Squarespace</td><td>2016</td></tr><tr><td>Aaron Bartlett</td><td>2015-11-24T02:15:36Z</td><td>Projects with Kids</td><td>2015</td></tr><tr><td>Aaron Berry</td><td>2016-04-12T03:40:13Z</td><td>Caffeine Queen Teacher</td><td>2016</td></tr><tr><td>Aaron Brown</td><td>2015-10-28T10:38:07Z</td><td>Whimsy Workshop Teaching</td><td>2015</td></tr><tr><td>Aaron Buchanan</td><td>2016-01-17T21:06:05Z</td><td>Miss PlanIt</td><td>2016</td></tr></tbody></table></div>"
      ]
     },
     "metadata": {
      "application/vnd.databricks.v1+output": {
       "addedWidgets": {},
       "aggData": [],
       "aggError": "",
       "aggOverflow": false,
       "aggSchema": [],
       "aggSeriesLimitReached": false,
       "aggType": "",
       "arguments": {},
       "columnCustomDisplayInfos": {},
       "data": [
        [
         "Aaron Abbott",
         "2015-10-23T16:08:41Z",
         "YourTango",
         2015
        ],
        [
         "Aaron Adams",
         "2017-05-20T13:39:34Z",
         "kathleen d",
         2017
        ],
        [
         "Aaron Alexander",
         "2015-10-25T07:36:08Z",
         "Our Mindful Life",
         2015
        ],
        [
         "Aaron Anderson",
         "2015-10-24T05:35:27Z",
         "The Minds Journal",
         2015
        ],
        [
         "Aaron Bailey",
         "2015-11-02T04:40:42Z",
         "Yanko Design - Form Beyond Function",
         2015
        ],
        [
         "Aaron Baldwin",
         "2016-03-02T01:37:55Z",
         "Squarespace",
         2016
        ],
        [
         "Aaron Bartlett",
         "2015-11-24T02:15:36Z",
         "Projects with Kids",
         2015
        ],
        [
         "Aaron Berry",
         "2016-04-12T03:40:13Z",
         "Caffeine Queen Teacher",
         2016
        ],
        [
         "Aaron Brown",
         "2015-10-28T10:38:07Z",
         "Whimsy Workshop Teaching",
         2015
        ],
        [
         "Aaron Buchanan",
         "2016-01-17T21:06:05Z",
         "Miss PlanIt",
         2016
        ]
       ],
       "datasetInfos": [],
       "dbfsResultPath": null,
       "isJsonSchema": true,
       "metadata": {},
       "overflow": false,
       "plotOptions": {
        "customPlotOptions": {},
        "displayType": "table",
        "pivotAggregation": null,
        "pivotColumns": null,
        "xColumns": null,
        "yColumns": null
       },
       "removedWidgets": [],
       "schema": [
        {
         "metadata": "{}",
         "name": "user_name",
         "type": "\"string\""
        },
        {
         "metadata": "{}",
         "name": "date_joined",
         "type": "\"timestamp\""
        },
        {
         "metadata": "{}",
         "name": "poster_name",
         "type": "\"string\""
        },
        {
         "metadata": "{}",
         "name": "year_joined",
         "type": "\"integer\""
        }
       ],
       "type": "table"
      }
     },
     "output_type": "display_data"
    }
   ],
   "source": [
    "# Extract the year from the date_joined column and create a new column called 'year_joined'\n",
    "df_9_year = df_all.select(\"user_name\", \"date_joined\", \"poster_name\").withColumn(\"year_joined\", year(col(\"date_joined\"))).dropDuplicates([\"user_name\"])\n",
    "\n",
    "display(df_9_year.limit(10))"
   ]
  },
  {
   "cell_type": "code",
   "execution_count": 0,
   "metadata": {
    "application/vnd.databricks.v1+cell": {
     "cellMetadata": {
      "byteLimit": 2048000,
      "rowLimit": 10000
     },
     "inputWidgets": {},
     "nuid": "86998811-fb58-4fad-9713-91fd922a446f",
     "showTitle": false,
     "tableResultSettingsMap": {},
     "title": ""
    }
   },
   "outputs": [
    {
     "output_type": "display_data",
     "data": {
      "text/html": [
       "<style scoped>\n",
       "  .table-result-container {\n",
       "    max-height: 300px;\n",
       "    overflow: auto;\n",
       "  }\n",
       "  table, th, td {\n",
       "    border: 1px solid black;\n",
       "    border-collapse: collapse;\n",
       "  }\n",
       "  th, td {\n",
       "    padding: 5px;\n",
       "  }\n",
       "  th {\n",
       "    text-align: left;\n",
       "  }\n",
       "</style><div class='table-result-container'><table class='table-result'><thead style='background-color: white'><tr><th>year_joined</th><th>users_per_year</th></tr></thead><tbody><tr><td>2015</td><td>802</td></tr><tr><td>2016</td><td>2640</td></tr><tr><td>2017</td><td>1639</td></tr></tbody></table></div>"
      ]
     },
     "metadata": {
      "application/vnd.databricks.v1+output": {
       "addedWidgets": {},
       "aggData": [],
       "aggError": "",
       "aggOverflow": false,
       "aggSchema": [],
       "aggSeriesLimitReached": false,
       "aggType": "",
       "arguments": {},
       "columnCustomDisplayInfos": {},
       "data": [
        [
         2015,
         802
        ],
        [
         2016,
         2640
        ],
        [
         2017,
         1639
        ]
       ],
       "datasetInfos": [],
       "dbfsResultPath": null,
       "isJsonSchema": true,
       "metadata": {},
       "overflow": false,
       "plotOptions": {
        "customPlotOptions": {},
        "displayType": "table",
        "pivotAggregation": null,
        "pivotColumns": null,
        "xColumns": null,
        "yColumns": null
       },
       "removedWidgets": [],
       "schema": [
        {
         "metadata": "{}",
         "name": "year_joined",
         "type": "\"integer\""
        },
        {
         "metadata": "{}",
         "name": "users_per_year",
         "type": "\"long\""
        }
       ],
       "type": "table"
      }
     },
     "output_type": "display_data"
    }
   ],
   "source": [
    "# group number of users joined by each year \n",
    "df_9_group = df_9_year.groupBy('year_joined').agg(count(\"*\").alias(\"users_per_year\"))\n",
    "display(df_9_group.limit(10))"
   ]
  },
  {
   "cell_type": "markdown",
   "metadata": {
    "application/vnd.databricks.v1+cell": {
     "cellMetadata": {
      "byteLimit": 2048000,
      "rowLimit": 10000
     },
     "inputWidgets": {},
     "nuid": "8125e5b4-28a9-49c4-92d0-58edce730388",
     "showTitle": false,
     "tableResultSettingsMap": {},
     "title": ""
    }
   },
   "source": [
    "Task 10: Find the median follower count of users based on their joining year "
   ]
  },
  {
   "cell_type": "code",
   "execution_count": 0,
   "metadata": {
    "application/vnd.databricks.v1+cell": {
     "cellMetadata": {
      "byteLimit": 2048000,
      "rowLimit": 10000
     },
     "inputWidgets": {},
     "nuid": "ed7034cf-295e-4397-b06e-2e232387723e",
     "showTitle": false,
     "tableResultSettingsMap": {},
     "title": ""
    }
   },
   "outputs": [
    {
     "output_type": "display_data",
     "data": {
      "text/html": [
       "<style scoped>\n",
       "  .table-result-container {\n",
       "    max-height: 300px;\n",
       "    overflow: auto;\n",
       "  }\n",
       "  table, th, td {\n",
       "    border: 1px solid black;\n",
       "    border-collapse: collapse;\n",
       "  }\n",
       "  th, td {\n",
       "    padding: 5px;\n",
       "  }\n",
       "  th {\n",
       "    text-align: left;\n",
       "  }\n",
       "</style><div class='table-result-container'><table class='table-result'><thead style='background-color: white'><tr><th>user_name</th><th>follower_count</th><th>date_joined</th><th>year_joined</th></tr></thead><tbody><tr><td>Mary Moon</td><td>311</td><td>2016-11-24T18:54:48Z</td><td>2016</td></tr><tr><td>Christina Nelson</td><td>256</td><td>2017-02-10T01:01:59Z</td><td>2017</td></tr><tr><td>Marvin Sparks</td><td>66</td><td>2016-02-23T17:22:49Z</td><td>2016</td></tr><tr><td>Amy Adams</td><td>5</td><td>2015-10-24T05:05:28Z</td><td>2015</td></tr><tr><td>Charles Allen</td><td>2</td><td>2015-11-29T18:09:35Z</td><td>2015</td></tr><tr><td>Angela Griffith</td><td>848</td><td>2017-04-03T21:39:07Z</td><td>2017</td></tr><tr><td>Christopher Williams</td><td>7</td><td>2016-06-01T09:41:09Z</td><td>2016</td></tr><tr><td>James Davis</td><td>363</td><td>2015-10-24T12:49:56Z</td><td>2015</td></tr><tr><td>Heather Dawson</td><td>122</td><td>2015-12-21T13:00:31Z</td><td>2015</td></tr><tr><td>William Lucero</td><td>101</td><td>2017-02-07T06:33:56Z</td><td>2017</td></tr></tbody></table></div>"
      ]
     },
     "metadata": {
      "application/vnd.databricks.v1+output": {
       "addedWidgets": {},
       "aggData": [],
       "aggError": "",
       "aggOverflow": false,
       "aggSchema": [],
       "aggSeriesLimitReached": false,
       "aggType": "",
       "arguments": {},
       "columnCustomDisplayInfos": {},
       "data": [
        [
         "Mary Moon",
         311,
         "2016-11-24T18:54:48Z",
         2016
        ],
        [
         "Christina Nelson",
         256,
         "2017-02-10T01:01:59Z",
         2017
        ],
        [
         "Marvin Sparks",
         66,
         "2016-02-23T17:22:49Z",
         2016
        ],
        [
         "Amy Adams",
         5,
         "2015-10-24T05:05:28Z",
         2015
        ],
        [
         "Charles Allen",
         2,
         "2015-11-29T18:09:35Z",
         2015
        ],
        [
         "Angela Griffith",
         848,
         "2017-04-03T21:39:07Z",
         2017
        ],
        [
         "Christopher Williams",
         7,
         "2016-06-01T09:41:09Z",
         2016
        ],
        [
         "James Davis",
         363,
         "2015-10-24T12:49:56Z",
         2015
        ],
        [
         "Heather Dawson",
         122,
         "2015-12-21T13:00:31Z",
         2015
        ],
        [
         "William Lucero",
         101,
         "2017-02-07T06:33:56Z",
         2017
        ]
       ],
       "datasetInfos": [],
       "dbfsResultPath": null,
       "isJsonSchema": true,
       "metadata": {},
       "overflow": false,
       "plotOptions": {
        "customPlotOptions": {},
        "displayType": "table",
        "pivotAggregation": null,
        "pivotColumns": null,
        "xColumns": null,
        "yColumns": null
       },
       "removedWidgets": [],
       "schema": [
        {
         "metadata": "{}",
         "name": "user_name",
         "type": "\"string\""
        },
        {
         "metadata": "{}",
         "name": "follower_count",
         "type": "\"integer\""
        },
        {
         "metadata": "{}",
         "name": "date_joined",
         "type": "\"timestamp\""
        },
        {
         "metadata": "{}",
         "name": "year_joined",
         "type": "\"integer\""
        }
       ],
       "type": "table"
      }
     },
     "output_type": "display_data"
    }
   ],
   "source": [
    "# Create a dataframe with users joined between 2015 and 2020: include user_name, drop duplicates \n",
    "df_10_year = df_all.select(\"user_name\", \"follower_count\", \"date_joined\").withColumn(\"year_joined\", year(col(\"date_joined\"))).dropDuplicates([\"user_name\"])\n",
    "\n",
    "display(df_10_year.limit(10))\n"
   ]
  },
  {
   "cell_type": "code",
   "execution_count": 0,
   "metadata": {
    "application/vnd.databricks.v1+cell": {
     "cellMetadata": {
      "byteLimit": 2048000,
      "rowLimit": 10000
     },
     "inputWidgets": {},
     "nuid": "a822043b-4117-4c8f-9195-4e395708349e",
     "showTitle": false,
     "tableResultSettingsMap": {},
     "title": ""
    }
   },
   "outputs": [],
   "source": [
    "# group the users by year and perform the median calculation  \n",
    "df_10_agg = df_10_year.groupBy(\"year_joined\").agg(percentile_approx(\"follower_count\", 0.5).alias(\"median_follower_count\")) "
   ]
  },
  {
   "cell_type": "code",
   "execution_count": 0,
   "metadata": {
    "application/vnd.databricks.v1+cell": {
     "cellMetadata": {
      "byteLimit": 2048000,
      "rowLimit": 10000
     },
     "inputWidgets": {},
     "nuid": "d2eaf4cc-a970-4ca7-a14d-95251071426d",
     "showTitle": false,
     "tableResultSettingsMap": {},
     "title": ""
    }
   },
   "outputs": [
    {
     "output_type": "display_data",
     "data": {
      "text/html": [
       "<style scoped>\n",
       "  .table-result-container {\n",
       "    max-height: 300px;\n",
       "    overflow: auto;\n",
       "  }\n",
       "  table, th, td {\n",
       "    border: 1px solid black;\n",
       "    border-collapse: collapse;\n",
       "  }\n",
       "  th, td {\n",
       "    padding: 5px;\n",
       "  }\n",
       "  th {\n",
       "    text-align: left;\n",
       "  }\n",
       "</style><div class='table-result-container'><table class='table-result'><thead style='background-color: white'><tr><th>year_joined</th><th>median_follower_count</th></tr></thead><tbody><tr><td>2015</td><td>37</td></tr><tr><td>2016</td><td>31</td></tr><tr><td>2017</td><td>26</td></tr></tbody></table></div>"
      ]
     },
     "metadata": {
      "application/vnd.databricks.v1+output": {
       "addedWidgets": {},
       "aggData": [],
       "aggError": "",
       "aggOverflow": false,
       "aggSchema": [],
       "aggSeriesLimitReached": false,
       "aggType": "",
       "arguments": {},
       "columnCustomDisplayInfos": {},
       "data": [
        [
         2015,
         37
        ],
        [
         2016,
         31
        ],
        [
         2017,
         26
        ]
       ],
       "datasetInfos": [],
       "dbfsResultPath": null,
       "isJsonSchema": true,
       "metadata": {},
       "overflow": false,
       "plotOptions": {
        "customPlotOptions": {},
        "displayType": "table",
        "pivotAggregation": null,
        "pivotColumns": null,
        "xColumns": null,
        "yColumns": null
       },
       "removedWidgets": [],
       "schema": [
        {
         "metadata": "{}",
         "name": "year_joined",
         "type": "\"integer\""
        },
        {
         "metadata": "{}",
         "name": "median_follower_count",
         "type": "\"integer\""
        }
       ],
       "type": "table"
      }
     },
     "output_type": "display_data"
    }
   ],
   "source": [
    "display(df_10_agg)\n"
   ]
  },
  {
   "cell_type": "markdown",
   "metadata": {
    "application/vnd.databricks.v1+cell": {
     "cellMetadata": {
      "byteLimit": 2048000,
      "rowLimit": 10000
     },
     "inputWidgets": {},
     "nuid": "d93920b3-e9b6-4ea8-8f7a-6336c5fca8a4",
     "showTitle": false,
     "tableResultSettingsMap": {},
     "title": ""
    }
   },
   "source": [
    "Task 11: Find the median follower count of users based on their joining year and age group \n",
    "\n"
   ]
  },
  {
   "cell_type": "code",
   "execution_count": 0,
   "metadata": {
    "application/vnd.databricks.v1+cell": {
     "cellMetadata": {
      "byteLimit": 2048000,
      "rowLimit": 10000
     },
     "inputWidgets": {},
     "nuid": "0fed8765-43ad-414d-936e-4d679caa2fe0",
     "showTitle": false,
     "tableResultSettingsMap": {},
     "title": ""
    }
   },
   "outputs": [
    {
     "output_type": "display_data",
     "data": {
      "text/html": [
       "<style scoped>\n",
       "  .table-result-container {\n",
       "    max-height: 300px;\n",
       "    overflow: auto;\n",
       "  }\n",
       "  table, th, td {\n",
       "    border: 1px solid black;\n",
       "    border-collapse: collapse;\n",
       "  }\n",
       "  th, td {\n",
       "    padding: 5px;\n",
       "  }\n",
       "  th {\n",
       "    text-align: left;\n",
       "  }\n",
       "</style><div class='table-result-container'><table class='table-result'><thead style='background-color: white'><tr><th>age</th><th>follower_count</th><th>user_name</th><th>date_joined</th><th>age_group</th><th>year_joined</th></tr></thead><tbody><tr><td>20</td><td>942</td><td>Aaron Abbott</td><td>2015-10-23T16:08:41Z</td><td>18-24</td><td>2015</td></tr><tr><td>47</td><td>432</td><td>Aaron Adams</td><td>2017-05-20T13:39:34Z</td><td>36-50</td><td>2017</td></tr><tr><td>21</td><td>190</td><td>Aaron Alexander</td><td>2015-10-25T07:36:08Z</td><td>18-24</td><td>2015</td></tr><tr><td>21</td><td>5</td><td>Aaron Anderson</td><td>2015-10-24T05:35:27Z</td><td>18-24</td><td>2015</td></tr><tr><td>20</td><td>416</td><td>Aaron Bailey</td><td>2015-11-02T04:40:42Z</td><td>18-24</td><td>2015</td></tr><tr><td>20</td><td>328</td><td>Aaron Baldwin</td><td>2016-03-02T01:37:55Z</td><td>18-24</td><td>2016</td></tr><tr><td>21</td><td>20</td><td>Aaron Bartlett</td><td>2015-11-24T02:15:36Z</td><td>18-24</td><td>2015</td></tr><tr><td>28</td><td>4</td><td>Aaron Berry</td><td>2016-04-12T03:40:13Z</td><td>25-35</td><td>2016</td></tr><tr><td>20</td><td>23</td><td>Aaron Brown</td><td>2015-10-28T10:38:07Z</td><td>18-24</td><td>2015</td></tr><tr><td>23</td><td>30</td><td>Aaron Buchanan</td><td>2016-01-17T21:06:05Z</td><td>18-24</td><td>2016</td></tr></tbody></table></div>"
      ]
     },
     "metadata": {
      "application/vnd.databricks.v1+output": {
       "addedWidgets": {},
       "aggData": [],
       "aggError": "",
       "aggOverflow": false,
       "aggSchema": [],
       "aggSeriesLimitReached": false,
       "aggType": "",
       "arguments": {},
       "columnCustomDisplayInfos": {},
       "data": [
        [
         20,
         942,
         "Aaron Abbott",
         "2015-10-23T16:08:41Z",
         "18-24",
         2015
        ],
        [
         47,
         432,
         "Aaron Adams",
         "2017-05-20T13:39:34Z",
         "36-50",
         2017
        ],
        [
         21,
         190,
         "Aaron Alexander",
         "2015-10-25T07:36:08Z",
         "18-24",
         2015
        ],
        [
         21,
         5,
         "Aaron Anderson",
         "2015-10-24T05:35:27Z",
         "18-24",
         2015
        ],
        [
         20,
         416,
         "Aaron Bailey",
         "2015-11-02T04:40:42Z",
         "18-24",
         2015
        ],
        [
         20,
         328,
         "Aaron Baldwin",
         "2016-03-02T01:37:55Z",
         "18-24",
         2016
        ],
        [
         21,
         20,
         "Aaron Bartlett",
         "2015-11-24T02:15:36Z",
         "18-24",
         2015
        ],
        [
         28,
         4,
         "Aaron Berry",
         "2016-04-12T03:40:13Z",
         "25-35",
         2016
        ],
        [
         20,
         23,
         "Aaron Brown",
         "2015-10-28T10:38:07Z",
         "18-24",
         2015
        ],
        [
         23,
         30,
         "Aaron Buchanan",
         "2016-01-17T21:06:05Z",
         "18-24",
         2016
        ]
       ],
       "datasetInfos": [],
       "dbfsResultPath": null,
       "isJsonSchema": true,
       "metadata": {},
       "overflow": false,
       "plotOptions": {
        "customPlotOptions": {},
        "displayType": "table",
        "pivotAggregation": null,
        "pivotColumns": null,
        "xColumns": null,
        "yColumns": null
       },
       "removedWidgets": [],
       "schema": [
        {
         "metadata": "{}",
         "name": "age",
         "type": "\"long\""
        },
        {
         "metadata": "{}",
         "name": "follower_count",
         "type": "\"integer\""
        },
        {
         "metadata": "{}",
         "name": "user_name",
         "type": "\"string\""
        },
        {
         "metadata": "{}",
         "name": "date_joined",
         "type": "\"timestamp\""
        },
        {
         "metadata": "{}",
         "name": "age_group",
         "type": "\"string\""
        },
        {
         "metadata": "{}",
         "name": "year_joined",
         "type": "\"integer\""
        }
       ],
       "type": "table"
      }
     },
     "output_type": "display_data"
    }
   ],
   "source": [
    "# make a df with a new column with the age groups: select: age, follower_count\n",
    "\n",
    "df_11_age_groups = df_all.select(\"age\", \"follower_count\", \"user_name\", \"date_joined\").withColumn(\n",
    "    \"age_group\", \n",
    "    when((col(\"age\") >= 18) & (col(\"age\") <= 24), \"18-24\")\n",
    "    .when((col(\"age\") >= 25) & (col(\"age\") <= 35), \"25-35\")\n",
    "    .when((col(\"age\") >= 36) & (col(\"age\") <= 50), \"36-50\")\n",
    "    .when(col(\"age\") >= 51, \"50+\")\n",
    "    .otherwise(\"Unknown\") \n",
    ").withColumn(\"year_joined\", year(col(\"date_joined\"))).dropDuplicates([\"user_name\"])\n",
    "\n",
    "display(df_11_age_groups.limit(10))"
   ]
  },
  {
   "cell_type": "code",
   "execution_count": 0,
   "metadata": {
    "application/vnd.databricks.v1+cell": {
     "cellMetadata": {
      "byteLimit": 2048000,
      "rowLimit": 10000
     },
     "inputWidgets": {},
     "nuid": "c848f3e1-5e9d-4a8c-b112-2f2a3f50e97d",
     "showTitle": false,
     "tableResultSettingsMap": {},
     "title": ""
    }
   },
   "outputs": [
    {
     "output_type": "display_data",
     "data": {
      "text/html": [
       "<style scoped>\n",
       "  .table-result-container {\n",
       "    max-height: 300px;\n",
       "    overflow: auto;\n",
       "  }\n",
       "  table, th, td {\n",
       "    border: 1px solid black;\n",
       "    border-collapse: collapse;\n",
       "  }\n",
       "  th, td {\n",
       "    padding: 5px;\n",
       "  }\n",
       "  th {\n",
       "    text-align: left;\n",
       "  }\n",
       "</style><div class='table-result-container'><table class='table-result'><thead style='background-color: white'><tr><th>year_joined</th><th>age_group</th><th>median_follower_count</th></tr></thead><tbody><tr><td>2015</td><td>18-24</td><td>59</td></tr><tr><td>2015</td><td>25-35</td><td>37</td></tr><tr><td>2015</td><td>36-50</td><td>25</td></tr><tr><td>2015</td><td>50+</td><td>25</td></tr><tr><td>2016</td><td>18-24</td><td>35</td></tr><tr><td>2016</td><td>25-35</td><td>32</td></tr><tr><td>2016</td><td>36-50</td><td>27</td></tr><tr><td>2016</td><td>50+</td><td>29</td></tr><tr><td>2017</td><td>18-24</td><td>23</td></tr><tr><td>2017</td><td>25-35</td><td>23</td></tr><tr><td>2017</td><td>36-50</td><td>27</td></tr><tr><td>2017</td><td>50+</td><td>26</td></tr></tbody></table></div>"
      ]
     },
     "metadata": {
      "application/vnd.databricks.v1+output": {
       "addedWidgets": {},
       "aggData": [],
       "aggError": "",
       "aggOverflow": false,
       "aggSchema": [],
       "aggSeriesLimitReached": false,
       "aggType": "",
       "arguments": {},
       "columnCustomDisplayInfos": {},
       "data": [
        [
         2015,
         "18-24",
         59
        ],
        [
         2015,
         "25-35",
         37
        ],
        [
         2015,
         "36-50",
         25
        ],
        [
         2015,
         "50+",
         25
        ],
        [
         2016,
         "18-24",
         35
        ],
        [
         2016,
         "25-35",
         32
        ],
        [
         2016,
         "36-50",
         27
        ],
        [
         2016,
         "50+",
         29
        ],
        [
         2017,
         "18-24",
         23
        ],
        [
         2017,
         "25-35",
         23
        ],
        [
         2017,
         "36-50",
         27
        ],
        [
         2017,
         "50+",
         26
        ]
       ],
       "datasetInfos": [],
       "dbfsResultPath": null,
       "isJsonSchema": true,
       "metadata": {},
       "overflow": false,
       "plotOptions": {
        "customPlotOptions": {},
        "displayType": "table",
        "pivotAggregation": null,
        "pivotColumns": null,
        "xColumns": null,
        "yColumns": null
       },
       "removedWidgets": [],
       "schema": [
        {
         "metadata": "{}",
         "name": "year_joined",
         "type": "\"integer\""
        },
        {
         "metadata": "{}",
         "name": "age_group",
         "type": "\"string\""
        },
        {
         "metadata": "{}",
         "name": "median_follower_count",
         "type": "\"integer\""
        }
       ],
       "type": "table"
      }
     },
     "output_type": "display_data"
    }
   ],
   "source": [
    "# Find the median follower count of users that have joined between 2015 and 2020, based on which age group they are part of\n",
    "\n",
    "df_11_agg = df_11_age_groups.groupBy(\"year_joined\", \"age_group\").agg(percentile_approx(\"follower_count\", 0.5).alias(\"median_follower_count\")).orderBy(col(\"year_joined\").asc(), col(\"age_group\").asc())\n",
    "\n",
    "display(df_11_agg)"
   ]
  }
 ],
 "metadata": {
  "application/vnd.databricks.v1+notebook": {
   "dashboards": [],
   "environmentMetadata": null,
   "language": "python",
   "notebookMetadata": {
    "mostRecentlyExecutedCommandWithImplicitDF": {
     "commandId": 1998111686250899,
     "dataframes": [
      "_sqldf"
     ]
    },
    "pythonIndentUnit": 4
   },
   "notebookName": "pinterest_dataCleaning_code_DAG_job",
   "widgets": {}
  },
  "language_info": {
   "name": "python"
  }
 },
 "nbformat": 4,
 "nbformat_minor": 0
}
