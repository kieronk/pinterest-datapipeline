{
 "cells": [
  {
   "cell_type": "markdown",
   "metadata": {
    "application/vnd.databricks.v1+cell": {
     "cellMetadata": {},
     "inputWidgets": {},
     "nuid": "f569dc86-55a9-4302-be8f-5dcc69f63b15",
     "showTitle": false,
     "tableResultSettingsMap": {},
     "title": ""
    }
   },
   "source": [
    "Reading in credentials "
   ]
  },
  {
   "cell_type": "code",
   "execution_count": 0,
   "metadata": {
    "application/vnd.databricks.v1+cell": {
     "cellMetadata": {
      "byteLimit": 2048000,
      "rowLimit": 10000
     },
     "inputWidgets": {},
     "nuid": "26b7fed4-9437-49a8-8173-552a6915e4a3",
     "showTitle": false,
     "tableResultSettingsMap": {},
     "title": ""
    }
   },
   "outputs": [
    {
     "output_type": "display_data",
     "data": {
      "text/html": [
       "<style scoped>\n",
       "  .ansiout {\n",
       "    display: block;\n",
       "    unicode-bidi: embed;\n",
       "    white-space: pre-wrap;\n",
       "    word-wrap: break-word;\n",
       "    word-break: break-all;\n",
       "    font-family: \"Menlo\", \"Monaco\", \"Consolas\", \"Ubuntu Mono\", \"Source Code Pro\", monospace;\n",
       "    font-size: 13px;\n",
       "    color: #555;\n",
       "    margin-left: 4px;\n",
       "    line-height: 19px;\n",
       "  }\n",
       "</style>\n",
       "<div class=\"ansiout\"></div>"
      ]
     },
     "metadata": {
      "application/vnd.databricks.v1+output": {
       "addedWidgets": {},
       "arguments": {},
       "data": "<div class=\"ansiout\"></div>",
       "datasetInfos": [],
       "metadata": {},
       "removedWidgets": [],
       "type": "html"
      }
     },
     "output_type": "display_data"
    }
   ],
   "source": [
    "from pyspark.sql import functions as F\n",
    "from pyspark.sql.types import *\n",
    "from pyspark.sql import SparkSession\n",
    "import urllib"
   ]
  },
  {
   "cell_type": "code",
   "execution_count": 0,
   "metadata": {
    "application/vnd.databricks.v1+cell": {
     "cellMetadata": {
      "byteLimit": 2048000,
      "rowLimit": 10000
     },
     "inputWidgets": {},
     "nuid": "a950d412-80bf-419d-ba70-95e1a22e8592",
     "showTitle": false,
     "tableResultSettingsMap": {},
     "title": ""
    }
   },
   "outputs": [
    {
     "output_type": "display_data",
     "data": {
      "text/html": [
       "<style scoped>\n",
       "  .ansiout {\n",
       "    display: block;\n",
       "    unicode-bidi: embed;\n",
       "    white-space: pre-wrap;\n",
       "    word-wrap: break-word;\n",
       "    word-break: break-all;\n",
       "    font-family: \"Menlo\", \"Monaco\", \"Consolas\", \"Ubuntu Mono\", \"Source Code Pro\", monospace;\n",
       "    font-size: 13px;\n",
       "    color: #555;\n",
       "    margin-left: 4px;\n",
       "    line-height: 19px;\n",
       "  }\n",
       "</style>\n",
       "<div class=\"ansiout\"></div>"
      ]
     },
     "metadata": {
      "application/vnd.databricks.v1+output": {
       "addedWidgets": {},
       "arguments": {},
       "data": "<div class=\"ansiout\"></div>",
       "datasetInfos": [],
       "metadata": {},
       "removedWidgets": [],
       "type": "html"
      }
     },
     "output_type": "display_data"
    }
   ],
   "source": [
    "# Define the path to the Delta table\n",
    "delta_table_path = \"dbfs:/user/hive/warehouse/authentication_credentials\"\n",
    "\n",
    "# Read the Delta table to a Spark DataFrame\n",
    "aws_keys_df = spark.read.format(\"delta\").load(delta_table_path)"
   ]
  },
  {
   "cell_type": "code",
   "execution_count": 0,
   "metadata": {
    "application/vnd.databricks.v1+cell": {
     "cellMetadata": {
      "byteLimit": 2048000,
      "rowLimit": 10000
     },
     "inputWidgets": {},
     "nuid": "cee7f650-a10e-48d5-b168-232917ba46ea",
     "showTitle": false,
     "tableResultSettingsMap": {},
     "title": ""
    }
   },
   "outputs": [
    {
     "output_type": "display_data",
     "data": {
      "text/html": [
       "<style scoped>\n",
       "  .ansiout {\n",
       "    display: block;\n",
       "    unicode-bidi: embed;\n",
       "    white-space: pre-wrap;\n",
       "    word-wrap: break-word;\n",
       "    word-break: break-all;\n",
       "    font-family: \"Menlo\", \"Monaco\", \"Consolas\", \"Ubuntu Mono\", \"Source Code Pro\", monospace;\n",
       "    font-size: 13px;\n",
       "    color: #555;\n",
       "    margin-left: 4px;\n",
       "    line-height: 19px;\n",
       "  }\n",
       "</style>\n",
       "<div class=\"ansiout\"></div>"
      ]
     },
     "metadata": {
      "application/vnd.databricks.v1+output": {
       "addedWidgets": {},
       "arguments": {},
       "data": "<div class=\"ansiout\"></div>",
       "datasetInfos": [],
       "metadata": {},
       "removedWidgets": [],
       "type": "html"
      }
     },
     "output_type": "display_data"
    }
   ],
   "source": [
    "# Get the AWS access key and secret key from the spark dataframe\n",
    "ACCESS_KEY = aws_keys_df.select('Access key ID').collect()[0]['Access key ID']\n",
    "SECRET_KEY = aws_keys_df.select('Secret access key').collect()[0]['Secret access key']\n",
    "# Encode the secrete key\n",
    "ENCODED_SECRET_KEY = urllib.parse.quote(string=SECRET_KEY, safe=\"\")"
   ]
  },
  {
   "cell_type": "code",
   "execution_count": 0,
   "metadata": {
    "application/vnd.databricks.v1+cell": {
     "cellMetadata": {
      "byteLimit": 2048000,
      "implicitDf": true,
      "rowLimit": 10000
     },
     "inputWidgets": {},
     "nuid": "a684efbe-b157-4134-a818-da6a4781cb07",
     "showTitle": false,
     "tableResultSettingsMap": {},
     "title": ""
    }
   },
   "outputs": [
    {
     "output_type": "display_data",
     "data": {
      "text/html": [
       "<style scoped>\n",
       "  .table-result-container {\n",
       "    max-height: 300px;\n",
       "    overflow: auto;\n",
       "  }\n",
       "  table, th, td {\n",
       "    border: 1px solid black;\n",
       "    border-collapse: collapse;\n",
       "  }\n",
       "  th, td {\n",
       "    padding: 5px;\n",
       "  }\n",
       "  th {\n",
       "    text-align: left;\n",
       "  }\n",
       "</style><div class='table-result-container'><table class='table-result'><thead style='background-color: white'><tr><th>key</th><th>value</th></tr></thead><tbody><tr><td>spark.databricks.delta.formatCheck.enabled</td><td>false</td></tr></tbody></table></div>"
      ]
     },
     "metadata": {
      "application/vnd.databricks.v1+output": {
       "addedWidgets": {},
       "aggData": [],
       "aggError": "",
       "aggOverflow": false,
       "aggSchema": [],
       "aggSeriesLimitReached": false,
       "aggType": "",
       "arguments": {},
       "columnCustomDisplayInfos": {},
       "data": [
        [
         "spark.databricks.delta.formatCheck.enabled",
         "false"
        ]
       ],
       "datasetInfos": [],
       "dbfsResultPath": null,
       "isJsonSchema": true,
       "metadata": {},
       "overflow": false,
       "plotOptions": {
        "customPlotOptions": {},
        "displayType": "table",
        "pivotAggregation": null,
        "pivotColumns": null,
        "xColumns": null,
        "yColumns": null
       },
       "removedWidgets": [],
       "schema": [
        {
         "metadata": "{}",
         "name": "key",
         "type": "\"string\""
        },
        {
         "metadata": "{}",
         "name": "value",
         "type": "\"string\""
        }
       ],
       "type": "table"
      }
     },
     "output_type": "display_data"
    }
   ],
   "source": [
    "%sql\n",
    "-- Disable format checks during the reading of Delta tables\n",
    "SET spark.databricks.delta.formatCheck.enabled=false"
   ]
  },
  {
   "cell_type": "markdown",
   "metadata": {
    "application/vnd.databricks.v1+cell": {
     "cellMetadata": {},
     "inputWidgets": {},
     "nuid": "9ae29d03-0741-42b2-802d-bf5f8eb22d0b",
     "showTitle": false,
     "tableResultSettingsMap": {},
     "title": ""
    }
   },
   "source": [
    "Getting the pin stream from kinesis, cleaning it, then writing it to a Delta Table"
   ]
  },
  {
   "cell_type": "code",
   "execution_count": 0,
   "metadata": {
    "application/vnd.databricks.v1+cell": {
     "cellMetadata": {
      "byteLimit": 2048000,
      "rowLimit": 10000
     },
     "inputWidgets": {},
     "nuid": "d5874c66-8453-4454-94b7-f7d2e77322d4",
     "showTitle": false,
     "tableResultSettingsMap": {},
     "title": ""
    }
   },
   "outputs": [
    {
     "output_type": "display_data",
     "data": {
      "text/html": [
       "<style scoped>\n",
       "  .table-result-container {\n",
       "    max-height: 300px;\n",
       "    overflow: auto;\n",
       "  }\n",
       "  table, th, td {\n",
       "    border: 1px solid black;\n",
       "    border-collapse: collapse;\n",
       "  }\n",
       "  th, td {\n",
       "    padding: 5px;\n",
       "  }\n",
       "  th {\n",
       "    text-align: left;\n",
       "  }\n",
       "</style><div class='table-result-container'><table class='table-result'><thead style='background-color: white'><tr><th>partitionKey</th><th>data</th><th>stream</th><th>shardId</th><th>sequenceNumber</th><th>approximateArrivalTimestamp</th></tr></thead><tbody><tr><td>471</td><td>eyJpbmRleCI6MTQ5LCJ1bmlxdWVfaWQiOiIzNTE5NDQzMi0zNWY5LTQ2ZmItYTU1Ny0yN2MxNjBjNjIwODgiLCJ0aXRsZSI6IkZhbGwgQXJ0IFByb2plY3RzLUZhbGwgQ3JhZnRzIGZyb20gTmF0dXJlIC0gVGhlIEtpdGNoZW4= (truncated)</td><td>streaming-0ebb0073c95b-pin</td><td>shardId-000000000002</td><td>49657351103706729435675262446134520444477546845934977058</td><td>2024-11-06T08:19:47.019+0000</td></tr><tr><td>471</td><td>eyJpbmRleCI6MTQ5LCJ1bmlxdWVfaWQiOiIzNTE5NDQzMi0zNWY5LTQ2ZmItYTU1Ny0yN2MxNjBjNjIwODgiLCJ0aXRsZSI6IkZhbGwgQXJ0IFByb2plY3RzLUZhbGwgQ3JhZnRzIGZyb20gTmF0dXJlIC0gVGhlIEtpdGNoZW4= (truncated)</td><td>streaming-0ebb0073c95b-pin</td><td>shardId-000000000002</td><td>49657351103706729435675262686055520753557630540440404002</td><td>2024-11-06T08:21:29.284+0000</td></tr><tr><td>471</td><td>eyJpbmRleCI6MTQ5LCJ1bmlxdWVfaWQiOiIzNTE5NDQzMi0zNWY5LTQ2ZmItYTU1Ny0yN2MxNjBjNjIwODgiLCJ0aXRsZSI6IkZhbGwgQXJ0IFByb2plY3RzLUZhbGwgQ3JhZnRzIGZyb20gTmF0dXJlIC0gVGhlIEtpdGNoZW4= (truncated)</td><td>streaming-0ebb0073c95b-pin</td><td>shardId-000000000002</td><td>49657351103706729435675262800612122494420279598799388706</td><td>2024-11-06T08:22:13.430+0000</td></tr><tr><td>471</td><td>eyJpbmRleCI6MTQ5LCJ1bmlxdWVfaWQiOiIzNTE5NDQzMi0zNWY5LTQ2ZmItYTU1Ny0yN2MxNjBjNjIwODgiLCJ0aXRsZSI6IkZhbGwgQXJ0IFByb2plY3RzLUZhbGwgQ3JhZnRzIGZyb20gTmF0dXJlIC0gVGhlIEtpdGNoZW4= (truncated)</td><td>streaming-0ebb0073c95b-pin</td><td>shardId-000000000002</td><td>49657351103706729435675262895437845933352565690620444706</td><td>2024-11-06T08:22:55.510+0000</td></tr><tr><td>471</td><td>eyJpbmRleCI6MTQ5LCJ1bmlxdWVfaWQiOiIzNTE5NDQzMi0zNWY5LTQ2ZmItYTU1Ny0yN2MxNjBjNjIwODgiLCJ0aXRsZSI6IkZhbGwgQXJ0IFByb2plY3RzLUZhbGwgQ3JhZnRzIGZyb20gTmF0dXJlIC0gVGhlIEtpdGNoZW4= (truncated)</td><td>streaming-0ebb0073c95b-pin</td><td>shardId-000000000002</td><td>49657351103706729435675263615985439717522711314679463970</td><td>2024-11-06T08:28:00.651+0000</td></tr><tr><td>471</td><td>eyJpbmRleCI6MTQ5LCJ1bmlxdWVfaWQiOiIzNTE5NDQzMi0zNWY5LTQ2ZmItYTU1Ny0yN2MxNjBjNjIwODgiLCJ0aXRsZSI6IkZhbGwgQXJ0IFByb2plY3RzLUZhbGwgQ3JhZnRzIGZyb20gTmF0dXJlIC0gVGhlIEtpdGNoZW4= (truncated)</td><td>streaming-0ebb0073c95b-pin</td><td>shardId-000000000002</td><td>49657351103706729435675263636133397427220121415210500130</td><td>2024-11-06T08:28:06.015+0000</td></tr><tr><td>471</td><td>eyJpbmRleCI6MTQ5LCJ1bmlxdWVfaWQiOiIzNTE5NDQzMi0zNWY5LTQ2ZmItYTU1Ny0yN2MxNjBjNjIwODgiLCJ0aXRsZSI6IkZhbGwgQXJ0IFByb2plY3RzLUZhbGwgQ3JhZnRzIGZyb20gTmF0dXJlIC0gVGhlIEtpdGNoZW4= (truncated)</td><td>streaming-0ebb0073c95b-pin</td><td>shardId-000000000002</td><td>49657351103706729435675263652102098578509758527501762594</td><td>2024-11-06T08:28:11.043+0000</td></tr><tr><td>471</td><td>eyJpbmRleCI6MTQ5LCJ1bmlxdWVfaWQiOiIzNTE5NDQzMi0zNWY5LTQ2ZmItYTU1Ny0yN2MxNjBjNjIwODgiLCJ0aXRsZSI6IkZhbGwgQXJ0IFByb2plY3RzLUZhbGwgQ3JhZnRzIGZyb20gTmF0dXJlIC0gVGhlIEtpdGNoZW4= (truncated)</td><td>streaming-0ebb0073c95b-pin</td><td>shardId-000000000002</td><td>49657351103706729435675264070086991784448193147615313954</td><td>2024-11-06T08:31:06.674+0000</td></tr><tr><td>471</td><td>eyJpbmRleCI6MTQ5LCJ1bmlxdWVfaWQiOiIzNTE5NDQzMi0zNWY5LTQ2ZmItYTU1Ny0yN2MxNjBjNjIwODgiLCJ0aXRsZSI6IkZhbGwgQXJ0IFByb2plY3RzLUZhbGwgQ3JhZnRzIGZyb20gTmF0dXJlIC0gVGhlIEtpdGNoZW4= (truncated)</td><td>streaming-0ebb0073c95b-pin</td><td>shardId-000000000002</td><td>49657351103706729435675264208583951531139344646033899554</td><td>2024-11-06T08:32:05.480+0000</td></tr><tr><td>471</td><td>eyJpbmRleCI6MTQ5LCJ1bmlxdWVfaWQiOiIzNTE5NDQzMi0zNWY5LTQ2ZmItYTU1Ny0yN2MxNjBjNjIwODgiLCJ0aXRsZSI6IkZhbGwgQXJ0IFByb2plY3RzLUZhbGwgQ3JhZnRzIGZyb20gTmF0dXJlIC0gVGhlIEtpdGNoZW4= (truncated)</td><td>streaming-0ebb0073c95b-pin</td><td>shardId-000000000002</td><td>49657351103706729435675264299630572857956299594126065698</td><td>2024-11-06T08:32:41.184+0000</td></tr><tr><td>471</td><td>eyJpbmRleCI6MTQ5LCJ1bmlxdWVfaWQiOiIzNTE5NDQzMi0zNWY5LTQ2ZmItYTU1Ny0yN2MxNjBjNjIwODgiLCJ0aXRsZSI6IkZhbGwgQXJ0IFByb2plY3RzLUZhbGwgQ3JhZnRzIGZyb20gTmF0dXJlIC0gVGhlIEtpdGNoZW4= (truncated)</td><td>streaming-0ebb0073c95b-pin</td><td>shardId-000000000002</td><td>49657351103706729435675264941411813790954893770355638306</td><td>2024-11-06T08:37:15.624+0000</td></tr><tr><td>471</td><td>eyJpbmRleCI6MTQ5LCJ1bmlxdWVfaWQiOiIzNTE5NDQzMi0zNWY5LTQ2ZmItYTU1Ny0yN2MxNjBjNjIwODgiLCJ0aXRsZSI6IkZhbGwgQXJ0IFByb2plY3RzLUZhbGwgQ3JhZnRzIGZyb20gTmF0dXJlIC0gVGhlIEtpdGNoZW4= (truncated)</td><td>streaming-0ebb0073c95b-pin</td><td>shardId-000000000002</td><td>49657351103706729435675278668884179171211500096910786594</td><td>2024-11-06T10:33:29.570+0000</td></tr><tr><td>471</td><td>eyJpbmRleCI6MTQ5LCJ1bmlxdWVfaWQiOiIzNTE5NDQzMi0zNWY5LTQ2ZmItYTU1Ny0yN2MxNjBjNjIwODgiLCJ0aXRsZSI6IkZhbGwgQXJ0IFByb2plY3RzLUZhbGwgQ3JhZnRzIGZyb20gTmF0dXJlIC0gVGhlIEtpdGNoZW4= (truncated)</td><td>streaming-0ebb0073c95b-pin</td><td>shardId-000000000002</td><td>49657351103706729435675278736511489520453857916680667170</td><td>2024-11-06T10:33:56.180+0000</td></tr><tr><td>471</td><td>eyJpbmRleCI6MTQ5LCJ1bmlxdWVfaWQiOiIzNTE5NDQzMi0zNWY5LTQ2ZmItYTU1Ny0yN2MxNjBjNjIwODgiLCJ0aXRsZSI6IkZhbGwgQXJ0IFByb2plY3RzLUZhbGwgQ3JhZnRzIGZyb20gTmF0dXJlIC0gVGhlIEtpdGNoZW4= (truncated)</td><td>streaming-0ebb0073c95b-pin</td><td>shardId-000000000002</td><td>49657351103706729435675278866542341752383761029753995298</td><td>2024-11-06T10:34:49.607+0000</td></tr><tr><td>471</td><td>eyJpbmRleCI6MTQ5LCJ1bmlxdWVfaWQiOiIzNTE5NDQzMi0zNWY5LTQ2ZmItYTU1Ny0yN2MxNjBjNjIwODgiLCJ0aXRsZSI6IkZhbGwgQXJ0IFByb2plY3RzLUZhbGwgQ3JhZnRzIGZyb20gTmF0dXJlIC0gVGhlIEtpdGNoZW4= (truncated)</td><td>streaming-0ebb0073c95b-pin</td><td>shardId-000000000002</td><td>49657351103706729435675279162785987071489804787754467362</td><td>2024-11-06T10:36:51.304+0000</td></tr><tr><td>471</td><td>eyJpbmRleCI6MTQ5LCJ1bmlxdWVfaWQiOiIzNTE5NDQzMi0zNWY5LTQ2ZmItYTU1Ny0yN2MxNjBjNjIwODgiLCJ0aXRsZSI6IkZhbGwgQXJ0IFByb2plY3RzLUZhbGwgQ3JhZnRzIGZyb20gTmF0dXJlIC0gVGhlIEtpdGNoZW4= (truncated)</td><td>streaming-0ebb0073c95b-pin</td><td>shardId-000000000002</td><td>49657351103706729435675279211596367038430458884747427874</td><td>2024-11-06T10:37:09.012+0000</td></tr><tr><td>471</td><td>eyJpbmRleCI6MTQ5LCJ1bmlxdWVfaWQiOiIzNTE5NDQzMi0zNWY5LTQ2ZmItYTU1Ny0yN2MxNjBjNjIwODgiLCJ0aXRsZSI6IkZhbGwgQXJ0IFByb2plY3RzLUZhbGwgQ3JhZnRzIGZyb20gTmF0dXJlIC0gVGhlIEtpdGNoZW4= (truncated)</td><td>streaming-0ebb0073c95b-pin</td><td>shardId-000000000002</td><td>49657351103706729435675280094581278575120257279053529122</td><td>2024-11-06T10:43:08.679+0000</td></tr><tr><td>471</td><td>eyJpbmRleCI6MTQ5LCJ1bmlxdWVfaWQiOiIzNTE5NDQzMi0zNWY5LTQ2ZmItYTU1Ny0yN2MxNjBjNjIwODgiLCJ0aXRsZSI6IkZhbGwgQXJ0IFByb2plY3RzLUZhbGwgQ3JhZnRzIGZyb20gTmF0dXJlIC0gVGhlIEtpdGNoZW4= (truncated)</td><td>streaming-0ebb0073c95b-pin</td><td>shardId-000000000002</td><td>49657351103706729435675280239556871789126206662161465378</td><td>2024-11-06T10:44:07.918+0000</td></tr><tr><td>471</td><td>eyJpbmRleCI6MTQ5LCJ1bmlxdWVfaWQiOiIzNTE5NDQzMi0zNWY5LTQ2ZmItYTU1Ny0yN2MxNjBjNjIwODgiLCJ0aXRsZSI6IkZhbGwgQXJ0IFByb2plY3RzLUZhbGwgQ3JhZnRzIGZyb20gTmF0dXJlIC0gVGhlIEtpdGNoZW4= (truncated)</td><td>streaming-0ebb0073c95b-pin</td><td>shardId-000000000002</td><td>49657351103706729435675283061090602852462424391669514274</td><td>2024-11-06T11:14:05.663+0000</td></tr></tbody></table></div>"
      ]
     },
     "metadata": {
      "application/vnd.databricks.v1+output": {
       "addedWidgets": {},
       "aggData": [],
       "aggError": "",
       "aggOverflow": false,
       "aggSchema": [],
       "aggSeriesLimitReached": false,
       "aggType": "",
       "arguments": {},
       "columnCustomDisplayInfos": {},
       "data": [
        [
         "471",
         "eyJpbmRleCI6MTQ5LCJ1bmlxdWVfaWQiOiIzNTE5NDQzMi0zNWY5LTQ2ZmItYTU1Ny0yN2MxNjBjNjIwODgiLCJ0aXRsZSI6IkZhbGwgQXJ0IFByb2plY3RzLUZhbGwgQ3JhZnRzIGZyb20gTmF0dXJlIC0gVGhlIEtpdGNoZW4= (truncated)",
         "streaming-0ebb0073c95b-pin",
         "shardId-000000000002",
         "49657351103706729435675262446134520444477546845934977058",
         "2024-11-06T08:19:47.019+0000"
        ],
        [
         "471",
         "eyJpbmRleCI6MTQ5LCJ1bmlxdWVfaWQiOiIzNTE5NDQzMi0zNWY5LTQ2ZmItYTU1Ny0yN2MxNjBjNjIwODgiLCJ0aXRsZSI6IkZhbGwgQXJ0IFByb2plY3RzLUZhbGwgQ3JhZnRzIGZyb20gTmF0dXJlIC0gVGhlIEtpdGNoZW4= (truncated)",
         "streaming-0ebb0073c95b-pin",
         "shardId-000000000002",
         "49657351103706729435675262686055520753557630540440404002",
         "2024-11-06T08:21:29.284+0000"
        ],
        [
         "471",
         "eyJpbmRleCI6MTQ5LCJ1bmlxdWVfaWQiOiIzNTE5NDQzMi0zNWY5LTQ2ZmItYTU1Ny0yN2MxNjBjNjIwODgiLCJ0aXRsZSI6IkZhbGwgQXJ0IFByb2plY3RzLUZhbGwgQ3JhZnRzIGZyb20gTmF0dXJlIC0gVGhlIEtpdGNoZW4= (truncated)",
         "streaming-0ebb0073c95b-pin",
         "shardId-000000000002",
         "49657351103706729435675262800612122494420279598799388706",
         "2024-11-06T08:22:13.430+0000"
        ],
        [
         "471",
         "eyJpbmRleCI6MTQ5LCJ1bmlxdWVfaWQiOiIzNTE5NDQzMi0zNWY5LTQ2ZmItYTU1Ny0yN2MxNjBjNjIwODgiLCJ0aXRsZSI6IkZhbGwgQXJ0IFByb2plY3RzLUZhbGwgQ3JhZnRzIGZyb20gTmF0dXJlIC0gVGhlIEtpdGNoZW4= (truncated)",
         "streaming-0ebb0073c95b-pin",
         "shardId-000000000002",
         "49657351103706729435675262895437845933352565690620444706",
         "2024-11-06T08:22:55.510+0000"
        ],
        [
         "471",
         "eyJpbmRleCI6MTQ5LCJ1bmlxdWVfaWQiOiIzNTE5NDQzMi0zNWY5LTQ2ZmItYTU1Ny0yN2MxNjBjNjIwODgiLCJ0aXRsZSI6IkZhbGwgQXJ0IFByb2plY3RzLUZhbGwgQ3JhZnRzIGZyb20gTmF0dXJlIC0gVGhlIEtpdGNoZW4= (truncated)",
         "streaming-0ebb0073c95b-pin",
         "shardId-000000000002",
         "49657351103706729435675263615985439717522711314679463970",
         "2024-11-06T08:28:00.651+0000"
        ],
        [
         "471",
         "eyJpbmRleCI6MTQ5LCJ1bmlxdWVfaWQiOiIzNTE5NDQzMi0zNWY5LTQ2ZmItYTU1Ny0yN2MxNjBjNjIwODgiLCJ0aXRsZSI6IkZhbGwgQXJ0IFByb2plY3RzLUZhbGwgQ3JhZnRzIGZyb20gTmF0dXJlIC0gVGhlIEtpdGNoZW4= (truncated)",
         "streaming-0ebb0073c95b-pin",
         "shardId-000000000002",
         "49657351103706729435675263636133397427220121415210500130",
         "2024-11-06T08:28:06.015+0000"
        ],
        [
         "471",
         "eyJpbmRleCI6MTQ5LCJ1bmlxdWVfaWQiOiIzNTE5NDQzMi0zNWY5LTQ2ZmItYTU1Ny0yN2MxNjBjNjIwODgiLCJ0aXRsZSI6IkZhbGwgQXJ0IFByb2plY3RzLUZhbGwgQ3JhZnRzIGZyb20gTmF0dXJlIC0gVGhlIEtpdGNoZW4= (truncated)",
         "streaming-0ebb0073c95b-pin",
         "shardId-000000000002",
         "49657351103706729435675263652102098578509758527501762594",
         "2024-11-06T08:28:11.043+0000"
        ],
        [
         "471",
         "eyJpbmRleCI6MTQ5LCJ1bmlxdWVfaWQiOiIzNTE5NDQzMi0zNWY5LTQ2ZmItYTU1Ny0yN2MxNjBjNjIwODgiLCJ0aXRsZSI6IkZhbGwgQXJ0IFByb2plY3RzLUZhbGwgQ3JhZnRzIGZyb20gTmF0dXJlIC0gVGhlIEtpdGNoZW4= (truncated)",
         "streaming-0ebb0073c95b-pin",
         "shardId-000000000002",
         "49657351103706729435675264070086991784448193147615313954",
         "2024-11-06T08:31:06.674+0000"
        ],
        [
         "471",
         "eyJpbmRleCI6MTQ5LCJ1bmlxdWVfaWQiOiIzNTE5NDQzMi0zNWY5LTQ2ZmItYTU1Ny0yN2MxNjBjNjIwODgiLCJ0aXRsZSI6IkZhbGwgQXJ0IFByb2plY3RzLUZhbGwgQ3JhZnRzIGZyb20gTmF0dXJlIC0gVGhlIEtpdGNoZW4= (truncated)",
         "streaming-0ebb0073c95b-pin",
         "shardId-000000000002",
         "49657351103706729435675264208583951531139344646033899554",
         "2024-11-06T08:32:05.480+0000"
        ],
        [
         "471",
         "eyJpbmRleCI6MTQ5LCJ1bmlxdWVfaWQiOiIzNTE5NDQzMi0zNWY5LTQ2ZmItYTU1Ny0yN2MxNjBjNjIwODgiLCJ0aXRsZSI6IkZhbGwgQXJ0IFByb2plY3RzLUZhbGwgQ3JhZnRzIGZyb20gTmF0dXJlIC0gVGhlIEtpdGNoZW4= (truncated)",
         "streaming-0ebb0073c95b-pin",
         "shardId-000000000002",
         "49657351103706729435675264299630572857956299594126065698",
         "2024-11-06T08:32:41.184+0000"
        ],
        [
         "471",
         "eyJpbmRleCI6MTQ5LCJ1bmlxdWVfaWQiOiIzNTE5NDQzMi0zNWY5LTQ2ZmItYTU1Ny0yN2MxNjBjNjIwODgiLCJ0aXRsZSI6IkZhbGwgQXJ0IFByb2plY3RzLUZhbGwgQ3JhZnRzIGZyb20gTmF0dXJlIC0gVGhlIEtpdGNoZW4= (truncated)",
         "streaming-0ebb0073c95b-pin",
         "shardId-000000000002",
         "49657351103706729435675264941411813790954893770355638306",
         "2024-11-06T08:37:15.624+0000"
        ],
        [
         "471",
         "eyJpbmRleCI6MTQ5LCJ1bmlxdWVfaWQiOiIzNTE5NDQzMi0zNWY5LTQ2ZmItYTU1Ny0yN2MxNjBjNjIwODgiLCJ0aXRsZSI6IkZhbGwgQXJ0IFByb2plY3RzLUZhbGwgQ3JhZnRzIGZyb20gTmF0dXJlIC0gVGhlIEtpdGNoZW4= (truncated)",
         "streaming-0ebb0073c95b-pin",
         "shardId-000000000002",
         "49657351103706729435675278668884179171211500096910786594",
         "2024-11-06T10:33:29.570+0000"
        ],
        [
         "471",
         "eyJpbmRleCI6MTQ5LCJ1bmlxdWVfaWQiOiIzNTE5NDQzMi0zNWY5LTQ2ZmItYTU1Ny0yN2MxNjBjNjIwODgiLCJ0aXRsZSI6IkZhbGwgQXJ0IFByb2plY3RzLUZhbGwgQ3JhZnRzIGZyb20gTmF0dXJlIC0gVGhlIEtpdGNoZW4= (truncated)",
         "streaming-0ebb0073c95b-pin",
         "shardId-000000000002",
         "49657351103706729435675278736511489520453857916680667170",
         "2024-11-06T10:33:56.180+0000"
        ],
        [
         "471",
         "eyJpbmRleCI6MTQ5LCJ1bmlxdWVfaWQiOiIzNTE5NDQzMi0zNWY5LTQ2ZmItYTU1Ny0yN2MxNjBjNjIwODgiLCJ0aXRsZSI6IkZhbGwgQXJ0IFByb2plY3RzLUZhbGwgQ3JhZnRzIGZyb20gTmF0dXJlIC0gVGhlIEtpdGNoZW4= (truncated)",
         "streaming-0ebb0073c95b-pin",
         "shardId-000000000002",
         "49657351103706729435675278866542341752383761029753995298",
         "2024-11-06T10:34:49.607+0000"
        ],
        [
         "471",
         "eyJpbmRleCI6MTQ5LCJ1bmlxdWVfaWQiOiIzNTE5NDQzMi0zNWY5LTQ2ZmItYTU1Ny0yN2MxNjBjNjIwODgiLCJ0aXRsZSI6IkZhbGwgQXJ0IFByb2plY3RzLUZhbGwgQ3JhZnRzIGZyb20gTmF0dXJlIC0gVGhlIEtpdGNoZW4= (truncated)",
         "streaming-0ebb0073c95b-pin",
         "shardId-000000000002",
         "49657351103706729435675279162785987071489804787754467362",
         "2024-11-06T10:36:51.304+0000"
        ],
        [
         "471",
         "eyJpbmRleCI6MTQ5LCJ1bmlxdWVfaWQiOiIzNTE5NDQzMi0zNWY5LTQ2ZmItYTU1Ny0yN2MxNjBjNjIwODgiLCJ0aXRsZSI6IkZhbGwgQXJ0IFByb2plY3RzLUZhbGwgQ3JhZnRzIGZyb20gTmF0dXJlIC0gVGhlIEtpdGNoZW4= (truncated)",
         "streaming-0ebb0073c95b-pin",
         "shardId-000000000002",
         "49657351103706729435675279211596367038430458884747427874",
         "2024-11-06T10:37:09.012+0000"
        ],
        [
         "471",
         "eyJpbmRleCI6MTQ5LCJ1bmlxdWVfaWQiOiIzNTE5NDQzMi0zNWY5LTQ2ZmItYTU1Ny0yN2MxNjBjNjIwODgiLCJ0aXRsZSI6IkZhbGwgQXJ0IFByb2plY3RzLUZhbGwgQ3JhZnRzIGZyb20gTmF0dXJlIC0gVGhlIEtpdGNoZW4= (truncated)",
         "streaming-0ebb0073c95b-pin",
         "shardId-000000000002",
         "49657351103706729435675280094581278575120257279053529122",
         "2024-11-06T10:43:08.679+0000"
        ],
        [
         "471",
         "eyJpbmRleCI6MTQ5LCJ1bmlxdWVfaWQiOiIzNTE5NDQzMi0zNWY5LTQ2ZmItYTU1Ny0yN2MxNjBjNjIwODgiLCJ0aXRsZSI6IkZhbGwgQXJ0IFByb2plY3RzLUZhbGwgQ3JhZnRzIGZyb20gTmF0dXJlIC0gVGhlIEtpdGNoZW4= (truncated)",
         "streaming-0ebb0073c95b-pin",
         "shardId-000000000002",
         "49657351103706729435675280239556871789126206662161465378",
         "2024-11-06T10:44:07.918+0000"
        ],
        [
         "471",
         "eyJpbmRleCI6MTQ5LCJ1bmlxdWVfaWQiOiIzNTE5NDQzMi0zNWY5LTQ2ZmItYTU1Ny0yN2MxNjBjNjIwODgiLCJ0aXRsZSI6IkZhbGwgQXJ0IFByb2plY3RzLUZhbGwgQ3JhZnRzIGZyb20gTmF0dXJlIC0gVGhlIEtpdGNoZW4= (truncated)",
         "streaming-0ebb0073c95b-pin",
         "shardId-000000000002",
         "49657351103706729435675283061090602852462424391669514274",
         "2024-11-06T11:14:05.663+0000"
        ]
       ],
       "datasetInfos": [],
       "dbfsResultPath": null,
       "isJsonSchema": true,
       "metadata": {
        "isDbfsCommandResult": false
       },
       "overflow": false,
       "plotOptions": {
        "customPlotOptions": {},
        "displayType": "table",
        "pivotAggregation": null,
        "pivotColumns": null,
        "xColumns": null,
        "yColumns": null
       },
       "removedWidgets": [],
       "schema": [
        {
         "metadata": "{}",
         "name": "partitionKey",
         "type": "\"string\""
        },
        {
         "metadata": "{}",
         "name": "data",
         "type": "\"binary\""
        },
        {
         "metadata": "{}",
         "name": "stream",
         "type": "\"string\""
        },
        {
         "metadata": "{}",
         "name": "shardId",
         "type": "\"string\""
        },
        {
         "metadata": "{}",
         "name": "sequenceNumber",
         "type": "\"string\""
        },
        {
         "metadata": "{}",
         "name": "approximateArrivalTimestamp",
         "type": "\"timestamp\""
        }
       ],
       "type": "table"
      }
     },
     "output_type": "display_data"
    }
   ],
   "source": [
    "df_pin_raw = spark \\\n",
    ".readStream \\\n",
    ".format('kinesis') \\\n",
    ".option('streamName','streaming-0ebb0073c95b-pin') \\\n",
    ".option('initialPosition','earliest') \\\n",
    ".option('region','us-east-1') \\\n",
    ".option('awsAccessKey', ACCESS_KEY) \\\n",
    ".option('awsSecretKey', SECRET_KEY) \\\n",
    ".load()\n",
    "\n",
    "(display(df_pin))"
   ]
  },
  {
   "cell_type": "code",
   "execution_count": 0,
   "metadata": {
    "application/vnd.databricks.v1+cell": {
     "cellMetadata": {
      "byteLimit": 2048000,
      "rowLimit": 10000
     },
     "inputWidgets": {},
     "nuid": "c38eac78-370f-48d0-95fa-1e04442e45eb",
     "showTitle": false,
     "tableResultSettingsMap": {},
     "title": ""
    }
   },
   "outputs": [
    {
     "output_type": "display_data",
     "data": {
      "text/html": [
       "<style scoped>\n",
       "  .table-result-container {\n",
       "    max-height: 300px;\n",
       "    overflow: auto;\n",
       "  }\n",
       "  table, th, td {\n",
       "    border: 1px solid black;\n",
       "    border-collapse: collapse;\n",
       "  }\n",
       "  th, td {\n",
       "    padding: 5px;\n",
       "  }\n",
       "  th {\n",
       "    text-align: left;\n",
       "  }\n",
       "</style><div class='table-result-container'><table class='table-result'><thead style='background-color: white'><tr><th>data</th></tr></thead><tbody><tr><td>{\"index\":149,\"unique_id\":\"35194432-35f9-46fb-a557-27c160c62088\",\"title\":\"Fall Art Projects-Fall Crafts from Nature - The Kitchen Table Classroom\",\"description\":\"These fall art projects showcase the best the season has to offer. These simple fall crafts use simeple materials to take advantage of nature's beauty!\",\"poster_name\":\"The Kitchen Table Classroom\",\"follower_count\":\"221k\",\"tag_list\":\"Fall Paper Crafts,Fall Crafts For Kids,Arts And Crafts,Art Crafts,Nature Crafts,Autumn Crafts,Summer Crafts,Easter Crafts,Paper Crafting\",\"is_image_or_video\":\"image\",\"image_src\":\"https://i.pinimg.com/originals/4f/a7/55/4fa75527fe7de2dac148e006f8f401fe.png\",\"downloaded\":1,\"save_location\":\"Local save in /data/art\",\"category\":\"art\"}</td></tr><tr><td>{\"index\":149,\"unique_id\":\"35194432-35f9-46fb-a557-27c160c62088\",\"title\":\"Fall Art Projects-Fall Crafts from Nature - The Kitchen Table Classroom\",\"description\":\"These fall art projects showcase the best the season has to offer. These simple fall crafts use simeple materials to take advantage of nature's beauty!\",\"poster_name\":\"The Kitchen Table Classroom\",\"follower_count\":\"221k\",\"tag_list\":\"Fall Paper Crafts,Fall Crafts For Kids,Arts And Crafts,Art Crafts,Nature Crafts,Autumn Crafts,Summer Crafts,Easter Crafts,Paper Crafting\",\"is_image_or_video\":\"image\",\"image_src\":\"https://i.pinimg.com/originals/4f/a7/55/4fa75527fe7de2dac148e006f8f401fe.png\",\"downloaded\":1,\"save_location\":\"Local save in /data/art\",\"category\":\"art\"}</td></tr><tr><td>{\"index\":149,\"unique_id\":\"35194432-35f9-46fb-a557-27c160c62088\",\"title\":\"Fall Art Projects-Fall Crafts from Nature - The Kitchen Table Classroom\",\"description\":\"These fall art projects showcase the best the season has to offer. These simple fall crafts use simeple materials to take advantage of nature's beauty!\",\"poster_name\":\"The Kitchen Table Classroom\",\"follower_count\":\"221k\",\"tag_list\":\"Fall Paper Crafts,Fall Crafts For Kids,Arts And Crafts,Art Crafts,Nature Crafts,Autumn Crafts,Summer Crafts,Easter Crafts,Paper Crafting\",\"is_image_or_video\":\"image\",\"image_src\":\"https://i.pinimg.com/originals/4f/a7/55/4fa75527fe7de2dac148e006f8f401fe.png\",\"downloaded\":1,\"save_location\":\"Local save in /data/art\",\"category\":\"art\"}</td></tr><tr><td>{\"index\":149,\"unique_id\":\"35194432-35f9-46fb-a557-27c160c62088\",\"title\":\"Fall Art Projects-Fall Crafts from Nature - The Kitchen Table Classroom\",\"description\":\"These fall art projects showcase the best the season has to offer. These simple fall crafts use simeple materials to take advantage of nature's beauty!\",\"poster_name\":\"The Kitchen Table Classroom\",\"follower_count\":\"221k\",\"tag_list\":\"Fall Paper Crafts,Fall Crafts For Kids,Arts And Crafts,Art Crafts,Nature Crafts,Autumn Crafts,Summer Crafts,Easter Crafts,Paper Crafting\",\"is_image_or_video\":\"image\",\"image_src\":\"https://i.pinimg.com/originals/4f/a7/55/4fa75527fe7de2dac148e006f8f401fe.png\",\"downloaded\":1,\"save_location\":\"Local save in /data/art\",\"category\":\"art\"}</td></tr><tr><td>{\"index\":149,\"unique_id\":\"35194432-35f9-46fb-a557-27c160c62088\",\"title\":\"Fall Art Projects-Fall Crafts from Nature - The Kitchen Table Classroom\",\"description\":\"These fall art projects showcase the best the season has to offer. These simple fall crafts use simeple materials to take advantage of nature's beauty!\",\"poster_name\":\"The Kitchen Table Classroom\",\"follower_count\":\"221k\",\"tag_list\":\"Fall Paper Crafts,Fall Crafts For Kids,Arts And Crafts,Art Crafts,Nature Crafts,Autumn Crafts,Summer Crafts,Easter Crafts,Paper Crafting\",\"is_image_or_video\":\"image\",\"image_src\":\"https://i.pinimg.com/originals/4f/a7/55/4fa75527fe7de2dac148e006f8f401fe.png\",\"downloaded\":1,\"save_location\":\"Local save in /data/art\",\"category\":\"art\"}</td></tr><tr><td>{\"index\":149,\"unique_id\":\"35194432-35f9-46fb-a557-27c160c62088\",\"title\":\"Fall Art Projects-Fall Crafts from Nature - The Kitchen Table Classroom\",\"description\":\"These fall art projects showcase the best the season has to offer. These simple fall crafts use simeple materials to take advantage of nature's beauty!\",\"poster_name\":\"The Kitchen Table Classroom\",\"follower_count\":\"221k\",\"tag_list\":\"Fall Paper Crafts,Fall Crafts For Kids,Arts And Crafts,Art Crafts,Nature Crafts,Autumn Crafts,Summer Crafts,Easter Crafts,Paper Crafting\",\"is_image_or_video\":\"image\",\"image_src\":\"https://i.pinimg.com/originals/4f/a7/55/4fa75527fe7de2dac148e006f8f401fe.png\",\"downloaded\":1,\"save_location\":\"Local save in /data/art\",\"category\":\"art\"}</td></tr><tr><td>{\"index\":149,\"unique_id\":\"35194432-35f9-46fb-a557-27c160c62088\",\"title\":\"Fall Art Projects-Fall Crafts from Nature - The Kitchen Table Classroom\",\"description\":\"These fall art projects showcase the best the season has to offer. These simple fall crafts use simeple materials to take advantage of nature's beauty!\",\"poster_name\":\"The Kitchen Table Classroom\",\"follower_count\":\"221k\",\"tag_list\":\"Fall Paper Crafts,Fall Crafts For Kids,Arts And Crafts,Art Crafts,Nature Crafts,Autumn Crafts,Summer Crafts,Easter Crafts,Paper Crafting\",\"is_image_or_video\":\"image\",\"image_src\":\"https://i.pinimg.com/originals/4f/a7/55/4fa75527fe7de2dac148e006f8f401fe.png\",\"downloaded\":1,\"save_location\":\"Local save in /data/art\",\"category\":\"art\"}</td></tr><tr><td>{\"index\":149,\"unique_id\":\"35194432-35f9-46fb-a557-27c160c62088\",\"title\":\"Fall Art Projects-Fall Crafts from Nature - The Kitchen Table Classroom\",\"description\":\"These fall art projects showcase the best the season has to offer. These simple fall crafts use simeple materials to take advantage of nature's beauty!\",\"poster_name\":\"The Kitchen Table Classroom\",\"follower_count\":\"221k\",\"tag_list\":\"Fall Paper Crafts,Fall Crafts For Kids,Arts And Crafts,Art Crafts,Nature Crafts,Autumn Crafts,Summer Crafts,Easter Crafts,Paper Crafting\",\"is_image_or_video\":\"image\",\"image_src\":\"https://i.pinimg.com/originals/4f/a7/55/4fa75527fe7de2dac148e006f8f401fe.png\",\"downloaded\":1,\"save_location\":\"Local save in /data/art\",\"category\":\"art\"}</td></tr><tr><td>{\"index\":149,\"unique_id\":\"35194432-35f9-46fb-a557-27c160c62088\",\"title\":\"Fall Art Projects-Fall Crafts from Nature - The Kitchen Table Classroom\",\"description\":\"These fall art projects showcase the best the season has to offer. These simple fall crafts use simeple materials to take advantage of nature's beauty!\",\"poster_name\":\"The Kitchen Table Classroom\",\"follower_count\":\"221k\",\"tag_list\":\"Fall Paper Crafts,Fall Crafts For Kids,Arts And Crafts,Art Crafts,Nature Crafts,Autumn Crafts,Summer Crafts,Easter Crafts,Paper Crafting\",\"is_image_or_video\":\"image\",\"image_src\":\"https://i.pinimg.com/originals/4f/a7/55/4fa75527fe7de2dac148e006f8f401fe.png\",\"downloaded\":1,\"save_location\":\"Local save in /data/art\",\"category\":\"art\"}</td></tr><tr><td>{\"index\":149,\"unique_id\":\"35194432-35f9-46fb-a557-27c160c62088\",\"title\":\"Fall Art Projects-Fall Crafts from Nature - The Kitchen Table Classroom\",\"description\":\"These fall art projects showcase the best the season has to offer. These simple fall crafts use simeple materials to take advantage of nature's beauty!\",\"poster_name\":\"The Kitchen Table Classroom\",\"follower_count\":\"221k\",\"tag_list\":\"Fall Paper Crafts,Fall Crafts For Kids,Arts And Crafts,Art Crafts,Nature Crafts,Autumn Crafts,Summer Crafts,Easter Crafts,Paper Crafting\",\"is_image_or_video\":\"image\",\"image_src\":\"https://i.pinimg.com/originals/4f/a7/55/4fa75527fe7de2dac148e006f8f401fe.png\",\"downloaded\":1,\"save_location\":\"Local save in /data/art\",\"category\":\"art\"}</td></tr><tr><td>{\"index\":149,\"unique_id\":\"35194432-35f9-46fb-a557-27c160c62088\",\"title\":\"Fall Art Projects-Fall Crafts from Nature - The Kitchen Table Classroom\",\"description\":\"These fall art projects showcase the best the season has to offer. These simple fall crafts use simeple materials to take advantage of nature's beauty!\",\"poster_name\":\"The Kitchen Table Classroom\",\"follower_count\":\"221k\",\"tag_list\":\"Fall Paper Crafts,Fall Crafts For Kids,Arts And Crafts,Art Crafts,Nature Crafts,Autumn Crafts,Summer Crafts,Easter Crafts,Paper Crafting\",\"is_image_or_video\":\"image\",\"image_src\":\"https://i.pinimg.com/originals/4f/a7/55/4fa75527fe7de2dac148e006f8f401fe.png\",\"downloaded\":1,\"save_location\":\"Local save in /data/art\",\"category\":\"art\"}</td></tr><tr><td>{\"index\":149,\"unique_id\":\"35194432-35f9-46fb-a557-27c160c62088\",\"title\":\"Fall Art Projects-Fall Crafts from Nature - The Kitchen Table Classroom\",\"description\":\"These fall art projects showcase the best the season has to offer. These simple fall crafts use simeple materials to take advantage of nature's beauty!\",\"poster_name\":\"The Kitchen Table Classroom\",\"follower_count\":\"221k\",\"tag_list\":\"Fall Paper Crafts,Fall Crafts For Kids,Arts And Crafts,Art Crafts,Nature Crafts,Autumn Crafts,Summer Crafts,Easter Crafts,Paper Crafting\",\"is_image_or_video\":\"image\",\"image_src\":\"https://i.pinimg.com/originals/4f/a7/55/4fa75527fe7de2dac148e006f8f401fe.png\",\"downloaded\":1,\"save_location\":\"Local save in /data/art\",\"category\":\"art\"}</td></tr><tr><td>{\"index\":149,\"unique_id\":\"35194432-35f9-46fb-a557-27c160c62088\",\"title\":\"Fall Art Projects-Fall Crafts from Nature - The Kitchen Table Classroom\",\"description\":\"These fall art projects showcase the best the season has to offer. These simple fall crafts use simeple materials to take advantage of nature's beauty!\",\"poster_name\":\"The Kitchen Table Classroom\",\"follower_count\":\"221k\",\"tag_list\":\"Fall Paper Crafts,Fall Crafts For Kids,Arts And Crafts,Art Crafts,Nature Crafts,Autumn Crafts,Summer Crafts,Easter Crafts,Paper Crafting\",\"is_image_or_video\":\"image\",\"image_src\":\"https://i.pinimg.com/originals/4f/a7/55/4fa75527fe7de2dac148e006f8f401fe.png\",\"downloaded\":1,\"save_location\":\"Local save in /data/art\",\"category\":\"art\"}</td></tr><tr><td>{\"index\":149,\"unique_id\":\"35194432-35f9-46fb-a557-27c160c62088\",\"title\":\"Fall Art Projects-Fall Crafts from Nature - The Kitchen Table Classroom\",\"description\":\"These fall art projects showcase the best the season has to offer. These simple fall crafts use simeple materials to take advantage of nature's beauty!\",\"poster_name\":\"The Kitchen Table Classroom\",\"follower_count\":\"221k\",\"tag_list\":\"Fall Paper Crafts,Fall Crafts For Kids,Arts And Crafts,Art Crafts,Nature Crafts,Autumn Crafts,Summer Crafts,Easter Crafts,Paper Crafting\",\"is_image_or_video\":\"image\",\"image_src\":\"https://i.pinimg.com/originals/4f/a7/55/4fa75527fe7de2dac148e006f8f401fe.png\",\"downloaded\":1,\"save_location\":\"Local save in /data/art\",\"category\":\"art\"}</td></tr><tr><td>{\"index\":149,\"unique_id\":\"35194432-35f9-46fb-a557-27c160c62088\",\"title\":\"Fall Art Projects-Fall Crafts from Nature - The Kitchen Table Classroom\",\"description\":\"These fall art projects showcase the best the season has to offer. These simple fall crafts use simeple materials to take advantage of nature's beauty!\",\"poster_name\":\"The Kitchen Table Classroom\",\"follower_count\":\"221k\",\"tag_list\":\"Fall Paper Crafts,Fall Crafts For Kids,Arts And Crafts,Art Crafts,Nature Crafts,Autumn Crafts,Summer Crafts,Easter Crafts,Paper Crafting\",\"is_image_or_video\":\"image\",\"image_src\":\"https://i.pinimg.com/originals/4f/a7/55/4fa75527fe7de2dac148e006f8f401fe.png\",\"downloaded\":1,\"save_location\":\"Local save in /data/art\",\"category\":\"art\"}</td></tr><tr><td>{\"index\":149,\"unique_id\":\"35194432-35f9-46fb-a557-27c160c62088\",\"title\":\"Fall Art Projects-Fall Crafts from Nature - The Kitchen Table Classroom\",\"description\":\"These fall art projects showcase the best the season has to offer. These simple fall crafts use simeple materials to take advantage of nature's beauty!\",\"poster_name\":\"The Kitchen Table Classroom\",\"follower_count\":\"221k\",\"tag_list\":\"Fall Paper Crafts,Fall Crafts For Kids,Arts And Crafts,Art Crafts,Nature Crafts,Autumn Crafts,Summer Crafts,Easter Crafts,Paper Crafting\",\"is_image_or_video\":\"image\",\"image_src\":\"https://i.pinimg.com/originals/4f/a7/55/4fa75527fe7de2dac148e006f8f401fe.png\",\"downloaded\":1,\"save_location\":\"Local save in /data/art\",\"category\":\"art\"}</td></tr><tr><td>{\"index\":149,\"unique_id\":\"35194432-35f9-46fb-a557-27c160c62088\",\"title\":\"Fall Art Projects-Fall Crafts from Nature - The Kitchen Table Classroom\",\"description\":\"These fall art projects showcase the best the season has to offer. These simple fall crafts use simeple materials to take advantage of nature's beauty!\",\"poster_name\":\"The Kitchen Table Classroom\",\"follower_count\":\"221k\",\"tag_list\":\"Fall Paper Crafts,Fall Crafts For Kids,Arts And Crafts,Art Crafts,Nature Crafts,Autumn Crafts,Summer Crafts,Easter Crafts,Paper Crafting\",\"is_image_or_video\":\"image\",\"image_src\":\"https://i.pinimg.com/originals/4f/a7/55/4fa75527fe7de2dac148e006f8f401fe.png\",\"downloaded\":1,\"save_location\":\"Local save in /data/art\",\"category\":\"art\"}</td></tr><tr><td>{\"index\":149,\"unique_id\":\"35194432-35f9-46fb-a557-27c160c62088\",\"title\":\"Fall Art Projects-Fall Crafts from Nature - The Kitchen Table Classroom\",\"description\":\"These fall art projects showcase the best the season has to offer. These simple fall crafts use simeple materials to take advantage of nature's beauty!\",\"poster_name\":\"The Kitchen Table Classroom\",\"follower_count\":\"221k\",\"tag_list\":\"Fall Paper Crafts,Fall Crafts For Kids,Arts And Crafts,Art Crafts,Nature Crafts,Autumn Crafts,Summer Crafts,Easter Crafts,Paper Crafting\",\"is_image_or_video\":\"image\",\"image_src\":\"https://i.pinimg.com/originals/4f/a7/55/4fa75527fe7de2dac148e006f8f401fe.png\",\"downloaded\":1,\"save_location\":\"Local save in /data/art\",\"category\":\"art\"}</td></tr><tr><td>{\"index\":149,\"unique_id\":\"35194432-35f9-46fb-a557-27c160c62088\",\"title\":\"Fall Art Projects-Fall Crafts from Nature - The Kitchen Table Classroom\",\"description\":\"These fall art projects showcase the best the season has to offer. These simple fall crafts use simeple materials to take advantage of nature's beauty!\",\"poster_name\":\"The Kitchen Table Classroom\",\"follower_count\":\"221k\",\"tag_list\":\"Fall Paper Crafts,Fall Crafts For Kids,Arts And Crafts,Art Crafts,Nature Crafts,Autumn Crafts,Summer Crafts,Easter Crafts,Paper Crafting\",\"is_image_or_video\":\"image\",\"image_src\":\"https://i.pinimg.com/originals/4f/a7/55/4fa75527fe7de2dac148e006f8f401fe.png\",\"downloaded\":1,\"save_location\":\"Local save in /data/art\",\"category\":\"art\"}</td></tr></tbody></table></div>"
      ]
     },
     "metadata": {
      "application/vnd.databricks.v1+output": {
       "addedWidgets": {},
       "aggData": [],
       "aggError": "",
       "aggOverflow": false,
       "aggSchema": [],
       "aggSeriesLimitReached": false,
       "aggType": "",
       "arguments": {},
       "columnCustomDisplayInfos": {},
       "data": [
        [
         "{\"index\":149,\"unique_id\":\"35194432-35f9-46fb-a557-27c160c62088\",\"title\":\"Fall Art Projects-Fall Crafts from Nature - The Kitchen Table Classroom\",\"description\":\"These fall art projects showcase the best the season has to offer. These simple fall crafts use simeple materials to take advantage of nature's beauty!\",\"poster_name\":\"The Kitchen Table Classroom\",\"follower_count\":\"221k\",\"tag_list\":\"Fall Paper Crafts,Fall Crafts For Kids,Arts And Crafts,Art Crafts,Nature Crafts,Autumn Crafts,Summer Crafts,Easter Crafts,Paper Crafting\",\"is_image_or_video\":\"image\",\"image_src\":\"https://i.pinimg.com/originals/4f/a7/55/4fa75527fe7de2dac148e006f8f401fe.png\",\"downloaded\":1,\"save_location\":\"Local save in /data/art\",\"category\":\"art\"}"
        ],
        [
         "{\"index\":149,\"unique_id\":\"35194432-35f9-46fb-a557-27c160c62088\",\"title\":\"Fall Art Projects-Fall Crafts from Nature - The Kitchen Table Classroom\",\"description\":\"These fall art projects showcase the best the season has to offer. These simple fall crafts use simeple materials to take advantage of nature's beauty!\",\"poster_name\":\"The Kitchen Table Classroom\",\"follower_count\":\"221k\",\"tag_list\":\"Fall Paper Crafts,Fall Crafts For Kids,Arts And Crafts,Art Crafts,Nature Crafts,Autumn Crafts,Summer Crafts,Easter Crafts,Paper Crafting\",\"is_image_or_video\":\"image\",\"image_src\":\"https://i.pinimg.com/originals/4f/a7/55/4fa75527fe7de2dac148e006f8f401fe.png\",\"downloaded\":1,\"save_location\":\"Local save in /data/art\",\"category\":\"art\"}"
        ],
        [
         "{\"index\":149,\"unique_id\":\"35194432-35f9-46fb-a557-27c160c62088\",\"title\":\"Fall Art Projects-Fall Crafts from Nature - The Kitchen Table Classroom\",\"description\":\"These fall art projects showcase the best the season has to offer. These simple fall crafts use simeple materials to take advantage of nature's beauty!\",\"poster_name\":\"The Kitchen Table Classroom\",\"follower_count\":\"221k\",\"tag_list\":\"Fall Paper Crafts,Fall Crafts For Kids,Arts And Crafts,Art Crafts,Nature Crafts,Autumn Crafts,Summer Crafts,Easter Crafts,Paper Crafting\",\"is_image_or_video\":\"image\",\"image_src\":\"https://i.pinimg.com/originals/4f/a7/55/4fa75527fe7de2dac148e006f8f401fe.png\",\"downloaded\":1,\"save_location\":\"Local save in /data/art\",\"category\":\"art\"}"
        ],
        [
         "{\"index\":149,\"unique_id\":\"35194432-35f9-46fb-a557-27c160c62088\",\"title\":\"Fall Art Projects-Fall Crafts from Nature - The Kitchen Table Classroom\",\"description\":\"These fall art projects showcase the best the season has to offer. These simple fall crafts use simeple materials to take advantage of nature's beauty!\",\"poster_name\":\"The Kitchen Table Classroom\",\"follower_count\":\"221k\",\"tag_list\":\"Fall Paper Crafts,Fall Crafts For Kids,Arts And Crafts,Art Crafts,Nature Crafts,Autumn Crafts,Summer Crafts,Easter Crafts,Paper Crafting\",\"is_image_or_video\":\"image\",\"image_src\":\"https://i.pinimg.com/originals/4f/a7/55/4fa75527fe7de2dac148e006f8f401fe.png\",\"downloaded\":1,\"save_location\":\"Local save in /data/art\",\"category\":\"art\"}"
        ],
        [
         "{\"index\":149,\"unique_id\":\"35194432-35f9-46fb-a557-27c160c62088\",\"title\":\"Fall Art Projects-Fall Crafts from Nature - The Kitchen Table Classroom\",\"description\":\"These fall art projects showcase the best the season has to offer. These simple fall crafts use simeple materials to take advantage of nature's beauty!\",\"poster_name\":\"The Kitchen Table Classroom\",\"follower_count\":\"221k\",\"tag_list\":\"Fall Paper Crafts,Fall Crafts For Kids,Arts And Crafts,Art Crafts,Nature Crafts,Autumn Crafts,Summer Crafts,Easter Crafts,Paper Crafting\",\"is_image_or_video\":\"image\",\"image_src\":\"https://i.pinimg.com/originals/4f/a7/55/4fa75527fe7de2dac148e006f8f401fe.png\",\"downloaded\":1,\"save_location\":\"Local save in /data/art\",\"category\":\"art\"}"
        ],
        [
         "{\"index\":149,\"unique_id\":\"35194432-35f9-46fb-a557-27c160c62088\",\"title\":\"Fall Art Projects-Fall Crafts from Nature - The Kitchen Table Classroom\",\"description\":\"These fall art projects showcase the best the season has to offer. These simple fall crafts use simeple materials to take advantage of nature's beauty!\",\"poster_name\":\"The Kitchen Table Classroom\",\"follower_count\":\"221k\",\"tag_list\":\"Fall Paper Crafts,Fall Crafts For Kids,Arts And Crafts,Art Crafts,Nature Crafts,Autumn Crafts,Summer Crafts,Easter Crafts,Paper Crafting\",\"is_image_or_video\":\"image\",\"image_src\":\"https://i.pinimg.com/originals/4f/a7/55/4fa75527fe7de2dac148e006f8f401fe.png\",\"downloaded\":1,\"save_location\":\"Local save in /data/art\",\"category\":\"art\"}"
        ],
        [
         "{\"index\":149,\"unique_id\":\"35194432-35f9-46fb-a557-27c160c62088\",\"title\":\"Fall Art Projects-Fall Crafts from Nature - The Kitchen Table Classroom\",\"description\":\"These fall art projects showcase the best the season has to offer. These simple fall crafts use simeple materials to take advantage of nature's beauty!\",\"poster_name\":\"The Kitchen Table Classroom\",\"follower_count\":\"221k\",\"tag_list\":\"Fall Paper Crafts,Fall Crafts For Kids,Arts And Crafts,Art Crafts,Nature Crafts,Autumn Crafts,Summer Crafts,Easter Crafts,Paper Crafting\",\"is_image_or_video\":\"image\",\"image_src\":\"https://i.pinimg.com/originals/4f/a7/55/4fa75527fe7de2dac148e006f8f401fe.png\",\"downloaded\":1,\"save_location\":\"Local save in /data/art\",\"category\":\"art\"}"
        ],
        [
         "{\"index\":149,\"unique_id\":\"35194432-35f9-46fb-a557-27c160c62088\",\"title\":\"Fall Art Projects-Fall Crafts from Nature - The Kitchen Table Classroom\",\"description\":\"These fall art projects showcase the best the season has to offer. These simple fall crafts use simeple materials to take advantage of nature's beauty!\",\"poster_name\":\"The Kitchen Table Classroom\",\"follower_count\":\"221k\",\"tag_list\":\"Fall Paper Crafts,Fall Crafts For Kids,Arts And Crafts,Art Crafts,Nature Crafts,Autumn Crafts,Summer Crafts,Easter Crafts,Paper Crafting\",\"is_image_or_video\":\"image\",\"image_src\":\"https://i.pinimg.com/originals/4f/a7/55/4fa75527fe7de2dac148e006f8f401fe.png\",\"downloaded\":1,\"save_location\":\"Local save in /data/art\",\"category\":\"art\"}"
        ],
        [
         "{\"index\":149,\"unique_id\":\"35194432-35f9-46fb-a557-27c160c62088\",\"title\":\"Fall Art Projects-Fall Crafts from Nature - The Kitchen Table Classroom\",\"description\":\"These fall art projects showcase the best the season has to offer. These simple fall crafts use simeple materials to take advantage of nature's beauty!\",\"poster_name\":\"The Kitchen Table Classroom\",\"follower_count\":\"221k\",\"tag_list\":\"Fall Paper Crafts,Fall Crafts For Kids,Arts And Crafts,Art Crafts,Nature Crafts,Autumn Crafts,Summer Crafts,Easter Crafts,Paper Crafting\",\"is_image_or_video\":\"image\",\"image_src\":\"https://i.pinimg.com/originals/4f/a7/55/4fa75527fe7de2dac148e006f8f401fe.png\",\"downloaded\":1,\"save_location\":\"Local save in /data/art\",\"category\":\"art\"}"
        ],
        [
         "{\"index\":149,\"unique_id\":\"35194432-35f9-46fb-a557-27c160c62088\",\"title\":\"Fall Art Projects-Fall Crafts from Nature - The Kitchen Table Classroom\",\"description\":\"These fall art projects showcase the best the season has to offer. These simple fall crafts use simeple materials to take advantage of nature's beauty!\",\"poster_name\":\"The Kitchen Table Classroom\",\"follower_count\":\"221k\",\"tag_list\":\"Fall Paper Crafts,Fall Crafts For Kids,Arts And Crafts,Art Crafts,Nature Crafts,Autumn Crafts,Summer Crafts,Easter Crafts,Paper Crafting\",\"is_image_or_video\":\"image\",\"image_src\":\"https://i.pinimg.com/originals/4f/a7/55/4fa75527fe7de2dac148e006f8f401fe.png\",\"downloaded\":1,\"save_location\":\"Local save in /data/art\",\"category\":\"art\"}"
        ],
        [
         "{\"index\":149,\"unique_id\":\"35194432-35f9-46fb-a557-27c160c62088\",\"title\":\"Fall Art Projects-Fall Crafts from Nature - The Kitchen Table Classroom\",\"description\":\"These fall art projects showcase the best the season has to offer. These simple fall crafts use simeple materials to take advantage of nature's beauty!\",\"poster_name\":\"The Kitchen Table Classroom\",\"follower_count\":\"221k\",\"tag_list\":\"Fall Paper Crafts,Fall Crafts For Kids,Arts And Crafts,Art Crafts,Nature Crafts,Autumn Crafts,Summer Crafts,Easter Crafts,Paper Crafting\",\"is_image_or_video\":\"image\",\"image_src\":\"https://i.pinimg.com/originals/4f/a7/55/4fa75527fe7de2dac148e006f8f401fe.png\",\"downloaded\":1,\"save_location\":\"Local save in /data/art\",\"category\":\"art\"}"
        ],
        [
         "{\"index\":149,\"unique_id\":\"35194432-35f9-46fb-a557-27c160c62088\",\"title\":\"Fall Art Projects-Fall Crafts from Nature - The Kitchen Table Classroom\",\"description\":\"These fall art projects showcase the best the season has to offer. These simple fall crafts use simeple materials to take advantage of nature's beauty!\",\"poster_name\":\"The Kitchen Table Classroom\",\"follower_count\":\"221k\",\"tag_list\":\"Fall Paper Crafts,Fall Crafts For Kids,Arts And Crafts,Art Crafts,Nature Crafts,Autumn Crafts,Summer Crafts,Easter Crafts,Paper Crafting\",\"is_image_or_video\":\"image\",\"image_src\":\"https://i.pinimg.com/originals/4f/a7/55/4fa75527fe7de2dac148e006f8f401fe.png\",\"downloaded\":1,\"save_location\":\"Local save in /data/art\",\"category\":\"art\"}"
        ],
        [
         "{\"index\":149,\"unique_id\":\"35194432-35f9-46fb-a557-27c160c62088\",\"title\":\"Fall Art Projects-Fall Crafts from Nature - The Kitchen Table Classroom\",\"description\":\"These fall art projects showcase the best the season has to offer. These simple fall crafts use simeple materials to take advantage of nature's beauty!\",\"poster_name\":\"The Kitchen Table Classroom\",\"follower_count\":\"221k\",\"tag_list\":\"Fall Paper Crafts,Fall Crafts For Kids,Arts And Crafts,Art Crafts,Nature Crafts,Autumn Crafts,Summer Crafts,Easter Crafts,Paper Crafting\",\"is_image_or_video\":\"image\",\"image_src\":\"https://i.pinimg.com/originals/4f/a7/55/4fa75527fe7de2dac148e006f8f401fe.png\",\"downloaded\":1,\"save_location\":\"Local save in /data/art\",\"category\":\"art\"}"
        ],
        [
         "{\"index\":149,\"unique_id\":\"35194432-35f9-46fb-a557-27c160c62088\",\"title\":\"Fall Art Projects-Fall Crafts from Nature - The Kitchen Table Classroom\",\"description\":\"These fall art projects showcase the best the season has to offer. These simple fall crafts use simeple materials to take advantage of nature's beauty!\",\"poster_name\":\"The Kitchen Table Classroom\",\"follower_count\":\"221k\",\"tag_list\":\"Fall Paper Crafts,Fall Crafts For Kids,Arts And Crafts,Art Crafts,Nature Crafts,Autumn Crafts,Summer Crafts,Easter Crafts,Paper Crafting\",\"is_image_or_video\":\"image\",\"image_src\":\"https://i.pinimg.com/originals/4f/a7/55/4fa75527fe7de2dac148e006f8f401fe.png\",\"downloaded\":1,\"save_location\":\"Local save in /data/art\",\"category\":\"art\"}"
        ],
        [
         "{\"index\":149,\"unique_id\":\"35194432-35f9-46fb-a557-27c160c62088\",\"title\":\"Fall Art Projects-Fall Crafts from Nature - The Kitchen Table Classroom\",\"description\":\"These fall art projects showcase the best the season has to offer. These simple fall crafts use simeple materials to take advantage of nature's beauty!\",\"poster_name\":\"The Kitchen Table Classroom\",\"follower_count\":\"221k\",\"tag_list\":\"Fall Paper Crafts,Fall Crafts For Kids,Arts And Crafts,Art Crafts,Nature Crafts,Autumn Crafts,Summer Crafts,Easter Crafts,Paper Crafting\",\"is_image_or_video\":\"image\",\"image_src\":\"https://i.pinimg.com/originals/4f/a7/55/4fa75527fe7de2dac148e006f8f401fe.png\",\"downloaded\":1,\"save_location\":\"Local save in /data/art\",\"category\":\"art\"}"
        ],
        [
         "{\"index\":149,\"unique_id\":\"35194432-35f9-46fb-a557-27c160c62088\",\"title\":\"Fall Art Projects-Fall Crafts from Nature - The Kitchen Table Classroom\",\"description\":\"These fall art projects showcase the best the season has to offer. These simple fall crafts use simeple materials to take advantage of nature's beauty!\",\"poster_name\":\"The Kitchen Table Classroom\",\"follower_count\":\"221k\",\"tag_list\":\"Fall Paper Crafts,Fall Crafts For Kids,Arts And Crafts,Art Crafts,Nature Crafts,Autumn Crafts,Summer Crafts,Easter Crafts,Paper Crafting\",\"is_image_or_video\":\"image\",\"image_src\":\"https://i.pinimg.com/originals/4f/a7/55/4fa75527fe7de2dac148e006f8f401fe.png\",\"downloaded\":1,\"save_location\":\"Local save in /data/art\",\"category\":\"art\"}"
        ],
        [
         "{\"index\":149,\"unique_id\":\"35194432-35f9-46fb-a557-27c160c62088\",\"title\":\"Fall Art Projects-Fall Crafts from Nature - The Kitchen Table Classroom\",\"description\":\"These fall art projects showcase the best the season has to offer. These simple fall crafts use simeple materials to take advantage of nature's beauty!\",\"poster_name\":\"The Kitchen Table Classroom\",\"follower_count\":\"221k\",\"tag_list\":\"Fall Paper Crafts,Fall Crafts For Kids,Arts And Crafts,Art Crafts,Nature Crafts,Autumn Crafts,Summer Crafts,Easter Crafts,Paper Crafting\",\"is_image_or_video\":\"image\",\"image_src\":\"https://i.pinimg.com/originals/4f/a7/55/4fa75527fe7de2dac148e006f8f401fe.png\",\"downloaded\":1,\"save_location\":\"Local save in /data/art\",\"category\":\"art\"}"
        ],
        [
         "{\"index\":149,\"unique_id\":\"35194432-35f9-46fb-a557-27c160c62088\",\"title\":\"Fall Art Projects-Fall Crafts from Nature - The Kitchen Table Classroom\",\"description\":\"These fall art projects showcase the best the season has to offer. These simple fall crafts use simeple materials to take advantage of nature's beauty!\",\"poster_name\":\"The Kitchen Table Classroom\",\"follower_count\":\"221k\",\"tag_list\":\"Fall Paper Crafts,Fall Crafts For Kids,Arts And Crafts,Art Crafts,Nature Crafts,Autumn Crafts,Summer Crafts,Easter Crafts,Paper Crafting\",\"is_image_or_video\":\"image\",\"image_src\":\"https://i.pinimg.com/originals/4f/a7/55/4fa75527fe7de2dac148e006f8f401fe.png\",\"downloaded\":1,\"save_location\":\"Local save in /data/art\",\"category\":\"art\"}"
        ],
        [
         "{\"index\":149,\"unique_id\":\"35194432-35f9-46fb-a557-27c160c62088\",\"title\":\"Fall Art Projects-Fall Crafts from Nature - The Kitchen Table Classroom\",\"description\":\"These fall art projects showcase the best the season has to offer. These simple fall crafts use simeple materials to take advantage of nature's beauty!\",\"poster_name\":\"The Kitchen Table Classroom\",\"follower_count\":\"221k\",\"tag_list\":\"Fall Paper Crafts,Fall Crafts For Kids,Arts And Crafts,Art Crafts,Nature Crafts,Autumn Crafts,Summer Crafts,Easter Crafts,Paper Crafting\",\"is_image_or_video\":\"image\",\"image_src\":\"https://i.pinimg.com/originals/4f/a7/55/4fa75527fe7de2dac148e006f8f401fe.png\",\"downloaded\":1,\"save_location\":\"Local save in /data/art\",\"category\":\"art\"}"
        ]
       ],
       "datasetInfos": [],
       "dbfsResultPath": null,
       "isJsonSchema": true,
       "metadata": {},
       "overflow": false,
       "plotOptions": {
        "customPlotOptions": {},
        "displayType": "table",
        "pivotAggregation": null,
        "pivotColumns": null,
        "xColumns": null,
        "yColumns": null
       },
       "removedWidgets": [],
       "schema": [
        {
         "metadata": "{}",
         "name": "data",
         "type": "\"string\""
        }
       ],
       "type": "table"
      }
     },
     "output_type": "display_data"
    }
   ],
   "source": [
    "df_pin_string = df_pin_raw.selectExpr(\"CAST(data as STRING)\")\n",
    "display(df_pin_string)"
   ]
  },
  {
   "cell_type": "code",
   "execution_count": 0,
   "metadata": {
    "application/vnd.databricks.v1+cell": {
     "cellMetadata": {
      "byteLimit": 2048000,
      "rowLimit": 10000
     },
     "inputWidgets": {},
     "nuid": "02f816d1-25b4-4294-92ba-97c6054a9219",
     "showTitle": false,
     "tableResultSettingsMap": {},
     "title": ""
    }
   },
   "outputs": [
    {
     "output_type": "display_data",
     "data": {
      "text/html": [
       "<style scoped>\n",
       "  .table-result-container {\n",
       "    max-height: 300px;\n",
       "    overflow: auto;\n",
       "  }\n",
       "  table, th, td {\n",
       "    border: 1px solid black;\n",
       "    border-collapse: collapse;\n",
       "  }\n",
       "  th, td {\n",
       "    padding: 5px;\n",
       "  }\n",
       "  th {\n",
       "    text-align: left;\n",
       "  }\n",
       "</style><div class='table-result-container'><table class='table-result'><thead style='background-color: white'><tr><th>index</th><th>unique_id</th><th>title</th><th>description</th><th>follower_count</th><th>tag_list</th><th>is_image_or_video</th><th>image_src</th><th>downloaded</th><th>save_location</th><th>category</th><th>poster_name</th></tr></thead><tbody><tr><td>149</td><td>35194432-35f9-46fb-a557-27c160c62088</td><td>Fall Art Projects-Fall Crafts from Nature - The Kitchen Table Classroom</td><td>These fall art projects showcase the best the season has to offer. These simple fall crafts use simeple materials to take advantage of nature's beauty!</td><td>221k</td><td>Fall Paper Crafts,Fall Crafts For Kids,Arts And Crafts,Art Crafts,Nature Crafts,Autumn Crafts,Summer Crafts,Easter Crafts,Paper Crafting</td><td>image</td><td>https://i.pinimg.com/originals/4f/a7/55/4fa75527fe7de2dac148e006f8f401fe.png</td><td>1</td><td>Local save in /data/art</td><td>art</td><td>The Kitchen Table Classroom</td></tr><tr><td>149</td><td>35194432-35f9-46fb-a557-27c160c62088</td><td>Fall Art Projects-Fall Crafts from Nature - The Kitchen Table Classroom</td><td>These fall art projects showcase the best the season has to offer. These simple fall crafts use simeple materials to take advantage of nature's beauty!</td><td>221k</td><td>Fall Paper Crafts,Fall Crafts For Kids,Arts And Crafts,Art Crafts,Nature Crafts,Autumn Crafts,Summer Crafts,Easter Crafts,Paper Crafting</td><td>image</td><td>https://i.pinimg.com/originals/4f/a7/55/4fa75527fe7de2dac148e006f8f401fe.png</td><td>1</td><td>Local save in /data/art</td><td>art</td><td>The Kitchen Table Classroom</td></tr><tr><td>149</td><td>35194432-35f9-46fb-a557-27c160c62088</td><td>Fall Art Projects-Fall Crafts from Nature - The Kitchen Table Classroom</td><td>These fall art projects showcase the best the season has to offer. These simple fall crafts use simeple materials to take advantage of nature's beauty!</td><td>221k</td><td>Fall Paper Crafts,Fall Crafts For Kids,Arts And Crafts,Art Crafts,Nature Crafts,Autumn Crafts,Summer Crafts,Easter Crafts,Paper Crafting</td><td>image</td><td>https://i.pinimg.com/originals/4f/a7/55/4fa75527fe7de2dac148e006f8f401fe.png</td><td>1</td><td>Local save in /data/art</td><td>art</td><td>The Kitchen Table Classroom</td></tr><tr><td>149</td><td>35194432-35f9-46fb-a557-27c160c62088</td><td>Fall Art Projects-Fall Crafts from Nature - The Kitchen Table Classroom</td><td>These fall art projects showcase the best the season has to offer. These simple fall crafts use simeple materials to take advantage of nature's beauty!</td><td>221k</td><td>Fall Paper Crafts,Fall Crafts For Kids,Arts And Crafts,Art Crafts,Nature Crafts,Autumn Crafts,Summer Crafts,Easter Crafts,Paper Crafting</td><td>image</td><td>https://i.pinimg.com/originals/4f/a7/55/4fa75527fe7de2dac148e006f8f401fe.png</td><td>1</td><td>Local save in /data/art</td><td>art</td><td>The Kitchen Table Classroom</td></tr><tr><td>149</td><td>35194432-35f9-46fb-a557-27c160c62088</td><td>Fall Art Projects-Fall Crafts from Nature - The Kitchen Table Classroom</td><td>These fall art projects showcase the best the season has to offer. These simple fall crafts use simeple materials to take advantage of nature's beauty!</td><td>221k</td><td>Fall Paper Crafts,Fall Crafts For Kids,Arts And Crafts,Art Crafts,Nature Crafts,Autumn Crafts,Summer Crafts,Easter Crafts,Paper Crafting</td><td>image</td><td>https://i.pinimg.com/originals/4f/a7/55/4fa75527fe7de2dac148e006f8f401fe.png</td><td>1</td><td>Local save in /data/art</td><td>art</td><td>The Kitchen Table Classroom</td></tr><tr><td>149</td><td>35194432-35f9-46fb-a557-27c160c62088</td><td>Fall Art Projects-Fall Crafts from Nature - The Kitchen Table Classroom</td><td>These fall art projects showcase the best the season has to offer. These simple fall crafts use simeple materials to take advantage of nature's beauty!</td><td>221k</td><td>Fall Paper Crafts,Fall Crafts For Kids,Arts And Crafts,Art Crafts,Nature Crafts,Autumn Crafts,Summer Crafts,Easter Crafts,Paper Crafting</td><td>image</td><td>https://i.pinimg.com/originals/4f/a7/55/4fa75527fe7de2dac148e006f8f401fe.png</td><td>1</td><td>Local save in /data/art</td><td>art</td><td>The Kitchen Table Classroom</td></tr><tr><td>149</td><td>35194432-35f9-46fb-a557-27c160c62088</td><td>Fall Art Projects-Fall Crafts from Nature - The Kitchen Table Classroom</td><td>These fall art projects showcase the best the season has to offer. These simple fall crafts use simeple materials to take advantage of nature's beauty!</td><td>221k</td><td>Fall Paper Crafts,Fall Crafts For Kids,Arts And Crafts,Art Crafts,Nature Crafts,Autumn Crafts,Summer Crafts,Easter Crafts,Paper Crafting</td><td>image</td><td>https://i.pinimg.com/originals/4f/a7/55/4fa75527fe7de2dac148e006f8f401fe.png</td><td>1</td><td>Local save in /data/art</td><td>art</td><td>The Kitchen Table Classroom</td></tr><tr><td>149</td><td>35194432-35f9-46fb-a557-27c160c62088</td><td>Fall Art Projects-Fall Crafts from Nature - The Kitchen Table Classroom</td><td>These fall art projects showcase the best the season has to offer. These simple fall crafts use simeple materials to take advantage of nature's beauty!</td><td>221k</td><td>Fall Paper Crafts,Fall Crafts For Kids,Arts And Crafts,Art Crafts,Nature Crafts,Autumn Crafts,Summer Crafts,Easter Crafts,Paper Crafting</td><td>image</td><td>https://i.pinimg.com/originals/4f/a7/55/4fa75527fe7de2dac148e006f8f401fe.png</td><td>1</td><td>Local save in /data/art</td><td>art</td><td>The Kitchen Table Classroom</td></tr><tr><td>149</td><td>35194432-35f9-46fb-a557-27c160c62088</td><td>Fall Art Projects-Fall Crafts from Nature - The Kitchen Table Classroom</td><td>These fall art projects showcase the best the season has to offer. These simple fall crafts use simeple materials to take advantage of nature's beauty!</td><td>221k</td><td>Fall Paper Crafts,Fall Crafts For Kids,Arts And Crafts,Art Crafts,Nature Crafts,Autumn Crafts,Summer Crafts,Easter Crafts,Paper Crafting</td><td>image</td><td>https://i.pinimg.com/originals/4f/a7/55/4fa75527fe7de2dac148e006f8f401fe.png</td><td>1</td><td>Local save in /data/art</td><td>art</td><td>The Kitchen Table Classroom</td></tr><tr><td>149</td><td>35194432-35f9-46fb-a557-27c160c62088</td><td>Fall Art Projects-Fall Crafts from Nature - The Kitchen Table Classroom</td><td>These fall art projects showcase the best the season has to offer. These simple fall crafts use simeple materials to take advantage of nature's beauty!</td><td>221k</td><td>Fall Paper Crafts,Fall Crafts For Kids,Arts And Crafts,Art Crafts,Nature Crafts,Autumn Crafts,Summer Crafts,Easter Crafts,Paper Crafting</td><td>image</td><td>https://i.pinimg.com/originals/4f/a7/55/4fa75527fe7de2dac148e006f8f401fe.png</td><td>1</td><td>Local save in /data/art</td><td>art</td><td>The Kitchen Table Classroom</td></tr><tr><td>149</td><td>35194432-35f9-46fb-a557-27c160c62088</td><td>Fall Art Projects-Fall Crafts from Nature - The Kitchen Table Classroom</td><td>These fall art projects showcase the best the season has to offer. These simple fall crafts use simeple materials to take advantage of nature's beauty!</td><td>221k</td><td>Fall Paper Crafts,Fall Crafts For Kids,Arts And Crafts,Art Crafts,Nature Crafts,Autumn Crafts,Summer Crafts,Easter Crafts,Paper Crafting</td><td>image</td><td>https://i.pinimg.com/originals/4f/a7/55/4fa75527fe7de2dac148e006f8f401fe.png</td><td>1</td><td>Local save in /data/art</td><td>art</td><td>The Kitchen Table Classroom</td></tr><tr><td>149</td><td>35194432-35f9-46fb-a557-27c160c62088</td><td>Fall Art Projects-Fall Crafts from Nature - The Kitchen Table Classroom</td><td>These fall art projects showcase the best the season has to offer. These simple fall crafts use simeple materials to take advantage of nature's beauty!</td><td>221k</td><td>Fall Paper Crafts,Fall Crafts For Kids,Arts And Crafts,Art Crafts,Nature Crafts,Autumn Crafts,Summer Crafts,Easter Crafts,Paper Crafting</td><td>image</td><td>https://i.pinimg.com/originals/4f/a7/55/4fa75527fe7de2dac148e006f8f401fe.png</td><td>1</td><td>Local save in /data/art</td><td>art</td><td>The Kitchen Table Classroom</td></tr><tr><td>149</td><td>35194432-35f9-46fb-a557-27c160c62088</td><td>Fall Art Projects-Fall Crafts from Nature - The Kitchen Table Classroom</td><td>These fall art projects showcase the best the season has to offer. These simple fall crafts use simeple materials to take advantage of nature's beauty!</td><td>221k</td><td>Fall Paper Crafts,Fall Crafts For Kids,Arts And Crafts,Art Crafts,Nature Crafts,Autumn Crafts,Summer Crafts,Easter Crafts,Paper Crafting</td><td>image</td><td>https://i.pinimg.com/originals/4f/a7/55/4fa75527fe7de2dac148e006f8f401fe.png</td><td>1</td><td>Local save in /data/art</td><td>art</td><td>The Kitchen Table Classroom</td></tr><tr><td>149</td><td>35194432-35f9-46fb-a557-27c160c62088</td><td>Fall Art Projects-Fall Crafts from Nature - The Kitchen Table Classroom</td><td>These fall art projects showcase the best the season has to offer. These simple fall crafts use simeple materials to take advantage of nature's beauty!</td><td>221k</td><td>Fall Paper Crafts,Fall Crafts For Kids,Arts And Crafts,Art Crafts,Nature Crafts,Autumn Crafts,Summer Crafts,Easter Crafts,Paper Crafting</td><td>image</td><td>https://i.pinimg.com/originals/4f/a7/55/4fa75527fe7de2dac148e006f8f401fe.png</td><td>1</td><td>Local save in /data/art</td><td>art</td><td>The Kitchen Table Classroom</td></tr><tr><td>149</td><td>35194432-35f9-46fb-a557-27c160c62088</td><td>Fall Art Projects-Fall Crafts from Nature - The Kitchen Table Classroom</td><td>These fall art projects showcase the best the season has to offer. These simple fall crafts use simeple materials to take advantage of nature's beauty!</td><td>221k</td><td>Fall Paper Crafts,Fall Crafts For Kids,Arts And Crafts,Art Crafts,Nature Crafts,Autumn Crafts,Summer Crafts,Easter Crafts,Paper Crafting</td><td>image</td><td>https://i.pinimg.com/originals/4f/a7/55/4fa75527fe7de2dac148e006f8f401fe.png</td><td>1</td><td>Local save in /data/art</td><td>art</td><td>The Kitchen Table Classroom</td></tr><tr><td>149</td><td>35194432-35f9-46fb-a557-27c160c62088</td><td>Fall Art Projects-Fall Crafts from Nature - The Kitchen Table Classroom</td><td>These fall art projects showcase the best the season has to offer. These simple fall crafts use simeple materials to take advantage of nature's beauty!</td><td>221k</td><td>Fall Paper Crafts,Fall Crafts For Kids,Arts And Crafts,Art Crafts,Nature Crafts,Autumn Crafts,Summer Crafts,Easter Crafts,Paper Crafting</td><td>image</td><td>https://i.pinimg.com/originals/4f/a7/55/4fa75527fe7de2dac148e006f8f401fe.png</td><td>1</td><td>Local save in /data/art</td><td>art</td><td>The Kitchen Table Classroom</td></tr><tr><td>149</td><td>35194432-35f9-46fb-a557-27c160c62088</td><td>Fall Art Projects-Fall Crafts from Nature - The Kitchen Table Classroom</td><td>These fall art projects showcase the best the season has to offer. These simple fall crafts use simeple materials to take advantage of nature's beauty!</td><td>221k</td><td>Fall Paper Crafts,Fall Crafts For Kids,Arts And Crafts,Art Crafts,Nature Crafts,Autumn Crafts,Summer Crafts,Easter Crafts,Paper Crafting</td><td>image</td><td>https://i.pinimg.com/originals/4f/a7/55/4fa75527fe7de2dac148e006f8f401fe.png</td><td>1</td><td>Local save in /data/art</td><td>art</td><td>The Kitchen Table Classroom</td></tr><tr><td>149</td><td>35194432-35f9-46fb-a557-27c160c62088</td><td>Fall Art Projects-Fall Crafts from Nature - The Kitchen Table Classroom</td><td>These fall art projects showcase the best the season has to offer. These simple fall crafts use simeple materials to take advantage of nature's beauty!</td><td>221k</td><td>Fall Paper Crafts,Fall Crafts For Kids,Arts And Crafts,Art Crafts,Nature Crafts,Autumn Crafts,Summer Crafts,Easter Crafts,Paper Crafting</td><td>image</td><td>https://i.pinimg.com/originals/4f/a7/55/4fa75527fe7de2dac148e006f8f401fe.png</td><td>1</td><td>Local save in /data/art</td><td>art</td><td>The Kitchen Table Classroom</td></tr><tr><td>149</td><td>35194432-35f9-46fb-a557-27c160c62088</td><td>Fall Art Projects-Fall Crafts from Nature - The Kitchen Table Classroom</td><td>These fall art projects showcase the best the season has to offer. These simple fall crafts use simeple materials to take advantage of nature's beauty!</td><td>221k</td><td>Fall Paper Crafts,Fall Crafts For Kids,Arts And Crafts,Art Crafts,Nature Crafts,Autumn Crafts,Summer Crafts,Easter Crafts,Paper Crafting</td><td>image</td><td>https://i.pinimg.com/originals/4f/a7/55/4fa75527fe7de2dac148e006f8f401fe.png</td><td>1</td><td>Local save in /data/art</td><td>art</td><td>The Kitchen Table Classroom</td></tr></tbody></table></div>"
      ]
     },
     "metadata": {
      "application/vnd.databricks.v1+output": {
       "addedWidgets": {},
       "aggData": [],
       "aggError": "",
       "aggOverflow": false,
       "aggSchema": [],
       "aggSeriesLimitReached": false,
       "aggType": "",
       "arguments": {},
       "columnCustomDisplayInfos": {},
       "data": [
        [
         149,
         "35194432-35f9-46fb-a557-27c160c62088",
         "Fall Art Projects-Fall Crafts from Nature - The Kitchen Table Classroom",
         "These fall art projects showcase the best the season has to offer. These simple fall crafts use simeple materials to take advantage of nature's beauty!",
         "221k",
         "Fall Paper Crafts,Fall Crafts For Kids,Arts And Crafts,Art Crafts,Nature Crafts,Autumn Crafts,Summer Crafts,Easter Crafts,Paper Crafting",
         "image",
         "https://i.pinimg.com/originals/4f/a7/55/4fa75527fe7de2dac148e006f8f401fe.png",
         1,
         "Local save in /data/art",
         "art",
         "The Kitchen Table Classroom"
        ],
        [
         149,
         "35194432-35f9-46fb-a557-27c160c62088",
         "Fall Art Projects-Fall Crafts from Nature - The Kitchen Table Classroom",
         "These fall art projects showcase the best the season has to offer. These simple fall crafts use simeple materials to take advantage of nature's beauty!",
         "221k",
         "Fall Paper Crafts,Fall Crafts For Kids,Arts And Crafts,Art Crafts,Nature Crafts,Autumn Crafts,Summer Crafts,Easter Crafts,Paper Crafting",
         "image",
         "https://i.pinimg.com/originals/4f/a7/55/4fa75527fe7de2dac148e006f8f401fe.png",
         1,
         "Local save in /data/art",
         "art",
         "The Kitchen Table Classroom"
        ],
        [
         149,
         "35194432-35f9-46fb-a557-27c160c62088",
         "Fall Art Projects-Fall Crafts from Nature - The Kitchen Table Classroom",
         "These fall art projects showcase the best the season has to offer. These simple fall crafts use simeple materials to take advantage of nature's beauty!",
         "221k",
         "Fall Paper Crafts,Fall Crafts For Kids,Arts And Crafts,Art Crafts,Nature Crafts,Autumn Crafts,Summer Crafts,Easter Crafts,Paper Crafting",
         "image",
         "https://i.pinimg.com/originals/4f/a7/55/4fa75527fe7de2dac148e006f8f401fe.png",
         1,
         "Local save in /data/art",
         "art",
         "The Kitchen Table Classroom"
        ],
        [
         149,
         "35194432-35f9-46fb-a557-27c160c62088",
         "Fall Art Projects-Fall Crafts from Nature - The Kitchen Table Classroom",
         "These fall art projects showcase the best the season has to offer. These simple fall crafts use simeple materials to take advantage of nature's beauty!",
         "221k",
         "Fall Paper Crafts,Fall Crafts For Kids,Arts And Crafts,Art Crafts,Nature Crafts,Autumn Crafts,Summer Crafts,Easter Crafts,Paper Crafting",
         "image",
         "https://i.pinimg.com/originals/4f/a7/55/4fa75527fe7de2dac148e006f8f401fe.png",
         1,
         "Local save in /data/art",
         "art",
         "The Kitchen Table Classroom"
        ],
        [
         149,
         "35194432-35f9-46fb-a557-27c160c62088",
         "Fall Art Projects-Fall Crafts from Nature - The Kitchen Table Classroom",
         "These fall art projects showcase the best the season has to offer. These simple fall crafts use simeple materials to take advantage of nature's beauty!",
         "221k",
         "Fall Paper Crafts,Fall Crafts For Kids,Arts And Crafts,Art Crafts,Nature Crafts,Autumn Crafts,Summer Crafts,Easter Crafts,Paper Crafting",
         "image",
         "https://i.pinimg.com/originals/4f/a7/55/4fa75527fe7de2dac148e006f8f401fe.png",
         1,
         "Local save in /data/art",
         "art",
         "The Kitchen Table Classroom"
        ],
        [
         149,
         "35194432-35f9-46fb-a557-27c160c62088",
         "Fall Art Projects-Fall Crafts from Nature - The Kitchen Table Classroom",
         "These fall art projects showcase the best the season has to offer. These simple fall crafts use simeple materials to take advantage of nature's beauty!",
         "221k",
         "Fall Paper Crafts,Fall Crafts For Kids,Arts And Crafts,Art Crafts,Nature Crafts,Autumn Crafts,Summer Crafts,Easter Crafts,Paper Crafting",
         "image",
         "https://i.pinimg.com/originals/4f/a7/55/4fa75527fe7de2dac148e006f8f401fe.png",
         1,
         "Local save in /data/art",
         "art",
         "The Kitchen Table Classroom"
        ],
        [
         149,
         "35194432-35f9-46fb-a557-27c160c62088",
         "Fall Art Projects-Fall Crafts from Nature - The Kitchen Table Classroom",
         "These fall art projects showcase the best the season has to offer. These simple fall crafts use simeple materials to take advantage of nature's beauty!",
         "221k",
         "Fall Paper Crafts,Fall Crafts For Kids,Arts And Crafts,Art Crafts,Nature Crafts,Autumn Crafts,Summer Crafts,Easter Crafts,Paper Crafting",
         "image",
         "https://i.pinimg.com/originals/4f/a7/55/4fa75527fe7de2dac148e006f8f401fe.png",
         1,
         "Local save in /data/art",
         "art",
         "The Kitchen Table Classroom"
        ],
        [
         149,
         "35194432-35f9-46fb-a557-27c160c62088",
         "Fall Art Projects-Fall Crafts from Nature - The Kitchen Table Classroom",
         "These fall art projects showcase the best the season has to offer. These simple fall crafts use simeple materials to take advantage of nature's beauty!",
         "221k",
         "Fall Paper Crafts,Fall Crafts For Kids,Arts And Crafts,Art Crafts,Nature Crafts,Autumn Crafts,Summer Crafts,Easter Crafts,Paper Crafting",
         "image",
         "https://i.pinimg.com/originals/4f/a7/55/4fa75527fe7de2dac148e006f8f401fe.png",
         1,
         "Local save in /data/art",
         "art",
         "The Kitchen Table Classroom"
        ],
        [
         149,
         "35194432-35f9-46fb-a557-27c160c62088",
         "Fall Art Projects-Fall Crafts from Nature - The Kitchen Table Classroom",
         "These fall art projects showcase the best the season has to offer. These simple fall crafts use simeple materials to take advantage of nature's beauty!",
         "221k",
         "Fall Paper Crafts,Fall Crafts For Kids,Arts And Crafts,Art Crafts,Nature Crafts,Autumn Crafts,Summer Crafts,Easter Crafts,Paper Crafting",
         "image",
         "https://i.pinimg.com/originals/4f/a7/55/4fa75527fe7de2dac148e006f8f401fe.png",
         1,
         "Local save in /data/art",
         "art",
         "The Kitchen Table Classroom"
        ],
        [
         149,
         "35194432-35f9-46fb-a557-27c160c62088",
         "Fall Art Projects-Fall Crafts from Nature - The Kitchen Table Classroom",
         "These fall art projects showcase the best the season has to offer. These simple fall crafts use simeple materials to take advantage of nature's beauty!",
         "221k",
         "Fall Paper Crafts,Fall Crafts For Kids,Arts And Crafts,Art Crafts,Nature Crafts,Autumn Crafts,Summer Crafts,Easter Crafts,Paper Crafting",
         "image",
         "https://i.pinimg.com/originals/4f/a7/55/4fa75527fe7de2dac148e006f8f401fe.png",
         1,
         "Local save in /data/art",
         "art",
         "The Kitchen Table Classroom"
        ],
        [
         149,
         "35194432-35f9-46fb-a557-27c160c62088",
         "Fall Art Projects-Fall Crafts from Nature - The Kitchen Table Classroom",
         "These fall art projects showcase the best the season has to offer. These simple fall crafts use simeple materials to take advantage of nature's beauty!",
         "221k",
         "Fall Paper Crafts,Fall Crafts For Kids,Arts And Crafts,Art Crafts,Nature Crafts,Autumn Crafts,Summer Crafts,Easter Crafts,Paper Crafting",
         "image",
         "https://i.pinimg.com/originals/4f/a7/55/4fa75527fe7de2dac148e006f8f401fe.png",
         1,
         "Local save in /data/art",
         "art",
         "The Kitchen Table Classroom"
        ],
        [
         149,
         "35194432-35f9-46fb-a557-27c160c62088",
         "Fall Art Projects-Fall Crafts from Nature - The Kitchen Table Classroom",
         "These fall art projects showcase the best the season has to offer. These simple fall crafts use simeple materials to take advantage of nature's beauty!",
         "221k",
         "Fall Paper Crafts,Fall Crafts For Kids,Arts And Crafts,Art Crafts,Nature Crafts,Autumn Crafts,Summer Crafts,Easter Crafts,Paper Crafting",
         "image",
         "https://i.pinimg.com/originals/4f/a7/55/4fa75527fe7de2dac148e006f8f401fe.png",
         1,
         "Local save in /data/art",
         "art",
         "The Kitchen Table Classroom"
        ],
        [
         149,
         "35194432-35f9-46fb-a557-27c160c62088",
         "Fall Art Projects-Fall Crafts from Nature - The Kitchen Table Classroom",
         "These fall art projects showcase the best the season has to offer. These simple fall crafts use simeple materials to take advantage of nature's beauty!",
         "221k",
         "Fall Paper Crafts,Fall Crafts For Kids,Arts And Crafts,Art Crafts,Nature Crafts,Autumn Crafts,Summer Crafts,Easter Crafts,Paper Crafting",
         "image",
         "https://i.pinimg.com/originals/4f/a7/55/4fa75527fe7de2dac148e006f8f401fe.png",
         1,
         "Local save in /data/art",
         "art",
         "The Kitchen Table Classroom"
        ],
        [
         149,
         "35194432-35f9-46fb-a557-27c160c62088",
         "Fall Art Projects-Fall Crafts from Nature - The Kitchen Table Classroom",
         "These fall art projects showcase the best the season has to offer. These simple fall crafts use simeple materials to take advantage of nature's beauty!",
         "221k",
         "Fall Paper Crafts,Fall Crafts For Kids,Arts And Crafts,Art Crafts,Nature Crafts,Autumn Crafts,Summer Crafts,Easter Crafts,Paper Crafting",
         "image",
         "https://i.pinimg.com/originals/4f/a7/55/4fa75527fe7de2dac148e006f8f401fe.png",
         1,
         "Local save in /data/art",
         "art",
         "The Kitchen Table Classroom"
        ],
        [
         149,
         "35194432-35f9-46fb-a557-27c160c62088",
         "Fall Art Projects-Fall Crafts from Nature - The Kitchen Table Classroom",
         "These fall art projects showcase the best the season has to offer. These simple fall crafts use simeple materials to take advantage of nature's beauty!",
         "221k",
         "Fall Paper Crafts,Fall Crafts For Kids,Arts And Crafts,Art Crafts,Nature Crafts,Autumn Crafts,Summer Crafts,Easter Crafts,Paper Crafting",
         "image",
         "https://i.pinimg.com/originals/4f/a7/55/4fa75527fe7de2dac148e006f8f401fe.png",
         1,
         "Local save in /data/art",
         "art",
         "The Kitchen Table Classroom"
        ],
        [
         149,
         "35194432-35f9-46fb-a557-27c160c62088",
         "Fall Art Projects-Fall Crafts from Nature - The Kitchen Table Classroom",
         "These fall art projects showcase the best the season has to offer. These simple fall crafts use simeple materials to take advantage of nature's beauty!",
         "221k",
         "Fall Paper Crafts,Fall Crafts For Kids,Arts And Crafts,Art Crafts,Nature Crafts,Autumn Crafts,Summer Crafts,Easter Crafts,Paper Crafting",
         "image",
         "https://i.pinimg.com/originals/4f/a7/55/4fa75527fe7de2dac148e006f8f401fe.png",
         1,
         "Local save in /data/art",
         "art",
         "The Kitchen Table Classroom"
        ],
        [
         149,
         "35194432-35f9-46fb-a557-27c160c62088",
         "Fall Art Projects-Fall Crafts from Nature - The Kitchen Table Classroom",
         "These fall art projects showcase the best the season has to offer. These simple fall crafts use simeple materials to take advantage of nature's beauty!",
         "221k",
         "Fall Paper Crafts,Fall Crafts For Kids,Arts And Crafts,Art Crafts,Nature Crafts,Autumn Crafts,Summer Crafts,Easter Crafts,Paper Crafting",
         "image",
         "https://i.pinimg.com/originals/4f/a7/55/4fa75527fe7de2dac148e006f8f401fe.png",
         1,
         "Local save in /data/art",
         "art",
         "The Kitchen Table Classroom"
        ],
        [
         149,
         "35194432-35f9-46fb-a557-27c160c62088",
         "Fall Art Projects-Fall Crafts from Nature - The Kitchen Table Classroom",
         "These fall art projects showcase the best the season has to offer. These simple fall crafts use simeple materials to take advantage of nature's beauty!",
         "221k",
         "Fall Paper Crafts,Fall Crafts For Kids,Arts And Crafts,Art Crafts,Nature Crafts,Autumn Crafts,Summer Crafts,Easter Crafts,Paper Crafting",
         "image",
         "https://i.pinimg.com/originals/4f/a7/55/4fa75527fe7de2dac148e006f8f401fe.png",
         1,
         "Local save in /data/art",
         "art",
         "The Kitchen Table Classroom"
        ],
        [
         149,
         "35194432-35f9-46fb-a557-27c160c62088",
         "Fall Art Projects-Fall Crafts from Nature - The Kitchen Table Classroom",
         "These fall art projects showcase the best the season has to offer. These simple fall crafts use simeple materials to take advantage of nature's beauty!",
         "221k",
         "Fall Paper Crafts,Fall Crafts For Kids,Arts And Crafts,Art Crafts,Nature Crafts,Autumn Crafts,Summer Crafts,Easter Crafts,Paper Crafting",
         "image",
         "https://i.pinimg.com/originals/4f/a7/55/4fa75527fe7de2dac148e006f8f401fe.png",
         1,
         "Local save in /data/art",
         "art",
         "The Kitchen Table Classroom"
        ]
       ],
       "datasetInfos": [],
       "dbfsResultPath": null,
       "isJsonSchema": true,
       "metadata": {},
       "overflow": false,
       "plotOptions": {
        "customPlotOptions": {},
        "displayType": "table",
        "pivotAggregation": null,
        "pivotColumns": null,
        "xColumns": null,
        "yColumns": null
       },
       "removedWidgets": [],
       "schema": [
        {
         "metadata": "{}",
         "name": "index",
         "type": "\"long\""
        },
        {
         "metadata": "{}",
         "name": "unique_id",
         "type": "\"string\""
        },
        {
         "metadata": "{}",
         "name": "title",
         "type": "\"string\""
        },
        {
         "metadata": "{}",
         "name": "description",
         "type": "\"string\""
        },
        {
         "metadata": "{}",
         "name": "follower_count",
         "type": "\"string\""
        },
        {
         "metadata": "{}",
         "name": "tag_list",
         "type": "\"string\""
        },
        {
         "metadata": "{}",
         "name": "is_image_or_video",
         "type": "\"string\""
        },
        {
         "metadata": "{}",
         "name": "image_src",
         "type": "\"string\""
        },
        {
         "metadata": "{}",
         "name": "downloaded",
         "type": "\"long\""
        },
        {
         "metadata": "{}",
         "name": "save_location",
         "type": "\"string\""
        },
        {
         "metadata": "{}",
         "name": "category",
         "type": "\"string\""
        },
        {
         "metadata": "{}",
         "name": "poster_name",
         "type": "\"string\""
        }
       ],
       "type": "table"
      }
     },
     "output_type": "display_data"
    }
   ],
   "source": [
    "# Define a custom schema\n",
    "custom_schema = StructType([\n",
    "    StructField(\"index\", LongType(), True),\n",
    "    StructField(\"unique_id\", StringType(), True),\n",
    "    StructField(\"title\", StringType(), True),\n",
    "    StructField(\"description\", StringType(), True),\n",
    "    StructField(\"follower_count\", StringType(), True),\n",
    "    StructField(\"tag_list\", StringType(), True),\n",
    "    StructField(\"is_image_or_video\", StringType(), True),\n",
    "    StructField(\"image_src\", StringType(), True),\n",
    "    StructField(\"downloaded\", LongType(), True),\n",
    "    StructField(\"save_location\", StringType(), True),\n",
    "    StructField(\"category\", StringType(), True),\n",
    "    StructField(\"poster_name\", StringType(), True),\n",
    "    # Add more fields as needed\n",
    "])\n",
    "\n",
    "# Parse the JSON data in the `data` column using the custom schema\n",
    "df_pin_parsed = df_pin_string.withColumn(\"data_parsed\", F.from_json(F.col(\"data\"), custom_schema))\n",
    "\n",
    "# Expand the parsed JSON fields into individual columns\n",
    "df_pin = df_pin_parsed.select(\"data_parsed.*\")  # Expands all JSON fields as columns\n",
    "\n",
    "# Display the resulting DataFrame\n",
    "display(df_pin)\n",
    "\n",
    "\n",
    "\n"
   ]
  },
  {
   "cell_type": "code",
   "execution_count": 0,
   "metadata": {
    "application/vnd.databricks.v1+cell": {
     "cellMetadata": {
      "byteLimit": 2048000,
      "rowLimit": 10000
     },
     "inputWidgets": {},
     "nuid": "a8dd7290-c903-4bd6-9544-74aebfaef24e",
     "showTitle": false,
     "tableResultSettingsMap": {},
     "title": ""
    }
   },
   "outputs": [
    {
     "output_type": "display_data",
     "data": {
      "text/html": [
       "<style scoped>\n",
       "  .table-result-container {\n",
       "    max-height: 300px;\n",
       "    overflow: auto;\n",
       "  }\n",
       "  table, th, td {\n",
       "    border: 1px solid black;\n",
       "    border-collapse: collapse;\n",
       "  }\n",
       "  th, td {\n",
       "    padding: 5px;\n",
       "  }\n",
       "  th {\n",
       "    text-align: left;\n",
       "  }\n",
       "</style><div class='table-result-container'><table class='table-result'><thead style='background-color: white'><tr><th>ind</th><th>unique_id</th><th>title</th><th>description</th><th>follower_count</th><th>poster_name</th><th>tag_list</th><th>is_image_or_video</th><th>image_src</th><th>save_location</th><th>category</th></tr></thead><tbody><tr><td>149</td><td>35194432-35f9-46fb-a557-27c160c62088</td><td>Fall Art Projects-Fall Crafts from Nature - The Kitchen Table Classroom</td><td>These fall art projects showcase the best the season has to offer. These simple fall crafts use simeple materials to take advantage of nature's beauty!</td><td>221</td><td>The Kitchen Table Classroom</td><td>Fall Paper Crafts,Fall Crafts For Kids,Arts And Crafts,Art Crafts,Nature Crafts,Autumn Crafts,Summer Crafts,Easter Crafts,Paper Crafting</td><td>image</td><td>https://i.pinimg.com/originals/4f/a7/55/4fa75527fe7de2dac148e006f8f401fe.png</td><td>/data/art</td><td>art</td></tr><tr><td>149</td><td>35194432-35f9-46fb-a557-27c160c62088</td><td>Fall Art Projects-Fall Crafts from Nature - The Kitchen Table Classroom</td><td>These fall art projects showcase the best the season has to offer. These simple fall crafts use simeple materials to take advantage of nature's beauty!</td><td>221</td><td>The Kitchen Table Classroom</td><td>Fall Paper Crafts,Fall Crafts For Kids,Arts And Crafts,Art Crafts,Nature Crafts,Autumn Crafts,Summer Crafts,Easter Crafts,Paper Crafting</td><td>image</td><td>https://i.pinimg.com/originals/4f/a7/55/4fa75527fe7de2dac148e006f8f401fe.png</td><td>/data/art</td><td>art</td></tr><tr><td>149</td><td>35194432-35f9-46fb-a557-27c160c62088</td><td>Fall Art Projects-Fall Crafts from Nature - The Kitchen Table Classroom</td><td>These fall art projects showcase the best the season has to offer. These simple fall crafts use simeple materials to take advantage of nature's beauty!</td><td>221</td><td>The Kitchen Table Classroom</td><td>Fall Paper Crafts,Fall Crafts For Kids,Arts And Crafts,Art Crafts,Nature Crafts,Autumn Crafts,Summer Crafts,Easter Crafts,Paper Crafting</td><td>image</td><td>https://i.pinimg.com/originals/4f/a7/55/4fa75527fe7de2dac148e006f8f401fe.png</td><td>/data/art</td><td>art</td></tr><tr><td>149</td><td>35194432-35f9-46fb-a557-27c160c62088</td><td>Fall Art Projects-Fall Crafts from Nature - The Kitchen Table Classroom</td><td>These fall art projects showcase the best the season has to offer. These simple fall crafts use simeple materials to take advantage of nature's beauty!</td><td>221</td><td>The Kitchen Table Classroom</td><td>Fall Paper Crafts,Fall Crafts For Kids,Arts And Crafts,Art Crafts,Nature Crafts,Autumn Crafts,Summer Crafts,Easter Crafts,Paper Crafting</td><td>image</td><td>https://i.pinimg.com/originals/4f/a7/55/4fa75527fe7de2dac148e006f8f401fe.png</td><td>/data/art</td><td>art</td></tr><tr><td>149</td><td>35194432-35f9-46fb-a557-27c160c62088</td><td>Fall Art Projects-Fall Crafts from Nature - The Kitchen Table Classroom</td><td>These fall art projects showcase the best the season has to offer. These simple fall crafts use simeple materials to take advantage of nature's beauty!</td><td>221</td><td>The Kitchen Table Classroom</td><td>Fall Paper Crafts,Fall Crafts For Kids,Arts And Crafts,Art Crafts,Nature Crafts,Autumn Crafts,Summer Crafts,Easter Crafts,Paper Crafting</td><td>image</td><td>https://i.pinimg.com/originals/4f/a7/55/4fa75527fe7de2dac148e006f8f401fe.png</td><td>/data/art</td><td>art</td></tr><tr><td>149</td><td>35194432-35f9-46fb-a557-27c160c62088</td><td>Fall Art Projects-Fall Crafts from Nature - The Kitchen Table Classroom</td><td>These fall art projects showcase the best the season has to offer. These simple fall crafts use simeple materials to take advantage of nature's beauty!</td><td>221</td><td>The Kitchen Table Classroom</td><td>Fall Paper Crafts,Fall Crafts For Kids,Arts And Crafts,Art Crafts,Nature Crafts,Autumn Crafts,Summer Crafts,Easter Crafts,Paper Crafting</td><td>image</td><td>https://i.pinimg.com/originals/4f/a7/55/4fa75527fe7de2dac148e006f8f401fe.png</td><td>/data/art</td><td>art</td></tr><tr><td>149</td><td>35194432-35f9-46fb-a557-27c160c62088</td><td>Fall Art Projects-Fall Crafts from Nature - The Kitchen Table Classroom</td><td>These fall art projects showcase the best the season has to offer. These simple fall crafts use simeple materials to take advantage of nature's beauty!</td><td>221</td><td>The Kitchen Table Classroom</td><td>Fall Paper Crafts,Fall Crafts For Kids,Arts And Crafts,Art Crafts,Nature Crafts,Autumn Crafts,Summer Crafts,Easter Crafts,Paper Crafting</td><td>image</td><td>https://i.pinimg.com/originals/4f/a7/55/4fa75527fe7de2dac148e006f8f401fe.png</td><td>/data/art</td><td>art</td></tr><tr><td>149</td><td>35194432-35f9-46fb-a557-27c160c62088</td><td>Fall Art Projects-Fall Crafts from Nature - The Kitchen Table Classroom</td><td>These fall art projects showcase the best the season has to offer. These simple fall crafts use simeple materials to take advantage of nature's beauty!</td><td>221</td><td>The Kitchen Table Classroom</td><td>Fall Paper Crafts,Fall Crafts For Kids,Arts And Crafts,Art Crafts,Nature Crafts,Autumn Crafts,Summer Crafts,Easter Crafts,Paper Crafting</td><td>image</td><td>https://i.pinimg.com/originals/4f/a7/55/4fa75527fe7de2dac148e006f8f401fe.png</td><td>/data/art</td><td>art</td></tr><tr><td>149</td><td>35194432-35f9-46fb-a557-27c160c62088</td><td>Fall Art Projects-Fall Crafts from Nature - The Kitchen Table Classroom</td><td>These fall art projects showcase the best the season has to offer. These simple fall crafts use simeple materials to take advantage of nature's beauty!</td><td>221</td><td>The Kitchen Table Classroom</td><td>Fall Paper Crafts,Fall Crafts For Kids,Arts And Crafts,Art Crafts,Nature Crafts,Autumn Crafts,Summer Crafts,Easter Crafts,Paper Crafting</td><td>image</td><td>https://i.pinimg.com/originals/4f/a7/55/4fa75527fe7de2dac148e006f8f401fe.png</td><td>/data/art</td><td>art</td></tr><tr><td>149</td><td>35194432-35f9-46fb-a557-27c160c62088</td><td>Fall Art Projects-Fall Crafts from Nature - The Kitchen Table Classroom</td><td>These fall art projects showcase the best the season has to offer. These simple fall crafts use simeple materials to take advantage of nature's beauty!</td><td>221</td><td>The Kitchen Table Classroom</td><td>Fall Paper Crafts,Fall Crafts For Kids,Arts And Crafts,Art Crafts,Nature Crafts,Autumn Crafts,Summer Crafts,Easter Crafts,Paper Crafting</td><td>image</td><td>https://i.pinimg.com/originals/4f/a7/55/4fa75527fe7de2dac148e006f8f401fe.png</td><td>/data/art</td><td>art</td></tr><tr><td>149</td><td>35194432-35f9-46fb-a557-27c160c62088</td><td>Fall Art Projects-Fall Crafts from Nature - The Kitchen Table Classroom</td><td>These fall art projects showcase the best the season has to offer. These simple fall crafts use simeple materials to take advantage of nature's beauty!</td><td>221</td><td>The Kitchen Table Classroom</td><td>Fall Paper Crafts,Fall Crafts For Kids,Arts And Crafts,Art Crafts,Nature Crafts,Autumn Crafts,Summer Crafts,Easter Crafts,Paper Crafting</td><td>image</td><td>https://i.pinimg.com/originals/4f/a7/55/4fa75527fe7de2dac148e006f8f401fe.png</td><td>/data/art</td><td>art</td></tr><tr><td>149</td><td>35194432-35f9-46fb-a557-27c160c62088</td><td>Fall Art Projects-Fall Crafts from Nature - The Kitchen Table Classroom</td><td>These fall art projects showcase the best the season has to offer. These simple fall crafts use simeple materials to take advantage of nature's beauty!</td><td>221</td><td>The Kitchen Table Classroom</td><td>Fall Paper Crafts,Fall Crafts For Kids,Arts And Crafts,Art Crafts,Nature Crafts,Autumn Crafts,Summer Crafts,Easter Crafts,Paper Crafting</td><td>image</td><td>https://i.pinimg.com/originals/4f/a7/55/4fa75527fe7de2dac148e006f8f401fe.png</td><td>/data/art</td><td>art</td></tr><tr><td>149</td><td>35194432-35f9-46fb-a557-27c160c62088</td><td>Fall Art Projects-Fall Crafts from Nature - The Kitchen Table Classroom</td><td>These fall art projects showcase the best the season has to offer. These simple fall crafts use simeple materials to take advantage of nature's beauty!</td><td>221</td><td>The Kitchen Table Classroom</td><td>Fall Paper Crafts,Fall Crafts For Kids,Arts And Crafts,Art Crafts,Nature Crafts,Autumn Crafts,Summer Crafts,Easter Crafts,Paper Crafting</td><td>image</td><td>https://i.pinimg.com/originals/4f/a7/55/4fa75527fe7de2dac148e006f8f401fe.png</td><td>/data/art</td><td>art</td></tr><tr><td>149</td><td>35194432-35f9-46fb-a557-27c160c62088</td><td>Fall Art Projects-Fall Crafts from Nature - The Kitchen Table Classroom</td><td>These fall art projects showcase the best the season has to offer. These simple fall crafts use simeple materials to take advantage of nature's beauty!</td><td>221</td><td>The Kitchen Table Classroom</td><td>Fall Paper Crafts,Fall Crafts For Kids,Arts And Crafts,Art Crafts,Nature Crafts,Autumn Crafts,Summer Crafts,Easter Crafts,Paper Crafting</td><td>image</td><td>https://i.pinimg.com/originals/4f/a7/55/4fa75527fe7de2dac148e006f8f401fe.png</td><td>/data/art</td><td>art</td></tr><tr><td>149</td><td>35194432-35f9-46fb-a557-27c160c62088</td><td>Fall Art Projects-Fall Crafts from Nature - The Kitchen Table Classroom</td><td>These fall art projects showcase the best the season has to offer. These simple fall crafts use simeple materials to take advantage of nature's beauty!</td><td>221</td><td>The Kitchen Table Classroom</td><td>Fall Paper Crafts,Fall Crafts For Kids,Arts And Crafts,Art Crafts,Nature Crafts,Autumn Crafts,Summer Crafts,Easter Crafts,Paper Crafting</td><td>image</td><td>https://i.pinimg.com/originals/4f/a7/55/4fa75527fe7de2dac148e006f8f401fe.png</td><td>/data/art</td><td>art</td></tr><tr><td>149</td><td>35194432-35f9-46fb-a557-27c160c62088</td><td>Fall Art Projects-Fall Crafts from Nature - The Kitchen Table Classroom</td><td>These fall art projects showcase the best the season has to offer. These simple fall crafts use simeple materials to take advantage of nature's beauty!</td><td>221</td><td>The Kitchen Table Classroom</td><td>Fall Paper Crafts,Fall Crafts For Kids,Arts And Crafts,Art Crafts,Nature Crafts,Autumn Crafts,Summer Crafts,Easter Crafts,Paper Crafting</td><td>image</td><td>https://i.pinimg.com/originals/4f/a7/55/4fa75527fe7de2dac148e006f8f401fe.png</td><td>/data/art</td><td>art</td></tr><tr><td>149</td><td>35194432-35f9-46fb-a557-27c160c62088</td><td>Fall Art Projects-Fall Crafts from Nature - The Kitchen Table Classroom</td><td>These fall art projects showcase the best the season has to offer. These simple fall crafts use simeple materials to take advantage of nature's beauty!</td><td>221</td><td>The Kitchen Table Classroom</td><td>Fall Paper Crafts,Fall Crafts For Kids,Arts And Crafts,Art Crafts,Nature Crafts,Autumn Crafts,Summer Crafts,Easter Crafts,Paper Crafting</td><td>image</td><td>https://i.pinimg.com/originals/4f/a7/55/4fa75527fe7de2dac148e006f8f401fe.png</td><td>/data/art</td><td>art</td></tr><tr><td>149</td><td>35194432-35f9-46fb-a557-27c160c62088</td><td>Fall Art Projects-Fall Crafts from Nature - The Kitchen Table Classroom</td><td>These fall art projects showcase the best the season has to offer. These simple fall crafts use simeple materials to take advantage of nature's beauty!</td><td>221</td><td>The Kitchen Table Classroom</td><td>Fall Paper Crafts,Fall Crafts For Kids,Arts And Crafts,Art Crafts,Nature Crafts,Autumn Crafts,Summer Crafts,Easter Crafts,Paper Crafting</td><td>image</td><td>https://i.pinimg.com/originals/4f/a7/55/4fa75527fe7de2dac148e006f8f401fe.png</td><td>/data/art</td><td>art</td></tr><tr><td>149</td><td>35194432-35f9-46fb-a557-27c160c62088</td><td>Fall Art Projects-Fall Crafts from Nature - The Kitchen Table Classroom</td><td>These fall art projects showcase the best the season has to offer. These simple fall crafts use simeple materials to take advantage of nature's beauty!</td><td>221</td><td>The Kitchen Table Classroom</td><td>Fall Paper Crafts,Fall Crafts For Kids,Arts And Crafts,Art Crafts,Nature Crafts,Autumn Crafts,Summer Crafts,Easter Crafts,Paper Crafting</td><td>image</td><td>https://i.pinimg.com/originals/4f/a7/55/4fa75527fe7de2dac148e006f8f401fe.png</td><td>/data/art</td><td>art</td></tr></tbody></table></div>"
      ]
     },
     "metadata": {
      "application/vnd.databricks.v1+output": {
       "addedWidgets": {},
       "aggData": [],
       "aggError": "",
       "aggOverflow": false,
       "aggSchema": [],
       "aggSeriesLimitReached": false,
       "aggType": "",
       "arguments": {},
       "columnCustomDisplayInfos": {},
       "data": [
        [
         149,
         "35194432-35f9-46fb-a557-27c160c62088",
         "Fall Art Projects-Fall Crafts from Nature - The Kitchen Table Classroom",
         "These fall art projects showcase the best the season has to offer. These simple fall crafts use simeple materials to take advantage of nature's beauty!",
         221,
         "The Kitchen Table Classroom",
         "Fall Paper Crafts,Fall Crafts For Kids,Arts And Crafts,Art Crafts,Nature Crafts,Autumn Crafts,Summer Crafts,Easter Crafts,Paper Crafting",
         "image",
         "https://i.pinimg.com/originals/4f/a7/55/4fa75527fe7de2dac148e006f8f401fe.png",
         "/data/art",
         "art"
        ],
        [
         149,
         "35194432-35f9-46fb-a557-27c160c62088",
         "Fall Art Projects-Fall Crafts from Nature - The Kitchen Table Classroom",
         "These fall art projects showcase the best the season has to offer. These simple fall crafts use simeple materials to take advantage of nature's beauty!",
         221,
         "The Kitchen Table Classroom",
         "Fall Paper Crafts,Fall Crafts For Kids,Arts And Crafts,Art Crafts,Nature Crafts,Autumn Crafts,Summer Crafts,Easter Crafts,Paper Crafting",
         "image",
         "https://i.pinimg.com/originals/4f/a7/55/4fa75527fe7de2dac148e006f8f401fe.png",
         "/data/art",
         "art"
        ],
        [
         149,
         "35194432-35f9-46fb-a557-27c160c62088",
         "Fall Art Projects-Fall Crafts from Nature - The Kitchen Table Classroom",
         "These fall art projects showcase the best the season has to offer. These simple fall crafts use simeple materials to take advantage of nature's beauty!",
         221,
         "The Kitchen Table Classroom",
         "Fall Paper Crafts,Fall Crafts For Kids,Arts And Crafts,Art Crafts,Nature Crafts,Autumn Crafts,Summer Crafts,Easter Crafts,Paper Crafting",
         "image",
         "https://i.pinimg.com/originals/4f/a7/55/4fa75527fe7de2dac148e006f8f401fe.png",
         "/data/art",
         "art"
        ],
        [
         149,
         "35194432-35f9-46fb-a557-27c160c62088",
         "Fall Art Projects-Fall Crafts from Nature - The Kitchen Table Classroom",
         "These fall art projects showcase the best the season has to offer. These simple fall crafts use simeple materials to take advantage of nature's beauty!",
         221,
         "The Kitchen Table Classroom",
         "Fall Paper Crafts,Fall Crafts For Kids,Arts And Crafts,Art Crafts,Nature Crafts,Autumn Crafts,Summer Crafts,Easter Crafts,Paper Crafting",
         "image",
         "https://i.pinimg.com/originals/4f/a7/55/4fa75527fe7de2dac148e006f8f401fe.png",
         "/data/art",
         "art"
        ],
        [
         149,
         "35194432-35f9-46fb-a557-27c160c62088",
         "Fall Art Projects-Fall Crafts from Nature - The Kitchen Table Classroom",
         "These fall art projects showcase the best the season has to offer. These simple fall crafts use simeple materials to take advantage of nature's beauty!",
         221,
         "The Kitchen Table Classroom",
         "Fall Paper Crafts,Fall Crafts For Kids,Arts And Crafts,Art Crafts,Nature Crafts,Autumn Crafts,Summer Crafts,Easter Crafts,Paper Crafting",
         "image",
         "https://i.pinimg.com/originals/4f/a7/55/4fa75527fe7de2dac148e006f8f401fe.png",
         "/data/art",
         "art"
        ],
        [
         149,
         "35194432-35f9-46fb-a557-27c160c62088",
         "Fall Art Projects-Fall Crafts from Nature - The Kitchen Table Classroom",
         "These fall art projects showcase the best the season has to offer. These simple fall crafts use simeple materials to take advantage of nature's beauty!",
         221,
         "The Kitchen Table Classroom",
         "Fall Paper Crafts,Fall Crafts For Kids,Arts And Crafts,Art Crafts,Nature Crafts,Autumn Crafts,Summer Crafts,Easter Crafts,Paper Crafting",
         "image",
         "https://i.pinimg.com/originals/4f/a7/55/4fa75527fe7de2dac148e006f8f401fe.png",
         "/data/art",
         "art"
        ],
        [
         149,
         "35194432-35f9-46fb-a557-27c160c62088",
         "Fall Art Projects-Fall Crafts from Nature - The Kitchen Table Classroom",
         "These fall art projects showcase the best the season has to offer. These simple fall crafts use simeple materials to take advantage of nature's beauty!",
         221,
         "The Kitchen Table Classroom",
         "Fall Paper Crafts,Fall Crafts For Kids,Arts And Crafts,Art Crafts,Nature Crafts,Autumn Crafts,Summer Crafts,Easter Crafts,Paper Crafting",
         "image",
         "https://i.pinimg.com/originals/4f/a7/55/4fa75527fe7de2dac148e006f8f401fe.png",
         "/data/art",
         "art"
        ],
        [
         149,
         "35194432-35f9-46fb-a557-27c160c62088",
         "Fall Art Projects-Fall Crafts from Nature - The Kitchen Table Classroom",
         "These fall art projects showcase the best the season has to offer. These simple fall crafts use simeple materials to take advantage of nature's beauty!",
         221,
         "The Kitchen Table Classroom",
         "Fall Paper Crafts,Fall Crafts For Kids,Arts And Crafts,Art Crafts,Nature Crafts,Autumn Crafts,Summer Crafts,Easter Crafts,Paper Crafting",
         "image",
         "https://i.pinimg.com/originals/4f/a7/55/4fa75527fe7de2dac148e006f8f401fe.png",
         "/data/art",
         "art"
        ],
        [
         149,
         "35194432-35f9-46fb-a557-27c160c62088",
         "Fall Art Projects-Fall Crafts from Nature - The Kitchen Table Classroom",
         "These fall art projects showcase the best the season has to offer. These simple fall crafts use simeple materials to take advantage of nature's beauty!",
         221,
         "The Kitchen Table Classroom",
         "Fall Paper Crafts,Fall Crafts For Kids,Arts And Crafts,Art Crafts,Nature Crafts,Autumn Crafts,Summer Crafts,Easter Crafts,Paper Crafting",
         "image",
         "https://i.pinimg.com/originals/4f/a7/55/4fa75527fe7de2dac148e006f8f401fe.png",
         "/data/art",
         "art"
        ],
        [
         149,
         "35194432-35f9-46fb-a557-27c160c62088",
         "Fall Art Projects-Fall Crafts from Nature - The Kitchen Table Classroom",
         "These fall art projects showcase the best the season has to offer. These simple fall crafts use simeple materials to take advantage of nature's beauty!",
         221,
         "The Kitchen Table Classroom",
         "Fall Paper Crafts,Fall Crafts For Kids,Arts And Crafts,Art Crafts,Nature Crafts,Autumn Crafts,Summer Crafts,Easter Crafts,Paper Crafting",
         "image",
         "https://i.pinimg.com/originals/4f/a7/55/4fa75527fe7de2dac148e006f8f401fe.png",
         "/data/art",
         "art"
        ],
        [
         149,
         "35194432-35f9-46fb-a557-27c160c62088",
         "Fall Art Projects-Fall Crafts from Nature - The Kitchen Table Classroom",
         "These fall art projects showcase the best the season has to offer. These simple fall crafts use simeple materials to take advantage of nature's beauty!",
         221,
         "The Kitchen Table Classroom",
         "Fall Paper Crafts,Fall Crafts For Kids,Arts And Crafts,Art Crafts,Nature Crafts,Autumn Crafts,Summer Crafts,Easter Crafts,Paper Crafting",
         "image",
         "https://i.pinimg.com/originals/4f/a7/55/4fa75527fe7de2dac148e006f8f401fe.png",
         "/data/art",
         "art"
        ],
        [
         149,
         "35194432-35f9-46fb-a557-27c160c62088",
         "Fall Art Projects-Fall Crafts from Nature - The Kitchen Table Classroom",
         "These fall art projects showcase the best the season has to offer. These simple fall crafts use simeple materials to take advantage of nature's beauty!",
         221,
         "The Kitchen Table Classroom",
         "Fall Paper Crafts,Fall Crafts For Kids,Arts And Crafts,Art Crafts,Nature Crafts,Autumn Crafts,Summer Crafts,Easter Crafts,Paper Crafting",
         "image",
         "https://i.pinimg.com/originals/4f/a7/55/4fa75527fe7de2dac148e006f8f401fe.png",
         "/data/art",
         "art"
        ],
        [
         149,
         "35194432-35f9-46fb-a557-27c160c62088",
         "Fall Art Projects-Fall Crafts from Nature - The Kitchen Table Classroom",
         "These fall art projects showcase the best the season has to offer. These simple fall crafts use simeple materials to take advantage of nature's beauty!",
         221,
         "The Kitchen Table Classroom",
         "Fall Paper Crafts,Fall Crafts For Kids,Arts And Crafts,Art Crafts,Nature Crafts,Autumn Crafts,Summer Crafts,Easter Crafts,Paper Crafting",
         "image",
         "https://i.pinimg.com/originals/4f/a7/55/4fa75527fe7de2dac148e006f8f401fe.png",
         "/data/art",
         "art"
        ],
        [
         149,
         "35194432-35f9-46fb-a557-27c160c62088",
         "Fall Art Projects-Fall Crafts from Nature - The Kitchen Table Classroom",
         "These fall art projects showcase the best the season has to offer. These simple fall crafts use simeple materials to take advantage of nature's beauty!",
         221,
         "The Kitchen Table Classroom",
         "Fall Paper Crafts,Fall Crafts For Kids,Arts And Crafts,Art Crafts,Nature Crafts,Autumn Crafts,Summer Crafts,Easter Crafts,Paper Crafting",
         "image",
         "https://i.pinimg.com/originals/4f/a7/55/4fa75527fe7de2dac148e006f8f401fe.png",
         "/data/art",
         "art"
        ],
        [
         149,
         "35194432-35f9-46fb-a557-27c160c62088",
         "Fall Art Projects-Fall Crafts from Nature - The Kitchen Table Classroom",
         "These fall art projects showcase the best the season has to offer. These simple fall crafts use simeple materials to take advantage of nature's beauty!",
         221,
         "The Kitchen Table Classroom",
         "Fall Paper Crafts,Fall Crafts For Kids,Arts And Crafts,Art Crafts,Nature Crafts,Autumn Crafts,Summer Crafts,Easter Crafts,Paper Crafting",
         "image",
         "https://i.pinimg.com/originals/4f/a7/55/4fa75527fe7de2dac148e006f8f401fe.png",
         "/data/art",
         "art"
        ],
        [
         149,
         "35194432-35f9-46fb-a557-27c160c62088",
         "Fall Art Projects-Fall Crafts from Nature - The Kitchen Table Classroom",
         "These fall art projects showcase the best the season has to offer. These simple fall crafts use simeple materials to take advantage of nature's beauty!",
         221,
         "The Kitchen Table Classroom",
         "Fall Paper Crafts,Fall Crafts For Kids,Arts And Crafts,Art Crafts,Nature Crafts,Autumn Crafts,Summer Crafts,Easter Crafts,Paper Crafting",
         "image",
         "https://i.pinimg.com/originals/4f/a7/55/4fa75527fe7de2dac148e006f8f401fe.png",
         "/data/art",
         "art"
        ],
        [
         149,
         "35194432-35f9-46fb-a557-27c160c62088",
         "Fall Art Projects-Fall Crafts from Nature - The Kitchen Table Classroom",
         "These fall art projects showcase the best the season has to offer. These simple fall crafts use simeple materials to take advantage of nature's beauty!",
         221,
         "The Kitchen Table Classroom",
         "Fall Paper Crafts,Fall Crafts For Kids,Arts And Crafts,Art Crafts,Nature Crafts,Autumn Crafts,Summer Crafts,Easter Crafts,Paper Crafting",
         "image",
         "https://i.pinimg.com/originals/4f/a7/55/4fa75527fe7de2dac148e006f8f401fe.png",
         "/data/art",
         "art"
        ],
        [
         149,
         "35194432-35f9-46fb-a557-27c160c62088",
         "Fall Art Projects-Fall Crafts from Nature - The Kitchen Table Classroom",
         "These fall art projects showcase the best the season has to offer. These simple fall crafts use simeple materials to take advantage of nature's beauty!",
         221,
         "The Kitchen Table Classroom",
         "Fall Paper Crafts,Fall Crafts For Kids,Arts And Crafts,Art Crafts,Nature Crafts,Autumn Crafts,Summer Crafts,Easter Crafts,Paper Crafting",
         "image",
         "https://i.pinimg.com/originals/4f/a7/55/4fa75527fe7de2dac148e006f8f401fe.png",
         "/data/art",
         "art"
        ],
        [
         149,
         "35194432-35f9-46fb-a557-27c160c62088",
         "Fall Art Projects-Fall Crafts from Nature - The Kitchen Table Classroom",
         "These fall art projects showcase the best the season has to offer. These simple fall crafts use simeple materials to take advantage of nature's beauty!",
         221,
         "The Kitchen Table Classroom",
         "Fall Paper Crafts,Fall Crafts For Kids,Arts And Crafts,Art Crafts,Nature Crafts,Autumn Crafts,Summer Crafts,Easter Crafts,Paper Crafting",
         "image",
         "https://i.pinimg.com/originals/4f/a7/55/4fa75527fe7de2dac148e006f8f401fe.png",
         "/data/art",
         "art"
        ]
       ],
       "datasetInfos": [],
       "dbfsResultPath": null,
       "isJsonSchema": true,
       "metadata": {},
       "overflow": false,
       "plotOptions": {
        "customPlotOptions": {},
        "displayType": "table",
        "pivotAggregation": null,
        "pivotColumns": null,
        "xColumns": null,
        "yColumns": null
       },
       "removedWidgets": [],
       "schema": [
        {
         "metadata": "{}",
         "name": "ind",
         "type": "\"long\""
        },
        {
         "metadata": "{}",
         "name": "unique_id",
         "type": "\"string\""
        },
        {
         "metadata": "{}",
         "name": "title",
         "type": "\"string\""
        },
        {
         "metadata": "{}",
         "name": "description",
         "type": "\"string\""
        },
        {
         "metadata": "{}",
         "name": "follower_count",
         "type": "\"integer\""
        },
        {
         "metadata": "{}",
         "name": "poster_name",
         "type": "\"string\""
        },
        {
         "metadata": "{}",
         "name": "tag_list",
         "type": "\"string\""
        },
        {
         "metadata": "{}",
         "name": "is_image_or_video",
         "type": "\"string\""
        },
        {
         "metadata": "{}",
         "name": "image_src",
         "type": "\"string\""
        },
        {
         "metadata": "{}",
         "name": "save_location",
         "type": "\"string\""
        },
        {
         "metadata": "{}",
         "name": "category",
         "type": "\"string\""
        }
       ],
       "type": "table"
      }
     },
     "output_type": "display_data"
    }
   ],
   "source": [
    "#Cleaning the pin data\n",
    "\n",
    "# Replacing empty and null values\n",
    "df_pin = df_pin.fillna(\"None\")    \n",
    "df_pin = df_pin.replace(\"\", \"None\") \n",
    "\n",
    "# Removing the text from follower count and turning it into an int\n",
    "# Use regexp_replace to remove letters\n",
    "df_pin = df_pin.withColumn(\"follower_count\", regexp_replace(\"follower_count\", \"[^0-9]\", \"\"))\n",
    "\n",
    "# Cast the column to integer type\n",
    "df_pin = df_pin.withColumn(\"follower_count\", col(\"follower_count\").cast(\"int\"))\n",
    "\n",
    "# Clean the data in the save_location column to include only the save location path\n",
    "df_pin = df_pin.withColumn(\"save_location\", regexp_replace(\"save_location\", \"Local save in \", \"\"))   \n",
    "\n",
    "#rename index column to ind\n",
    "df_pin = df_pin.withColumnRenamed(\"index\", \"ind\")\n",
    "\n",
    "#reorder columns \n",
    "df_pin = df_pin.select(\"ind\", \"unique_id\", \"title\", \"description\", \"follower_count\", \"poster_name\", \"tag_list\", \"is_image_or_video\", \"image_src\", \"save_location\", \"category\")\n",
    "\n",
    "display(df_pin)"
   ]
  },
  {
   "cell_type": "code",
   "execution_count": 0,
   "metadata": {
    "application/vnd.databricks.v1+cell": {
     "cellMetadata": {
      "byteLimit": 2048000,
      "rowLimit": 10000
     },
     "inputWidgets": {},
     "nuid": "3686df0e-538d-4415-98b0-7f5605bc0707",
     "showTitle": false,
     "tableResultSettingsMap": {},
     "title": ""
    }
   },
   "outputs": [
    {
     "output_type": "display_data",
     "data": {
      "text/html": [
       "<style scoped>\n",
       "  .table-result-container {\n",
       "    max-height: 300px;\n",
       "    overflow: auto;\n",
       "  }\n",
       "  table, th, td {\n",
       "    border: 1px solid black;\n",
       "    border-collapse: collapse;\n",
       "  }\n",
       "  th, td {\n",
       "    padding: 5px;\n",
       "  }\n",
       "  th {\n",
       "    text-align: left;\n",
       "  }\n",
       "</style><div class='table-result-container'><table class='table-result'><thead style='background-color: white'><tr><th>_1</th><th>_2</th></tr></thead><tbody><tr><td>ind</td><td>bigint</td></tr><tr><td>unique_id</td><td>string</td></tr><tr><td>title</td><td>string</td></tr><tr><td>description</td><td>string</td></tr><tr><td>follower_count</td><td>int</td></tr><tr><td>poster_name</td><td>string</td></tr><tr><td>tag_list</td><td>string</td></tr><tr><td>is_image_or_video</td><td>string</td></tr><tr><td>image_src</td><td>string</td></tr><tr><td>save_location</td><td>string</td></tr><tr><td>category</td><td>string</td></tr></tbody></table></div>"
      ]
     },
     "metadata": {
      "application/vnd.databricks.v1+output": {
       "addedWidgets": {},
       "aggData": [],
       "aggError": "",
       "aggOverflow": false,
       "aggSchema": [],
       "aggSeriesLimitReached": false,
       "aggType": "",
       "arguments": {},
       "columnCustomDisplayInfos": {},
       "data": [
        [
         "ind",
         "bigint"
        ],
        [
         "unique_id",
         "string"
        ],
        [
         "title",
         "string"
        ],
        [
         "description",
         "string"
        ],
        [
         "follower_count",
         "int"
        ],
        [
         "poster_name",
         "string"
        ],
        [
         "tag_list",
         "string"
        ],
        [
         "is_image_or_video",
         "string"
        ],
        [
         "image_src",
         "string"
        ],
        [
         "save_location",
         "string"
        ],
        [
         "category",
         "string"
        ]
       ],
       "datasetInfos": [],
       "dbfsResultPath": null,
       "isJsonSchema": true,
       "metadata": {},
       "overflow": false,
       "plotOptions": {
        "customPlotOptions": {},
        "displayType": "table",
        "pivotAggregation": null,
        "pivotColumns": null,
        "xColumns": null,
        "yColumns": null
       },
       "removedWidgets": [],
       "schema": [
        {
         "metadata": "{}",
         "name": "_1",
         "type": "\"string\""
        },
        {
         "metadata": "{}",
         "name": "_2",
         "type": "\"string\""
        }
       ],
       "type": "table"
      }
     },
     "output_type": "display_data"
    }
   ],
   "source": [
    "display(df_pin.dtypes)"
   ]
  },
  {
   "cell_type": "code",
   "execution_count": 0,
   "metadata": {
    "application/vnd.databricks.v1+cell": {
     "cellMetadata": {
      "byteLimit": 2048000,
      "rowLimit": 10000
     },
     "inputWidgets": {},
     "nuid": "e310557c-9d8d-4621-bd53-64a8dd7153c1",
     "showTitle": false,
     "tableResultSettingsMap": {},
     "title": ""
    }
   },
   "outputs": [
    {
     "output_type": "display_data",
     "data": {
      "text/html": [
       "<style scoped>\n",
       "  .ansiout {\n",
       "    display: block;\n",
       "    unicode-bidi: embed;\n",
       "    white-space: pre-wrap;\n",
       "    word-wrap: break-word;\n",
       "    word-break: break-all;\n",
       "    font-family: \"Menlo\", \"Monaco\", \"Consolas\", \"Ubuntu Mono\", \"Source Code Pro\", monospace;\n",
       "    font-size: 13px;\n",
       "    color: #555;\n",
       "    margin-left: 4px;\n",
       "    line-height: 19px;\n",
       "  }\n",
       "</style>\n",
       "<div class=\"ansiout\">Out[65]: &lt;pyspark.sql.streaming.StreamingQuery at 0x7f95a3c799a0&gt;</div>"
      ]
     },
     "metadata": {
      "application/vnd.databricks.v1+output": {
       "addedWidgets": {},
       "arguments": {},
       "data": "<div class=\"ansiout\">Out[65]: &lt;pyspark.sql.streaming.StreamingQuery at 0x7f95a3c799a0&gt;</div>",
       "datasetInfos": [],
       "metadata": {},
       "removedWidgets": [],
       "type": "html"
      }
     },
     "output_type": "display_data"
    }
   ],
   "source": [
    "#Writing the data to Delta Table\n",
    "\n",
    "df_pin.writeStream \\\n",
    "  .format(\"delta\") \\\n",
    "  .outputMode(\"append\") \\\n",
    "  .option(\"checkpointLocation\", \"/tmp/kinesis/_checkpoints/\") \\\n",
    "  .table(\"0ebb0073c95b_pin_table\")"
   ]
  },
  {
   "cell_type": "markdown",
   "metadata": {
    "application/vnd.databricks.v1+cell": {
     "cellMetadata": {},
     "inputWidgets": {},
     "nuid": "e4155685-673a-4aa6-ac9a-6dd87234342d",
     "showTitle": false,
     "tableResultSettingsMap": {},
     "title": ""
    }
   },
   "source": [
    "Getting the geo stream from kinesis, cleaning it, then writing it to a Delta Table"
   ]
  },
  {
   "cell_type": "code",
   "execution_count": 0,
   "metadata": {
    "application/vnd.databricks.v1+cell": {
     "cellMetadata": {
      "byteLimit": 2048000,
      "rowLimit": 10000
     },
     "inputWidgets": {},
     "nuid": "dc0dc612-24d8-4652-8722-79a8ea4f8220",
     "showTitle": false,
     "tableResultSettingsMap": {},
     "title": ""
    }
   },
   "outputs": [
    {
     "output_type": "display_data",
     "data": {
      "text/html": [
       "<style scoped>\n",
       "  .table-result-container {\n",
       "    max-height: 300px;\n",
       "    overflow: auto;\n",
       "  }\n",
       "  table, th, td {\n",
       "    border: 1px solid black;\n",
       "    border-collapse: collapse;\n",
       "  }\n",
       "  th, td {\n",
       "    padding: 5px;\n",
       "  }\n",
       "  th {\n",
       "    text-align: left;\n",
       "  }\n",
       "</style><div class='table-result-container'><table class='table-result'><thead style='background-color: white'><tr><th>data</th></tr></thead><tbody><tr><td>{\"ind\":465,\"timestamp\":\"2018-10-22T03:15:31\",\"latitude\":-17.5166,\"longitude\":-70.4578,\"country\":\"Ghana\"}</td></tr><tr><td>{\"ind\":465,\"timestamp\":\"2018-10-22T03:15:31\",\"latitude\":-17.5166,\"longitude\":-70.4578,\"country\":\"Ghana\"}</td></tr><tr><td>{\"ind\":465,\"timestamp\":\"2018-10-22T03:15:31\",\"latitude\":-17.5166,\"longitude\":-70.4578,\"country\":\"Ghana\"}</td></tr><tr><td>{\"ind\":465,\"timestamp\":\"2018-10-22T03:15:31\",\"latitude\":-17.5166,\"longitude\":-70.4578,\"country\":\"Ghana\"}</td></tr><tr><td>{\"ind\":465,\"timestamp\":\"2018-10-22T03:15:31\",\"latitude\":-17.5166,\"longitude\":-70.4578,\"country\":\"Ghana\"}</td></tr><tr><td>{\"ind\":465,\"timestamp\":\"2018-10-22T03:15:31\",\"latitude\":-17.5166,\"longitude\":-70.4578,\"country\":\"Ghana\"}</td></tr><tr><td>{\"ind\":465,\"timestamp\":\"2018-10-22T03:15:31\",\"latitude\":-17.5166,\"longitude\":-70.4578,\"country\":\"Ghana\"}</td></tr><tr><td>{\"ind\":465,\"timestamp\":\"2018-10-22T03:15:31\",\"latitude\":-17.5166,\"longitude\":-70.4578,\"country\":\"Ghana\"}</td></tr><tr><td>{\"ind\":465,\"timestamp\":\"2018-10-22T03:15:31\",\"latitude\":-17.5166,\"longitude\":-70.4578,\"country\":\"Ghana\"}</td></tr><tr><td>{\"ind\":465,\"timestamp\":\"2018-10-22T03:15:31\",\"latitude\":-17.5166,\"longitude\":-70.4578,\"country\":\"Ghana\"}</td></tr><tr><td>{\"ind\":465,\"timestamp\":\"2018-10-22T03:15:31\",\"latitude\":-17.5166,\"longitude\":-70.4578,\"country\":\"Ghana\"}</td></tr><tr><td>{\"ind\":465,\"timestamp\":\"2018-10-22T03:15:31\",\"latitude\":-17.5166,\"longitude\":-70.4578,\"country\":\"Ghana\"}</td></tr><tr><td>{\"ind\":465,\"timestamp\":\"2018-10-22T03:15:31\",\"latitude\":-17.5166,\"longitude\":-70.4578,\"country\":\"Ghana\"}</td></tr><tr><td>{\"ind\":465,\"timestamp\":\"2018-10-22T03:15:31\",\"latitude\":-17.5166,\"longitude\":-70.4578,\"country\":\"Ghana\"}</td></tr><tr><td>{\"ind\":465,\"timestamp\":\"2018-10-22T03:15:31\",\"latitude\":-17.5166,\"longitude\":-70.4578,\"country\":\"Ghana\"}</td></tr><tr><td>{\"ind\":465,\"timestamp\":\"2018-10-22T03:15:31\",\"latitude\":-17.5166,\"longitude\":-70.4578,\"country\":\"Ghana\"}</td></tr><tr><td>{\"ind\":465,\"timestamp\":\"2018-10-22T03:15:31\",\"latitude\":-17.5166,\"longitude\":-70.4578,\"country\":\"Ghana\"}</td></tr><tr><td>{\"ind\":465,\"timestamp\":\"2018-10-22T03:15:31\",\"latitude\":-17.5166,\"longitude\":-70.4578,\"country\":\"Ghana\"}</td></tr><tr><td>{\"ind\":465,\"timestamp\":\"2018-10-22T03:15:31\",\"latitude\":-17.5166,\"longitude\":-70.4578,\"country\":\"Ghana\"}</td></tr></tbody></table></div>"
      ]
     },
     "metadata": {
      "application/vnd.databricks.v1+output": {
       "addedWidgets": {},
       "aggData": [],
       "aggError": "",
       "aggOverflow": false,
       "aggSchema": [],
       "aggSeriesLimitReached": false,
       "aggType": "",
       "arguments": {},
       "columnCustomDisplayInfos": {},
       "data": [
        [
         "{\"ind\":465,\"timestamp\":\"2018-10-22T03:15:31\",\"latitude\":-17.5166,\"longitude\":-70.4578,\"country\":\"Ghana\"}"
        ],
        [
         "{\"ind\":465,\"timestamp\":\"2018-10-22T03:15:31\",\"latitude\":-17.5166,\"longitude\":-70.4578,\"country\":\"Ghana\"}"
        ],
        [
         "{\"ind\":465,\"timestamp\":\"2018-10-22T03:15:31\",\"latitude\":-17.5166,\"longitude\":-70.4578,\"country\":\"Ghana\"}"
        ],
        [
         "{\"ind\":465,\"timestamp\":\"2018-10-22T03:15:31\",\"latitude\":-17.5166,\"longitude\":-70.4578,\"country\":\"Ghana\"}"
        ],
        [
         "{\"ind\":465,\"timestamp\":\"2018-10-22T03:15:31\",\"latitude\":-17.5166,\"longitude\":-70.4578,\"country\":\"Ghana\"}"
        ],
        [
         "{\"ind\":465,\"timestamp\":\"2018-10-22T03:15:31\",\"latitude\":-17.5166,\"longitude\":-70.4578,\"country\":\"Ghana\"}"
        ],
        [
         "{\"ind\":465,\"timestamp\":\"2018-10-22T03:15:31\",\"latitude\":-17.5166,\"longitude\":-70.4578,\"country\":\"Ghana\"}"
        ],
        [
         "{\"ind\":465,\"timestamp\":\"2018-10-22T03:15:31\",\"latitude\":-17.5166,\"longitude\":-70.4578,\"country\":\"Ghana\"}"
        ],
        [
         "{\"ind\":465,\"timestamp\":\"2018-10-22T03:15:31\",\"latitude\":-17.5166,\"longitude\":-70.4578,\"country\":\"Ghana\"}"
        ],
        [
         "{\"ind\":465,\"timestamp\":\"2018-10-22T03:15:31\",\"latitude\":-17.5166,\"longitude\":-70.4578,\"country\":\"Ghana\"}"
        ],
        [
         "{\"ind\":465,\"timestamp\":\"2018-10-22T03:15:31\",\"latitude\":-17.5166,\"longitude\":-70.4578,\"country\":\"Ghana\"}"
        ],
        [
         "{\"ind\":465,\"timestamp\":\"2018-10-22T03:15:31\",\"latitude\":-17.5166,\"longitude\":-70.4578,\"country\":\"Ghana\"}"
        ],
        [
         "{\"ind\":465,\"timestamp\":\"2018-10-22T03:15:31\",\"latitude\":-17.5166,\"longitude\":-70.4578,\"country\":\"Ghana\"}"
        ],
        [
         "{\"ind\":465,\"timestamp\":\"2018-10-22T03:15:31\",\"latitude\":-17.5166,\"longitude\":-70.4578,\"country\":\"Ghana\"}"
        ],
        [
         "{\"ind\":465,\"timestamp\":\"2018-10-22T03:15:31\",\"latitude\":-17.5166,\"longitude\":-70.4578,\"country\":\"Ghana\"}"
        ],
        [
         "{\"ind\":465,\"timestamp\":\"2018-10-22T03:15:31\",\"latitude\":-17.5166,\"longitude\":-70.4578,\"country\":\"Ghana\"}"
        ],
        [
         "{\"ind\":465,\"timestamp\":\"2018-10-22T03:15:31\",\"latitude\":-17.5166,\"longitude\":-70.4578,\"country\":\"Ghana\"}"
        ],
        [
         "{\"ind\":465,\"timestamp\":\"2018-10-22T03:15:31\",\"latitude\":-17.5166,\"longitude\":-70.4578,\"country\":\"Ghana\"}"
        ],
        [
         "{\"ind\":465,\"timestamp\":\"2018-10-22T03:15:31\",\"latitude\":-17.5166,\"longitude\":-70.4578,\"country\":\"Ghana\"}"
        ]
       ],
       "datasetInfos": [],
       "dbfsResultPath": null,
       "isJsonSchema": true,
       "metadata": {
        "isDbfsCommandResult": false
       },
       "overflow": false,
       "plotOptions": {
        "customPlotOptions": {},
        "displayType": "table",
        "pivotAggregation": null,
        "pivotColumns": null,
        "xColumns": null,
        "yColumns": null
       },
       "removedWidgets": [],
       "schema": [
        {
         "metadata": "{}",
         "name": "data",
         "type": "\"string\""
        }
       ],
       "type": "table"
      }
     },
     "output_type": "display_data"
    }
   ],
   "source": [
    "df_geo_raw = spark \\\n",
    ".readStream \\\n",
    ".format('kinesis') \\\n",
    ".option('streamName','streaming-0ebb0073c95b-geo') \\\n",
    ".option('initialPosition','earliest') \\\n",
    ".option('region','us-east-1') \\\n",
    ".option('awsAccessKey', ACCESS_KEY) \\\n",
    ".option('awsSecretKey', SECRET_KEY) \\\n",
    ".load()\n",
    "\n",
    "display(df_geo)"
   ]
  },
  {
   "cell_type": "code",
   "execution_count": 0,
   "metadata": {
    "application/vnd.databricks.v1+cell": {
     "cellMetadata": {
      "byteLimit": 2048000,
      "rowLimit": 10000
     },
     "inputWidgets": {},
     "nuid": "ed732867-7a45-4ccc-9dbe-cd2460f958c7",
     "showTitle": false,
     "tableResultSettingsMap": {},
     "title": ""
    }
   },
   "outputs": [
    {
     "output_type": "display_data",
     "data": {
      "text/html": [
       "<style scoped>\n",
       "  .table-result-container {\n",
       "    max-height: 300px;\n",
       "    overflow: auto;\n",
       "  }\n",
       "  table, th, td {\n",
       "    border: 1px solid black;\n",
       "    border-collapse: collapse;\n",
       "  }\n",
       "  th, td {\n",
       "    padding: 5px;\n",
       "  }\n",
       "  th {\n",
       "    text-align: left;\n",
       "  }\n",
       "</style><div class='table-result-container'><table class='table-result'><thead style='background-color: white'><tr><th>country</th><th>ind</th><th>latitude</th><th>longitude</th><th>timestamp</th></tr></thead><tbody><tr><td>Ghana</td><td>465</td><td>-17.5166</td><td>-70.4578</td><td>2018-10-22T03:15:31</td></tr><tr><td>Ghana</td><td>465</td><td>-17.5166</td><td>-70.4578</td><td>2018-10-22T03:15:31</td></tr><tr><td>Ghana</td><td>465</td><td>-17.5166</td><td>-70.4578</td><td>2018-10-22T03:15:31</td></tr><tr><td>Ghana</td><td>465</td><td>-17.5166</td><td>-70.4578</td><td>2018-10-22T03:15:31</td></tr><tr><td>Ghana</td><td>465</td><td>-17.5166</td><td>-70.4578</td><td>2018-10-22T03:15:31</td></tr><tr><td>Ghana</td><td>465</td><td>-17.5166</td><td>-70.4578</td><td>2018-10-22T03:15:31</td></tr><tr><td>Ghana</td><td>465</td><td>-17.5166</td><td>-70.4578</td><td>2018-10-22T03:15:31</td></tr><tr><td>Ghana</td><td>465</td><td>-17.5166</td><td>-70.4578</td><td>2018-10-22T03:15:31</td></tr><tr><td>Ghana</td><td>465</td><td>-17.5166</td><td>-70.4578</td><td>2018-10-22T03:15:31</td></tr><tr><td>Ghana</td><td>465</td><td>-17.5166</td><td>-70.4578</td><td>2018-10-22T03:15:31</td></tr><tr><td>Ghana</td><td>465</td><td>-17.5166</td><td>-70.4578</td><td>2018-10-22T03:15:31</td></tr><tr><td>Ghana</td><td>465</td><td>-17.5166</td><td>-70.4578</td><td>2018-10-22T03:15:31</td></tr><tr><td>Ghana</td><td>465</td><td>-17.5166</td><td>-70.4578</td><td>2018-10-22T03:15:31</td></tr><tr><td>Ghana</td><td>465</td><td>-17.5166</td><td>-70.4578</td><td>2018-10-22T03:15:31</td></tr><tr><td>Ghana</td><td>465</td><td>-17.5166</td><td>-70.4578</td><td>2018-10-22T03:15:31</td></tr><tr><td>Ghana</td><td>465</td><td>-17.5166</td><td>-70.4578</td><td>2018-10-22T03:15:31</td></tr><tr><td>Ghana</td><td>465</td><td>-17.5166</td><td>-70.4578</td><td>2018-10-22T03:15:31</td></tr><tr><td>Ghana</td><td>465</td><td>-17.5166</td><td>-70.4578</td><td>2018-10-22T03:15:31</td></tr><tr><td>Ghana</td><td>465</td><td>-17.5166</td><td>-70.4578</td><td>2018-10-22T03:15:31</td></tr></tbody></table></div>"
      ]
     },
     "metadata": {
      "application/vnd.databricks.v1+output": {
       "addedWidgets": {},
       "aggData": [],
       "aggError": "",
       "aggOverflow": false,
       "aggSchema": [],
       "aggSeriesLimitReached": false,
       "aggType": "",
       "arguments": {},
       "columnCustomDisplayInfos": {},
       "data": [
        [
         "Ghana",
         465,
         -17.5166,
         -70.4578,
         "2018-10-22T03:15:31"
        ],
        [
         "Ghana",
         465,
         -17.5166,
         -70.4578,
         "2018-10-22T03:15:31"
        ],
        [
         "Ghana",
         465,
         -17.5166,
         -70.4578,
         "2018-10-22T03:15:31"
        ],
        [
         "Ghana",
         465,
         -17.5166,
         -70.4578,
         "2018-10-22T03:15:31"
        ],
        [
         "Ghana",
         465,
         -17.5166,
         -70.4578,
         "2018-10-22T03:15:31"
        ],
        [
         "Ghana",
         465,
         -17.5166,
         -70.4578,
         "2018-10-22T03:15:31"
        ],
        [
         "Ghana",
         465,
         -17.5166,
         -70.4578,
         "2018-10-22T03:15:31"
        ],
        [
         "Ghana",
         465,
         -17.5166,
         -70.4578,
         "2018-10-22T03:15:31"
        ],
        [
         "Ghana",
         465,
         -17.5166,
         -70.4578,
         "2018-10-22T03:15:31"
        ],
        [
         "Ghana",
         465,
         -17.5166,
         -70.4578,
         "2018-10-22T03:15:31"
        ],
        [
         "Ghana",
         465,
         -17.5166,
         -70.4578,
         "2018-10-22T03:15:31"
        ],
        [
         "Ghana",
         465,
         -17.5166,
         -70.4578,
         "2018-10-22T03:15:31"
        ],
        [
         "Ghana",
         465,
         -17.5166,
         -70.4578,
         "2018-10-22T03:15:31"
        ],
        [
         "Ghana",
         465,
         -17.5166,
         -70.4578,
         "2018-10-22T03:15:31"
        ],
        [
         "Ghana",
         465,
         -17.5166,
         -70.4578,
         "2018-10-22T03:15:31"
        ],
        [
         "Ghana",
         465,
         -17.5166,
         -70.4578,
         "2018-10-22T03:15:31"
        ],
        [
         "Ghana",
         465,
         -17.5166,
         -70.4578,
         "2018-10-22T03:15:31"
        ],
        [
         "Ghana",
         465,
         -17.5166,
         -70.4578,
         "2018-10-22T03:15:31"
        ],
        [
         "Ghana",
         465,
         -17.5166,
         -70.4578,
         "2018-10-22T03:15:31"
        ]
       ],
       "datasetInfos": [],
       "dbfsResultPath": null,
       "isJsonSchema": true,
       "metadata": {
        "isDbfsCommandResult": false
       },
       "overflow": false,
       "plotOptions": {
        "customPlotOptions": {},
        "displayType": "table",
        "pivotAggregation": null,
        "pivotColumns": null,
        "xColumns": null,
        "yColumns": null
       },
       "removedWidgets": [],
       "schema": [
        {
         "metadata": "{}",
         "name": "country",
         "type": "\"string\""
        },
        {
         "metadata": "{}",
         "name": "ind",
         "type": "\"long\""
        },
        {
         "metadata": "{}",
         "name": "latitude",
         "type": "\"double\""
        },
        {
         "metadata": "{}",
         "name": "longitude",
         "type": "\"double\""
        },
        {
         "metadata": "{}",
         "name": "timestamp",
         "type": "\"string\""
        }
       ],
       "type": "table"
      }
     },
     "output_type": "display_data"
    }
   ],
   "source": [
    "#cast binary form to string \n",
    "df_geo_string = df_geo_raw.selectExpr(\"CAST(data as STRING)\")\n",
    "\n",
    "# Define a custom schema\n",
    "custom_schema = StructType([\n",
    "    StructField(\"country\", StringType(), True),\n",
    "    StructField(\"ind\", LongType(), True),\n",
    "    StructField(\"latitude\", DoubleType(), True), \n",
    "    StructField(\"longitude\", DoubleType(), True),\n",
    "    StructField(\"timestamp\", StringType(), True),\n",
    "])\n",
    "\n",
    "# Parse the JSON data in the `data` column using the custom schema\n",
    "df_geo_parsed = df_geo_string.withColumn(\"data_parsed\", F.from_json(F.col(\"data\"), custom_schema))\n",
    "\n",
    "# Expand the parsed JSON fields into individual columns\n",
    "df_geo = df_geo_parsed.select(\"data_parsed.*\")  # Expands all JSON fields as columns\n",
    "\n",
    "# Display the resulting DataFrame\n",
    "display(df_geo)\n",
    "\n"
   ]
  },
  {
   "cell_type": "code",
   "execution_count": 0,
   "metadata": {
    "application/vnd.databricks.v1+cell": {
     "cellMetadata": {
      "byteLimit": 2048000,
      "rowLimit": 10000
     },
     "inputWidgets": {},
     "nuid": "b9364df8-1252-4523-95a8-2381ec459a3a",
     "showTitle": false,
     "tableResultSettingsMap": {},
     "title": ""
    }
   },
   "outputs": [
    {
     "output_type": "display_data",
     "data": {
      "text/html": [
       "<style scoped>\n",
       "  .table-result-container {\n",
       "    max-height: 300px;\n",
       "    overflow: auto;\n",
       "  }\n",
       "  table, th, td {\n",
       "    border: 1px solid black;\n",
       "    border-collapse: collapse;\n",
       "  }\n",
       "  th, td {\n",
       "    padding: 5px;\n",
       "  }\n",
       "  th {\n",
       "    text-align: left;\n",
       "  }\n",
       "</style><div class='table-result-container'><table class='table-result'><thead style='background-color: white'><tr><th>ind</th><th>country</th><th>coordinates</th><th>timestamp</th></tr></thead><tbody><tr><td>465</td><td>Ghana</td><td>List(-17.5166, -70.4578)</td><td>2018-10-22T03:15:31.000+0000</td></tr><tr><td>465</td><td>Ghana</td><td>List(-17.5166, -70.4578)</td><td>2018-10-22T03:15:31.000+0000</td></tr><tr><td>465</td><td>Ghana</td><td>List(-17.5166, -70.4578)</td><td>2018-10-22T03:15:31.000+0000</td></tr><tr><td>465</td><td>Ghana</td><td>List(-17.5166, -70.4578)</td><td>2018-10-22T03:15:31.000+0000</td></tr><tr><td>465</td><td>Ghana</td><td>List(-17.5166, -70.4578)</td><td>2018-10-22T03:15:31.000+0000</td></tr><tr><td>465</td><td>Ghana</td><td>List(-17.5166, -70.4578)</td><td>2018-10-22T03:15:31.000+0000</td></tr><tr><td>465</td><td>Ghana</td><td>List(-17.5166, -70.4578)</td><td>2018-10-22T03:15:31.000+0000</td></tr><tr><td>465</td><td>Ghana</td><td>List(-17.5166, -70.4578)</td><td>2018-10-22T03:15:31.000+0000</td></tr><tr><td>465</td><td>Ghana</td><td>List(-17.5166, -70.4578)</td><td>2018-10-22T03:15:31.000+0000</td></tr><tr><td>465</td><td>Ghana</td><td>List(-17.5166, -70.4578)</td><td>2018-10-22T03:15:31.000+0000</td></tr></tbody></table></div>"
      ]
     },
     "metadata": {
      "application/vnd.databricks.v1+output": {
       "addedWidgets": {},
       "aggData": [],
       "aggError": "",
       "aggOverflow": false,
       "aggSchema": [],
       "aggSeriesLimitReached": false,
       "aggType": "",
       "arguments": {},
       "columnCustomDisplayInfos": {},
       "data": [
        [
         465,
         "Ghana",
         [
          -17.5166,
          -70.4578
         ],
         "2018-10-22T03:15:31.000+0000"
        ],
        [
         465,
         "Ghana",
         [
          -17.5166,
          -70.4578
         ],
         "2018-10-22T03:15:31.000+0000"
        ],
        [
         465,
         "Ghana",
         [
          -17.5166,
          -70.4578
         ],
         "2018-10-22T03:15:31.000+0000"
        ],
        [
         465,
         "Ghana",
         [
          -17.5166,
          -70.4578
         ],
         "2018-10-22T03:15:31.000+0000"
        ],
        [
         465,
         "Ghana",
         [
          -17.5166,
          -70.4578
         ],
         "2018-10-22T03:15:31.000+0000"
        ],
        [
         465,
         "Ghana",
         [
          -17.5166,
          -70.4578
         ],
         "2018-10-22T03:15:31.000+0000"
        ],
        [
         465,
         "Ghana",
         [
          -17.5166,
          -70.4578
         ],
         "2018-10-22T03:15:31.000+0000"
        ],
        [
         465,
         "Ghana",
         [
          -17.5166,
          -70.4578
         ],
         "2018-10-22T03:15:31.000+0000"
        ],
        [
         465,
         "Ghana",
         [
          -17.5166,
          -70.4578
         ],
         "2018-10-22T03:15:31.000+0000"
        ],
        [
         465,
         "Ghana",
         [
          -17.5166,
          -70.4578
         ],
         "2018-10-22T03:15:31.000+0000"
        ]
       ],
       "datasetInfos": [],
       "dbfsResultPath": null,
       "isJsonSchema": true,
       "metadata": {
        "isDbfsCommandResult": false
       },
       "overflow": false,
       "plotOptions": {
        "customPlotOptions": {},
        "displayType": "table",
        "pivotAggregation": null,
        "pivotColumns": null,
        "xColumns": null,
        "yColumns": null
       },
       "removedWidgets": [],
       "schema": [
        {
         "metadata": "{}",
         "name": "ind",
         "type": "\"long\""
        },
        {
         "metadata": "{}",
         "name": "country",
         "type": "\"string\""
        },
        {
         "metadata": "{}",
         "name": "coordinates",
         "type": "{\"type\":\"array\",\"elementType\":\"double\",\"containsNull\":true}"
        },
        {
         "metadata": "{}",
         "name": "timestamp",
         "type": "\"timestamp\""
        }
       ],
       "type": "table"
      }
     },
     "output_type": "display_data"
    }
   ],
   "source": [
    "#Cleaning the geo dataframe \n",
    "\n",
    "# Create a new column 'coordinates' by combining the latitude and longitude columns \n",
    "df_geo = df_geo.withColumn(\"coordinates\", array(col(\"latitude\"), col(\"longitude\")))\n",
    "\n",
    "# Drop the latitude and longitude column as they're no longer needed \n",
    "df_geo = df_geo.drop(\"latitude\", \"longitude\")\n",
    "\n",
    "# Change 'timestamp' column to datatype timestamp\n",
    "df_geo = df_geo.withColumn(\"timestamp\", col(\"timestamp\").cast(\"timestamp\"))\n",
    "\n",
    "# Reorder the columns\n",
    "df_geo = df_geo.select(\"ind\", \"country\", \"coordinates\", \"timestamp\")\n",
    "\n",
    "display(df_geo.limit(10))"
   ]
  },
  {
   "cell_type": "code",
   "execution_count": 0,
   "metadata": {
    "application/vnd.databricks.v1+cell": {
     "cellMetadata": {
      "byteLimit": 2048000,
      "rowLimit": 10000
     },
     "inputWidgets": {},
     "nuid": "aede8261-875b-474a-832a-a51b9d9cc017",
     "showTitle": false,
     "tableResultSettingsMap": {},
     "title": ""
    }
   },
   "outputs": [
    {
     "output_type": "display_data",
     "data": {
      "text/html": [
       "<style scoped>\n",
       "  .ansiout {\n",
       "    display: block;\n",
       "    unicode-bidi: embed;\n",
       "    white-space: pre-wrap;\n",
       "    word-wrap: break-word;\n",
       "    word-break: break-all;\n",
       "    font-family: \"Menlo\", \"Monaco\", \"Consolas\", \"Ubuntu Mono\", \"Source Code Pro\", monospace;\n",
       "    font-size: 13px;\n",
       "    color: #555;\n",
       "    margin-left: 4px;\n",
       "    line-height: 19px;\n",
       "  }\n",
       "</style>\n",
       "<div class=\"ansiout\">Out[66]: &lt;pyspark.sql.streaming.StreamingQuery at 0x7f95a3c79340&gt;</div>"
      ]
     },
     "metadata": {
      "application/vnd.databricks.v1+output": {
       "addedWidgets": {},
       "arguments": {},
       "data": "<div class=\"ansiout\">Out[66]: &lt;pyspark.sql.streaming.StreamingQuery at 0x7f95a3c79340&gt;</div>",
       "datasetInfos": [],
       "metadata": {},
       "removedWidgets": [],
       "type": "html"
      }
     },
     "output_type": "display_data"
    }
   ],
   "source": [
    "df_geo.writeStream \\\n",
    "  .format(\"delta\") \\\n",
    "  .outputMode(\"append\") \\\n",
    "  .option(\"checkpointLocation\", \"/tmp/kinesis/_checkpoints/\") \\\n",
    "  .table(\"0ebb0073c95b_geo_table\")"
   ]
  },
  {
   "cell_type": "markdown",
   "metadata": {
    "application/vnd.databricks.v1+cell": {
     "cellMetadata": {},
     "inputWidgets": {},
     "nuid": "4a4203bc-948c-44fe-893d-dec16ccf7258",
     "showTitle": false,
     "tableResultSettingsMap": {},
     "title": ""
    }
   },
   "source": [
    "Getting the user data stream from kinesis, cleaning it, then writing it to a Delta Table"
   ]
  },
  {
   "cell_type": "code",
   "execution_count": 0,
   "metadata": {
    "application/vnd.databricks.v1+cell": {
     "cellMetadata": {
      "byteLimit": 2048000,
      "rowLimit": 10000
     },
     "inputWidgets": {},
     "nuid": "bece8f57-6c40-4d18-8ffd-ae3197626515",
     "showTitle": false,
     "tableResultSettingsMap": {},
     "title": ""
    }
   },
   "outputs": [
    {
     "output_type": "display_data",
     "data": {
      "text/html": [
       "<style scoped>\n",
       "  .table-result-container {\n",
       "    max-height: 300px;\n",
       "    overflow: auto;\n",
       "  }\n",
       "  table, th, td {\n",
       "    border: 1px solid black;\n",
       "    border-collapse: collapse;\n",
       "  }\n",
       "  th, td {\n",
       "    padding: 5px;\n",
       "  }\n",
       "  th {\n",
       "    text-align: left;\n",
       "  }\n",
       "</style><div class='table-result-container'><table class='table-result'><thead style='background-color: white'><tr><th>partitionKey</th><th>data</th><th>stream</th><th>shardId</th><th>sequenceNumber</th><th>approximateArrivalTimestamp</th></tr></thead><tbody><tr><td>179</td><td>eyJpbmQiOjc4OSwiZmlyc3RfbmFtZSI6IkFkYW0iLCJsYXN0X25hbWUiOiJBY29zdGEiLCJhZ2UiOjIwLCJkYXRlX2pvaW5lZCI6IjIwMTUtMTAtMjFUMjE6MjY6NDUifQ==</td><td>streaming-0ebb0073c95b-user</td><td>shardId-000000000002</td><td>49657350016500799516901886668286799735057762559167823906</td><td>2024-11-06T08:19:48.929+0000</td></tr><tr><td>179</td><td>eyJpbmQiOjc4OSwiZmlyc3RfbmFtZSI6IkFkYW0iLCJsYXN0X25hbWUiOiJBY29zdGEiLCJhZ2UiOjIwLCJkYXRlX2pvaW5lZCI6IjIwMTUtMTAtMjFUMjE6MjY6NDUifQ==</td><td>streaming-0ebb0073c95b-user</td><td>shardId-000000000002</td><td>49657350016500799516901886821040621672464238938553319458</td><td>2024-11-06T08:21:31.118+0000</td></tr><tr><td>179</td><td>eyJpbmQiOjc4OSwiZmlyc3RfbmFtZSI6IkFkYW0iLCJsYXN0X25hbWUiOiJBY29zdGEiLCJhZ2UiOjIwLCJkYXRlX2pvaW5lZCI6IjIwMTUtMTAtMjFUMjE6MjY6NDUifQ==</td><td>streaming-0ebb0073c95b-user</td><td>shardId-000000000002</td><td>49657350016500799516901886887533959602908075829399388194</td><td>2024-11-06T08:22:15.255+0000</td></tr><tr><td>179</td><td>eyJpbmQiOjc4OSwiZmlyc3RfbmFtZSI6IkFkYW0iLCJsYXN0X25hbWUiOiJBY29zdGEiLCJhZ2UiOjIwLCJkYXRlX2pvaW5lZCI6IjIwMTUtMTAtMjFUMjE6MjY6NDUifQ==</td><td>streaming-0ebb0073c95b-user</td><td>shardId-000000000002</td><td>49657350016500799516901886952356562050644495132082044962</td><td>2024-11-06T08:22:57.319+0000</td></tr><tr><td>179</td><td>eyJpbmQiOjc4OSwiZmlyc3RfbmFtZSI6IkFkYW0iLCJsYXN0X25hbWUiOiJBY29zdGEiLCJhZ2UiOjIwLCJkYXRlX2pvaW5lZCI6IjIwMTUtMTAtMjFUMjE6MjY6NDUifQ==</td><td>streaming-0ebb0073c95b-user</td><td>shardId-000000000002</td><td>49657350016500799516901887409936193700601273346984771618</td><td>2024-11-06T08:28:02.449+0000</td></tr><tr><td>179</td><td>eyJpbmQiOjc4OSwiZmlyc3RfbmFtZSI6IkFkYW0iLCJsYXN0X25hbWUiOiJBY29zdGEiLCJhZ2UiOjIwLCJkYXRlX2pvaW5lZCI6IjIwMTUtMTAtMjFUMjE6MjY6NDUifQ==</td><td>streaming-0ebb0073c95b-user</td><td>shardId-000000000002</td><td>49657350016500799516901887417293716238775906847843942434</td><td>2024-11-06T08:28:07.805+0000</td></tr><tr><td>179</td><td>eyJpbmQiOjc4OSwiZmlyc3RfbmFtZSI6IkFkYW0iLCJsYXN0X25hbWUiOiJBY29zdGEiLCJhZ2UiOjIwLCJkYXRlX2pvaW5lZCI6IjIwMTUtMTAtMjFUMjE6MjY6NDUifQ==</td><td>streaming-0ebb0073c95b-user</td><td>shardId-000000000002</td><td>49657350016500799516901887424559360414659828600144920610</td><td>2024-11-06T08:28:12.809+0000</td></tr><tr><td>179</td><td>eyJpbmQiOjc4OSwiZmlyc3RfbmFtZSI6IkFkYW0iLCJsYXN0X25hbWUiOiJBY29zdGEiLCJhZ2UiOjIwLCJkYXRlX2pvaW5lZCI6IjIwMTUtMTAtMjFUMjE6MjY6NDUifQ==</td><td>streaming-0ebb0073c95b-user</td><td>shardId-000000000002</td><td>49657350016500799516901887710273261844922455888586866722</td><td>2024-11-06T08:31:08.456+0000</td></tr><tr><td>179</td><td>eyJpbmQiOjc4OSwiZmlyc3RfbmFtZSI6IkFkYW0iLCJsYXN0X25hbWUiOiJBY29zdGEiLCJhZ2UiOjIwLCJkYXRlX2pvaW5lZCI6IjIwMTUtMTAtMjFUMjE6MjY6NDUifQ==</td><td>streaming-0ebb0073c95b-user</td><td>shardId-000000000002</td><td>49657350016500799516901887800201626788595880361904308258</td><td>2024-11-06T08:32:07.256+0000</td></tr><tr><td>179</td><td>eyJpbmQiOjc4OSwiZmlyc3RfbmFtZSI6IkFkYW0iLCJsYXN0X25hbWUiOiJBY29zdGEiLCJhZ2UiOjIwLCJkYXRlX2pvaW5lZCI6IjIwMTUtMTAtMjFUMjE6MjY6NDUifQ==</td><td>streaming-0ebb0073c95b-user</td><td>shardId-000000000002</td><td>49657350016500799516901887855974210550697185112980717602</td><td>2024-11-06T08:32:42.921+0000</td></tr><tr><td>179</td><td>eyJpbmQiOjc4OSwiZmlyc3RfbmFtZSI6IkFkYW0iLCJsYXN0X25hbWUiOiJBY29zdGEiLCJhZ2UiOjIwLCJkYXRlX2pvaW5lZCI6IjIwMTUtMTAtMjFUMjE6MjY6NDUifQ==</td><td>streaming-0ebb0073c95b-user</td><td>shardId-000000000002</td><td>49657350016500799516901888264553660880033811557108416546</td><td>2024-11-06T08:37:17.477+0000</td></tr><tr><td>179</td><td>eyJpbmQiOjc4OSwiZmlyc3RfbmFtZSI6IkFkYW0iLCJsYXN0X25hbWUiOiJBY29zdGEiLCJhZ2UiOjIwLCJkYXRlX2pvaW5lZCI6IjIwMTUtMTAtMjFUMjE6MjY6NDUifQ==</td><td>streaming-0ebb0073c95b-user</td><td>shardId-000000000002</td><td>49657350016500799516901898555551625311039745232788783138</td><td>2024-11-06T10:33:31.364+0000</td></tr><tr><td>179</td><td>eyJpbmQiOjc4OSwiZmlyc3RfbmFtZSI6IkFkYW0iLCJsYXN0X25hbWUiOiJBY29zdGEiLCJhZ2UiOjIwLCJkYXRlX2pvaW5lZCI6IjIwMTUtMTAtMjFUMjE6MjY6NDUifQ==</td><td>streaming-0ebb0073c95b-user</td><td>shardId-000000000002</td><td>49657350016500799516901898595473982652173646324536705058</td><td>2024-11-06T10:33:58.007+0000</td></tr><tr><td>179</td><td>eyJpbmQiOjc4OSwiZmlyc3RfbmFtZSI6IkFkYW0iLCJsYXN0X25hbWUiOiJBY29zdGEiLCJhZ2UiOjIwLCJkYXRlX2pvaW5lZCI6IjIwMTUtMTAtMjFUMjE6MjY6NDUifQ==</td><td>streaming-0ebb0073c95b-user</td><td>shardId-000000000002</td><td>49657350016500799516901898671764455424774438734396391458</td><td>2024-11-06T10:34:51.450+0000</td></tr><tr><td>179</td><td>eyJpbmQiOjc4OSwiZmlyc3RfbmFtZSI6IkFkYW0iLCJsYXN0X25hbWUiOiJBY29zdGEiLCJhZ2UiOjIwLCJkYXRlX2pvaW5lZCI6IjIwMTUtMTAtMjFUMjE6MjY6NDUifQ==</td><td>streaming-0ebb0073c95b-user</td><td>shardId-000000000002</td><td>49657350016500799516901898862059050838673996250322305058</td><td>2024-11-06T10:36:53.090+0000</td></tr><tr><td>179</td><td>eyJpbmQiOjc4OSwiZmlyc3RfbmFtZSI6IkFkYW0iLCJsYXN0X25hbWUiOiJBY29zdGEiLCJhZ2UiOjIwLCJkYXRlX2pvaW5lZCI6IjIwMTUtMTAtMjFUMjE6MjY6NDUifQ==</td><td>streaming-0ebb0073c95b-user</td><td>shardId-000000000002</td><td>49657350016500799516901898893893694446586027544810618914</td><td>2024-11-06T10:37:10.849+0000</td></tr><tr><td>179</td><td>eyJpbmQiOjc4OSwiZmlyc3RfbmFtZSI6IkFkYW0iLCJsYXN0X25hbWUiOiJBY29zdGEiLCJhZ2UiOjIwLCJkYXRlX2pvaW5lZCI6IjIwMTUtMTAtMjFUMjE6MjY6NDUifQ==</td><td>streaming-0ebb0073c95b-user</td><td>shardId-000000000002</td><td>49657350016500799516901899401767058044150612396691423266</td><td>2024-11-06T10:43:10.479+0000</td></tr><tr><td>179</td><td>eyJpbmQiOjc4OSwiZmlyc3RfbmFtZSI6IkFkYW0iLCJsYXN0X25hbWUiOiJBY29zdGEiLCJhZ2UiOjIwLCJkYXRlX2pvaW5lZCI6IjIwMTUtMTAtMjFUMjE6MjY6NDUifQ==</td><td>streaming-0ebb0073c95b-user</td><td>shardId-000000000002</td><td>49657350016500799516901899483297015318961207993325060130</td><td>2024-11-06T10:44:09.755+0000</td></tr><tr><td>179</td><td>eyJpbmQiOjc4OSwiZmlyc3RfbmFtZSI6IkFkYW0iLCJsYXN0X25hbWUiOiJBY29zdGEiLCJhZ2UiOjIwLCJkYXRlX2pvaW5lZCI6IjIwMTUtMTAtMjFUMjE6MjY6NDUifQ==</td><td>streaming-0ebb0073c95b-user</td><td>shardId-000000000002</td><td>49657350016500799516901902279717730331442733876661714978</td><td>2024-11-06T11:14:07.481+0000</td></tr></tbody></table></div>"
      ]
     },
     "metadata": {
      "application/vnd.databricks.v1+output": {
       "addedWidgets": {},
       "aggData": [],
       "aggError": "",
       "aggOverflow": false,
       "aggSchema": [],
       "aggSeriesLimitReached": false,
       "aggType": "",
       "arguments": {},
       "columnCustomDisplayInfos": {},
       "data": [
        [
         "179",
         "eyJpbmQiOjc4OSwiZmlyc3RfbmFtZSI6IkFkYW0iLCJsYXN0X25hbWUiOiJBY29zdGEiLCJhZ2UiOjIwLCJkYXRlX2pvaW5lZCI6IjIwMTUtMTAtMjFUMjE6MjY6NDUifQ==",
         "streaming-0ebb0073c95b-user",
         "shardId-000000000002",
         "49657350016500799516901886668286799735057762559167823906",
         "2024-11-06T08:19:48.929+0000"
        ],
        [
         "179",
         "eyJpbmQiOjc4OSwiZmlyc3RfbmFtZSI6IkFkYW0iLCJsYXN0X25hbWUiOiJBY29zdGEiLCJhZ2UiOjIwLCJkYXRlX2pvaW5lZCI6IjIwMTUtMTAtMjFUMjE6MjY6NDUifQ==",
         "streaming-0ebb0073c95b-user",
         "shardId-000000000002",
         "49657350016500799516901886821040621672464238938553319458",
         "2024-11-06T08:21:31.118+0000"
        ],
        [
         "179",
         "eyJpbmQiOjc4OSwiZmlyc3RfbmFtZSI6IkFkYW0iLCJsYXN0X25hbWUiOiJBY29zdGEiLCJhZ2UiOjIwLCJkYXRlX2pvaW5lZCI6IjIwMTUtMTAtMjFUMjE6MjY6NDUifQ==",
         "streaming-0ebb0073c95b-user",
         "shardId-000000000002",
         "49657350016500799516901886887533959602908075829399388194",
         "2024-11-06T08:22:15.255+0000"
        ],
        [
         "179",
         "eyJpbmQiOjc4OSwiZmlyc3RfbmFtZSI6IkFkYW0iLCJsYXN0X25hbWUiOiJBY29zdGEiLCJhZ2UiOjIwLCJkYXRlX2pvaW5lZCI6IjIwMTUtMTAtMjFUMjE6MjY6NDUifQ==",
         "streaming-0ebb0073c95b-user",
         "shardId-000000000002",
         "49657350016500799516901886952356562050644495132082044962",
         "2024-11-06T08:22:57.319+0000"
        ],
        [
         "179",
         "eyJpbmQiOjc4OSwiZmlyc3RfbmFtZSI6IkFkYW0iLCJsYXN0X25hbWUiOiJBY29zdGEiLCJhZ2UiOjIwLCJkYXRlX2pvaW5lZCI6IjIwMTUtMTAtMjFUMjE6MjY6NDUifQ==",
         "streaming-0ebb0073c95b-user",
         "shardId-000000000002",
         "49657350016500799516901887409936193700601273346984771618",
         "2024-11-06T08:28:02.449+0000"
        ],
        [
         "179",
         "eyJpbmQiOjc4OSwiZmlyc3RfbmFtZSI6IkFkYW0iLCJsYXN0X25hbWUiOiJBY29zdGEiLCJhZ2UiOjIwLCJkYXRlX2pvaW5lZCI6IjIwMTUtMTAtMjFUMjE6MjY6NDUifQ==",
         "streaming-0ebb0073c95b-user",
         "shardId-000000000002",
         "49657350016500799516901887417293716238775906847843942434",
         "2024-11-06T08:28:07.805+0000"
        ],
        [
         "179",
         "eyJpbmQiOjc4OSwiZmlyc3RfbmFtZSI6IkFkYW0iLCJsYXN0X25hbWUiOiJBY29zdGEiLCJhZ2UiOjIwLCJkYXRlX2pvaW5lZCI6IjIwMTUtMTAtMjFUMjE6MjY6NDUifQ==",
         "streaming-0ebb0073c95b-user",
         "shardId-000000000002",
         "49657350016500799516901887424559360414659828600144920610",
         "2024-11-06T08:28:12.809+0000"
        ],
        [
         "179",
         "eyJpbmQiOjc4OSwiZmlyc3RfbmFtZSI6IkFkYW0iLCJsYXN0X25hbWUiOiJBY29zdGEiLCJhZ2UiOjIwLCJkYXRlX2pvaW5lZCI6IjIwMTUtMTAtMjFUMjE6MjY6NDUifQ==",
         "streaming-0ebb0073c95b-user",
         "shardId-000000000002",
         "49657350016500799516901887710273261844922455888586866722",
         "2024-11-06T08:31:08.456+0000"
        ],
        [
         "179",
         "eyJpbmQiOjc4OSwiZmlyc3RfbmFtZSI6IkFkYW0iLCJsYXN0X25hbWUiOiJBY29zdGEiLCJhZ2UiOjIwLCJkYXRlX2pvaW5lZCI6IjIwMTUtMTAtMjFUMjE6MjY6NDUifQ==",
         "streaming-0ebb0073c95b-user",
         "shardId-000000000002",
         "49657350016500799516901887800201626788595880361904308258",
         "2024-11-06T08:32:07.256+0000"
        ],
        [
         "179",
         "eyJpbmQiOjc4OSwiZmlyc3RfbmFtZSI6IkFkYW0iLCJsYXN0X25hbWUiOiJBY29zdGEiLCJhZ2UiOjIwLCJkYXRlX2pvaW5lZCI6IjIwMTUtMTAtMjFUMjE6MjY6NDUifQ==",
         "streaming-0ebb0073c95b-user",
         "shardId-000000000002",
         "49657350016500799516901887855974210550697185112980717602",
         "2024-11-06T08:32:42.921+0000"
        ],
        [
         "179",
         "eyJpbmQiOjc4OSwiZmlyc3RfbmFtZSI6IkFkYW0iLCJsYXN0X25hbWUiOiJBY29zdGEiLCJhZ2UiOjIwLCJkYXRlX2pvaW5lZCI6IjIwMTUtMTAtMjFUMjE6MjY6NDUifQ==",
         "streaming-0ebb0073c95b-user",
         "shardId-000000000002",
         "49657350016500799516901888264553660880033811557108416546",
         "2024-11-06T08:37:17.477+0000"
        ],
        [
         "179",
         "eyJpbmQiOjc4OSwiZmlyc3RfbmFtZSI6IkFkYW0iLCJsYXN0X25hbWUiOiJBY29zdGEiLCJhZ2UiOjIwLCJkYXRlX2pvaW5lZCI6IjIwMTUtMTAtMjFUMjE6MjY6NDUifQ==",
         "streaming-0ebb0073c95b-user",
         "shardId-000000000002",
         "49657350016500799516901898555551625311039745232788783138",
         "2024-11-06T10:33:31.364+0000"
        ],
        [
         "179",
         "eyJpbmQiOjc4OSwiZmlyc3RfbmFtZSI6IkFkYW0iLCJsYXN0X25hbWUiOiJBY29zdGEiLCJhZ2UiOjIwLCJkYXRlX2pvaW5lZCI6IjIwMTUtMTAtMjFUMjE6MjY6NDUifQ==",
         "streaming-0ebb0073c95b-user",
         "shardId-000000000002",
         "49657350016500799516901898595473982652173646324536705058",
         "2024-11-06T10:33:58.007+0000"
        ],
        [
         "179",
         "eyJpbmQiOjc4OSwiZmlyc3RfbmFtZSI6IkFkYW0iLCJsYXN0X25hbWUiOiJBY29zdGEiLCJhZ2UiOjIwLCJkYXRlX2pvaW5lZCI6IjIwMTUtMTAtMjFUMjE6MjY6NDUifQ==",
         "streaming-0ebb0073c95b-user",
         "shardId-000000000002",
         "49657350016500799516901898671764455424774438734396391458",
         "2024-11-06T10:34:51.450+0000"
        ],
        [
         "179",
         "eyJpbmQiOjc4OSwiZmlyc3RfbmFtZSI6IkFkYW0iLCJsYXN0X25hbWUiOiJBY29zdGEiLCJhZ2UiOjIwLCJkYXRlX2pvaW5lZCI6IjIwMTUtMTAtMjFUMjE6MjY6NDUifQ==",
         "streaming-0ebb0073c95b-user",
         "shardId-000000000002",
         "49657350016500799516901898862059050838673996250322305058",
         "2024-11-06T10:36:53.090+0000"
        ],
        [
         "179",
         "eyJpbmQiOjc4OSwiZmlyc3RfbmFtZSI6IkFkYW0iLCJsYXN0X25hbWUiOiJBY29zdGEiLCJhZ2UiOjIwLCJkYXRlX2pvaW5lZCI6IjIwMTUtMTAtMjFUMjE6MjY6NDUifQ==",
         "streaming-0ebb0073c95b-user",
         "shardId-000000000002",
         "49657350016500799516901898893893694446586027544810618914",
         "2024-11-06T10:37:10.849+0000"
        ],
        [
         "179",
         "eyJpbmQiOjc4OSwiZmlyc3RfbmFtZSI6IkFkYW0iLCJsYXN0X25hbWUiOiJBY29zdGEiLCJhZ2UiOjIwLCJkYXRlX2pvaW5lZCI6IjIwMTUtMTAtMjFUMjE6MjY6NDUifQ==",
         "streaming-0ebb0073c95b-user",
         "shardId-000000000002",
         "49657350016500799516901899401767058044150612396691423266",
         "2024-11-06T10:43:10.479+0000"
        ],
        [
         "179",
         "eyJpbmQiOjc4OSwiZmlyc3RfbmFtZSI6IkFkYW0iLCJsYXN0X25hbWUiOiJBY29zdGEiLCJhZ2UiOjIwLCJkYXRlX2pvaW5lZCI6IjIwMTUtMTAtMjFUMjE6MjY6NDUifQ==",
         "streaming-0ebb0073c95b-user",
         "shardId-000000000002",
         "49657350016500799516901899483297015318961207993325060130",
         "2024-11-06T10:44:09.755+0000"
        ],
        [
         "179",
         "eyJpbmQiOjc4OSwiZmlyc3RfbmFtZSI6IkFkYW0iLCJsYXN0X25hbWUiOiJBY29zdGEiLCJhZ2UiOjIwLCJkYXRlX2pvaW5lZCI6IjIwMTUtMTAtMjFUMjE6MjY6NDUifQ==",
         "streaming-0ebb0073c95b-user",
         "shardId-000000000002",
         "49657350016500799516901902279717730331442733876661714978",
         "2024-11-06T11:14:07.481+0000"
        ]
       ],
       "datasetInfos": [],
       "dbfsResultPath": null,
       "isJsonSchema": true,
       "metadata": {
        "isDbfsCommandResult": false
       },
       "overflow": false,
       "plotOptions": {
        "customPlotOptions": {},
        "displayType": "table",
        "pivotAggregation": null,
        "pivotColumns": null,
        "xColumns": null,
        "yColumns": null
       },
       "removedWidgets": [],
       "schema": [
        {
         "metadata": "{}",
         "name": "partitionKey",
         "type": "\"string\""
        },
        {
         "metadata": "{}",
         "name": "data",
         "type": "\"binary\""
        },
        {
         "metadata": "{}",
         "name": "stream",
         "type": "\"string\""
        },
        {
         "metadata": "{}",
         "name": "shardId",
         "type": "\"string\""
        },
        {
         "metadata": "{}",
         "name": "sequenceNumber",
         "type": "\"string\""
        },
        {
         "metadata": "{}",
         "name": "approximateArrivalTimestamp",
         "type": "\"timestamp\""
        }
       ],
       "type": "table"
      }
     },
     "output_type": "display_data"
    }
   ],
   "source": [
    "df_user_raw = spark \\\n",
    ".readStream \\\n",
    ".format('kinesis') \\\n",
    ".option('streamName','streaming-0ebb0073c95b-user') \\\n",
    ".option('initialPosition','earliest') \\\n",
    ".option('region','us-east-1') \\\n",
    ".option('awsAccessKey', ACCESS_KEY) \\\n",
    ".option('awsSecretKey', SECRET_KEY) \\\n",
    ".load()\n",
    "\n",
    "display(df_user_raw)"
   ]
  },
  {
   "cell_type": "code",
   "execution_count": 0,
   "metadata": {
    "application/vnd.databricks.v1+cell": {
     "cellMetadata": {
      "byteLimit": 2048000,
      "rowLimit": 10000
     },
     "inputWidgets": {},
     "nuid": "b7753f45-6a59-40db-b5d0-10fd00a63087",
     "showTitle": false,
     "tableResultSettingsMap": {},
     "title": ""
    }
   },
   "outputs": [
    {
     "output_type": "display_data",
     "data": {
      "text/html": [
       "<style scoped>\n",
       "  .table-result-container {\n",
       "    max-height: 300px;\n",
       "    overflow: auto;\n",
       "  }\n",
       "  table, th, td {\n",
       "    border: 1px solid black;\n",
       "    border-collapse: collapse;\n",
       "  }\n",
       "  th, td {\n",
       "    padding: 5px;\n",
       "  }\n",
       "  th {\n",
       "    text-align: left;\n",
       "  }\n",
       "</style><div class='table-result-container'><table class='table-result'><thead style='background-color: white'><tr><th>age</th><th>date_joined</th><th>first_name</th><th>ind</th><th>last_name</th></tr></thead><tbody><tr><td>20</td><td>2015-10-21T21:26:45</td><td>Adam</td><td>789</td><td>Acosta</td></tr><tr><td>20</td><td>2015-10-21T21:26:45</td><td>Adam</td><td>789</td><td>Acosta</td></tr><tr><td>20</td><td>2015-10-21T21:26:45</td><td>Adam</td><td>789</td><td>Acosta</td></tr><tr><td>20</td><td>2015-10-21T21:26:45</td><td>Adam</td><td>789</td><td>Acosta</td></tr><tr><td>20</td><td>2015-10-21T21:26:45</td><td>Adam</td><td>789</td><td>Acosta</td></tr><tr><td>20</td><td>2015-10-21T21:26:45</td><td>Adam</td><td>789</td><td>Acosta</td></tr><tr><td>20</td><td>2015-10-21T21:26:45</td><td>Adam</td><td>789</td><td>Acosta</td></tr><tr><td>20</td><td>2015-10-21T21:26:45</td><td>Adam</td><td>789</td><td>Acosta</td></tr><tr><td>20</td><td>2015-10-21T21:26:45</td><td>Adam</td><td>789</td><td>Acosta</td></tr><tr><td>20</td><td>2015-10-21T21:26:45</td><td>Adam</td><td>789</td><td>Acosta</td></tr><tr><td>20</td><td>2015-10-21T21:26:45</td><td>Adam</td><td>789</td><td>Acosta</td></tr><tr><td>20</td><td>2015-10-21T21:26:45</td><td>Adam</td><td>789</td><td>Acosta</td></tr><tr><td>20</td><td>2015-10-21T21:26:45</td><td>Adam</td><td>789</td><td>Acosta</td></tr><tr><td>20</td><td>2015-10-21T21:26:45</td><td>Adam</td><td>789</td><td>Acosta</td></tr><tr><td>20</td><td>2015-10-21T21:26:45</td><td>Adam</td><td>789</td><td>Acosta</td></tr><tr><td>20</td><td>2015-10-21T21:26:45</td><td>Adam</td><td>789</td><td>Acosta</td></tr><tr><td>20</td><td>2015-10-21T21:26:45</td><td>Adam</td><td>789</td><td>Acosta</td></tr><tr><td>20</td><td>2015-10-21T21:26:45</td><td>Adam</td><td>789</td><td>Acosta</td></tr><tr><td>20</td><td>2015-10-21T21:26:45</td><td>Adam</td><td>789</td><td>Acosta</td></tr></tbody></table></div>"
      ]
     },
     "metadata": {
      "application/vnd.databricks.v1+output": {
       "addedWidgets": {},
       "aggData": [],
       "aggError": "",
       "aggOverflow": false,
       "aggSchema": [],
       "aggSeriesLimitReached": false,
       "aggType": "",
       "arguments": {},
       "columnCustomDisplayInfos": {},
       "data": [
        [
         20,
         "2015-10-21T21:26:45",
         "Adam",
         789,
         "Acosta"
        ],
        [
         20,
         "2015-10-21T21:26:45",
         "Adam",
         789,
         "Acosta"
        ],
        [
         20,
         "2015-10-21T21:26:45",
         "Adam",
         789,
         "Acosta"
        ],
        [
         20,
         "2015-10-21T21:26:45",
         "Adam",
         789,
         "Acosta"
        ],
        [
         20,
         "2015-10-21T21:26:45",
         "Adam",
         789,
         "Acosta"
        ],
        [
         20,
         "2015-10-21T21:26:45",
         "Adam",
         789,
         "Acosta"
        ],
        [
         20,
         "2015-10-21T21:26:45",
         "Adam",
         789,
         "Acosta"
        ],
        [
         20,
         "2015-10-21T21:26:45",
         "Adam",
         789,
         "Acosta"
        ],
        [
         20,
         "2015-10-21T21:26:45",
         "Adam",
         789,
         "Acosta"
        ],
        [
         20,
         "2015-10-21T21:26:45",
         "Adam",
         789,
         "Acosta"
        ],
        [
         20,
         "2015-10-21T21:26:45",
         "Adam",
         789,
         "Acosta"
        ],
        [
         20,
         "2015-10-21T21:26:45",
         "Adam",
         789,
         "Acosta"
        ],
        [
         20,
         "2015-10-21T21:26:45",
         "Adam",
         789,
         "Acosta"
        ],
        [
         20,
         "2015-10-21T21:26:45",
         "Adam",
         789,
         "Acosta"
        ],
        [
         20,
         "2015-10-21T21:26:45",
         "Adam",
         789,
         "Acosta"
        ],
        [
         20,
         "2015-10-21T21:26:45",
         "Adam",
         789,
         "Acosta"
        ],
        [
         20,
         "2015-10-21T21:26:45",
         "Adam",
         789,
         "Acosta"
        ],
        [
         20,
         "2015-10-21T21:26:45",
         "Adam",
         789,
         "Acosta"
        ],
        [
         20,
         "2015-10-21T21:26:45",
         "Adam",
         789,
         "Acosta"
        ]
       ],
       "datasetInfos": [],
       "dbfsResultPath": null,
       "isJsonSchema": true,
       "metadata": {
        "isDbfsCommandResult": false
       },
       "overflow": false,
       "plotOptions": {
        "customPlotOptions": {},
        "displayType": "table",
        "pivotAggregation": null,
        "pivotColumns": null,
        "xColumns": null,
        "yColumns": null
       },
       "removedWidgets": [],
       "schema": [
        {
         "metadata": "{}",
         "name": "age",
         "type": "\"long\""
        },
        {
         "metadata": "{}",
         "name": "date_joined",
         "type": "\"string\""
        },
        {
         "metadata": "{}",
         "name": "first_name",
         "type": "\"string\""
        },
        {
         "metadata": "{}",
         "name": "ind",
         "type": "\"long\""
        },
        {
         "metadata": "{}",
         "name": "last_name",
         "type": "\"string\""
        }
       ],
       "type": "table"
      }
     },
     "output_type": "display_data"
    }
   ],
   "source": [
    "#cast binary form to string \n",
    "df_user_string = df_user_raw.selectExpr(\"CAST(data as STRING)\")\n",
    "\n",
    "# Define a custom schema\n",
    "custom_schema = StructType([\n",
    "    StructField(\"age\", LongType(), True),\n",
    "    StructField(\"date_joined\", StringType(), True),\n",
    "    StructField(\"first_name\", StringType(), True), \n",
    "    StructField(\"ind\", LongType(), True),\n",
    "    StructField(\"last_name\", StringType(), True), \n",
    "])\n",
    "\n",
    "# Parse the JSON data in the `data` column using the custom schema\n",
    "df_user_parsed = df_user_string.withColumn(\"data_parsed\", F.from_json(F.col(\"data\"), custom_schema))\n",
    "\n",
    "# Expand the parsed JSON fields into individual columns\n",
    "df_user = df_user_parsed.select(\"data_parsed.*\")  # Expands all JSON fields as columns\n",
    "\n",
    "# Display the resulting DataFrame\n",
    "display(df_user)"
   ]
  },
  {
   "cell_type": "code",
   "execution_count": 0,
   "metadata": {
    "application/vnd.databricks.v1+cell": {
     "cellMetadata": {
      "byteLimit": 2048000,
      "rowLimit": 10000
     },
     "inputWidgets": {},
     "nuid": "0efd138c-8ace-4a20-b897-9639068a3ba0",
     "showTitle": false,
     "tableResultSettingsMap": {},
     "title": ""
    }
   },
   "outputs": [
    {
     "output_type": "display_data",
     "data": {
      "text/html": [
       "<style scoped>\n",
       "  .table-result-container {\n",
       "    max-height: 300px;\n",
       "    overflow: auto;\n",
       "  }\n",
       "  table, th, td {\n",
       "    border: 1px solid black;\n",
       "    border-collapse: collapse;\n",
       "  }\n",
       "  th, td {\n",
       "    padding: 5px;\n",
       "  }\n",
       "  th {\n",
       "    text-align: left;\n",
       "  }\n",
       "</style><div class='table-result-container'><table class='table-result'><thead style='background-color: white'><tr><th>ind</th><th>user_name</th><th>age</th><th>date_joined</th></tr></thead><tbody><tr><td>789</td><td>Adam Acosta</td><td>20</td><td>2015-10-21T21:26:45.000+0000</td></tr><tr><td>789</td><td>Adam Acosta</td><td>20</td><td>2015-10-21T21:26:45.000+0000</td></tr><tr><td>789</td><td>Adam Acosta</td><td>20</td><td>2015-10-21T21:26:45.000+0000</td></tr><tr><td>789</td><td>Adam Acosta</td><td>20</td><td>2015-10-21T21:26:45.000+0000</td></tr><tr><td>789</td><td>Adam Acosta</td><td>20</td><td>2015-10-21T21:26:45.000+0000</td></tr><tr><td>789</td><td>Adam Acosta</td><td>20</td><td>2015-10-21T21:26:45.000+0000</td></tr><tr><td>789</td><td>Adam Acosta</td><td>20</td><td>2015-10-21T21:26:45.000+0000</td></tr><tr><td>789</td><td>Adam Acosta</td><td>20</td><td>2015-10-21T21:26:45.000+0000</td></tr><tr><td>789</td><td>Adam Acosta</td><td>20</td><td>2015-10-21T21:26:45.000+0000</td></tr><tr><td>789</td><td>Adam Acosta</td><td>20</td><td>2015-10-21T21:26:45.000+0000</td></tr><tr><td>789</td><td>Adam Acosta</td><td>20</td><td>2015-10-21T21:26:45.000+0000</td></tr><tr><td>789</td><td>Adam Acosta</td><td>20</td><td>2015-10-21T21:26:45.000+0000</td></tr><tr><td>789</td><td>Adam Acosta</td><td>20</td><td>2015-10-21T21:26:45.000+0000</td></tr><tr><td>789</td><td>Adam Acosta</td><td>20</td><td>2015-10-21T21:26:45.000+0000</td></tr><tr><td>789</td><td>Adam Acosta</td><td>20</td><td>2015-10-21T21:26:45.000+0000</td></tr><tr><td>789</td><td>Adam Acosta</td><td>20</td><td>2015-10-21T21:26:45.000+0000</td></tr><tr><td>789</td><td>Adam Acosta</td><td>20</td><td>2015-10-21T21:26:45.000+0000</td></tr><tr><td>789</td><td>Adam Acosta</td><td>20</td><td>2015-10-21T21:26:45.000+0000</td></tr><tr><td>789</td><td>Adam Acosta</td><td>20</td><td>2015-10-21T21:26:45.000+0000</td></tr></tbody></table></div>"
      ]
     },
     "metadata": {
      "application/vnd.databricks.v1+output": {
       "addedWidgets": {},
       "aggData": [],
       "aggError": "",
       "aggOverflow": false,
       "aggSchema": [],
       "aggSeriesLimitReached": false,
       "aggType": "",
       "arguments": {},
       "columnCustomDisplayInfos": {},
       "data": [
        [
         789,
         "Adam Acosta",
         20,
         "2015-10-21T21:26:45.000+0000"
        ],
        [
         789,
         "Adam Acosta",
         20,
         "2015-10-21T21:26:45.000+0000"
        ],
        [
         789,
         "Adam Acosta",
         20,
         "2015-10-21T21:26:45.000+0000"
        ],
        [
         789,
         "Adam Acosta",
         20,
         "2015-10-21T21:26:45.000+0000"
        ],
        [
         789,
         "Adam Acosta",
         20,
         "2015-10-21T21:26:45.000+0000"
        ],
        [
         789,
         "Adam Acosta",
         20,
         "2015-10-21T21:26:45.000+0000"
        ],
        [
         789,
         "Adam Acosta",
         20,
         "2015-10-21T21:26:45.000+0000"
        ],
        [
         789,
         "Adam Acosta",
         20,
         "2015-10-21T21:26:45.000+0000"
        ],
        [
         789,
         "Adam Acosta",
         20,
         "2015-10-21T21:26:45.000+0000"
        ],
        [
         789,
         "Adam Acosta",
         20,
         "2015-10-21T21:26:45.000+0000"
        ],
        [
         789,
         "Adam Acosta",
         20,
         "2015-10-21T21:26:45.000+0000"
        ],
        [
         789,
         "Adam Acosta",
         20,
         "2015-10-21T21:26:45.000+0000"
        ],
        [
         789,
         "Adam Acosta",
         20,
         "2015-10-21T21:26:45.000+0000"
        ],
        [
         789,
         "Adam Acosta",
         20,
         "2015-10-21T21:26:45.000+0000"
        ],
        [
         789,
         "Adam Acosta",
         20,
         "2015-10-21T21:26:45.000+0000"
        ],
        [
         789,
         "Adam Acosta",
         20,
         "2015-10-21T21:26:45.000+0000"
        ],
        [
         789,
         "Adam Acosta",
         20,
         "2015-10-21T21:26:45.000+0000"
        ],
        [
         789,
         "Adam Acosta",
         20,
         "2015-10-21T21:26:45.000+0000"
        ],
        [
         789,
         "Adam Acosta",
         20,
         "2015-10-21T21:26:45.000+0000"
        ]
       ],
       "datasetInfos": [],
       "dbfsResultPath": null,
       "isJsonSchema": true,
       "metadata": {
        "isDbfsCommandResult": false
       },
       "overflow": false,
       "plotOptions": {
        "customPlotOptions": {},
        "displayType": "table",
        "pivotAggregation": null,
        "pivotColumns": null,
        "xColumns": null,
        "yColumns": null
       },
       "removedWidgets": [],
       "schema": [
        {
         "metadata": "{}",
         "name": "ind",
         "type": "\"long\""
        },
        {
         "metadata": "{}",
         "name": "user_name",
         "type": "\"string\""
        },
        {
         "metadata": "{}",
         "name": "age",
         "type": "\"long\""
        },
        {
         "metadata": "{}",
         "name": "date_joined",
         "type": "\"timestamp\""
        }
       ],
       "type": "table"
      }
     },
     "output_type": "display_data"
    }
   ],
   "source": [
    "#Cleaning the user data \n",
    "\n",
    "#Create a new column user_name that concatenates the information found in the first_name and last_name columns\n",
    "df_user = df_user.withColumn(\"user_name\", concat(col(\"first_name\"), lit(\" \"), col(\"last_name\"))) \n",
    "\n",
    "# Drop first and last name columns as we don't need them \n",
    "df_user = df_user.drop(\"first_name\", \"last_name\")\n",
    "\n",
    "# Change column 'date_joined' column to timestamp data format \n",
    "df_user = df_user.withColumn(\"date_joined\", col(\"date_joined\").cast(\"timestamp\"))\n",
    "\n",
    "# Rearrange the order of the columns \n",
    "df_user = df_user.select(\"ind\", \"user_name\", \"age\", \"date_joined\")\n",
    "\n",
    "display(df_user)"
   ]
  },
  {
   "cell_type": "code",
   "execution_count": 0,
   "metadata": {
    "application/vnd.databricks.v1+cell": {
     "cellMetadata": {
      "byteLimit": 2048000,
      "rowLimit": 10000
     },
     "inputWidgets": {},
     "nuid": "b8ab1d0d-a941-4f78-ade2-ee2591913aa3",
     "showTitle": false,
     "tableResultSettingsMap": {},
     "title": ""
    }
   },
   "outputs": [
    {
     "output_type": "display_data",
     "data": {
      "text/html": [
       "<style scoped>\n",
       "  .ansiout {\n",
       "    display: block;\n",
       "    unicode-bidi: embed;\n",
       "    white-space: pre-wrap;\n",
       "    word-wrap: break-word;\n",
       "    word-break: break-all;\n",
       "    font-family: \"Menlo\", \"Monaco\", \"Consolas\", \"Ubuntu Mono\", \"Source Code Pro\", monospace;\n",
       "    font-size: 13px;\n",
       "    color: #555;\n",
       "    margin-left: 4px;\n",
       "    line-height: 19px;\n",
       "  }\n",
       "</style>\n",
       "<div class=\"ansiout\">Out[67]: &lt;pyspark.sql.streaming.StreamingQuery at 0x7f95a339b190&gt;</div>"
      ]
     },
     "metadata": {
      "application/vnd.databricks.v1+output": {
       "addedWidgets": {},
       "arguments": {},
       "data": "<div class=\"ansiout\">Out[67]: &lt;pyspark.sql.streaming.StreamingQuery at 0x7f95a339b190&gt;</div>",
       "datasetInfos": [],
       "metadata": {},
       "removedWidgets": [],
       "type": "html"
      }
     },
     "output_type": "display_data"
    }
   ],
   "source": [
    "\n",
    "df_user.writeStream \\\n",
    "  .format(\"delta\") \\\n",
    "  .outputMode(\"append\") \\\n",
    "  .option(\"checkpointLocation\", \"/tmp/kinesis/_checkpoints/\") \\\n",
    "  .table(\"0ebb0073c95b_user_table\")\n"
   ]
  },
  {
   "cell_type": "code",
   "execution_count": 0,
   "metadata": {
    "application/vnd.databricks.v1+cell": {
     "cellMetadata": {},
     "inputWidgets": {},
     "nuid": "1f8f6013-d361-4734-acab-ae51e359b368",
     "showTitle": false,
     "tableResultSettingsMap": {},
     "title": ""
    }
   },
   "outputs": [],
   "source": [
    "#Before running the writeStream function again, you will need to delete the checkpoint folder using the following command:\n",
    "\n",
    "dbutils.fs.rm(\"/tmp/kinesis/_checkpoints/\", True)"
   ]
  }
 ],
 "metadata": {
  "application/vnd.databricks.v1+notebook": {
   "dashboards": [],
   "environmentMetadata": {
    "base_environment": "",
    "client": "1"
   },
   "language": "python",
   "notebookMetadata": {
    "mostRecentlyExecutedCommandWithImplicitDF": {
     "commandId": 1098078603666439,
     "dataframes": [
      "_sqldf"
     ]
    },
    "pythonIndentUnit": 4
   },
   "notebookName": "read_data_from_kinesis",
   "widgets": {}
  },
  "language_info": {
   "name": "python"
  }
 },
 "nbformat": 4,
 "nbformat_minor": 0
}
